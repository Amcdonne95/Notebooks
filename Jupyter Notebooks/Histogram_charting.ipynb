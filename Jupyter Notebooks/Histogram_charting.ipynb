{
 "cells": [
  {
   "cell_type": "markdown",
   "metadata": {},
   "source": [
    "##### Auto Generates Dynamic Histograms for Compareing Non-performing and Original Credit Metrics"
   ]
  },
  {
   "cell_type": "code",
   "execution_count": 1,
   "metadata": {
    "collapsed": true
   },
   "outputs": [],
   "source": [
    "import plotly.plotly as py\n",
    "import plotly.graph_objs as go\n",
    "import pandas as pd\n",
    "import numpy as np"
   ]
  },
  {
   "cell_type": "code",
   "execution_count": 51,
   "metadata": {
    "collapsed": true
   },
   "outputs": [],
   "source": [
    "path = 'https://raw.githubusercontent.com/Amcdonne95/SeniorDesignData/master/Drive%20Auto%20Receivables%20Trust/DRIVE%202017-1/2017/05%20May/2017.06.15_Drive%20Auto%20Receivables%20Trust%202017-1%20Data%20Tape.csv'\n",
    "path_2 = 'https://raw.githubusercontent.com/Amcdonne95/SeniorDesignData/master/Non-performing_loans/Drive%20Auto%20Receivables%20Trust/DRIVE%202017-1/Non-performing_loans_April-2018.csv'"
   ]
  },
  {
   "cell_type": "code",
   "execution_count": 91,
   "metadata": {
    "scrolled": true
   },
   "outputs": [],
   "source": [
    "df_1 = pd.read_csv(path, low_memory=False, memory_map=True)\n",
    "df_2 =pd.read_csv(path_2, low_memory=False, memory_map=True)"
   ]
  },
  {
   "cell_type": "code",
   "execution_count": 112,
   "metadata": {
    "collapsed": true
   },
   "outputs": [],
   "source": [
    "def fico_scoreHist(before, after):\n",
    "    after = after[~after.obligorCreditScore.isin(['-'])]\n",
    "    after = after[after['zeroBalanceCode'] == 4]\n",
    "    after = after['obligorCreditScore']\n",
    "\n",
    "    before = before[~before.obligorCreditScore.isin(['-'])]\n",
    "    before = before['obligorCreditScore']\n",
    "\n",
    "    before = pd.to_numeric(before, errors='coerce')\n",
    "    after = pd.to_numeric(after, errors='coerce')\n",
    "        \n",
    "    trace1 = go.Histogram(\n",
    "    name='Fico Scores at Origination',\n",
    "    x=before,\n",
    "    opacity=0.75\n",
    "    )\n",
    "\n",
    "    trace2 = go.Histogram(\n",
    "        name='Defaulted Fico Scores',\n",
    "        x=after,\n",
    "        opacity=0.75\n",
    "    )\n",
    "    data = [trace1, trace2]\n",
    "    layout = go.Layout(barmode='overlay')\n",
    "    fig = go.Figure(data=data, layout=layout)\n",
    "    return py.iplot(fig, filename='overlayHist')"
   ]
  },
  {
   "cell_type": "code",
   "execution_count": 102,
   "metadata": {},
   "outputs": [],
   "source": [
    "def other_histograms(before, after, metric):\n",
    "    metric = str(metric)\n",
    "    mapDict = {\n",
    "        'originalInterestRatePercentage':\"APR's\",\n",
    "        'LTV':\"LTV's\",\n",
    "        'paymentToIncomePercentage':\"PTI's\"\n",
    "    }\n",
    "    \n",
    "    if metric == 'LTV':\n",
    "        before['LTV'] = (before['originalLoanAmount']/before['vehicleValueAmount'])*100\n",
    "        after['LTV'] = (after['originalLoanAmount']/after['vehicleValueAmount'])*100\n",
    "    \n",
    "    after = after[after['zeroBalanceCode'] == 4]\n",
    "    before = pd.to_numeric(before[metric], errors='coerce')\n",
    "    after = pd.to_numeric(after[metric], errors='coerce')\n",
    "    \n",
    "\n",
    "    trace1 = go.Histogram(\n",
    "    name= mapDict[metric] + ' at Origination',\n",
    "    x=before,\n",
    "    opacity=0.75\n",
    "     )\n",
    "\n",
    "    trace2 = go.Histogram(\n",
    "        name='Defaulted ' + mapDict[metric],\n",
    "        x=after,\n",
    "        opacity=0.75\n",
    "    )\n",
    "    data = [trace1, trace2]\n",
    "    layout = go.Layout(barmode='overlay')\n",
    "    fig = go.Figure(data=data, layout=layout)\n",
    "    return py.iplot(fig, filename='overlayHist')"
   ]
  },
  {
   "cell_type": "code",
   "execution_count": 119,
   "metadata": {
    "collapsed": true
   },
   "outputs": [],
   "source": [
    "def Histogram_data(before, after, metric):\n",
    "    metric = str(metric)\n",
    "    \n",
    "    if metric == 'obligorCreditScore':\n",
    "        after = after[~after.obligorCreditScore.isin(['-'])]\n",
    "        after = after[after['zeroBalanceCode'] == 4]\n",
    "        after = after['obligorCreditScore']\n",
    "\n",
    "        before = before[~before.obligorCreditScore.isin(['-'])]\n",
    "        before = before['obligorCreditScore']\n",
    "        return [before, after]\n",
    "    \n",
    "    if metric == 'LTV':\n",
    "        before['LTV'] = (before['originalLoanAmount']/before['vehicleValueAmount'])*100\n",
    "        after['LTV'] = (after['originalLoanAmount']/after['vehicleValueAmount'])*100\n",
    "    \n",
    "    after = after[after['zeroBalanceCode'] == 4]\n",
    "    before = pd.to_numeric(before[metric], errors='coerce')\n",
    "    after = pd.to_numeric(after[metric], errors='coerce')\n",
    "    \n",
    "    return [before, after]"
   ]
  },
  {
   "cell_type": "code",
   "execution_count": 120,
   "metadata": {},
   "outputs": [],
   "source": [
    "data_lst = Histogram_data(df_1, df_2, 'LTV')"
   ]
  },
  {
   "cell_type": "code",
   "execution_count": 115,
   "metadata": {},
   "outputs": [
    {
     "name": "stderr",
     "output_type": "stream",
     "text": [
      "C:\\ProgramData\\Anaconda3\\lib\\site-packages\\plotly\\plotly\\plotly.py:224: UserWarning:\n",
      "\n",
      "Woah there! Look at all those points! Due to browser limitations, the Plotly SVG drawing functions have a hard time graphing more than 500k data points for line charts, or 40k points for other types of charts. Here are some suggestions:\n",
      "(1) Use the `plotly.graph_objs.Scattergl` trace object to generate a WebGl graph.\n",
      "(2) Trying using the image API to return an image instead of a graph URL\n",
      "(3) Use matplotlib\n",
      "(4) See if you can create your visualization with fewer data points\n",
      "\n",
      "If the visualization you're using aggregates points (e.g., box plot, histogram, etc.) you can disregard this warning.\n",
      "\n"
     ]
    },
    {
     "data": {
      "text/html": [
       "<iframe id=\"igraph\" scrolling=\"no\" style=\"border:none;\" seamless=\"seamless\" src=\"https://plot.ly/~amcdonne/15.embed\" height=\"525px\" width=\"100%\"></iframe>"
      ],
      "text/plain": [
       "<plotly.tools.PlotlyDisplay object>"
      ]
     },
     "execution_count": 115,
     "metadata": {},
     "output_type": "execute_result"
    }
   ],
   "source": [
    "fico_scoreHist(df_1, df_2)"
   ]
  },
  {
   "cell_type": "code",
   "execution_count": 97,
   "metadata": {},
   "outputs": [
    {
     "name": "stderr",
     "output_type": "stream",
     "text": [
      "C:\\ProgramData\\Anaconda3\\lib\\site-packages\\plotly\\plotly\\plotly.py:224: UserWarning:\n",
      "\n",
      "Woah there! Look at all those points! Due to browser limitations, the Plotly SVG drawing functions have a hard time graphing more than 500k data points for line charts, or 40k points for other types of charts. Here are some suggestions:\n",
      "(1) Use the `plotly.graph_objs.Scattergl` trace object to generate a WebGl graph.\n",
      "(2) Trying using the image API to return an image instead of a graph URL\n",
      "(3) Use matplotlib\n",
      "(4) See if you can create your visualization with fewer data points\n",
      "\n",
      "If the visualization you're using aggregates points (e.g., box plot, histogram, etc.) you can disregard this warning.\n",
      "\n"
     ]
    },
    {
     "data": {
      "text/html": [
       "<iframe id=\"igraph\" scrolling=\"no\" style=\"border:none;\" seamless=\"seamless\" src=\"https://plot.ly/~amcdonne/15.embed\" height=\"525px\" width=\"100%\"></iframe>"
      ],
      "text/plain": [
       "<plotly.tools.PlotlyDisplay object>"
      ]
     },
     "execution_count": 97,
     "metadata": {},
     "output_type": "execute_result"
    }
   ],
   "source": [
    "other_histograms(df_1, df_2, 'originalInterestRatePercentage')"
   ]
  },
  {
   "cell_type": "code",
   "execution_count": 101,
   "metadata": {
    "scrolled": false
   },
   "outputs": [
    {
     "name": "stderr",
     "output_type": "stream",
     "text": [
      "C:\\ProgramData\\Anaconda3\\lib\\site-packages\\plotly\\plotly\\plotly.py:224: UserWarning:\n",
      "\n",
      "Woah there! Look at all those points! Due to browser limitations, the Plotly SVG drawing functions have a hard time graphing more than 500k data points for line charts, or 40k points for other types of charts. Here are some suggestions:\n",
      "(1) Use the `plotly.graph_objs.Scattergl` trace object to generate a WebGl graph.\n",
      "(2) Trying using the image API to return an image instead of a graph URL\n",
      "(3) Use matplotlib\n",
      "(4) See if you can create your visualization with fewer data points\n",
      "\n",
      "If the visualization you're using aggregates points (e.g., box plot, histogram, etc.) you can disregard this warning.\n",
      "\n"
     ]
    },
    {
     "data": {
      "text/html": [
       "<iframe id=\"igraph\" scrolling=\"no\" style=\"border:none;\" seamless=\"seamless\" src=\"https://plot.ly/~amcdonne/15.embed\" height=\"525px\" width=\"100%\"></iframe>"
      ],
      "text/plain": [
       "<plotly.tools.PlotlyDisplay object>"
      ]
     },
     "execution_count": 101,
     "metadata": {},
     "output_type": "execute_result"
    }
   ],
   "source": [
    "other_histograms(df_1, df_2, 'LTV')"
   ]
  },
  {
   "cell_type": "code",
   "execution_count": 114,
   "metadata": {},
   "outputs": [
    {
     "name": "stderr",
     "output_type": "stream",
     "text": [
      "C:\\ProgramData\\Anaconda3\\lib\\site-packages\\plotly\\plotly\\plotly.py:224: UserWarning:\n",
      "\n",
      "Woah there! Look at all those points! Due to browser limitations, the Plotly SVG drawing functions have a hard time graphing more than 500k data points for line charts, or 40k points for other types of charts. Here are some suggestions:\n",
      "(1) Use the `plotly.graph_objs.Scattergl` trace object to generate a WebGl graph.\n",
      "(2) Trying using the image API to return an image instead of a graph URL\n",
      "(3) Use matplotlib\n",
      "(4) See if you can create your visualization with fewer data points\n",
      "\n",
      "If the visualization you're using aggregates points (e.g., box plot, histogram, etc.) you can disregard this warning.\n",
      "\n"
     ]
    },
    {
     "data": {
      "text/html": [
       "<iframe id=\"igraph\" scrolling=\"no\" style=\"border:none;\" seamless=\"seamless\" src=\"https://plot.ly/~amcdonne/15.embed\" height=\"525px\" width=\"100%\"></iframe>"
      ],
      "text/plain": [
       "<plotly.tools.PlotlyDisplay object>"
      ]
     },
     "execution_count": 114,
     "metadata": {},
     "output_type": "execute_result"
    }
   ],
   "source": [
    "other_histograms(df_1, df_2, 'paymentToIncomePercentage')"
   ]
  }
 ],
 "metadata": {
  "kernelspec": {
   "display_name": "Python 3",
   "language": "python",
   "name": "python3"
  },
  "language_info": {
   "codemirror_mode": {
    "name": "ipython",
    "version": 3
   },
   "file_extension": ".py",
   "mimetype": "text/x-python",
   "name": "python",
   "nbconvert_exporter": "python",
   "pygments_lexer": "ipython3",
   "version": "3.6.1"
  }
 },
 "nbformat": 4,
 "nbformat_minor": 2
}
