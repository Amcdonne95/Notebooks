{
 "cells": [
  {
   "cell_type": "code",
   "execution_count": 1,
   "metadata": {
    "collapsed": true
   },
   "outputs": [],
   "source": [
    "%matplotlib inline\n",
    "import os\n",
    "os.chdir('U:\\\\GitHubClones\\\\SALTSeniorDesign')\n",
    "os.getcwd()\n",
    "#import Excel\n",
    "import xlwings as xw\n",
    "import seaborn as sb\n",
    "import pandas as pd\n",
    "import numpy as np\n",
    "import matplotlib.pyplot as plt\n",
    "from collections import OrderedDict\n",
    "import re\n",
    "from datetime import datetime\n",
    "import datetime\n",
    "import statsmodels.formula.api as sm\n",
    "from statsmodels.stats.outliers_influence import variance_inflation_factor\n",
    "import sklearn\n",
    "from sklearn.model_selection import train_test_split\n",
    "from sklearn.ensemble import RandomForestClassifier\n",
    "from sklearn.metrics import accuracy_score\n",
    "from sklearn.metrics import confusion_matrix\n",
    "from sklearn.decomposition import PCA\n",
    "from sklearn import preprocessing\n",
    "import time"
   ]
  },
  {
   "cell_type": "code",
   "execution_count": 2,
   "metadata": {},
   "outputs": [
    {
     "data": {
      "text/html": [
       "<style>.container { width:100% !important; }</style>"
      ],
      "text/plain": [
       "<IPython.core.display.HTML object>"
      ]
     },
     "metadata": {},
     "output_type": "display_data"
    }
   ],
   "source": [
    "pd.set_option('display.max_rows', 200)\n",
    "pd.set_option('display.max_columns', 200)\n",
    "pd.set_option('display.width', 1000)\n",
    "from IPython.core.display import display, HTML\n",
    "display(HTML(\"<style>.container { width:100% !important; }</style>\"))"
   ]
  },
  {
   "cell_type": "code",
   "execution_count": 76,
   "metadata": {
    "collapsed": true
   },
   "outputs": [],
   "source": [
    "def clean(data):\n",
    "    \n",
    "    data['obligorCreditScore'] = data['obligorCreditScore'].replace(['-'], 0)\n",
    "    data['zeroBalanceCode'] = pd.to_numeric(data['zeroBalanceCode'], errors = 'coerce')\n",
    "    data = data[~data.zeroBalanceCode.isin([3])]\n",
    "    data['obligorCreditScore'] = pd.to_numeric(data['obligorCreditScore'], errors = 'coerce')\n",
    "    data['subvented'] = pd.to_numeric(data['subvented'], errors = 'coerce').fillna(3)\n",
    "    data['zeroBalanceCode'] = np.where((data['zeroBalanceCode'] == 4), 1, 0)\n",
    "    return data\n",
    "def dataTransform(data):\n",
    "    data['loanDiffRatio'] = (data['loanDiff'] / data['originalLoanAmount'])\n",
    "    return data"
   ]
  },
  {
   "cell_type": "code",
   "execution_count": 87,
   "metadata": {
    "collapsed": true
   },
   "outputs": [],
   "source": [
    "cols = ['assetNumber', 'reportingPeriodEndingDate','reportingPeriodBeginningDate',\n",
    "        'originalLoanTerm','originalLoanAmount','vehicleValueAmount','originalInterestRatePercentage','subvented',\n",
    "        'vehicleNewUsedCode', 'vehicleModelYear','vehicleTypeCode',\n",
    "        'obligorCreditScore','obligorIncomeVerificationLevelCode', 'obligorEmploymentVerificationCode','obligorGeographicLocation',\n",
    "        'paymentToIncomePercentage', 'reportingPeriodActualEndBalanceAmount',\n",
    "        'reportingPeriodBeginningLoanBalanceAmount','totalActualAmountPaid',\n",
    "        'remainingTermToMaturityNumber',\n",
    "        'currentDelinquencyStatus','coObligorIndicator',\n",
    "        'zeroBalanceCode']\n",
    "\n",
    "removeCols = ['assetNumber', 'reportingPeriodEndingDate','originalLoanAmount','vehicleValueAmount','reportingPeriodActualEndBalanceAmount',\n",
    "              'reportingPeriodBeginningLoanBalanceAmount','totalActualAmountPaid','currentDelinquencyStatus',\n",
    "              'obligorGeographicLocation','reportingPeriodBeginningDate', 'loanDiff', 'loanDiffRatio']\n",
    "\n",
    "keepCols = ['originalLoanTerm', 'originalInterestRatePercentage', 'subvented', 'coObligorIndicator', 'vehicleNewUsedCode', 'vehicleModelYear',\n",
    "           'vehicleTypeCode', 'obligorCreditScore', 'obligorIncomeVerificationLevelCode', 'obligorEmploymentVerificationCode',\n",
    "           'paymentToIncomePercentage', 'remainingTermToMaturityNumber', 'zeroBalanceCode', 'LTV', 'loanDiff', 'StateUnemployment']"
   ]
  },
  {
   "cell_type": "code",
   "execution_count": 205,
   "metadata": {},
   "outputs": [
    {
     "data": {
      "text/html": [
       "<div>\n",
       "<style>\n",
       "    .dataframe thead tr:only-child th {\n",
       "        text-align: right;\n",
       "    }\n",
       "\n",
       "    .dataframe thead th {\n",
       "        text-align: left;\n",
       "    }\n",
       "\n",
       "    .dataframe tbody tr th {\n",
       "        vertical-align: top;\n",
       "    }\n",
       "</style>\n",
       "<table border=\"1\" class=\"dataframe\">\n",
       "  <thead>\n",
       "    <tr style=\"text-align: right;\">\n",
       "      <th></th>\n",
       "      <th>assetNumber</th>\n",
       "      <th>reportingPeriodBeginningDate</th>\n",
       "      <th>reportingPeriodEndingDate</th>\n",
       "      <th>originalLoanAmount</th>\n",
       "      <th>originalLoanTerm</th>\n",
       "      <th>originalInterestRatePercentage</th>\n",
       "      <th>subvented</th>\n",
       "      <th>vehicleNewUsedCode</th>\n",
       "      <th>vehicleModelYear</th>\n",
       "      <th>vehicleTypeCode</th>\n",
       "      <th>vehicleValueAmount</th>\n",
       "      <th>obligorCreditScore</th>\n",
       "      <th>obligorIncomeVerificationLevelCode</th>\n",
       "      <th>obligorEmploymentVerificationCode</th>\n",
       "      <th>coObligorIndicator</th>\n",
       "      <th>paymentToIncomePercentage</th>\n",
       "      <th>obligorGeographicLocation</th>\n",
       "      <th>remainingTermToMaturityNumber</th>\n",
       "      <th>reportingPeriodBeginningLoanBalanceAmount</th>\n",
       "      <th>reportingPeriodActualEndBalanceAmount</th>\n",
       "      <th>totalActualAmountPaid</th>\n",
       "      <th>zeroBalanceCode</th>\n",
       "      <th>currentDelinquencyStatus</th>\n",
       "      <th>LTV</th>\n",
       "      <th>loanDiff</th>\n",
       "      <th>StateUnemployment</th>\n",
       "    </tr>\n",
       "  </thead>\n",
       "  <tbody>\n",
       "    <tr>\n",
       "      <th>0</th>\n",
       "      <td>10418824</td>\n",
       "      <td>6/1/2017</td>\n",
       "      <td>6/30/2017</td>\n",
       "      <td>15739.00</td>\n",
       "      <td>60</td>\n",
       "      <td>0.21</td>\n",
       "      <td>0</td>\n",
       "      <td>2</td>\n",
       "      <td>2008</td>\n",
       "      <td>1</td>\n",
       "      <td>14250.0</td>\n",
       "      <td>-</td>\n",
       "      <td>3</td>\n",
       "      <td>3</td>\n",
       "      <td>1</td>\n",
       "      <td>0.076434</td>\n",
       "      <td>OK</td>\n",
       "      <td>26</td>\n",
       "      <td>8776.39</td>\n",
       "      <td>0</td>\n",
       "      <td>8872.33</td>\n",
       "      <td>1</td>\n",
       "      <td>0</td>\n",
       "      <td>110.449123</td>\n",
       "      <td>6962.61</td>\n",
       "      <td>4.3</td>\n",
       "    </tr>\n",
       "    <tr>\n",
       "      <th>1</th>\n",
       "      <td>1094773</td>\n",
       "      <td>6/1/2017</td>\n",
       "      <td>6/30/2017</td>\n",
       "      <td>15665.75</td>\n",
       "      <td>72</td>\n",
       "      <td>0.24</td>\n",
       "      <td>0</td>\n",
       "      <td>2</td>\n",
       "      <td>2010</td>\n",
       "      <td>1</td>\n",
       "      <td>12775.0</td>\n",
       "      <td>548</td>\n",
       "      <td>3</td>\n",
       "      <td>2</td>\n",
       "      <td>0</td>\n",
       "      <td>0.125043</td>\n",
       "      <td>IA</td>\n",
       "      <td>13</td>\n",
       "      <td>4739.21</td>\n",
       "      <td>0</td>\n",
       "      <td>4911.36</td>\n",
       "      <td>1</td>\n",
       "      <td>0</td>\n",
       "      <td>122.628180</td>\n",
       "      <td>10926.54</td>\n",
       "      <td>3.2</td>\n",
       "    </tr>\n",
       "  </tbody>\n",
       "</table>\n",
       "</div>"
      ],
      "text/plain": [
       "   assetNumber reportingPeriodBeginningDate reportingPeriodEndingDate  originalLoanAmount  originalLoanTerm  originalInterestRatePercentage subvented  vehicleNewUsedCode  vehicleModelYear  vehicleTypeCode  vehicleValueAmount obligorCreditScore  obligorIncomeVerificationLevelCode  obligorEmploymentVerificationCode  coObligorIndicator  paymentToIncomePercentage obligorGeographicLocation  remainingTermToMaturityNumber  reportingPeriodBeginningLoanBalanceAmount  reportingPeriodActualEndBalanceAmount  totalActualAmountPaid  zeroBalanceCode  currentDelinquencyStatus         LTV  loanDiff  StateUnemployment\n",
       "0     10418824                     6/1/2017                 6/30/2017            15739.00                60                            0.21         0                   2              2008                1             14250.0                  -                                   3                                  3                   1                   0.076434                        OK                             26                                    8776.39                                      0                8872.33                1                         0  110.449123   6962.61                4.3\n",
       "1      1094773                     6/1/2017                 6/30/2017            15665.75                72                            0.24         0                   2              2010                1             12775.0                548                                   3                                  2                   0                   0.125043                        IA                             13                                    4739.21                                      0                4911.36                1                         0  122.628180  10926.54                3.2"
      ]
     },
     "execution_count": 205,
     "metadata": {},
     "output_type": "execute_result"
    }
   ],
   "source": [
    "path = 'C:\\\\Users\\\\amcdonne\\\\Downloads\\\\ABS\\\\ChargedOffData\\\\' + 'DRIVE_SDART_all_2017.csv'\n",
    "df = pd.read_csv(path, memory_map=True, low_memory=False)\n",
    "df.head(2)"
   ]
  },
  {
   "cell_type": "code",
   "execution_count": 206,
   "metadata": {},
   "outputs": [
    {
     "name": "stderr",
     "output_type": "stream",
     "text": [
      "C:\\ProgramData\\Anaconda3\\lib\\site-packages\\ipykernel_launcher.py:6: SettingWithCopyWarning: \n",
      "A value is trying to be set on a copy of a slice from a DataFrame.\n",
      "Try using .loc[row_indexer,col_indexer] = value instead\n",
      "\n",
      "See the caveats in the documentation: http://pandas.pydata.org/pandas-docs/stable/indexing.html#indexing-view-versus-copy\n",
      "  \n",
      "C:\\ProgramData\\Anaconda3\\lib\\site-packages\\ipykernel_launcher.py:7: SettingWithCopyWarning: \n",
      "A value is trying to be set on a copy of a slice from a DataFrame.\n",
      "Try using .loc[row_indexer,col_indexer] = value instead\n",
      "\n",
      "See the caveats in the documentation: http://pandas.pydata.org/pandas-docs/stable/indexing.html#indexing-view-versus-copy\n",
      "  import sys\n",
      "C:\\ProgramData\\Anaconda3\\lib\\site-packages\\ipykernel_launcher.py:8: SettingWithCopyWarning: \n",
      "A value is trying to be set on a copy of a slice from a DataFrame.\n",
      "Try using .loc[row_indexer,col_indexer] = value instead\n",
      "\n",
      "See the caveats in the documentation: http://pandas.pydata.org/pandas-docs/stable/indexing.html#indexing-view-versus-copy\n",
      "  \n"
     ]
    },
    {
     "data": {
      "text/plain": [
       "1    28430\n",
       "0    27148\n",
       "Name: zeroBalanceCode, dtype: int64"
      ]
     },
     "execution_count": 206,
     "metadata": {},
     "output_type": "execute_result"
    }
   ],
   "source": [
    "df = clean(df)\n",
    "df = dataTransform(df)\n",
    "df = df.drop(removeCols, axis=1)\n",
    "df.zeroBalanceCode.value_counts()"
   ]
  },
  {
   "cell_type": "code",
   "execution_count": 145,
   "metadata": {},
   "outputs": [],
   "source": [
    "df['is_train'] = np.random.uniform(0, 1, len(df)) <= .75 #randomly select loans for training and testing\n",
    "train, test = df[df['is_train']==True], df[df['is_train']==False] #split trainging and testing data into 2 dataframes"
   ]
  },
  {
   "cell_type": "code",
   "execution_count": 146,
   "metadata": {},
   "outputs": [
    {
     "name": "stdout",
     "output_type": "stream",
     "text": [
      "Number of observations in the training data: 41668\n",
      "Number of observations in the test data: 13910\n"
     ]
    }
   ],
   "source": [
    "print('Number of observations in the training data:', len(train))\n",
    "print('Number of observations in the test data:',len(test))\n",
    "features = list(df.columns[:-1])\n",
    "features.remove('zeroBalanceCode')"
   ]
  },
  {
   "cell_type": "code",
   "execution_count": 147,
   "metadata": {},
   "outputs": [
    {
     "name": "stdout",
     "output_type": "stream",
     "text": [
      "Number of Charge Offs in Training data\n",
      " 1    21311\n",
      "0    20357\n",
      "Name: zeroBalanceCode, dtype: int64\n",
      "Number of Charge Offs in Testing data\n",
      " 1    7119\n",
      "0    6791\n",
      "Name: zeroBalanceCode, dtype: int64\n"
     ]
    }
   ],
   "source": [
    "print('Number of Charge Offs in Training data\\n', train['zeroBalanceCode'].value_counts())\n",
    "print('Number of Charge Offs in Testing data\\n', test['zeroBalanceCode'].value_counts())"
   ]
  },
  {
   "cell_type": "code",
   "execution_count": 148,
   "metadata": {},
   "outputs": [
    {
     "data": {
      "text/plain": [
       "RandomForestClassifier(bootstrap=True, class_weight=None, criterion='gini',\n",
       "            max_depth=None, max_features='auto', max_leaf_nodes=None,\n",
       "            min_impurity_decrease=0.0, min_impurity_split=None,\n",
       "            min_samples_leaf=1, min_samples_split=2,\n",
       "            min_weight_fraction_leaf=0.0, n_estimators=10, n_jobs=1,\n",
       "            oob_score=False, random_state=None, verbose=0,\n",
       "            warm_start=False)"
      ]
     },
     "execution_count": 148,
     "metadata": {},
     "output_type": "execute_result"
    }
   ],
   "source": [
    "RF = RandomForestClassifier()\n",
    "RF.fit(train[features], train['zeroBalanceCode'])"
   ]
  },
  {
   "cell_type": "code",
   "execution_count": 149,
   "metadata": {},
   "outputs": [
    {
     "data": {
      "text/plain": [
       "array([[ 0.5,  0.5],\n",
       "       [ 0.6,  0.4],\n",
       "       [ 0.6,  0.4],\n",
       "       [ 0.3,  0.7],\n",
       "       [ 0.6,  0.4],\n",
       "       [ 0. ,  1. ],\n",
       "       [ 0.6,  0.4],\n",
       "       [ 0.7,  0.3],\n",
       "       [ 0.5,  0.5],\n",
       "       [ 0.2,  0.8]])"
      ]
     },
     "execution_count": 149,
     "metadata": {},
     "output_type": "execute_result"
    }
   ],
   "source": [
    "predicted = RF.predict(test[features])\n",
    "RF.predict_proba(test[features])[0:10] #returns the probability of what the classifier is"
   ]
  },
  {
   "cell_type": "code",
   "execution_count": 150,
   "metadata": {},
   "outputs": [
    {
     "name": "stdout",
     "output_type": "stream",
     "text": [
      "Train Accuracy ::  0.993352212729\n",
      "Test Accuracy  ::  0.858734723221\n"
     ]
    }
   ],
   "source": [
    "print(\"Train Accuracy :: \", accuracy_score(train['zeroBalanceCode'], RF.predict(train[features])))\n",
    "print(\"Test Accuracy  :: \", accuracy_score(test['zeroBalanceCode'], predicted))"
   ]
  },
  {
   "cell_type": "code",
   "execution_count": 204,
   "metadata": {},
   "outputs": [
    {
     "name": "stdout",
     "output_type": "stream",
     "text": [
      "['subvented', 'obligorIncomeVerificationLevelCode', 'coObligorIndicator', 'vehicleNewUsedCode', 'obligorEmploymentVerificationCode', 'vehicleTypeCode', 'originalLoanTerm', 'vehicleModelYear', 'StateUnemployment', 'obligorCreditScore', 'paymentToIncomePercentage', 'LTV', 'originalInterestRatePercentage', 'remainingTermToMaturityNumber']\n",
      "[0.0061753571922037297, 0.0076292532447763215, 0.013696105725317894, 0.014091692843844464, 0.014404150639636218, 0.019338604379088228, 0.037809222489705904, 0.057699310378351631, 0.073434858930540706, 0.11163151056544987, 0.12086528068573324, 0.13821712478757392, 0.16237218889221097, 0.22263533924556689]\n"
     ]
    }
   ],
   "source": [
    "featuresImportance = list(zip(train[features], RF.feature_importances_))\n",
    "featuresImportance.sort(key=lambda tup: tup[1])\n",
    "featuresImportance\n",
    "featuresX = []\n",
    "featuresY = []\n",
    "for i in range(0, len(featuresImportance)):\n",
    "    featuresX.append(featuresImportance[i][0])\n",
    "    featuresY.append(featuresImportance[i][1])\n",
    "print(featuresX)\n",
    "print(featuresY)"
   ]
  },
  {
   "cell_type": "code",
   "execution_count": 203,
   "metadata": {},
   "outputs": [
    {
     "data": {
      "image/png": "[encoded data removed]",
      "text/plain": [
       "<matplotlib.figure.Figure at 0x27365936cf8>"
      ]
     },
     "metadata": {},
     "output_type": "display_data"
    }
   ],
   "source": [
    "import matplotlib.pyplot as plt\n",
    "plt.plot(featuresY)\n",
    "#plt.ylabel('Percent')\n",
    "plt.show()"
   ]
  },
  {
   "cell_type": "code",
   "execution_count": 188,
   "metadata": {},
   "outputs": [
    {
     "ename": "ModuleNotFoundError",
     "evalue": "No module named 'dash'",
     "output_type": "error",
     "traceback": [
      "\u001b[1;31m---------------------------------------------------------------------------\u001b[0m",
      "\u001b[1;31mModuleNotFoundError\u001b[0m                       Traceback (most recent call last)",
      "\u001b[1;32m<ipython-input-188-e1a36fcc0faf>\u001b[0m in \u001b[0;36m<module>\u001b[1;34m()\u001b[0m\n\u001b[1;32m----> 1\u001b[1;33m \u001b[1;32mimport\u001b[0m \u001b[0mdash\u001b[0m\u001b[1;33m\u001b[0m\u001b[0m\n\u001b[0m\u001b[0;32m      2\u001b[0m \u001b[1;32mimport\u001b[0m \u001b[0mdash_core_components\u001b[0m \u001b[1;32mas\u001b[0m \u001b[0mdcc\u001b[0m\u001b[1;33m\u001b[0m\u001b[0m\n\u001b[0;32m      3\u001b[0m \u001b[1;32mimport\u001b[0m \u001b[0mdash_html_components\u001b[0m \u001b[1;32mas\u001b[0m \u001b[0mhtml\u001b[0m\u001b[1;33m\u001b[0m\u001b[0m\n\u001b[0;32m      4\u001b[0m \u001b[1;32mimport\u001b[0m \u001b[0mplotly\u001b[0m\u001b[1;33m.\u001b[0m\u001b[0mgraph_objs\u001b[0m \u001b[1;32mas\u001b[0m \u001b[0mgo\u001b[0m\u001b[1;33m\u001b[0m\u001b[0m\n\u001b[0;32m      5\u001b[0m \u001b[1;32mimport\u001b[0m \u001b[0mplotly\u001b[0m\u001b[1;33m.\u001b[0m\u001b[0mplotly\u001b[0m \u001b[1;32mas\u001b[0m \u001b[0mpy\u001b[0m\u001b[1;33m\u001b[0m\u001b[0m\n",
      "\u001b[1;31mModuleNotFoundError\u001b[0m: No module named 'dash'"
     ]
    }
   ],
   "source": [
    "import dash\n",
    "import dash_core_components as dcc\n",
    "import dash_html_components as html\n",
    "import plotly.graph_objs as go\n",
    "import plotly.plotly as py\n",
    "import plotly\n",
    "from ipywidgets import widgets \n",
    "from IPython.display import display\n",
    "\n",
    "from plotly.widgets import GraphWidget\n",
    "plotly.tools.set_credentials_file(username='amcdonne', api_key='TgHHDa2sn3SAj65ZH0dz')\n",
    "\n",
    "trace = go.Scatter(\n",
    "    x = featuresX,\n",
    "    y = featuresY\n",
    ")\n",
    "data=go.Data([trace])\n",
    "layout=go.Layout(title=\"Random Forest Feature Importance\", xaxis={'title':'Features'}, yaxis={'title':'Explained Variance'})\n",
    "figure=go.Figure(data=data,layout=layout)\n",
    "py.iplot(figure, filename='Features Importance')"
   ]
  },
  {
   "cell_type": "code",
   "execution_count": 184,
   "metadata": {},
   "outputs": [
    {
     "name": "stdout",
     "output_type": "stream",
     "text": [
      "           Paid-Down  Default\n",
      "Paid-Down       5655     1136\n",
      "Default          829     6290\n"
     ]
    },
    {
     "data": {
      "text/plain": [
       "<matplotlib.axes._subplots.AxesSubplot at 0x27363cddb38>"
      ]
     },
     "execution_count": 184,
     "metadata": {},
     "output_type": "execute_result"
    },
    {
     "data": {
      "image/png": "[encoded data removed]",
      "text/plain": [
       "<matplotlib.figure.Figure at 0x27363cb1b00>"
      ]
     },
     "metadata": {},
     "output_type": "display_data"
    }
   ],
   "source": [
    "from sklearn.metrics import confusion_matrix\n",
    "import pylab as pl\n",
    "cm = pd.DataFrame(confusion_matrix(test['zeroBalanceCode'], predicted), columns=['Paid-Down','Default'], index=['Paid-Down', 'Default'])\n",
    "print(cm)\n",
    "sb.heatmap(cm, annot=True, fmt=\"d\", cmap='Blues')"
   ]
  },
  {
   "cell_type": "code",
   "execution_count": null,
   "metadata": {
    "collapsed": true
   },
   "outputs": [],
   "source": []
  }
 ],
 "metadata": {
  "kernelspec": {
   "display_name": "Python 3",
   "language": "python",
   "name": "python3"
  },
  "language_info": {
   "codemirror_mode": {
    "name": "ipython",
    "version": 3
   },
   "file_extension": ".py",
   "mimetype": "text/x-python",
   "name": "python",
   "nbconvert_exporter": "python",
   "pygments_lexer": "ipython3",
   "version": "3.6.1"
  }
 },
 "nbformat": 4,
 "nbformat_minor": 2
}
