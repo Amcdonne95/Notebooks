{
 "cells": [
  {
   "cell_type": "markdown",
   "metadata": {},
   "source": [
    "## Settings"
   ]
  },
  {
   "cell_type": "code",
   "execution_count": 1,
   "metadata": {
    "collapsed": true
   },
   "outputs": [],
   "source": [
    "%matplotlib inline\n",
    "import os\n",
    "os.chdir('U:\\\\GitHubClones\\\\SALTSeniorDesign')\n",
    "os.getcwd()\n",
    "import Excel\n",
    "import pandas as pd\n",
    "import numpy as np\n",
    "import matplotlib.pyplot as plt\n",
    "from collections import OrderedDict\n",
    "import re\n",
    "from datetime import datetime"
   ]
  },
  {
   "cell_type": "code",
   "execution_count": 2,
   "metadata": {},
   "outputs": [
    {
     "data": {
      "text/html": [
       "<style>.container { width:100% !important; }</style>"
      ],
      "text/plain": [
       "<IPython.core.display.HTML object>"
      ]
     },
     "metadata": {},
     "output_type": "display_data"
    }
   ],
   "source": [
    "pd.set_option('display.max_rows', 200)\n",
    "pd.set_option('display.max_columns', 200)\n",
    "pd.set_option('display.width', 1000)\n",
    "from IPython.core.display import display, HTML\n",
    "display(HTML(\"<style>.container { width:100% !important; }</style>\"))"
   ]
  },
  {
   "cell_type": "markdown",
   "metadata": {},
   "source": [
    "## Path Setup For the File System"
   ]
  },
  {
   "cell_type": "code",
   "execution_count": 3,
   "metadata": {},
   "outputs": [
    {
     "name": "stdout",
     "output_type": "stream",
     "text": [
      "U:\\AutoLoanTapes\\Santander Drive Auto Receivables Trust\\SDART 2017-1\\2017\\01 January\\2017.02.15_Santander Drive Auto Receivables Trust 2017-1 Data Tape.csv\n"
     ]
    }
   ],
   "source": [
    "path = Excel.directory + \"\\\\\" + Excel.shelf + \"\\\\\" + Excel.deal + \"\\\\\" + Excel.dfTapes[Excel.deal][0]\n",
    "print(path)"
   ]
  },
  {
   "cell_type": "markdown",
   "metadata": {},
   "source": [
    "*Reading in CSV File*"
   ]
  },
  {
   "cell_type": "code",
   "execution_count": 4,
   "metadata": {},
   "outputs": [
    {
     "name": "stdout",
     "output_type": "stream",
     "text": [
      "66797\n"
     ]
    },
    {
     "data": {
      "text/plain": [
       "1224015127.290021"
      ]
     },
     "execution_count": 4,
     "metadata": {},
     "output_type": "execute_result"
    }
   ],
   "source": [
    "df = pd.read_csv(path, memory_map=True, low_memory=False)\n",
    "total = len(df.index)\n",
    "print(total)\n",
    "df['reportingPeriodActualEndBalanceAmount'].sum()"
   ]
  },
  {
   "cell_type": "markdown",
   "metadata": {},
   "source": [
    "### Snap Shot of the Data"
   ]
  },
  {
   "cell_type": "code",
   "execution_count": 6,
   "metadata": {
    "scrolled": true
   },
   "outputs": [
    {
     "data": {
      "text/html": [
       "<div>\n",
       "<style>\n",
       "    .dataframe thead tr:only-child th {\n",
       "        text-align: right;\n",
       "    }\n",
       "\n",
       "    .dataframe thead th {\n",
       "        text-align: left;\n",
       "    }\n",
       "\n",
       "    .dataframe tbody tr th {\n",
       "        vertical-align: top;\n",
       "    }\n",
       "</style>\n",
       "<table border=\"1\" class=\"dataframe\">\n",
       "  <thead>\n",
       "    <tr style=\"text-align: right;\">\n",
       "      <th></th>\n",
       "      <th>assetTypeNumber</th>\n",
       "      <th>assetNumber</th>\n",
       "      <th>reportingPeriodBeginningDate</th>\n",
       "      <th>reportingPeriodEndingDate</th>\n",
       "      <th>originatorName</th>\n",
       "      <th>originationDate</th>\n",
       "      <th>originalLoanAmount</th>\n",
       "      <th>originalLoanTerm</th>\n",
       "      <th>loanMaturityDate</th>\n",
       "      <th>originalInterestRatePercentage</th>\n",
       "      <th>interestCalculationTypeCode</th>\n",
       "      <th>originalInterestRateTypeCode</th>\n",
       "      <th>originalInterestOnlyTermNumber</th>\n",
       "      <th>originalFirstPaymentDate</th>\n",
       "      <th>underwritingIndicator</th>\n",
       "      <th>gracePeriodNumber</th>\n",
       "      <th>paymentTypeCode</th>\n",
       "      <th>subvented</th>\n",
       "      <th>vehicleManufacturerName</th>\n",
       "      <th>vehicleModelName</th>\n",
       "      <th>vehicleNewUsedCode</th>\n",
       "      <th>vehicleModelYear</th>\n",
       "      <th>vehicleTypeCode</th>\n",
       "      <th>vehicleValueAmount</th>\n",
       "      <th>vehicleValueSourceCode</th>\n",
       "      <th>obligorCreditScoreType</th>\n",
       "      <th>obligorCreditScore</th>\n",
       "      <th>obligorIncomeVerificationLevelCode</th>\n",
       "      <th>obligorEmploymentVerificationCode</th>\n",
       "      <th>coObligorIndicator</th>\n",
       "      <th>paymentToIncomePercentage</th>\n",
       "      <th>obligorGeographicLocation</th>\n",
       "      <th>assetAddedIndicator</th>\n",
       "      <th>remainingTermToMaturityNumber</th>\n",
       "      <th>reportingPeriodModificationIndicator</th>\n",
       "      <th>servicingAdvanceMethodCode</th>\n",
       "      <th>reportingPeriodBeginningLoanBalanceAmount</th>\n",
       "      <th>nextReportingPeriodPaymentAmountDue</th>\n",
       "      <th>reportingPeriodInterestRatePercentage</th>\n",
       "      <th>nextInterestRatePercentage</th>\n",
       "      <th>servicingFeePercentage</th>\n",
       "      <th>servicingFlatFeeAmount</th>\n",
       "      <th>otherServicerFeeRetainedByServicer</th>\n",
       "      <th>otherAssessedUncollectedServicerFeeAmount</th>\n",
       "      <th>scheduledInterestAmount</th>\n",
       "      <th>scheduledPrincipalAmount</th>\n",
       "      <th>otherPrincipalAdjustmentAmount</th>\n",
       "      <th>reportingPeriodActualEndBalanceAmount</th>\n",
       "      <th>reportingPeriodScheduledPaymentAmount</th>\n",
       "      <th>totalActualAmountPaid</th>\n",
       "      <th>actualInterestCollectedAmount</th>\n",
       "      <th>actualPrincipalCollectedAmount</th>\n",
       "      <th>actualOtherCollectedAmount</th>\n",
       "      <th>servicerAdvancedAmount</th>\n",
       "      <th>interestPaidThroughDate</th>\n",
       "      <th>zeroBalanceEffectiveDate</th>\n",
       "      <th>zeroBalanceCode</th>\n",
       "      <th>currentDelinquencyStatus</th>\n",
       "      <th>primaryLoanServicerName</th>\n",
       "      <th>mostRecentServicingTransferReceivedDate</th>\n",
       "      <th>assetSubjectDemandIndicator</th>\n",
       "      <th>assetSubjectDemandStatusCode</th>\n",
       "      <th>repurchaseAmount</th>\n",
       "      <th>DemandResolutionDate</th>\n",
       "      <th>repurchaserName</th>\n",
       "      <th>repurchaseReplacementReasonCode</th>\n",
       "      <th>chargedoffPrincipalAmount</th>\n",
       "      <th>recoveredAmount</th>\n",
       "      <th>modificationTypeCode</th>\n",
       "      <th>paymentExtendedNumber</th>\n",
       "      <th>repossessedIndicator</th>\n",
       "      <th>repossessedProceedsAmount</th>\n",
       "    </tr>\n",
       "  </thead>\n",
       "  <tbody>\n",
       "    <tr>\n",
       "      <th>0</th>\n",
       "      <td>SC</td>\n",
       "      <td>=\"6345119\"</td>\n",
       "      <td>01-01-2017</td>\n",
       "      <td>01-31-2017</td>\n",
       "      <td>SC</td>\n",
       "      <td>10/2013</td>\n",
       "      <td>23260.03</td>\n",
       "      <td>60</td>\n",
       "      <td>01/2019</td>\n",
       "      <td>0.1194</td>\n",
       "      <td>1</td>\n",
       "      <td>1</td>\n",
       "      <td>-</td>\n",
       "      <td>12/2013</td>\n",
       "      <td>True</td>\n",
       "      <td>2</td>\n",
       "      <td>2</td>\n",
       "      <td>0</td>\n",
       "      <td>CHEVROLET TRUCK</td>\n",
       "      <td>Traverse</td>\n",
       "      <td>2</td>\n",
       "      <td>2010</td>\n",
       "      <td>3</td>\n",
       "      <td>17589.00</td>\n",
       "      <td>98</td>\n",
       "      <td>Bureau</td>\n",
       "      <td>671</td>\n",
       "      <td>3</td>\n",
       "      <td>2</td>\n",
       "      <td>False</td>\n",
       "      <td>0.187788</td>\n",
       "      <td>AZ</td>\n",
       "      <td>-</td>\n",
       "      <td>25</td>\n",
       "      <td>False</td>\n",
       "      <td>1</td>\n",
       "      <td>11977.51</td>\n",
       "      <td>512.31</td>\n",
       "      <td>0.1194</td>\n",
       "      <td>0.1194</td>\n",
       "      <td>0.0</td>\n",
       "      <td>-</td>\n",
       "      <td>-</td>\n",
       "      <td>50.59</td>\n",
       "      <td>103.1772</td>\n",
       "      <td>413.5228</td>\n",
       "      <td>0.0</td>\n",
       "      <td>11607.02</td>\n",
       "      <td>516.70</td>\n",
       "      <td>519.25</td>\n",
       "      <td>148.76</td>\n",
       "      <td>370.49</td>\n",
       "      <td>0.0</td>\n",
       "      <td>-</td>\n",
       "      <td>01-27-2017</td>\n",
       "      <td>-</td>\n",
       "      <td>-</td>\n",
       "      <td>0</td>\n",
       "      <td>SC</td>\n",
       "      <td>-</td>\n",
       "      <td>False</td>\n",
       "      <td>-</td>\n",
       "      <td>-</td>\n",
       "      <td>-</td>\n",
       "      <td>-</td>\n",
       "      <td>-</td>\n",
       "      <td>0.0</td>\n",
       "      <td>0.0</td>\n",
       "      <td>-</td>\n",
       "      <td>0</td>\n",
       "      <td>False</td>\n",
       "      <td>-</td>\n",
       "    </tr>\n",
       "    <tr>\n",
       "      <th>1</th>\n",
       "      <td>SC</td>\n",
       "      <td>=\"634535\"</td>\n",
       "      <td>01-01-2017</td>\n",
       "      <td>01-31-2017</td>\n",
       "      <td>SC</td>\n",
       "      <td>03/2012</td>\n",
       "      <td>12031.00</td>\n",
       "      <td>72</td>\n",
       "      <td>03/2018</td>\n",
       "      <td>0.1800</td>\n",
       "      <td>1</td>\n",
       "      <td>1</td>\n",
       "      <td>-</td>\n",
       "      <td>04/2012</td>\n",
       "      <td>True</td>\n",
       "      <td>1</td>\n",
       "      <td>2</td>\n",
       "      <td>0</td>\n",
       "      <td>MAZDA</td>\n",
       "      <td>Mazda3</td>\n",
       "      <td>2</td>\n",
       "      <td>2010</td>\n",
       "      <td>1</td>\n",
       "      <td>13575.00</td>\n",
       "      <td>98</td>\n",
       "      <td>Bureau</td>\n",
       "      <td>-</td>\n",
       "      <td>2</td>\n",
       "      <td>2</td>\n",
       "      <td>False</td>\n",
       "      <td>0.069108</td>\n",
       "      <td>TX</td>\n",
       "      <td>-</td>\n",
       "      <td>15</td>\n",
       "      <td>False</td>\n",
       "      <td>1</td>\n",
       "      <td>3658.90</td>\n",
       "      <td>284.44</td>\n",
       "      <td>0.1800</td>\n",
       "      <td>0.1800</td>\n",
       "      <td>0.0</td>\n",
       "      <td>-</td>\n",
       "      <td>-</td>\n",
       "      <td>0.00</td>\n",
       "      <td>53.2969</td>\n",
       "      <td>221.1031</td>\n",
       "      <td>0.0</td>\n",
       "      <td>3439.80</td>\n",
       "      <td>274.40</td>\n",
       "      <td>275.00</td>\n",
       "      <td>55.90</td>\n",
       "      <td>219.10</td>\n",
       "      <td>0.0</td>\n",
       "      <td>-</td>\n",
       "      <td>01-24-2017</td>\n",
       "      <td>-</td>\n",
       "      <td>-</td>\n",
       "      <td>0</td>\n",
       "      <td>SC</td>\n",
       "      <td>-</td>\n",
       "      <td>False</td>\n",
       "      <td>-</td>\n",
       "      <td>-</td>\n",
       "      <td>-</td>\n",
       "      <td>-</td>\n",
       "      <td>-</td>\n",
       "      <td>0.0</td>\n",
       "      <td>0.0</td>\n",
       "      <td>-</td>\n",
       "      <td>0</td>\n",
       "      <td>False</td>\n",
       "      <td>-</td>\n",
       "    </tr>\n",
       "    <tr>\n",
       "      <th>2</th>\n",
       "      <td>SC</td>\n",
       "      <td>=\"6345360\"</td>\n",
       "      <td>01-01-2017</td>\n",
       "      <td>01-31-2017</td>\n",
       "      <td>SC</td>\n",
       "      <td>11/2013</td>\n",
       "      <td>21332.31</td>\n",
       "      <td>72</td>\n",
       "      <td>11/2019</td>\n",
       "      <td>0.1810</td>\n",
       "      <td>1</td>\n",
       "      <td>1</td>\n",
       "      <td>-</td>\n",
       "      <td>12/2013</td>\n",
       "      <td>True</td>\n",
       "      <td>1</td>\n",
       "      <td>2</td>\n",
       "      <td>0</td>\n",
       "      <td>DODGE TRUCK</td>\n",
       "      <td>Grand Caravan</td>\n",
       "      <td>2</td>\n",
       "      <td>2010</td>\n",
       "      <td>1</td>\n",
       "      <td>15209.00</td>\n",
       "      <td>3</td>\n",
       "      <td>Bureau</td>\n",
       "      <td>560</td>\n",
       "      <td>2</td>\n",
       "      <td>2</td>\n",
       "      <td>False</td>\n",
       "      <td>0.109852</td>\n",
       "      <td>WA</td>\n",
       "      <td>-</td>\n",
       "      <td>35</td>\n",
       "      <td>False</td>\n",
       "      <td>1</td>\n",
       "      <td>14132.08</td>\n",
       "      <td>1317.82</td>\n",
       "      <td>0.1810</td>\n",
       "      <td>0.1810</td>\n",
       "      <td>0.0</td>\n",
       "      <td>-</td>\n",
       "      <td>-</td>\n",
       "      <td>0.00</td>\n",
       "      <td>196.7817</td>\n",
       "      <td>290.9683</td>\n",
       "      <td>0.0</td>\n",
       "      <td>13850.49</td>\n",
       "      <td>487.75</td>\n",
       "      <td>491.37</td>\n",
       "      <td>209.78</td>\n",
       "      <td>281.59</td>\n",
       "      <td>0.0</td>\n",
       "      <td>-</td>\n",
       "      <td>01-07-2017</td>\n",
       "      <td>-</td>\n",
       "      <td>-</td>\n",
       "      <td>0</td>\n",
       "      <td>SC</td>\n",
       "      <td>-</td>\n",
       "      <td>False</td>\n",
       "      <td>-</td>\n",
       "      <td>-</td>\n",
       "      <td>-</td>\n",
       "      <td>-</td>\n",
       "      <td>-</td>\n",
       "      <td>0.0</td>\n",
       "      <td>0.0</td>\n",
       "      <td>-</td>\n",
       "      <td>0</td>\n",
       "      <td>False</td>\n",
       "      <td>-</td>\n",
       "    </tr>\n",
       "    <tr>\n",
       "      <th>3</th>\n",
       "      <td>SC</td>\n",
       "      <td>=\"6345391\"</td>\n",
       "      <td>01-01-2017</td>\n",
       "      <td>01-31-2017</td>\n",
       "      <td>SC</td>\n",
       "      <td>11/2013</td>\n",
       "      <td>24544.23</td>\n",
       "      <td>72</td>\n",
       "      <td>11/2019</td>\n",
       "      <td>0.0855</td>\n",
       "      <td>1</td>\n",
       "      <td>1</td>\n",
       "      <td>-</td>\n",
       "      <td>12/2013</td>\n",
       "      <td>True</td>\n",
       "      <td>1</td>\n",
       "      <td>2</td>\n",
       "      <td>0</td>\n",
       "      <td>TOYOTA</td>\n",
       "      <td>Sienna</td>\n",
       "      <td>2</td>\n",
       "      <td>2006</td>\n",
       "      <td>1</td>\n",
       "      <td>16550.00</td>\n",
       "      <td>98</td>\n",
       "      <td>Bureau</td>\n",
       "      <td>712</td>\n",
       "      <td>2</td>\n",
       "      <td>2</td>\n",
       "      <td>False</td>\n",
       "      <td>0.007974</td>\n",
       "      <td>FL</td>\n",
       "      <td>-</td>\n",
       "      <td>35</td>\n",
       "      <td>False</td>\n",
       "      <td>1</td>\n",
       "      <td>13122.36</td>\n",
       "      <td>538.38</td>\n",
       "      <td>0.0855</td>\n",
       "      <td>0.0855</td>\n",
       "      <td>0.0</td>\n",
       "      <td>-</td>\n",
       "      <td>-</td>\n",
       "      <td>0.00</td>\n",
       "      <td>96.1377</td>\n",
       "      <td>340.8223</td>\n",
       "      <td>0.0</td>\n",
       "      <td>13122.36</td>\n",
       "      <td>436.96</td>\n",
       "      <td>0.00</td>\n",
       "      <td>0.00</td>\n",
       "      <td>0.00</td>\n",
       "      <td>0.0</td>\n",
       "      <td>-</td>\n",
       "      <td>12-30-2016</td>\n",
       "      <td>-</td>\n",
       "      <td>-</td>\n",
       "      <td>0</td>\n",
       "      <td>SC</td>\n",
       "      <td>-</td>\n",
       "      <td>False</td>\n",
       "      <td>-</td>\n",
       "      <td>-</td>\n",
       "      <td>-</td>\n",
       "      <td>-</td>\n",
       "      <td>-</td>\n",
       "      <td>0.0</td>\n",
       "      <td>0.0</td>\n",
       "      <td>-</td>\n",
       "      <td>0</td>\n",
       "      <td>False</td>\n",
       "      <td>-</td>\n",
       "    </tr>\n",
       "    <tr>\n",
       "      <th>4</th>\n",
       "      <td>SC</td>\n",
       "      <td>=\"634551\"</td>\n",
       "      <td>01-01-2017</td>\n",
       "      <td>01-31-2017</td>\n",
       "      <td>SC</td>\n",
       "      <td>03/2012</td>\n",
       "      <td>23589.10</td>\n",
       "      <td>72</td>\n",
       "      <td>09/2018</td>\n",
       "      <td>0.1710</td>\n",
       "      <td>1</td>\n",
       "      <td>1</td>\n",
       "      <td>-</td>\n",
       "      <td>04/2012</td>\n",
       "      <td>True</td>\n",
       "      <td>1</td>\n",
       "      <td>2</td>\n",
       "      <td>0</td>\n",
       "      <td>CHEVROLET</td>\n",
       "      <td>Sonic</td>\n",
       "      <td>1</td>\n",
       "      <td>2012</td>\n",
       "      <td>1</td>\n",
       "      <td>16607.31</td>\n",
       "      <td>98</td>\n",
       "      <td>Bureau</td>\n",
       "      <td>631</td>\n",
       "      <td>3</td>\n",
       "      <td>3</td>\n",
       "      <td>False</td>\n",
       "      <td>0.074936</td>\n",
       "      <td>IL</td>\n",
       "      <td>-</td>\n",
       "      <td>21</td>\n",
       "      <td>False</td>\n",
       "      <td>1</td>\n",
       "      <td>10510.59</td>\n",
       "      <td>1210.41</td>\n",
       "      <td>0.1710</td>\n",
       "      <td>0.1710</td>\n",
       "      <td>0.0</td>\n",
       "      <td>-</td>\n",
       "      <td>-</td>\n",
       "      <td>78.09</td>\n",
       "      <td>97.8123</td>\n",
       "      <td>428.2677</td>\n",
       "      <td>0.0</td>\n",
       "      <td>10510.59</td>\n",
       "      <td>526.08</td>\n",
       "      <td>0.00</td>\n",
       "      <td>0.00</td>\n",
       "      <td>0.00</td>\n",
       "      <td>0.0</td>\n",
       "      <td>-</td>\n",
       "      <td>10-07-2016</td>\n",
       "      <td>-</td>\n",
       "      <td>-</td>\n",
       "      <td>3</td>\n",
       "      <td>SC</td>\n",
       "      <td>-</td>\n",
       "      <td>False</td>\n",
       "      <td>-</td>\n",
       "      <td>-</td>\n",
       "      <td>-</td>\n",
       "      <td>-</td>\n",
       "      <td>-</td>\n",
       "      <td>0.0</td>\n",
       "      <td>0.0</td>\n",
       "      <td>-</td>\n",
       "      <td>0</td>\n",
       "      <td>False</td>\n",
       "      <td>-</td>\n",
       "    </tr>\n",
       "  </tbody>\n",
       "</table>\n",
       "</div>"
      ],
      "text/plain": [
       "  assetTypeNumber assetNumber reportingPeriodBeginningDate reportingPeriodEndingDate originatorName originationDate  originalLoanAmount  originalLoanTerm loanMaturityDate  originalInterestRatePercentage  interestCalculationTypeCode  originalInterestRateTypeCode originalInterestOnlyTermNumber originalFirstPaymentDate  underwritingIndicator  gracePeriodNumber  paymentTypeCode subvented vehicleManufacturerName vehicleModelName  vehicleNewUsedCode  vehicleModelYear  vehicleTypeCode  vehicleValueAmount  vehicleValueSourceCode obligorCreditScoreType obligorCreditScore  obligorIncomeVerificationLevelCode  obligorEmploymentVerificationCode  coObligorIndicator  paymentToIncomePercentage obligorGeographicLocation assetAddedIndicator  remainingTermToMaturityNumber  reportingPeriodModificationIndicator  servicingAdvanceMethodCode  reportingPeriodBeginningLoanBalanceAmount  nextReportingPeriodPaymentAmountDue  reportingPeriodInterestRatePercentage  nextInterestRatePercentage  \\\n",
       "0              SC  =\"6345119\"                   01-01-2017                01-31-2017             SC         10/2013            23260.03                60          01/2019                          0.1194                            1                             1                              -                  12/2013                   True                  2                2         0         CHEVROLET TRUCK         Traverse                   2              2010                3            17589.00                      98                 Bureau                671                                   3                                  2               False                   0.187788                        AZ                   -                             25                                 False                           1                                   11977.51                               512.31                                 0.1194                      0.1194   \n",
       "1              SC   =\"634535\"                   01-01-2017                01-31-2017             SC         03/2012            12031.00                72          03/2018                          0.1800                            1                             1                              -                  04/2012                   True                  1                2         0                   MAZDA           Mazda3                   2              2010                1            13575.00                      98                 Bureau                  -                                   2                                  2               False                   0.069108                        TX                   -                             15                                 False                           1                                    3658.90                               284.44                                 0.1800                      0.1800   \n",
       "2              SC  =\"6345360\"                   01-01-2017                01-31-2017             SC         11/2013            21332.31                72          11/2019                          0.1810                            1                             1                              -                  12/2013                   True                  1                2         0             DODGE TRUCK    Grand Caravan                   2              2010                1            15209.00                       3                 Bureau                560                                   2                                  2               False                   0.109852                        WA                   -                             35                                 False                           1                                   14132.08                              1317.82                                 0.1810                      0.1810   \n",
       "3              SC  =\"6345391\"                   01-01-2017                01-31-2017             SC         11/2013            24544.23                72          11/2019                          0.0855                            1                             1                              -                  12/2013                   True                  1                2         0                  TOYOTA           Sienna                   2              2006                1            16550.00                      98                 Bureau                712                                   2                                  2               False                   0.007974                        FL                   -                             35                                 False                           1                                   13122.36                               538.38                                 0.0855                      0.0855   \n",
       "4              SC   =\"634551\"                   01-01-2017                01-31-2017             SC         03/2012            23589.10                72          09/2018                          0.1710                            1                             1                              -                  04/2012                   True                  1                2         0               CHEVROLET            Sonic                   1              2012                1            16607.31                      98                 Bureau                631                                   3                                  3               False                   0.074936                        IL                   -                             21                                 False                           1                                   10510.59                              1210.41                                 0.1710                      0.1710   \n",
       "\n",
       "   servicingFeePercentage servicingFlatFeeAmount otherServicerFeeRetainedByServicer  otherAssessedUncollectedServicerFeeAmount  scheduledInterestAmount  scheduledPrincipalAmount  otherPrincipalAdjustmentAmount  reportingPeriodActualEndBalanceAmount  reportingPeriodScheduledPaymentAmount  totalActualAmountPaid  actualInterestCollectedAmount  actualPrincipalCollectedAmount  actualOtherCollectedAmount servicerAdvancedAmount interestPaidThroughDate zeroBalanceEffectiveDate zeroBalanceCode  currentDelinquencyStatus primaryLoanServicerName mostRecentServicingTransferReceivedDate  assetSubjectDemandIndicator assetSubjectDemandStatusCode repurchaseAmount DemandResolutionDate repurchaserName repurchaseReplacementReasonCode  chargedoffPrincipalAmount  recoveredAmount modificationTypeCode  paymentExtendedNumber  repossessedIndicator repossessedProceedsAmount  \n",
       "0                     0.0                      -                                  -                                      50.59                 103.1772                  413.5228                             0.0                               11607.02                                 516.70                 519.25                         148.76                          370.49                         0.0                      -              01-27-2017                        -               -                         0                      SC                                       -                        False                            -                -                    -               -                               -                        0.0              0.0                    -                      0                 False                         -  \n",
       "1                     0.0                      -                                  -                                       0.00                  53.2969                  221.1031                             0.0                                3439.80                                 274.40                 275.00                          55.90                          219.10                         0.0                      -              01-24-2017                        -               -                         0                      SC                                       -                        False                            -                -                    -               -                               -                        0.0              0.0                    -                      0                 False                         -  \n",
       "2                     0.0                      -                                  -                                       0.00                 196.7817                  290.9683                             0.0                               13850.49                                 487.75                 491.37                         209.78                          281.59                         0.0                      -              01-07-2017                        -               -                         0                      SC                                       -                        False                            -                -                    -               -                               -                        0.0              0.0                    -                      0                 False                         -  \n",
       "3                     0.0                      -                                  -                                       0.00                  96.1377                  340.8223                             0.0                               13122.36                                 436.96                   0.00                           0.00                            0.00                         0.0                      -              12-30-2016                        -               -                         0                      SC                                       -                        False                            -                -                    -               -                               -                        0.0              0.0                    -                      0                 False                         -  \n",
       "4                     0.0                      -                                  -                                      78.09                  97.8123                  428.2677                             0.0                               10510.59                                 526.08                   0.00                           0.00                            0.00                         0.0                      -              10-07-2016                        -               -                         3                      SC                                       -                        False                            -                -                    -               -                               -                        0.0              0.0                    -                      0                 False                         -  "
      ]
     },
     "execution_count": 6,
     "metadata": {},
     "output_type": "execute_result"
    }
   ],
   "source": [
    "df.head()"
   ]
  },
  {
   "cell_type": "code",
   "execution_count": null,
   "metadata": {
    "collapsed": true
   },
   "outputs": [],
   "source": []
  },
  {
   "cell_type": "code",
   "execution_count": 6,
   "metadata": {
    "scrolled": true
   },
   "outputs": [
    {
     "data": {
      "text/plain": [
       "['assetTypeNumber',\n",
       " 'assetNumber',\n",
       " 'reportingPeriodBeginningDate',\n",
       " 'reportingPeriodEndingDate',\n",
       " 'originatorName',\n",
       " 'originationDate',\n",
       " 'originalLoanAmount',\n",
       " 'originalLoanTerm',\n",
       " 'loanMaturityDate',\n",
       " 'originalInterestRatePercentage',\n",
       " 'interestCalculationTypeCode',\n",
       " 'originalInterestRateTypeCode',\n",
       " 'originalInterestOnlyTermNumber',\n",
       " 'originalFirstPaymentDate',\n",
       " 'underwritingIndicator',\n",
       " 'gracePeriodNumber',\n",
       " 'paymentTypeCode',\n",
       " 'subvented',\n",
       " 'vehicleManufacturerName',\n",
       " 'vehicleModelName',\n",
       " 'vehicleNewUsedCode',\n",
       " 'vehicleModelYear',\n",
       " 'vehicleTypeCode',\n",
       " 'vehicleValueAmount',\n",
       " 'vehicleValueSourceCode',\n",
       " 'obligorCreditScoreType',\n",
       " 'obligorCreditScore',\n",
       " 'obligorIncomeVerificationLevelCode',\n",
       " 'obligorEmploymentVerificationCode',\n",
       " 'coObligorIndicator',\n",
       " 'paymentToIncomePercentage',\n",
       " 'obligorGeographicLocation',\n",
       " 'assetAddedIndicator',\n",
       " 'remainingTermToMaturityNumber',\n",
       " 'reportingPeriodModificationIndicator',\n",
       " 'servicingAdvanceMethodCode',\n",
       " 'reportingPeriodBeginningLoanBalanceAmount',\n",
       " 'nextReportingPeriodPaymentAmountDue',\n",
       " 'reportingPeriodInterestRatePercentage',\n",
       " 'nextInterestRatePercentage',\n",
       " 'servicingFeePercentage',\n",
       " 'servicingFlatFeeAmount',\n",
       " 'otherServicerFeeRetainedByServicer',\n",
       " 'otherAssessedUncollectedServicerFeeAmount',\n",
       " 'scheduledInterestAmount',\n",
       " 'scheduledPrincipalAmount',\n",
       " 'otherPrincipalAdjustmentAmount',\n",
       " 'reportingPeriodActualEndBalanceAmount',\n",
       " 'reportingPeriodScheduledPaymentAmount',\n",
       " 'totalActualAmountPaid',\n",
       " 'actualInterestCollectedAmount',\n",
       " 'actualPrincipalCollectedAmount',\n",
       " 'actualOtherCollectedAmount',\n",
       " 'servicerAdvancedAmount',\n",
       " 'interestPaidThroughDate',\n",
       " 'zeroBalanceEffectiveDate',\n",
       " 'zeroBalanceCode',\n",
       " 'currentDelinquencyStatus',\n",
       " 'primaryLoanServicerName',\n",
       " 'mostRecentServicingTransferReceivedDate',\n",
       " 'assetSubjectDemandIndicator',\n",
       " 'assetSubjectDemandStatusCode',\n",
       " 'repurchaseAmount',\n",
       " 'DemandResolutionDate',\n",
       " 'repurchaserName',\n",
       " 'repurchaseReplacementReasonCode',\n",
       " 'chargedoffPrincipalAmount',\n",
       " 'recoveredAmount',\n",
       " 'modificationTypeCode',\n",
       " 'paymentExtendedNumber',\n",
       " 'repossessedIndicator',\n",
       " 'repossessedProceedsAmount']"
      ]
     },
     "execution_count": 6,
     "metadata": {},
     "output_type": "execute_result"
    }
   ],
   "source": [
    "list(df.columns)"
   ]
  },
  {
   "cell_type": "markdown",
   "metadata": {},
   "source": [
    "### Feature Calculation Steps"
   ]
  },
  {
   "cell_type": "code",
   "execution_count": 5,
   "metadata": {
    "collapsed": true
   },
   "outputs": [],
   "source": [
    "WA = lambda x: np.average(x, axis=0, weights = df.loc[x.index, 'reportingPeriodActualEndBalanceAmount'])"
   ]
  },
  {
   "cell_type": "code",
   "execution_count": 6,
   "metadata": {},
   "outputs": [
    {
     "name": "stdout",
     "output_type": "stream",
     "text": [
      "0    0.000948\n",
      "1    0.000281\n",
      "2    0.001132\n",
      "3    0.001072\n",
      "4    0.000859\n",
      "Name: pctDeal, dtype: float64\n"
     ]
    },
    {
     "data": {
      "text/plain": [
       "0    1.322419\n",
       "1    0.886262\n",
       "2    1.402611\n",
       "3    1.483035\n",
       "4    1.420405\n",
       "Name: LTV, dtype: float64"
      ]
     },
     "execution_count": 6,
     "metadata": {},
     "output_type": "execute_result"
    }
   ],
   "source": [
    "df['LTV'] = (df['originalLoanAmount']/df['vehicleValueAmount']) #Loan to value ratio\n",
    "df['pctDeal'] = (df['reportingPeriodActualEndBalanceAmount']/(df['reportingPeriodActualEndBalanceAmount'].sum()))*100 #Individual Loan as a Percent of Current month Balance\n",
    "\n",
    "print(df['pctDeal'].head())\n",
    "df['LTV'].head()"
   ]
  },
  {
   "cell_type": "code",
   "execution_count": 78,
   "metadata": {},
   "outputs": [
    {
     "data": {
      "text/plain": [
       "array(['-', '4', '1', '3'], dtype=object)"
      ]
     },
     "execution_count": 78,
     "metadata": {},
     "output_type": "execute_result"
    }
   ],
   "source": []
  },
  {
   "cell_type": "markdown",
   "metadata": {},
   "source": [
    "## Selecting and Finding Data Characteristics"
   ]
  },
  {
   "cell_type": "code",
   "execution_count": 11,
   "metadata": {},
   "outputs": [
    {
     "data": {
      "text/plain": [
       "False    43209\n",
       "True     20238\n",
       "Name: coObligorIndicator, dtype: int64"
      ]
     },
     "execution_count": 11,
     "metadata": {},
     "output_type": "execute_result"
    }
   ],
   "source": [
    "df['originalInterestRateTypeCode'].unique() #all of the loans are fixed rate loans\n",
    "df['subvented'].unique() #1=rate, 2=cash, 0= none, 98=other\n",
    "df['vehicleTypeCode'].unique() #1=car 2=truck 3=suv\n",
    "df['vehicleNewUsedCode'].unique() #1=new 2=used\n",
    "df['vehicleManufacturerName'].unique()\n",
    "df['vehicleModelName'].unique()\n",
    "df['vehicleValueAmount'].dtype #float\n",
    "df['vehicleValueSourceCode'].unique() #98=other 3=KBB\n",
    "df['obligorCreditScoreType'].unique() #only Bureau\n",
    "df['obligorCreditScore'].dtype #float\n",
    "df['obligorIncomeVerificationLevelCode'].unique() #3=Stated, verified but not to “level 4” or “level 5” 2=Stated, not verified\n",
    "df['obligorEmploymentVerificationCode'].unique() # 1=not stated 2=stated not verified 3=verifited by 3rd party\n",
    "df['paymentToIncomePercentage'].dtype #float\n",
    "df['obligorGeographicLocation'].unique()\n",
    "#df['assetAddedIndicator'].unique()\n",
    "df['remainingTermToMaturityNumber'].dtype #int\n",
    "df['reportingPeriodModificationIndicator'].unique()\n",
    "df['servicingAdvanceMethodCode'].unique()\n",
    "df['reportingPeriodBeginningLoanBalanceAmount'].dtype #float\n",
    "df['totalActualAmountPaid'].dtype #float\n",
    "df['actualInterestCollectedAmount'].dtype #float\n",
    "df['actualPrincipalCollectedAmount'].dtype #float\n",
    "df['zeroBalanceCode'].unique()\n",
    "df['zeroBalanceEffectiveDate'].unique() #date at which the loan is considered dead\n",
    "df['currentDelinquencyStatus'].unique() # How many days delinquent\n",
    "df['assetSubjectDemandIndicator'].unique()\n",
    "df['assetSubjectDemandStatusCode'].unique() #Asset has been repurchased replaced ect\n",
    "df['repurchaseAmount'].unique()\n",
    "df['repurchaseReplacementReasonCode'].unique() #reason why the car has thrown a zero balance code\n",
    "df['chargedoffPrincipalAmount'].dtype #float\n",
    "df['recoveredAmount'].dtype #float\n",
    "df['modificationTypeCode'].unique() #what part of the loan has been modified\n",
    "df['paymentExtendedNumber'].unique()\n",
    "df['repossessedIndicator'].unique()\n",
    "df['repossessedProceedsAmount'].dtype #object\n",
    "df['LTV'].dtype #float\n",
    "df['pctDeal'].dtype #float\n",
    "df['coObligorIndicator'].value_counts()"
   ]
  },
  {
   "cell_type": "code",
   "execution_count": 7,
   "metadata": {
    "collapsed": true
   },
   "outputs": [],
   "source": [
    "df['LTV'] = pd.to_numeric(df['LTV'], errors='coerce')"
   ]
  },
  {
   "cell_type": "markdown",
   "metadata": {},
   "source": [
    "### Data Cleaning Steps"
   ]
  },
  {
   "cell_type": "code",
   "execution_count": 55,
   "metadata": {
    "scrolled": true
   },
   "outputs": [
    {
     "data": {
      "text/plain": [
       "count     9594\n",
       "unique       1\n",
       "top          -\n",
       "freq      9594\n",
       "Name: obligorCreditScore, dtype: object"
      ]
     },
     "execution_count": 55,
     "metadata": {},
     "output_type": "execute_result"
    }
   ],
   "source": [
    "noScore = df[df.obligorCreditScore.isin(['-'])]\n",
    "noScore['obligorCreditScore'].describe()"
   ]
  },
  {
   "cell_type": "code",
   "execution_count": 8,
   "metadata": {},
   "outputs": [
    {
     "name": "stdout",
     "output_type": "stream",
     "text": [
      "count     66797\n",
      "unique      483\n",
      "top           -\n",
      "freq       9594\n",
      "Name: obligorCreditScore, dtype: object\n",
      "count    57203.000000\n",
      "mean       603.404542\n",
      "std         64.530552\n",
      "min        385.000000\n",
      "25%        562.000000\n",
      "50%        600.000000\n",
      "75%        637.000000\n",
      "max        900.000000\n",
      "Name: obligorCreditScore, dtype: float64\n"
     ]
    }
   ],
   "source": [
    "print(df['obligorCreditScore'].describe())\n",
    "df['obligorCreditScore'] = pd.to_numeric(df['obligorCreditScore'], errors='coerce')\n",
    "print(df['obligorCreditScore'].describe())"
   ]
  },
  {
   "cell_type": "code",
   "execution_count": 57,
   "metadata": {},
   "outputs": [
    {
     "data": {
      "text/plain": [
       "count    66797.000000\n",
       "mean     18324.402702\n",
       "std       9202.795412\n",
       "min        505.800000\n",
       "25%      11815.000000\n",
       "50%      16428.580000\n",
       "75%      23109.430000\n",
       "max      72363.060000\n",
       "Name: reportingPeriodActualEndBalanceAmount, dtype: float64"
      ]
     },
     "execution_count": 57,
     "metadata": {},
     "output_type": "execute_result"
    }
   ],
   "source": [
    "df['reportingPeriodActualEndBalanceAmount'].describe()"
   ]
  },
  {
   "cell_type": "code",
   "execution_count": null,
   "metadata": {
    "collapsed": true
   },
   "outputs": [],
   "source": [
    "#df['obligorCreditScore'].plot.hist(bins=100).set_xlabel('SDART 2017-1 Credit Score')\n",
    "#df['LTV'].plot.hist(bins=100).set_xlabel('SDART 2017-1 LTV')\n",
    "#df['originalInterestRatePercentage'].plot.hist(bins=50).set_xlabel('SDART 2017-1 APR')\n",
    "#df['paymentToIncomePercentage'].plot.hist(bins=100).set_xlabel('SDART 2017-1 PTI')"
   ]
  },
  {
   "cell_type": "markdown",
   "metadata": {},
   "source": [
    "### Bin Selection for Strat Tables"
   ]
  },
  {
   "cell_type": "code",
   "execution_count": 9,
   "metadata": {
    "collapsed": true
   },
   "outputs": [],
   "source": [
    "FicoBins = [-1, 440, 500, 560, 620, 680, 740, 800, 1000]\n",
    "#APRBins = [0, .02 ,.04, .06, .08, .1, .12, .14, .16, 1000]\n",
    "APRBins = [0, .04, .08, .12, .16, .20, .24, .28, 1000]\n",
    "LTVBins = [-1, .7, .8, .9, 1, 1.1, 1.2, 1.3, 1.4, 1000]\n",
    "PTIBins = [-1, .02, .04, .06, .08, .1, .12, .14, .16, 1000]"
   ]
  },
  {
   "cell_type": "code",
   "execution_count": 10,
   "metadata": {
    "collapsed": true
   },
   "outputs": [],
   "source": [
    "FicoGroup = ['[-1, 440)', '[440, 500)', '[500, 560)', '[560, 620)', '[620, 680)', '[680, 740)', '[740, 800)', '[800, 1000)']\n",
    "#APRGroup = ['[0.0, 0.02)', '[0.02, 0.04)', '[0.04, 0.06)', '[0.06, 0.08)', '[0.08, 0.1)', '[0.1, 0.12)', '[0.12, 0.14)', '[0.14, 0.16)', '[0.16, 1000.0)']\n",
    "APRGroup = ['[0.0, 0.04)', '[0.04, 0.08)', '[0.08, 0.12)', '[0.12, 0.16)', '[0.16, 0.20)', '[0.20, 0.24)', '[0.24, 0.28)', '[0.28, 1000)']\n",
    "PTIGroup = ['[-1.0, 0.02)', '[0.02, 0.04)', '[0.04, 0.06)', '[0.06, 0.08)', '[0.08, 0.1)', '[0.1, 0.12)', '[0.12, 0.14)', '[0.14, 0.16)', '[0.16, 1000.0)']\n",
    "\n",
    "LTVGroup = ['[-1.0, 0.7)', '[0.7, 0.8)', '[0.8, 0.9)', '[0.9, 1.0)', '[1.0, 1.1)', '[1.1, 1.2)', '[1.2, 1.3)', '[1.3, 1.4)', '[1.4, 1000.0)']"
   ]
  },
  {
   "cell_type": "markdown",
   "metadata": {},
   "source": [
    "### Cutting the Data Based on Bin Size"
   ]
  },
  {
   "cell_type": "code",
   "execution_count": 11,
   "metadata": {
    "collapsed": true
   },
   "outputs": [],
   "source": [
    "df['Fico Group'] = pd.cut(df['obligorCreditScore'], FicoBins, right=True, labels=FicoGroup)\n",
    "#df['APR Group'] = pd.cut(df['originalInterestRatePercentage'], APRBins, labels=APRGroup)\n",
    "df['APR Group'] = pd.cut(df['originalInterestRatePercentage'], APRBins, labels=APRGroup)\n",
    "df['PTI Group'] = pd.cut(df['paymentToIncomePercentage'], PTIBins, labels=PTIGroup)\n",
    "df['LTV Group']= pd.cut(df['LTV'], LTVBins, labels=LTVGroup)"
   ]
  },
  {
   "cell_type": "code",
   "execution_count": 12,
   "metadata": {},
   "outputs": [
    {
     "data": {
      "text/plain": [
       "0           [1.3, 1.4)\n",
       "1           [0.8, 0.9)\n",
       "2        [1.4, 1000.0)\n",
       "3        [1.4, 1000.0)\n",
       "4        [1.4, 1000.0)\n",
       "5           [1.2, 1.3)\n",
       "6           [1.1, 1.2)\n",
       "7           [1.3, 1.4)\n",
       "8           [1.2, 1.3)\n",
       "9           [1.1, 1.2)\n",
       "10       [1.4, 1000.0)\n",
       "11          [1.3, 1.4)\n",
       "12          [1.3, 1.4)\n",
       "13          [1.1, 1.2)\n",
       "14          [1.2, 1.3)\n",
       "15          [1.1, 1.2)\n",
       "16       [1.4, 1000.0)\n",
       "17          [1.1, 1.2)\n",
       "18          [0.9, 1.0)\n",
       "19          [1.0, 1.1)\n",
       "20       [1.4, 1000.0)\n",
       "21          [1.2, 1.3)\n",
       "22          [1.2, 1.3)\n",
       "23          [0.8, 0.9)\n",
       "24          [1.0, 1.1)\n",
       "25          [1.1, 1.2)\n",
       "26       [1.4, 1000.0)\n",
       "27          [1.3, 1.4)\n",
       "28          [1.1, 1.2)\n",
       "29          [1.0, 1.1)\n",
       "30          [1.3, 1.4)\n",
       "31          [1.1, 1.2)\n",
       "32          [1.1, 1.2)\n",
       "33          [1.0, 1.1)\n",
       "34          [1.2, 1.3)\n",
       "35          [1.2, 1.3)\n",
       "36          [1.0, 1.1)\n",
       "37          [1.2, 1.3)\n",
       "38          [0.7, 0.8)\n",
       "39          [1.3, 1.4)\n",
       "40          [1.2, 1.3)\n",
       "41          [1.3, 1.4)\n",
       "42          [0.7, 0.8)\n",
       "43          [1.0, 1.1)\n",
       "44          [1.0, 1.1)\n",
       "45          [0.9, 1.0)\n",
       "46          [1.3, 1.4)\n",
       "47          [1.1, 1.2)\n",
       "48          [1.3, 1.4)\n",
       "49          [0.8, 0.9)\n",
       "50          [1.3, 1.4)\n",
       "51          [1.0, 1.1)\n",
       "52          [1.2, 1.3)\n",
       "53          [1.3, 1.4)\n",
       "54          [1.0, 1.1)\n",
       "55          [1.0, 1.1)\n",
       "56          [1.0, 1.1)\n",
       "57          [1.2, 1.3)\n",
       "58          [1.3, 1.4)\n",
       "59          [1.3, 1.4)\n",
       "60       [1.4, 1000.0)\n",
       "61          [1.3, 1.4)\n",
       "62          [1.2, 1.3)\n",
       "63          [1.0, 1.1)\n",
       "64          [1.2, 1.3)\n",
       "65          [1.3, 1.4)\n",
       "66          [0.8, 0.9)\n",
       "67          [1.2, 1.3)\n",
       "68          [1.0, 1.1)\n",
       "69          [1.2, 1.3)\n",
       "70          [1.2, 1.3)\n",
       "71          [1.3, 1.4)\n",
       "72          [1.3, 1.4)\n",
       "73       [1.4, 1000.0)\n",
       "74          [1.3, 1.4)\n",
       "75          [1.1, 1.2)\n",
       "76          [1.3, 1.4)\n",
       "77          [1.0, 1.1)\n",
       "78         [-1.0, 0.7)\n",
       "79          [1.2, 1.3)\n",
       "80          [0.9, 1.0)\n",
       "81          [1.1, 1.2)\n",
       "82          [1.2, 1.3)\n",
       "83          [1.3, 1.4)\n",
       "84          [1.1, 1.2)\n",
       "85          [1.0, 1.1)\n",
       "86          [0.9, 1.0)\n",
       "87          [0.9, 1.0)\n",
       "88          [0.9, 1.0)\n",
       "89          [1.2, 1.3)\n",
       "90          [1.1, 1.2)\n",
       "91          [1.1, 1.2)\n",
       "92          [1.2, 1.3)\n",
       "93          [1.1, 1.2)\n",
       "94          [0.9, 1.0)\n",
       "95          [1.2, 1.3)\n",
       "96          [1.2, 1.3)\n",
       "97          [1.1, 1.2)\n",
       "98          [1.0, 1.1)\n",
       "99          [1.0, 1.1)\n",
       "             ...      \n",
       "66697       [1.3, 1.4)\n",
       "66698       [0.8, 0.9)\n",
       "66699       [1.0, 1.1)\n",
       "66700       [1.2, 1.3)\n",
       "66701       [1.2, 1.3)\n",
       "66702       [1.2, 1.3)\n",
       "66703       [0.9, 1.0)\n",
       "66704       [1.2, 1.3)\n",
       "66705       [0.9, 1.0)\n",
       "66706       [0.9, 1.0)\n",
       "66707       [1.2, 1.3)\n",
       "66708       [1.0, 1.1)\n",
       "66709      [-1.0, 0.7)\n",
       "66710       [1.0, 1.1)\n",
       "66711      [-1.0, 0.7)\n",
       "66712       [1.2, 1.3)\n",
       "66713       [1.2, 1.3)\n",
       "66714       [1.2, 1.3)\n",
       "66715       [0.8, 0.9)\n",
       "66716       [1.0, 1.1)\n",
       "66717       [1.0, 1.1)\n",
       "66718       [1.0, 1.1)\n",
       "66719       [1.2, 1.3)\n",
       "66720       [1.3, 1.4)\n",
       "66721       [1.3, 1.4)\n",
       "66722       [1.0, 1.1)\n",
       "66723       [1.3, 1.4)\n",
       "66724       [1.1, 1.2)\n",
       "66725       [1.0, 1.1)\n",
       "66726       [0.8, 0.9)\n",
       "66727       [1.0, 1.1)\n",
       "66728       [0.9, 1.0)\n",
       "66729       [1.3, 1.4)\n",
       "66730       [1.2, 1.3)\n",
       "66731       [0.8, 0.9)\n",
       "66732       [1.2, 1.3)\n",
       "66733       [1.0, 1.1)\n",
       "66734       [1.3, 1.4)\n",
       "66735       [1.2, 1.3)\n",
       "66736      [-1.0, 0.7)\n",
       "66737       [1.2, 1.3)\n",
       "66738       [0.9, 1.0)\n",
       "66739       [1.1, 1.2)\n",
       "66740       [1.2, 1.3)\n",
       "66741      [-1.0, 0.7)\n",
       "66742       [0.8, 0.9)\n",
       "66743       [0.9, 1.0)\n",
       "66744       [1.2, 1.3)\n",
       "66745       [1.1, 1.2)\n",
       "66746       [1.0, 1.1)\n",
       "66747       [1.1, 1.2)\n",
       "66748       [1.3, 1.4)\n",
       "66749       [0.9, 1.0)\n",
       "66750       [0.9, 1.0)\n",
       "66751       [1.2, 1.3)\n",
       "66752       [0.9, 1.0)\n",
       "66753       [0.9, 1.0)\n",
       "66754       [0.9, 1.0)\n",
       "66755       [1.0, 1.1)\n",
       "66756       [1.3, 1.4)\n",
       "66757       [0.9, 1.0)\n",
       "66758       [0.9, 1.0)\n",
       "66759       [1.1, 1.2)\n",
       "66760       [1.1, 1.2)\n",
       "66761       [1.3, 1.4)\n",
       "66762       [1.0, 1.1)\n",
       "66763       [1.2, 1.3)\n",
       "66764       [1.0, 1.1)\n",
       "66765       [1.0, 1.1)\n",
       "66766       [0.9, 1.0)\n",
       "66767       [0.8, 0.9)\n",
       "66768       [1.1, 1.2)\n",
       "66769       [0.9, 1.0)\n",
       "66770       [1.1, 1.2)\n",
       "66771       [1.1, 1.2)\n",
       "66772       [1.3, 1.4)\n",
       "66773       [1.0, 1.1)\n",
       "66774       [1.3, 1.4)\n",
       "66775       [1.1, 1.2)\n",
       "66776       [1.1, 1.2)\n",
       "66777       [0.9, 1.0)\n",
       "66778       [1.0, 1.1)\n",
       "66779       [1.2, 1.3)\n",
       "66780       [1.1, 1.2)\n",
       "66781       [0.7, 0.8)\n",
       "66782       [0.8, 0.9)\n",
       "66783       [1.0, 1.1)\n",
       "66784       [1.0, 1.1)\n",
       "66785       [1.0, 1.1)\n",
       "66786       [0.9, 1.0)\n",
       "66787       [1.3, 1.4)\n",
       "66788       [1.1, 1.2)\n",
       "66789       [0.9, 1.0)\n",
       "66790       [0.8, 0.9)\n",
       "66791       [1.2, 1.3)\n",
       "66792       [1.0, 1.1)\n",
       "66793       [1.1, 1.2)\n",
       "66794       [1.1, 1.2)\n",
       "66795       [1.0, 1.1)\n",
       "66796       [1.0, 1.1)\n",
       "Name: LTV Group, Length: 66797, dtype: category\n",
       "Categories (9, object): [[-1.0, 0.7) < [0.7, 0.8) < [0.8, 0.9) < [0.9, 1.0) ... [1.1, 1.2) < [1.2, 1.3) < [1.3, 1.4) < [1.4, 1000.0)]"
      ]
     },
     "execution_count": 12,
     "metadata": {},
     "output_type": "execute_result"
    }
   ],
   "source": [
    "df['LTV Group']"
   ]
  },
  {
   "cell_type": "markdown",
   "metadata": {},
   "source": [
    "#### Added No Score Category"
   ]
  },
  {
   "cell_type": "code",
   "execution_count": 13,
   "metadata": {
    "collapsed": true
   },
   "outputs": [],
   "source": [
    "df['Fico Group'] = df['Fico Group'].cat.add_categories('No Score').fillna('No Score')"
   ]
  },
  {
   "cell_type": "code",
   "execution_count": 14,
   "metadata": {},
   "outputs": [
    {
     "data": {
      "text/plain": [
       "0    [620, 680)\n",
       "1      No Score\n",
       "2    [500, 560)\n",
       "3    [680, 740)\n",
       "4    [620, 680)\n",
       "Name: Fico Group, dtype: category\n",
       "Categories (9, object): [[-1, 440) < [440, 500) < [500, 560) < [560, 620) ... [680, 740) < [740, 800) < [800, 1000) < No Score]"
      ]
     },
     "execution_count": 14,
     "metadata": {},
     "output_type": "execute_result"
    }
   ],
   "source": [
    "df['Fico Group'].head()"
   ]
  },
  {
   "cell_type": "markdown",
   "metadata": {},
   "source": [
    "### Ordered Dictionary for Loan Characteristics in Seclected Bins"
   ]
  },
  {
   "cell_type": "code",
   "execution_count": 15,
   "metadata": {
    "collapsed": true
   },
   "outputs": [],
   "source": [
    "a = OrderedDict([\n",
    "    ('assetNumber',['count']),\n",
    "    ('reportingPeriodActualEndBalanceAmount', ['sum','mean']),\n",
    "    ('pctDeal', ['sum']),\n",
    "    ('originalLoanTerm',[WA]),\n",
    "    ('originalInterestRatePercentage',[WA])\n",
    "])"
   ]
  },
  {
   "cell_type": "code",
   "execution_count": 16,
   "metadata": {
    "collapsed": true
   },
   "outputs": [
    {
     "ename": "KeyError",
     "evalue": "'APR Group4'",
     "output_type": "error",
     "traceback": [
      "\u001b[1;31m---------------------------------------------------------------------------\u001b[0m",
      "\u001b[1;31mKeyError\u001b[0m                                  Traceback (most recent call last)",
      "\u001b[1;32mC:\\ProgramData\\Anaconda3\\lib\\site-packages\\pandas\\core\\indexes\\base.py\u001b[0m in \u001b[0;36mget_loc\u001b[1;34m(self, key, method, tolerance)\u001b[0m\n\u001b[0;32m   2392\u001b[0m             \u001b[1;32mtry\u001b[0m\u001b[1;33m:\u001b[0m\u001b[1;33m\u001b[0m\u001b[0m\n\u001b[1;32m-> 2393\u001b[1;33m                 \u001b[1;32mreturn\u001b[0m \u001b[0mself\u001b[0m\u001b[1;33m.\u001b[0m\u001b[0m_engine\u001b[0m\u001b[1;33m.\u001b[0m\u001b[0mget_loc\u001b[0m\u001b[1;33m(\u001b[0m\u001b[0mkey\u001b[0m\u001b[1;33m)\u001b[0m\u001b[1;33m\u001b[0m\u001b[0m\n\u001b[0m\u001b[0;32m   2394\u001b[0m             \u001b[1;32mexcept\u001b[0m \u001b[0mKeyError\u001b[0m\u001b[1;33m:\u001b[0m\u001b[1;33m\u001b[0m\u001b[0m\n",
      "\u001b[1;32mpandas\\_libs\\index.pyx\u001b[0m in \u001b[0;36mpandas._libs.index.IndexEngine.get_loc (pandas\\_libs\\index.c:5239)\u001b[1;34m()\u001b[0m\n",
      "\u001b[1;32mpandas\\_libs\\index.pyx\u001b[0m in \u001b[0;36mpandas._libs.index.IndexEngine.get_loc (pandas\\_libs\\index.c:5085)\u001b[1;34m()\u001b[0m\n",
      "\u001b[1;32mpandas\\_libs\\hashtable_class_helper.pxi\u001b[0m in \u001b[0;36mpandas._libs.hashtable.PyObjectHashTable.get_item (pandas\\_libs\\hashtable.c:20405)\u001b[1;34m()\u001b[0m\n",
      "\u001b[1;32mpandas\\_libs\\hashtable_class_helper.pxi\u001b[0m in \u001b[0;36mpandas._libs.hashtable.PyObjectHashTable.get_item (pandas\\_libs\\hashtable.c:20359)\u001b[1;34m()\u001b[0m\n",
      "\u001b[1;31mKeyError\u001b[0m: 'APR Group4'",
      "\nDuring handling of the above exception, another exception occurred:\n",
      "\u001b[1;31mKeyError\u001b[0m                                  Traceback (most recent call last)",
      "\u001b[1;32m<ipython-input-16-29fbc5b7c578>\u001b[0m in \u001b[0;36m<module>\u001b[1;34m()\u001b[0m\n\u001b[1;32m----> 1\u001b[1;33m \u001b[0mdf\u001b[0m\u001b[1;33m[\u001b[0m\u001b[1;33m[\u001b[0m\u001b[1;34m'assetNumber'\u001b[0m\u001b[1;33m,\u001b[0m \u001b[1;34m'pctDeal'\u001b[0m\u001b[1;33m,\u001b[0m\u001b[1;34m'reportingPeriodActualEndBalanceAmount'\u001b[0m\u001b[1;33m,\u001b[0m\u001b[1;34m'originalLoanTerm'\u001b[0m\u001b[1;33m,\u001b[0m\u001b[1;34m'originalInterestRatePercentage'\u001b[0m\u001b[1;33m]\u001b[0m\u001b[1;33m]\u001b[0m\u001b[1;33m.\u001b[0m\u001b[0mgroupby\u001b[0m\u001b[1;33m(\u001b[0m\u001b[1;33m[\u001b[0m\u001b[0mdf\u001b[0m\u001b[1;33m[\u001b[0m\u001b[1;34m'Fico Group'\u001b[0m\u001b[1;33m]\u001b[0m\u001b[1;33m,\u001b[0m \u001b[0mdf\u001b[0m\u001b[1;33m[\u001b[0m\u001b[1;34m'APR Group4'\u001b[0m\u001b[1;33m]\u001b[0m\u001b[1;33m]\u001b[0m\u001b[1;33m)\u001b[0m\u001b[1;33m.\u001b[0m\u001b[0magg\u001b[0m\u001b[1;33m(\u001b[0m\u001b[0ma\u001b[0m\u001b[1;33m)\u001b[0m\u001b[1;33m\u001b[0m\u001b[0m\n\u001b[0m",
      "\u001b[1;32mC:\\ProgramData\\Anaconda3\\lib\\site-packages\\pandas\\core\\frame.py\u001b[0m in \u001b[0;36m__getitem__\u001b[1;34m(self, key)\u001b[0m\n\u001b[0;32m   2060\u001b[0m             \u001b[1;32mreturn\u001b[0m \u001b[0mself\u001b[0m\u001b[1;33m.\u001b[0m\u001b[0m_getitem_multilevel\u001b[0m\u001b[1;33m(\u001b[0m\u001b[0mkey\u001b[0m\u001b[1;33m)\u001b[0m\u001b[1;33m\u001b[0m\u001b[0m\n\u001b[0;32m   2061\u001b[0m         \u001b[1;32melse\u001b[0m\u001b[1;33m:\u001b[0m\u001b[1;33m\u001b[0m\u001b[0m\n\u001b[1;32m-> 2062\u001b[1;33m             \u001b[1;32mreturn\u001b[0m \u001b[0mself\u001b[0m\u001b[1;33m.\u001b[0m\u001b[0m_getitem_column\u001b[0m\u001b[1;33m(\u001b[0m\u001b[0mkey\u001b[0m\u001b[1;33m)\u001b[0m\u001b[1;33m\u001b[0m\u001b[0m\n\u001b[0m\u001b[0;32m   2063\u001b[0m \u001b[1;33m\u001b[0m\u001b[0m\n\u001b[0;32m   2064\u001b[0m     \u001b[1;32mdef\u001b[0m \u001b[0m_getitem_column\u001b[0m\u001b[1;33m(\u001b[0m\u001b[0mself\u001b[0m\u001b[1;33m,\u001b[0m \u001b[0mkey\u001b[0m\u001b[1;33m)\u001b[0m\u001b[1;33m:\u001b[0m\u001b[1;33m\u001b[0m\u001b[0m\n",
      "\u001b[1;32mC:\\ProgramData\\Anaconda3\\lib\\site-packages\\pandas\\core\\frame.py\u001b[0m in \u001b[0;36m_getitem_column\u001b[1;34m(self, key)\u001b[0m\n\u001b[0;32m   2067\u001b[0m         \u001b[1;31m# get column\u001b[0m\u001b[1;33m\u001b[0m\u001b[1;33m\u001b[0m\u001b[0m\n\u001b[0;32m   2068\u001b[0m         \u001b[1;32mif\u001b[0m \u001b[0mself\u001b[0m\u001b[1;33m.\u001b[0m\u001b[0mcolumns\u001b[0m\u001b[1;33m.\u001b[0m\u001b[0mis_unique\u001b[0m\u001b[1;33m:\u001b[0m\u001b[1;33m\u001b[0m\u001b[0m\n\u001b[1;32m-> 2069\u001b[1;33m             \u001b[1;32mreturn\u001b[0m \u001b[0mself\u001b[0m\u001b[1;33m.\u001b[0m\u001b[0m_get_item_cache\u001b[0m\u001b[1;33m(\u001b[0m\u001b[0mkey\u001b[0m\u001b[1;33m)\u001b[0m\u001b[1;33m\u001b[0m\u001b[0m\n\u001b[0m\u001b[0;32m   2070\u001b[0m \u001b[1;33m\u001b[0m\u001b[0m\n\u001b[0;32m   2071\u001b[0m         \u001b[1;31m# duplicate columns & possible reduce dimensionality\u001b[0m\u001b[1;33m\u001b[0m\u001b[1;33m\u001b[0m\u001b[0m\n",
      "\u001b[1;32mC:\\ProgramData\\Anaconda3\\lib\\site-packages\\pandas\\core\\generic.py\u001b[0m in \u001b[0;36m_get_item_cache\u001b[1;34m(self, item)\u001b[0m\n\u001b[0;32m   1532\u001b[0m         \u001b[0mres\u001b[0m \u001b[1;33m=\u001b[0m \u001b[0mcache\u001b[0m\u001b[1;33m.\u001b[0m\u001b[0mget\u001b[0m\u001b[1;33m(\u001b[0m\u001b[0mitem\u001b[0m\u001b[1;33m)\u001b[0m\u001b[1;33m\u001b[0m\u001b[0m\n\u001b[0;32m   1533\u001b[0m         \u001b[1;32mif\u001b[0m \u001b[0mres\u001b[0m \u001b[1;32mis\u001b[0m \u001b[1;32mNone\u001b[0m\u001b[1;33m:\u001b[0m\u001b[1;33m\u001b[0m\u001b[0m\n\u001b[1;32m-> 1534\u001b[1;33m             \u001b[0mvalues\u001b[0m \u001b[1;33m=\u001b[0m \u001b[0mself\u001b[0m\u001b[1;33m.\u001b[0m\u001b[0m_data\u001b[0m\u001b[1;33m.\u001b[0m\u001b[0mget\u001b[0m\u001b[1;33m(\u001b[0m\u001b[0mitem\u001b[0m\u001b[1;33m)\u001b[0m\u001b[1;33m\u001b[0m\u001b[0m\n\u001b[0m\u001b[0;32m   1535\u001b[0m             \u001b[0mres\u001b[0m \u001b[1;33m=\u001b[0m \u001b[0mself\u001b[0m\u001b[1;33m.\u001b[0m\u001b[0m_box_item_values\u001b[0m\u001b[1;33m(\u001b[0m\u001b[0mitem\u001b[0m\u001b[1;33m,\u001b[0m \u001b[0mvalues\u001b[0m\u001b[1;33m)\u001b[0m\u001b[1;33m\u001b[0m\u001b[0m\n\u001b[0;32m   1536\u001b[0m             \u001b[0mcache\u001b[0m\u001b[1;33m[\u001b[0m\u001b[0mitem\u001b[0m\u001b[1;33m]\u001b[0m \u001b[1;33m=\u001b[0m \u001b[0mres\u001b[0m\u001b[1;33m\u001b[0m\u001b[0m\n",
      "\u001b[1;32mC:\\ProgramData\\Anaconda3\\lib\\site-packages\\pandas\\core\\internals.py\u001b[0m in \u001b[0;36mget\u001b[1;34m(self, item, fastpath)\u001b[0m\n\u001b[0;32m   3588\u001b[0m \u001b[1;33m\u001b[0m\u001b[0m\n\u001b[0;32m   3589\u001b[0m             \u001b[1;32mif\u001b[0m \u001b[1;32mnot\u001b[0m \u001b[0misnull\u001b[0m\u001b[1;33m(\u001b[0m\u001b[0mitem\u001b[0m\u001b[1;33m)\u001b[0m\u001b[1;33m:\u001b[0m\u001b[1;33m\u001b[0m\u001b[0m\n\u001b[1;32m-> 3590\u001b[1;33m                 \u001b[0mloc\u001b[0m \u001b[1;33m=\u001b[0m \u001b[0mself\u001b[0m\u001b[1;33m.\u001b[0m\u001b[0mitems\u001b[0m\u001b[1;33m.\u001b[0m\u001b[0mget_loc\u001b[0m\u001b[1;33m(\u001b[0m\u001b[0mitem\u001b[0m\u001b[1;33m)\u001b[0m\u001b[1;33m\u001b[0m\u001b[0m\n\u001b[0m\u001b[0;32m   3591\u001b[0m             \u001b[1;32melse\u001b[0m\u001b[1;33m:\u001b[0m\u001b[1;33m\u001b[0m\u001b[0m\n\u001b[0;32m   3592\u001b[0m                 \u001b[0mindexer\u001b[0m \u001b[1;33m=\u001b[0m \u001b[0mnp\u001b[0m\u001b[1;33m.\u001b[0m\u001b[0marange\u001b[0m\u001b[1;33m(\u001b[0m\u001b[0mlen\u001b[0m\u001b[1;33m(\u001b[0m\u001b[0mself\u001b[0m\u001b[1;33m.\u001b[0m\u001b[0mitems\u001b[0m\u001b[1;33m)\u001b[0m\u001b[1;33m)\u001b[0m\u001b[1;33m[\u001b[0m\u001b[0misnull\u001b[0m\u001b[1;33m(\u001b[0m\u001b[0mself\u001b[0m\u001b[1;33m.\u001b[0m\u001b[0mitems\u001b[0m\u001b[1;33m)\u001b[0m\u001b[1;33m]\u001b[0m\u001b[1;33m\u001b[0m\u001b[0m\n",
      "\u001b[1;32mC:\\ProgramData\\Anaconda3\\lib\\site-packages\\pandas\\core\\indexes\\base.py\u001b[0m in \u001b[0;36mget_loc\u001b[1;34m(self, key, method, tolerance)\u001b[0m\n\u001b[0;32m   2393\u001b[0m                 \u001b[1;32mreturn\u001b[0m \u001b[0mself\u001b[0m\u001b[1;33m.\u001b[0m\u001b[0m_engine\u001b[0m\u001b[1;33m.\u001b[0m\u001b[0mget_loc\u001b[0m\u001b[1;33m(\u001b[0m\u001b[0mkey\u001b[0m\u001b[1;33m)\u001b[0m\u001b[1;33m\u001b[0m\u001b[0m\n\u001b[0;32m   2394\u001b[0m             \u001b[1;32mexcept\u001b[0m \u001b[0mKeyError\u001b[0m\u001b[1;33m:\u001b[0m\u001b[1;33m\u001b[0m\u001b[0m\n\u001b[1;32m-> 2395\u001b[1;33m                 \u001b[1;32mreturn\u001b[0m \u001b[0mself\u001b[0m\u001b[1;33m.\u001b[0m\u001b[0m_engine\u001b[0m\u001b[1;33m.\u001b[0m\u001b[0mget_loc\u001b[0m\u001b[1;33m(\u001b[0m\u001b[0mself\u001b[0m\u001b[1;33m.\u001b[0m\u001b[0m_maybe_cast_indexer\u001b[0m\u001b[1;33m(\u001b[0m\u001b[0mkey\u001b[0m\u001b[1;33m)\u001b[0m\u001b[1;33m)\u001b[0m\u001b[1;33m\u001b[0m\u001b[0m\n\u001b[0m\u001b[0;32m   2396\u001b[0m \u001b[1;33m\u001b[0m\u001b[0m\n\u001b[0;32m   2397\u001b[0m         \u001b[0mindexer\u001b[0m \u001b[1;33m=\u001b[0m \u001b[0mself\u001b[0m\u001b[1;33m.\u001b[0m\u001b[0mget_indexer\u001b[0m\u001b[1;33m(\u001b[0m\u001b[1;33m[\u001b[0m\u001b[0mkey\u001b[0m\u001b[1;33m]\u001b[0m\u001b[1;33m,\u001b[0m \u001b[0mmethod\u001b[0m\u001b[1;33m=\u001b[0m\u001b[0mmethod\u001b[0m\u001b[1;33m,\u001b[0m \u001b[0mtolerance\u001b[0m\u001b[1;33m=\u001b[0m\u001b[0mtolerance\u001b[0m\u001b[1;33m)\u001b[0m\u001b[1;33m\u001b[0m\u001b[0m\n",
      "\u001b[1;32mpandas\\_libs\\index.pyx\u001b[0m in \u001b[0;36mpandas._libs.index.IndexEngine.get_loc (pandas\\_libs\\index.c:5239)\u001b[1;34m()\u001b[0m\n",
      "\u001b[1;32mpandas\\_libs\\index.pyx\u001b[0m in \u001b[0;36mpandas._libs.index.IndexEngine.get_loc (pandas\\_libs\\index.c:5085)\u001b[1;34m()\u001b[0m\n",
      "\u001b[1;32mpandas\\_libs\\hashtable_class_helper.pxi\u001b[0m in \u001b[0;36mpandas._libs.hashtable.PyObjectHashTable.get_item (pandas\\_libs\\hashtable.c:20405)\u001b[1;34m()\u001b[0m\n",
      "\u001b[1;32mpandas\\_libs\\hashtable_class_helper.pxi\u001b[0m in \u001b[0;36mpandas._libs.hashtable.PyObjectHashTable.get_item (pandas\\_libs\\hashtable.c:20359)\u001b[1;34m()\u001b[0m\n",
      "\u001b[1;31mKeyError\u001b[0m: 'APR Group4'"
     ]
    }
   ],
   "source": [
    "df[['assetNumber', 'pctDeal','reportingPeriodActualEndBalanceAmount','originalLoanTerm','originalInterestRatePercentage']].groupby([df['Fico Group'], df['APR Group4']]).agg(a)"
   ]
  },
  {
   "cell_type": "code",
   "execution_count": 21,
   "metadata": {},
   "outputs": [
    {
     "data": {
      "text/html": [
       "<div>\n",
       "<style>\n",
       "    .dataframe thead tr:only-child th {\n",
       "        text-align: right;\n",
       "    }\n",
       "\n",
       "    .dataframe thead th {\n",
       "        text-align: left;\n",
       "    }\n",
       "\n",
       "    .dataframe tbody tr th {\n",
       "        vertical-align: top;\n",
       "    }\n",
       "</style>\n",
       "<table border=\"1\" class=\"dataframe\">\n",
       "  <thead>\n",
       "    <tr style=\"text-align: right;\">\n",
       "      <th></th>\n",
       "      <th>Loan Count</th>\n",
       "      <th>Sum of Remaining Balance</th>\n",
       "      <th>Average Remaining Balance</th>\n",
       "      <th>Sum of Total Loan Balance Percentage</th>\n",
       "      <th>Weighted Average Original Term</th>\n",
       "      <th>Weighted Average APR</th>\n",
       "    </tr>\n",
       "    <tr>\n",
       "      <th>LTV Group</th>\n",
       "      <th></th>\n",
       "      <th></th>\n",
       "      <th></th>\n",
       "      <th></th>\n",
       "      <th></th>\n",
       "      <th></th>\n",
       "    </tr>\n",
       "  </thead>\n",
       "  <tbody>\n",
       "    <tr>\n",
       "      <th>[-1.0, 0.7)</th>\n",
       "      <td>2035</td>\n",
       "      <td>2.877257e+07</td>\n",
       "      <td>14138.856044</td>\n",
       "      <td>2.350671</td>\n",
       "      <td>67.497103</td>\n",
       "      <td>0.116514</td>\n",
       "    </tr>\n",
       "    <tr>\n",
       "      <th>[0.7, 0.8)</th>\n",
       "      <td>2095</td>\n",
       "      <td>3.860348e+07</td>\n",
       "      <td>18426.482029</td>\n",
       "      <td>3.153840</td>\n",
       "      <td>70.433555</td>\n",
       "      <td>0.124757</td>\n",
       "    </tr>\n",
       "    <tr>\n",
       "      <th>[0.8, 0.9)</th>\n",
       "      <td>4669</td>\n",
       "      <td>9.546734e+07</td>\n",
       "      <td>20447.063121</td>\n",
       "      <td>7.799523</td>\n",
       "      <td>71.512192</td>\n",
       "      <td>0.136771</td>\n",
       "    </tr>\n",
       "    <tr>\n",
       "      <th>[0.9, 1.0)</th>\n",
       "      <td>9195</td>\n",
       "      <td>1.864544e+08</td>\n",
       "      <td>20277.798686</td>\n",
       "      <td>15.233011</td>\n",
       "      <td>71.564432</td>\n",
       "      <td>0.150242</td>\n",
       "    </tr>\n",
       "    <tr>\n",
       "      <th>[1.0, 1.1)</th>\n",
       "      <td>13353</td>\n",
       "      <td>2.635457e+08</td>\n",
       "      <td>19736.815462</td>\n",
       "      <td>21.531245</td>\n",
       "      <td>71.547531</td>\n",
       "      <td>0.158503</td>\n",
       "    </tr>\n",
       "    <tr>\n",
       "      <th>[1.1, 1.2)</th>\n",
       "      <td>14858</td>\n",
       "      <td>2.705078e+08</td>\n",
       "      <td>18206.203752</td>\n",
       "      <td>22.100035</td>\n",
       "      <td>71.128050</td>\n",
       "      <td>0.165942</td>\n",
       "    </tr>\n",
       "    <tr>\n",
       "      <th>[1.2, 1.3)</th>\n",
       "      <td>11176</td>\n",
       "      <td>1.928912e+08</td>\n",
       "      <td>17259.416612</td>\n",
       "      <td>15.758893</td>\n",
       "      <td>70.898790</td>\n",
       "      <td>0.164868</td>\n",
       "    </tr>\n",
       "    <tr>\n",
       "      <th>[1.3, 1.4)</th>\n",
       "      <td>8034</td>\n",
       "      <td>1.283551e+08</td>\n",
       "      <td>15976.484342</td>\n",
       "      <td>10.486396</td>\n",
       "      <td>70.615758</td>\n",
       "      <td>0.169444</td>\n",
       "    </tr>\n",
       "    <tr>\n",
       "      <th>[1.4, 1000.0)</th>\n",
       "      <td>1382</td>\n",
       "      <td>1.941759e+07</td>\n",
       "      <td>14050.355499</td>\n",
       "      <td>1.586385</td>\n",
       "      <td>70.724074</td>\n",
       "      <td>0.157362</td>\n",
       "    </tr>\n",
       "  </tbody>\n",
       "</table>\n",
       "</div>"
      ],
      "text/plain": [
       "               Loan Count  Sum of Remaining Balance  Average Remaining Balance  Sum of Total Loan Balance Percentage  Weighted Average Original Term  Weighted Average APR\n",
       "LTV Group                                                                                                                                                                 \n",
       "[-1.0, 0.7)          2035              2.877257e+07               14138.856044                              2.350671                       67.497103              0.116514\n",
       "[0.7, 0.8)           2095              3.860348e+07               18426.482029                              3.153840                       70.433555              0.124757\n",
       "[0.8, 0.9)           4669              9.546734e+07               20447.063121                              7.799523                       71.512192              0.136771\n",
       "[0.9, 1.0)           9195              1.864544e+08               20277.798686                             15.233011                       71.564432              0.150242\n",
       "[1.0, 1.1)          13353              2.635457e+08               19736.815462                             21.531245                       71.547531              0.158503\n",
       "[1.1, 1.2)          14858              2.705078e+08               18206.203752                             22.100035                       71.128050              0.165942\n",
       "[1.2, 1.3)          11176              1.928912e+08               17259.416612                             15.758893                       70.898790              0.164868\n",
       "[1.3, 1.4)           8034              1.283551e+08               15976.484342                             10.486396                       70.615758              0.169444\n",
       "[1.4, 1000.0)        1382              1.941759e+07               14050.355499                              1.586385                       70.724074              0.157362"
      ]
     },
     "execution_count": 21,
     "metadata": {},
     "output_type": "execute_result"
    }
   ],
   "source": [
    "stratTable = df[['assetNumber', 'pctDeal','reportingPeriodActualEndBalanceAmount','originalLoanTerm', 'originalInterestRatePercentage']].groupby([df['LTV Group']]).agg(a)\n",
    "lis = ['Fico Group', 'APR Group', 'LTV Group', 'PTI Group']\n",
    "#for i in range(0, len(lis)):\n",
    "#    stratTable = df[['assetNumber', 'pctDeal','reportingPeriodActualEndBalanceAmount','originalLoanTerm', 'originalInterestRatePercentage']].groupby([df[lis[i]]]).agg(a)\n",
    "\n",
    "stratTable.columns = ['Loan Count', 'Sum of Remaining Balance', 'Average Remaining Balance', 'Sum of Total Loan Balance Percentage', 'Weighted Average Original Term','Weighted Average APR']\n",
    "stratTable"
   ]
  },
  {
   "cell_type": "markdown",
   "metadata": {},
   "source": [
    "### Formatting Rules"
   ]
  },
  {
   "cell_type": "code",
   "execution_count": null,
   "metadata": {
    "collapsed": true
   },
   "outputs": [],
   "source": [
    "(\"%.2f%%\" % df['LTV'])"
   ]
  }
 ],
 "metadata": {
  "kernelspec": {
   "display_name": "Python 3",
   "language": "python",
   "name": "python3"
  },
  "language_info": {
   "codemirror_mode": {
    "name": "ipython",
    "version": 3
   },
   "file_extension": ".py",
   "mimetype": "text/x-python",
   "name": "python",
   "nbconvert_exporter": "python",
   "pygments_lexer": "ipython3",
   "version": "3.6.1"
  }
 },
 "nbformat": 4,
 "nbformat_minor": 2
}
