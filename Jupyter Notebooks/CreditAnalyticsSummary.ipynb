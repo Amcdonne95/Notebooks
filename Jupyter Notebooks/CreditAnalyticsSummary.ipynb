{
 "cells": [
  {
   "cell_type": "code",
   "execution_count": 60,
   "metadata": {
    "collapsed": true
   },
   "outputs": [],
   "source": [
    "%matplotlib inline\n",
    "import os\n",
    "os.chdir('U:\\\\GitHubClones\\\\SALTSeniorDesign')\n",
    "os.getcwd()\n",
    "import xlwings as xw\n",
    "import pandas as pd\n",
    "import numpy as np\n",
    "import matplotlib.pyplot as plt\n",
    "from collections import OrderedDict\n",
    "import re\n",
    "from datetime import datetime"
   ]
  },
  {
   "cell_type": "code",
   "execution_count": 61,
   "metadata": {},
   "outputs": [
    {
     "data": {
      "text/html": [
       "<style>.container { width:100% !important; }</style>"
      ],
      "text/plain": [
       "<IPython.core.display.HTML object>"
      ]
     },
     "metadata": {},
     "output_type": "display_data"
    }
   ],
   "source": [
    "pd.set_option('display.max_rows', 200)\n",
    "pd.set_option('display.max_columns', 200)\n",
    "pd.set_option('display.width', 1000)\n",
    "from IPython.core.display import display, HTML\n",
    "display(HTML(\"<style>.container { width:100% !important; }</style>\"))"
   ]
  },
  {
   "cell_type": "code",
   "execution_count": 62,
   "metadata": {
    "collapsed": true
   },
   "outputs": [],
   "source": [
    "wb = xw.Book('Salt.xlsm')\n",
    "setup = wb.sheets('Setup')\n",
    "output = wb.sheets('Output')\n",
    "strats = wb.sheets('Strat Tables')\n",
    "performance = wb.sheets('Performance')\n",
    "summ = wb.sheets('Summary')\n",
    "\n",
    "# Path For the Current deal that is selected based on Setup\n",
    "directory = setup['Setup.Directory'].value\n",
    "shelf = setup['Setup.Shelf'].value\n",
    "shelfList = setup['Shelf_List'].value\n",
    "deal = setup['Setup.Deal'].value\n",
    "report = setup['Setup.Report'].value\n",
    "num_Deals = setup['Setup.Num_Deals'].value\n",
    "max_Report = setup['Setup.Max_Report_Num'].value"
   ]
  },
  {
   "cell_type": "code",
   "execution_count": 63,
   "metadata": {
    "collapsed": true
   },
   "outputs": [],
   "source": [
    "tapes = np.array(setup['Tapes'].value)\n",
    "tapes = tapes[0:int(max_Report),0:int(num_Deals)]\n",
    "dfTapes = pd.DataFrame(data=tapes[1:,1:], columns=tapes[0,1:])\n",
    "dealList = list(dfTapes.columns)"
   ]
  },
  {
   "cell_type": "code",
   "execution_count": 7,
   "metadata": {},
   "outputs": [],
   "source": [
    "path = 'U:\\AutoLoanTapes\\\\Drive Auto Receivables Trust\\\\DRIVE 2017-1\\\\' + dfTapes['DRIVE 2017-1'][0]\n",
    "df = pd.read_csv(path, memory_map=True, low_memory=False)"
   ]
  },
  {
   "cell_type": "code",
   "execution_count": 103,
   "metadata": {
    "collapsed": true
   },
   "outputs": [],
   "source": [
    "groupDict = {\n",
    "    'vehicleNewUsedCode':{\n",
    "        1:'new',\n",
    "        2:'used'\n",
    "    },\n",
    "    'vehicleTypeCode':{\n",
    "        1:'Car',\n",
    "        2:'Truck',\n",
    "        3:'SUV',\n",
    "        4:'Motorcycle',\n",
    "        98:'Other',\n",
    "        99:'Unknown'\n",
    "    },\n",
    "    'subvented':{\n",
    "        0:'Not Subvented',\n",
    "        1:'Rate Subvention',\n",
    "        2:'Cash Subvention',\n",
    "        3:'Rate & Cash Subvention',\n",
    "        98:'Other Subvention'\n",
    "    },\n",
    "    'obligorIncomeVerificationLevelCode':{\n",
    "    1:'Not Stated, Not Verified',\n",
    "    2:'Stated, Not Verified',\n",
    "    3:'Stated, Verified',\n",
    "    4:'Stated, Verified: 12 M',\n",
    "    5:'Stated, Verified: 24 M'\n",
    "    },\n",
    "    'obligorEmploymentVerificationCode':{\n",
    "    1:'Not Stated, Not Verified',\n",
    "    2:'Stated, Not Verified',\n",
    "    3:'Stated, Third Party Verified'\n",
    "    }\n",
    "    #'vehicleValueAmount': \n",
    "}"
   ]
  },
  {
   "cell_type": "code",
   "execution_count": 104,
   "metadata": {
    "collapsed": true
   },
   "outputs": [],
   "source": [
    "def vehicleStats(metrics, data, mappingDict):\n",
    "    WA = lambda x: np.average(x, axis=0, weights = data.loc[x.index, 'reportingPeriodActualEndBalanceAmount'])\n",
    "    data['pctDeal'] = (data['reportingPeriodActualEndBalanceAmount']/(data['reportingPeriodActualEndBalanceAmount'].sum()))\n",
    "    data['LTV'] = (data['originalLoanAmount']/data['vehicleValueAmount']) #Loan to value ratio\n",
    "    row = 2\n",
    "    col = 'A'\n",
    "    dfVehicleStats = pd.DataFrame()\n",
    "    for i in range(0, len(metrics)):\n",
    "        if metrics[i] in ['vehicleNewUsedCode', 'vehicleModelYear', 'vehicleTypeCode', 'vehicleValueAmount']:\n",
    "            data[metrics[i]] = pd.to_numeric(data[metrics[i]], errors='coerce')\n",
    "        if metrics[i] in['vehicleManufacturerName', 'vehicleModelName', 'obligorGeographicLocation', 'vehicleModelYear']:\n",
    "            summ.range(col + str(row)).options(pd.DataFrame, header=False).value = (data[['pctDeal']].groupby(data[metrics[i]]).sum()).sort_values(['pctDeal'], ascending=False).head(3)\n",
    "            dfNew = (data[['pctDeal']].groupby(data[metrics[i]]).sum()).sort_values(['pctDeal'], ascending=False).head(3)\n",
    "            del dfNew.index.name\n",
    "            print(dfNew)\n",
    "            row = row + len(dfNew.index) + 1\n",
    "            if metrics[i] == 'vehicleModelYear':\n",
    "                yearRange = [str(data[metrics[i]].min()) + '-' + str(data[metrics[i]].max())]\n",
    "                summ.range(col + str(row)).options(pd.DataFrame, header=False).value = pd.DataFrame(yearRange, index=['Model Year Range'])\n",
    "                dfYearRange = pd.DataFrame(yearRange, index=['Model Year Range'])\n",
    "                print(dfYearRange)\n",
    "                #summ.range('A'+ str(count)).value = dfYearRange\n",
    "                row = row + len(dfYearRange.index) + 1\n",
    "            continue\n",
    "        else:\n",
    "            summ.range(col + str(row)).options(pd.DataFrame, header=False).value = data[['pctDeal']].groupby(data[metrics[i]]).sum().rename(index=groupDict[metrics[i]])\n",
    "            stats = data[['pctDeal']].groupby(data[metrics[i]]).sum().rename(index=groupDict[metrics[i]])\n",
    "            del stats.index.name\n",
    "            print(stats)\n",
    "            row = row + len(stats.index) + 1\n",
    "\n",
    "def creditStats(metrics, data, mappingDict):\n",
    "    row = 14\n",
    "    col = 'D'\n",
    "    WA = lambda x: np.average(x, axis=0, weights = data.loc[x.index, 'reportingPeriodActualEndBalanceAmount'])\n",
    "    data['pctDeal'] = (data['reportingPeriodActualEndBalanceAmount']/(data['reportingPeriodActualEndBalanceAmount'].sum()))\n",
    "    data['LTV'] = (data['originalLoanAmount']/data['vehicleValueAmount']) #Loan to value ratio\n",
    "    creditLis = []\n",
    "    for i in range(0, len(metrics)):\n",
    "        data[metrics[i]] = pd.to_numeric(data[metrics[i]], errors='coerce')\n",
    "        if metrics[i] == 'subvented':\n",
    "            data[metrics[i]] = data[metrics[i]].fillna(3)\n",
    "            summ.range(col + str(row)).options(pd.DataFrame, header=False).value = data[['pctDeal']].groupby(data[metrics[i]]).sum().rename(index=groupDict[metrics[i]]).head(3)\n",
    "            stats = data[['pctDeal']].groupby(data[metrics[i]]).sum().rename(index=groupDict[metrics[i]]).head(3)\n",
    "            row = row + len(stats.index) + 1\n",
    "            del stats.index.name\n",
    "            print(stats)\n",
    "            continue\n",
    "        creditLis.append([WA(data[metrics[i]])])\n",
    "    summ.range('E' + str(row)).value = creditLis\n",
    "    row = row + len(creditLis) + 1\n",
    "    return creditLis #original term, remaining term, original interenst rate, LTV\n",
    "\n",
    "def obligorStats(metrics, data, mappingDict):\n",
    "    WA = lambda x: np.average(x, axis=0, weights = data.loc[x.index, 'reportingPeriodActualEndBalanceAmount'])\n",
    "    data['pctDeal'] = (data['reportingPeriodActualEndBalanceAmount']/(data['reportingPeriodActualEndBalanceAmount'].sum()))\n",
    "    data['LTV'] = (data['originalLoanAmount']/data['vehicleValueAmount']) #Loan to value ratio\n",
    "    row = 2\n",
    "    col = 'D'\n",
    "    obligorLis = []\n",
    "    for i in range(0,len(metrics)):\n",
    "        data[metrics[i]] = pd.to_numeric(data[metrics[i]], errors='coerce')\n",
    "        if metrics[i] == 'obligorCreditScore':\n",
    "            noScore = (data[metrics[i]].isnull().sum()/len(data))\n",
    "            obligorLis.append([noScore])\n",
    "            newData = data[['obligorCreditScore', 'pctDeal']].dropna()\n",
    "            obligorLis.append([WA(newData[metrics[i]])])\n",
    "            continue\n",
    "        if metrics[i] in['obligorIncomeVerificationLevelCode', 'obligorEmploymentVerificationCode']:\n",
    "            summ.range(col + str(row)).options(pd.DataFrame, header=False).value = data[['pctDeal']].groupby(data[metrics[i]]).sum().rename(index=groupDict[metrics[i]]).sort_values(['pctDeal'], ascending=False)\n",
    "            dfNew = data[['pctDeal']].groupby(data[metrics[i]]).sum().rename(index=groupDict[metrics[i]]).sort_values(['pctDeal'], ascending=False)\n",
    "            row = row + len(dfNew.index) + 1\n",
    "            del dfNew.index.name\n",
    "            print(dfNew)\n",
    "            continue\n",
    "        obligorLis.append([WA(data[metrics[i]])]) #1:percentage of no score, 2: WA Credit Score, 3: WA PTI\n",
    "    summ.range('E' + str(row)).value = obligorLis\n",
    "    row = row + len(obligorLis) + 1\n",
    "    return obligorLis"
   ]
  },
  {
   "cell_type": "code",
   "execution_count": 105,
   "metadata": {
    "collapsed": true
   },
   "outputs": [
    {
     "name": "stdout",
     "output_type": "stream",
     "text": [
      "       pctDeal\n",
      "new   0.240876\n",
      "used  0.759124\n",
      "            pctDeal\n",
      "NISSAN     0.137297\n",
      "TOYOTA     0.084443\n",
      "CHEVROLET  0.079362\n",
      "           pctDeal\n",
      "Altima    0.042619\n",
      "Ram 1500  0.030562\n",
      "Sentra    0.029728\n",
      "       pctDeal\n",
      "2017  0.189518\n",
      "2014  0.177302\n",
      "2016  0.154054\n",
      "                          0\n",
      "Model Year Range  2002-2018\n",
      "        pctDeal\n",
      "Car    0.599776\n",
      "Truck  0.125816\n",
      "SUV    0.274409\n",
      "     pctDeal\n",
      "TX  0.157021\n",
      "FL  0.111069\n",
      "GA  0.074982\n",
      "                  pctDeal\n",
      "Not Subvented    0.974983\n",
      "Rate Subvention  0.024131\n",
      "Cash Subvention  0.000037\n",
      "                       pctDeal\n",
      "Stated, Not Verified  0.841028\n",
      "Stated, Verified      0.158972\n",
      "                               pctDeal\n",
      "Stated, Not Verified          0.814000\n",
      "Stated, Third Party Verified  0.132861\n",
      "Not Stated, Not Verified      0.053138\n"
     ]
    },
    {
     "data": {
      "text/plain": [
       "[[0.1499082295748797], [569.5344102212631], [0.11302517202692673]]"
      ]
     },
     "execution_count": 105,
     "metadata": {},
     "output_type": "execute_result"
    }
   ],
   "source": [
    "obligorMetrics = ['obligorCreditScore', 'obligorIncomeVerificationLevelCode', 'obligorEmploymentVerificationCode','paymentToIncomePercentage']\n",
    "creditMetrics = ['originalLoanTerm', 'remainingTermToMaturityNumber','originalInterestRatePercentage','LTV','subvented']\n",
    "vehicleMetrics = ['vehicleNewUsedCode', 'vehicleManufacturerName','vehicleModelName', 'vehicleModelYear','vehicleTypeCode',\n",
    "                  'obligorGeographicLocation']\n",
    "vehicleStats(vehicleMetrics, df, groupDict)\n",
    "creditStats(creditMetrics,df,groupDict)\n",
    "obligorStats(obligorMetrics,df,groupDict)"
   ]
  },
  {
   "cell_type": "code",
   "execution_count": 28,
   "metadata": {},
   "outputs": [],
   "source": [
    "stratDict = {\n",
    "    'Fico Score':{\n",
    "        'bin':[-1, 440, 500, 560, 620, 680, 740, 800, 1000],\n",
    "        'label':['[-1, 440)', '[440, 500)', '[500, 560)', '[560, 620)', '[620, 680)', '[680, 740)', '[740, 800)', '[800, 1000)'],\n",
    "        'index':['0 - 440', '441 - 500', '501 - 560', '561 - 620', '621 - 680', '681 - 740', '741 - 800', '801 +'],\n",
    "        'histBin':100\n",
    "    },\n",
    "    'APR':{\n",
    "        'bin':[0, .04, .08, .12, .16, .20, .24, .28, 1000],\n",
    "        'label':['[0.0, 0.04)', '[0.04, 0.08)', '[0.08, 0.12)', '[0.12, 0.16)', '[0.16, 0.20)', '[0.20, 0.24)', '[0.24, 0.28)', '[0.28, 1000)'],\n",
    "        'index': ['0.00% - 4.00%', '4.01% - 8.00%', '8.01% - 12.00%', '12.01% - 16.00%','16.01% - 20.00%', '20.01% - 24.00%', '24.01% - 28.00%', '28.00% +'],\n",
    "        'histBin':75\n",
    "    },\n",
    "    'LTV':{\n",
    "        'bin':[-1, .7, .8, .9, 1, 1.1, 1.2, 1.3, 1.4, 1000],\n",
    "        'label':['[-1.0, 0.7)', '[0.7, 0.8)', '[0.8, 0.9)', '[0.9, 1.0)', '[1.0, 1.1)','[1.1, 1.2)', '[1.2, 1.3)', '[1.3, 1.4)', '[1.4, 1000)'],\n",
    "        'index':['0.00% - 70.00%', '70.01% - 80.00%', '80.01% - 90.00%', '90.01% - 100.00%', '100.01% - 110.00%','110.01% - 120.00%', '120.01% - 130.00%', '130.01% - 140.00%', '140.01% +'],\n",
    "        'histBin':100\n",
    "        #['[-1.0, 0.7)', '[0.7, 0.8)', '[0.8, 0.9)', '[0.9, 1.0)', '[1.0, 1.1)','[1.1, 1.2)', '[1.2, 1.3)', '[1.3, 1.4)', '[1.4, 1000.0)']\n",
    "    },\n",
    "    'PTI':{\n",
    "        'bin':[-1, .02, .04, .06, .08, .1, .12, .14, .16, 1000],\n",
    "        'label':['[-1.0, 0.02)', '[0.02, 0.04)', '[0.04, 0.06)', '[0.06, 0.08)','[0.08, 0.1)', '[0.1, 0.12)', '[0.12, 0.14)', '[0.14, 0.16)', '[0.16, 1000)'],\n",
    "        'index':['0.00% - 2.00%', '2.01% - 4.00%', '4.01% - 6.00%', '6.01% - 8.00%','8.01% - 10.00%', '10.01% - 12.00%', '12.01% - 14.00%','14.01% - 16.00%', '16.01% +'],\n",
    "        'histBib':100\n",
    "#['[-1.0, 0.02)', '[0.02, 0.04)', '[0.04, 0.06)', '[0.06, 0.08)','[0.08, 0.1)', '[0.1, 0.12)', '[0.12, 0.14)', '[0.14, 0.16)', '[0.16, 1000.0)']\n",
    "    }\n",
    "}"
   ]
  },
  {
   "cell_type": "code",
   "execution_count": 29,
   "metadata": {
    "collapsed": true
   },
   "outputs": [],
   "source": [
    "def stratTable(data, stratDict):\n",
    "    data  = data[data.zeroBalanceCode.isin(['-'])]\n",
    "    WA = lambda x: np.average(x, axis=0, weights = data.loc[x.index, 'reportingPeriodActualEndBalanceAmount'])\n",
    "    data['pctDeal'] = (data['reportingPeriodActualEndBalanceAmount']/(data['reportingPeriodActualEndBalanceAmount'].sum()))\n",
    "    data['LTV'] = (data['originalLoanAmount']/data['vehicleValueAmount']) #Loan to value ratio\n",
    "    \n",
    "    a = OrderedDict([\n",
    "    ('assetNumber',['count']),\n",
    "    ('reportingPeriodActualEndBalanceAmount', ['sum','mean']),\n",
    "    ('pctDeal', ['sum']),\n",
    "    ('originalLoanTerm',[WA]),\n",
    "    ('remainingTermToMaturityNumber',[WA]),\n",
    "    ('paymentToIncomePercentage',[WA]),\n",
    "    #('LTV',[WA]),\n",
    "    ('originalInterestRatePercentage',[WA]),\n",
    "    ('currentDelinquencyStatus',['mean'])\n",
    "    ])\n",
    "    \n",
    "    keyList = list(stratDict.keys())\n",
    "    colsKeyList = list(a.keys())\n",
    "    stratMetrics = ['obligorCreditScore', 'originalInterestRatePercentage', 'LTV', 'paymentToIncomePercentage']\n",
    "    row = 3\n",
    "    row2 = 3\n",
    "    for i in range(0, len(stratMetrics)):\n",
    "        data[stratMetrics[i]] = pd.to_numeric(data[stratMetrics[i]], errors='coerce')\n",
    "        data[keyList[i]] = pd.cut(data[stratMetrics[i]], stratDict[keyList[i]]['bin'], right=True, labels=stratDict[keyList[i]]['label'])\n",
    "        if stratMetrics[i] == 'obligorCreditScore':\n",
    "            data[keyList[i]] = data[keyList[i]].cat.add_categories('No Score').fillna('No Score')\n",
    "        summ.range('i' + str(row)).options(pd.DataFrame, header=False).value = data[colsKeyList].groupby(by=[data[keyList[i]]]).agg(a)\n",
    "        stratTable = data[colsKeyList].groupby(by=[data[keyList[i]]]).agg(a)\n",
    "        \n",
    "        #stratTable = stratTable.reindex(keyList[i]['label'])\n",
    "        print(stratTable)\n",
    "        row = row + len(stratTable.index) + 2\n",
    "        "
   ]
  },
  {
   "cell_type": "code",
   "execution_count": 30,
   "metadata": {
    "collapsed": true
   },
   "outputs": [
    {
     "name": "stdout",
     "output_type": "stream",
     "text": [
      "            assetNumber reportingPeriodActualEndBalanceAmount                 pctDeal originalLoanTerm remainingTermToMaturityNumber paymentToIncomePercentage originalInterestRatePercentage currentDelinquencyStatus\n",
      "                  count                                   sum          mean       sum         <lambda>                      <lambda>                  <lambda>                       <lambda>                     mean\n",
      "Fico Score                                                                                                                                                                                                            \n",
      "[-1, 440)          1096                          1.663741e+07  15180.120055  0.012033        69.325972                     67.315559                  0.103495                       0.219376                 2.641423\n",
      "[440, 500)         9111                          1.414698e+08  15527.365081  0.102316        69.634695                     66.960610                  0.108833                       0.212988                 2.242235\n",
      "[500, 560)        23569                          3.959871e+08  16801.184092  0.286393        70.021771                     68.049399                  0.113085                       0.199271                 1.857737\n",
      "[560, 620)        24089                          4.399267e+08  18262.554990  0.318172        70.371454                     68.970405                  0.116058                       0.186981                 1.406866\n",
      "[620, 680)         7362                          1.439898e+08  19558.516470  0.104139        70.432152                     69.535063                  0.111320                       0.170885                 0.938060\n",
      "[680, 740)         2452                          4.779557e+07  19492.484323  0.034568        69.824019                     69.042947                  0.104121                       0.154128                 0.682708\n",
      "[740, 800)          565                          1.179880e+07  20882.826796  0.008533        69.465907                     69.217199                  0.082336                       0.111600                 0.522124\n",
      "[800, 1000)         304                          6.287855e+06  20683.732632  0.004548        67.658540                     67.790680                  0.053786                       0.060837                 0.427632\n",
      "No Score          12088                          1.787772e+08  14789.643035  0.129299        68.822052                     67.353526                  0.117498                       0.212583                 1.193580\n",
      "             assetNumber reportingPeriodActualEndBalanceAmount                 pctDeal originalLoanTerm remainingTermToMaturityNumber paymentToIncomePercentage originalInterestRatePercentage currentDelinquencyStatus\n",
      "                   count                                   sum          mean       sum         <lambda>                      <lambda>                  <lambda>                       <lambda>                     mean\n",
      "APR                                                                                                                                                                                                                    \n",
      "[0.0, 0.04)          438                          9.930013e+06  22671.263470  0.007182        68.576981                     68.887391                  0.055786                       0.030704                 0.203196\n",
      "[0.04, 0.08)         421                          8.956610e+06  21274.607910  0.006478        68.760656                     66.970441                  0.071846                       0.066818                 0.855107\n",
      "[0.08, 0.12)        2160                          4.739548e+07  21942.351005  0.034278        69.445105                     68.736639                  0.090647                       0.103956                 0.677315\n",
      "[0.12, 0.16)        5856                          1.216643e+08  20776.014976  0.087992        69.981174                     69.017196                  0.107825                       0.144653                 0.865779\n",
      "[0.16, 0.20)       32580                          6.094349e+08  18705.797327  0.440767        70.612695                     69.359087                  0.114650                       0.181201                 1.268754\n",
      "[0.20, 0.24)       27285                          4.286082e+08  15708.566211  0.309986        69.736867                     68.002891                  0.115840                       0.216104                 1.778486\n",
      "[0.24, 0.28)       11885                          1.564303e+08  13161.993207  0.113136        68.253410                     64.624484                  0.115821                       0.256582                 2.317291\n",
      "[0.28, 1000)           2                          1.343659e+04   6718.295000  0.000010        55.749698                     13.770959                  0.170690                       0.286706                 7.500000\n",
      "            assetNumber reportingPeriodActualEndBalanceAmount                 pctDeal originalLoanTerm remainingTermToMaturityNumber paymentToIncomePercentage originalInterestRatePercentage currentDelinquencyStatus\n",
      "                  count                                   sum          mean       sum         <lambda>                      <lambda>                  <lambda>                       <lambda>                     mean\n",
      "LTV                                                                                                                                                                                                                   \n",
      "[-1.0, 0.7)        1746                          2.295006e+07  13144.363282  0.016598        64.553971                     64.320709                  0.096299                       0.154337                 0.835624\n",
      "[0.7, 0.8)         2032                          3.414633e+07  16804.294208  0.024696        68.363450                     67.976768                  0.111301                       0.169518                 1.075295\n",
      "[0.8, 0.9)         5594                          1.000127e+08  17878.563182  0.072333        69.531753                     69.032084                  0.117630                       0.183952                 1.265821\n",
      "[0.9, 1.0)        13245                          2.308325e+08  17427.894720  0.166947        69.882455                     69.170172                  0.119642                       0.196811                 1.469460\n",
      "[1.0, 1.1)        18425                          3.265564e+08  17723.550733  0.236178        70.176080                     68.929467                  0.113680                       0.192345                 1.540624\n",
      "[1.1, 1.2)        21008                          3.602583e+08  17148.622137  0.260553        70.204300                     68.334760                  0.113497                       0.197103                 1.663462\n",
      "[1.2, 1.3)        12115                          2.046079e+08  16888.809776  0.147980        70.258485                     67.724387                  0.108205                       0.193166                 1.667024\n",
      "[1.3, 1.4)         6010                          9.578400e+07  15937.437175  0.069275        69.984392                     66.804525                  0.102678                       0.195147                 1.554243\n",
      "[1.4, 1000)         461                          7.522120e+06  16316.964078  0.005440        70.488957                     56.708663                  0.119486                       0.190333                 2.982646\n",
      "             assetNumber reportingPeriodActualEndBalanceAmount                 pctDeal originalLoanTerm remainingTermToMaturityNumber paymentToIncomePercentage originalInterestRatePercentage currentDelinquencyStatus\n",
      "                   count                                   sum          mean       sum         <lambda>                      <lambda>                  <lambda>                       <lambda>                     mean\n",
      "PTI                                                                                                                                                                                                                    \n",
      "[-1.0, 0.02)         454                          7.686506e+06  16930.629427  0.005559        68.981128                     68.340501                  0.013176                       0.130654                 0.599119\n",
      "[0.02, 0.04)        2055                          3.069464e+07  14936.563474  0.022200        67.890206                     67.691656                  0.032132                       0.146808                 0.766910\n",
      "[0.04, 0.06)        5650                          8.882599e+07  15721.414273  0.064242        69.174338                     68.305446                  0.051433                       0.175396                 1.193097\n",
      "[0.06, 0.08)       10129                          1.645330e+08  16243.755927  0.118997        69.590537                     68.553124                  0.070710                       0.190899                 1.383059\n",
      "[0.08, 0.1)        12430                          2.076608e+08  16706.422871  0.150188        69.730177                     68.272080                  0.090562                       0.194508                 1.553017\n",
      "[0.1, 0.12)        14689                          2.529801e+08  17222.415395  0.182965        70.093514                     68.512840                  0.110178                       0.197310                 1.600245\n",
      "[0.12, 0.14)       15413                          2.733033e+08  17731.997633  0.197663        70.320831                     68.548005                  0.130070                       0.197773                 1.662882\n",
      "[0.14, 0.16)       11849                          2.146254e+08  18113.375123  0.155225        70.373070                     68.482591                  0.149236                       0.196367                 1.684530\n",
      "[0.16, 1000)        7967                          1.423606e+08  17868.778843  0.102961        70.065050                     67.336281                  0.173706                       0.194022                 1.686206\n"
     ]
    }
   ],
   "source": [
    "stratTable(df, stratDict)"
   ]
  },
  {
   "cell_type": "code",
   "execution_count": 23,
   "metadata": {},
   "outputs": [
    {
     "data": {
      "text/plain": [
       "count    80636.000000\n",
       "mean         1.086395\n",
       "std          0.163898\n",
       "min          0.073481\n",
       "25%          0.990132\n",
       "50%          1.098139\n",
       "75%          1.197387\n",
       "max          1.598735\n",
       "Name: LTV, dtype: float64"
      ]
     },
     "execution_count": 23,
     "metadata": {},
     "output_type": "execute_result"
    }
   ],
   "source": [
    "df['LTV'] = (df['originalLoanAmount']/df['vehicleValueAmount'])\n",
    "df['LTV'].describe()"
   ]
  },
  {
   "cell_type": "code",
   "execution_count": 73,
   "metadata": {},
   "outputs": [
    {
     "ename": "TypeError",
     "evalue": "Don't know what to do with that image object",
     "output_type": "error",
     "traceback": [
      "\u001b[1;31m---------------------------------------------------------------------------\u001b[0m",
      "\u001b[1;31mTypeError\u001b[0m                                 Traceback (most recent call last)",
      "\u001b[1;32m<ipython-input-73-91c116e67e4f>\u001b[0m in \u001b[0;36m<module>\u001b[1;34m()\u001b[0m\n\u001b[0;32m      3\u001b[0m \u001b[0mfig\u001b[0m \u001b[1;33m=\u001b[0m \u001b[0mdf\u001b[0m\u001b[1;33m.\u001b[0m\u001b[0mhist\u001b[0m\u001b[1;33m(\u001b[0m\u001b[0mcolumn\u001b[0m\u001b[1;33m=\u001b[0m\u001b[1;34m'paymentToIncomePercentage'\u001b[0m\u001b[1;33m,\u001b[0m \u001b[0mbins\u001b[0m\u001b[1;33m=\u001b[0m\u001b[1;36m100\u001b[0m\u001b[1;33m)\u001b[0m\u001b[1;33m\u001b[0m\u001b[0m\n\u001b[0;32m      4\u001b[0m \u001b[0mrng\u001b[0m \u001b[1;33m=\u001b[0m \u001b[0msumm\u001b[0m\u001b[1;33m.\u001b[0m\u001b[0mrange\u001b[0m\u001b[1;33m(\u001b[0m\u001b[1;34m'A27'\u001b[0m\u001b[1;33m)\u001b[0m\u001b[1;33m\u001b[0m\u001b[0m\n\u001b[1;32m----> 5\u001b[1;33m \u001b[0msumm\u001b[0m\u001b[1;33m.\u001b[0m\u001b[0mpictures\u001b[0m\u001b[1;33m.\u001b[0m\u001b[0madd\u001b[0m\u001b[1;33m(\u001b[0m\u001b[0mfig\u001b[0m\u001b[1;33m,\u001b[0m \u001b[0mname\u001b[0m\u001b[1;33m=\u001b[0m\u001b[1;34m'PTI'\u001b[0m\u001b[1;33m,\u001b[0m \u001b[0mupdate\u001b[0m\u001b[1;33m=\u001b[0m\u001b[1;32mTrue\u001b[0m\u001b[1;33m)\u001b[0m\u001b[1;33m\u001b[0m\u001b[0m\n\u001b[0m",
      "\u001b[1;32mC:\\ProgramData\\Anaconda3\\lib\\site-packages\\xlwings\\main.py\u001b[0m in \u001b[0;36madd\u001b[1;34m(self, image, link_to_file, save_with_document, left, top, width, height, name, update)\u001b[0m\n\u001b[0;32m   2439\u001b[0m                     \u001b[1;32mpass\u001b[0m\u001b[1;33m\u001b[0m\u001b[0m\n\u001b[0;32m   2440\u001b[0m \u001b[1;33m\u001b[0m\u001b[0m\n\u001b[1;32m-> 2441\u001b[1;33m         \u001b[0mfilename\u001b[0m\u001b[1;33m,\u001b[0m \u001b[0mwidth\u001b[0m\u001b[1;33m,\u001b[0m \u001b[0mheight\u001b[0m \u001b[1;33m=\u001b[0m \u001b[0mutils\u001b[0m\u001b[1;33m.\u001b[0m\u001b[0mprocess_image\u001b[0m\u001b[1;33m(\u001b[0m\u001b[0mimage\u001b[0m\u001b[1;33m,\u001b[0m \u001b[0mwidth\u001b[0m\u001b[1;33m,\u001b[0m \u001b[0mheight\u001b[0m\u001b[1;33m)\u001b[0m\u001b[1;33m\u001b[0m\u001b[0m\n\u001b[0m\u001b[0;32m   2442\u001b[0m \u001b[1;33m\u001b[0m\u001b[0m\n\u001b[0;32m   2443\u001b[0m         \u001b[1;32mif\u001b[0m \u001b[1;32mnot\u001b[0m \u001b[1;33m(\u001b[0m\u001b[0mlink_to_file\u001b[0m \u001b[1;32mor\u001b[0m \u001b[0msave_with_document\u001b[0m\u001b[1;33m)\u001b[0m\u001b[1;33m:\u001b[0m\u001b[1;33m\u001b[0m\u001b[0m\n",
      "\u001b[1;32mC:\\ProgramData\\Anaconda3\\lib\\site-packages\\xlwings\\utils.py\u001b[0m in \u001b[0;36mprocess_image\u001b[1;34m(image, width, height)\u001b[0m\n\u001b[0;32m    207\u001b[0m         \u001b[1;32mreturn\u001b[0m \u001b[0mfilename\u001b[0m\u001b[1;33m,\u001b[0m \u001b[0mwidth\u001b[0m\u001b[1;33m,\u001b[0m \u001b[0mheight\u001b[0m\u001b[1;33m\u001b[0m\u001b[0m\n\u001b[0;32m    208\u001b[0m     \u001b[1;32melse\u001b[0m\u001b[1;33m:\u001b[0m\u001b[1;33m\u001b[0m\u001b[0m\n\u001b[1;32m--> 209\u001b[1;33m         \u001b[1;32mraise\u001b[0m \u001b[0mTypeError\u001b[0m\u001b[1;33m(\u001b[0m\u001b[1;34m\"Don't know what to do with that image object\"\u001b[0m\u001b[1;33m)\u001b[0m\u001b[1;33m\u001b[0m\u001b[0m\n\u001b[0m",
      "\u001b[1;31mTypeError\u001b[0m: Don't know what to do with that image object"
     ]
    },
    {
     "data": {
      "image/png": "[encoded data removed]",
      "text/plain": [
       "<matplotlib.figure.Figure at 0x2aa261a0be0>"
      ]
     },
     "metadata": {},
     "output_type": "display_data"
    }
   ],
   "source": [
    "lis = ['obligorCreditScore', 'originalInterestRatePercentage', 'LTV', 'paymentToIncomePercentage']\n",
    "df['obligorCreditScore'] = pd.to_numeric(df['obligorCreditScore'], errors='coerce') \n",
    "fig = df.hist(column='paymentToIncomePercentage', bins=100)\n",
    "rng = summ.range('A27')\n",
    "summ.pictures.add(fig, name='PTI', update=True)"
   ]
  },
  {
   "cell_type": "code",
   "execution_count": 54,
   "metadata": {},
   "outputs": [],
   "source": [
    "def histogram(data):\n",
    "    binDict = {\n",
    "        'obligorCreditScore':{\n",
    "            'bin':100,\n",
    "            'name': 'Fico Score Histogram'\n",
    "        },\n",
    "        'originalInterestRatePercentage':{\n",
    "            'bin':75,\n",
    "            'name':'APRHistogram'\n",
    "        },\n",
    "        'LTV':{\n",
    "            'bin':100,\n",
    "            'name':'LTV Histogram'\n",
    "        },\n",
    "        'paymentToIncomePercentage':{\n",
    "            'bin':100,\n",
    "            'name':'PTI Histogram'\n",
    "        }\n",
    "    }\n",
    "    lis = list(binDict.keys())\n",
    "    print(lis)\n",
    "    for i in range(0,len(lis)):\n",
    "        fig = data.hist(column=lis[i], bins=binDict[lis[i]]['bin'])\n",
    "        \n",
    "        summ.pictures.add(fig, name=binDict[lis[i]]['name'], update=True,\n",
    "                          left=summ.range('B5').left, top=summ.range('B5').top)"
   ]
  },
  {
   "cell_type": "code",
   "execution_count": 55,
   "metadata": {},
   "outputs": [
    {
     "name": "stdout",
     "output_type": "stream",
     "text": [
      "['obligorCreditScore', 'originalInterestRatePercentage', 'LTV', 'paymentToIncomePercentage']\n"
     ]
    },
    {
     "ename": "TypeError",
     "evalue": "Don't know what to do with that image object",
     "output_type": "error",
     "traceback": [
      "\u001b[1;31m---------------------------------------------------------------------------\u001b[0m",
      "\u001b[1;31mTypeError\u001b[0m                                 Traceback (most recent call last)",
      "\u001b[1;32m<ipython-input-55-e25fb011ef51>\u001b[0m in \u001b[0;36m<module>\u001b[1;34m()\u001b[0m\n\u001b[1;32m----> 1\u001b[1;33m \u001b[0mhistogram\u001b[0m\u001b[1;33m(\u001b[0m\u001b[0mdf\u001b[0m\u001b[1;33m)\u001b[0m\u001b[1;33m\u001b[0m\u001b[0m\n\u001b[0m",
      "\u001b[1;32m<ipython-input-54-bfda178b64de>\u001b[0m in \u001b[0;36mhistogram\u001b[1;34m(data)\u001b[0m\n\u001b[0;32m     23\u001b[0m         \u001b[0mfig\u001b[0m \u001b[1;33m=\u001b[0m \u001b[0mdata\u001b[0m\u001b[1;33m.\u001b[0m\u001b[0mhist\u001b[0m\u001b[1;33m(\u001b[0m\u001b[0mcolumn\u001b[0m\u001b[1;33m=\u001b[0m\u001b[0mlis\u001b[0m\u001b[1;33m[\u001b[0m\u001b[0mi\u001b[0m\u001b[1;33m]\u001b[0m\u001b[1;33m,\u001b[0m \u001b[0mbins\u001b[0m\u001b[1;33m=\u001b[0m\u001b[0mbinDict\u001b[0m\u001b[1;33m[\u001b[0m\u001b[0mlis\u001b[0m\u001b[1;33m[\u001b[0m\u001b[0mi\u001b[0m\u001b[1;33m]\u001b[0m\u001b[1;33m]\u001b[0m\u001b[1;33m[\u001b[0m\u001b[1;34m'bin'\u001b[0m\u001b[1;33m]\u001b[0m\u001b[1;33m)\u001b[0m\u001b[1;33m\u001b[0m\u001b[0m\n\u001b[0;32m     24\u001b[0m         summ.pictures.add(fig, name=binDict[lis[i]]['name'], update=True,\n\u001b[1;32m---> 25\u001b[1;33m                           left=summ.range('B5').left, top=summ.range('B5').top)\n\u001b[0m",
      "\u001b[1;32mC:\\ProgramData\\Anaconda3\\lib\\site-packages\\xlwings\\main.py\u001b[0m in \u001b[0;36madd\u001b[1;34m(self, image, link_to_file, save_with_document, left, top, width, height, name, update)\u001b[0m\n\u001b[0;32m   2439\u001b[0m                     \u001b[1;32mpass\u001b[0m\u001b[1;33m\u001b[0m\u001b[0m\n\u001b[0;32m   2440\u001b[0m \u001b[1;33m\u001b[0m\u001b[0m\n\u001b[1;32m-> 2441\u001b[1;33m         \u001b[0mfilename\u001b[0m\u001b[1;33m,\u001b[0m \u001b[0mwidth\u001b[0m\u001b[1;33m,\u001b[0m \u001b[0mheight\u001b[0m \u001b[1;33m=\u001b[0m \u001b[0mutils\u001b[0m\u001b[1;33m.\u001b[0m\u001b[0mprocess_image\u001b[0m\u001b[1;33m(\u001b[0m\u001b[0mimage\u001b[0m\u001b[1;33m,\u001b[0m \u001b[0mwidth\u001b[0m\u001b[1;33m,\u001b[0m \u001b[0mheight\u001b[0m\u001b[1;33m)\u001b[0m\u001b[1;33m\u001b[0m\u001b[0m\n\u001b[0m\u001b[0;32m   2442\u001b[0m \u001b[1;33m\u001b[0m\u001b[0m\n\u001b[0;32m   2443\u001b[0m         \u001b[1;32mif\u001b[0m \u001b[1;32mnot\u001b[0m \u001b[1;33m(\u001b[0m\u001b[0mlink_to_file\u001b[0m \u001b[1;32mor\u001b[0m \u001b[0msave_with_document\u001b[0m\u001b[1;33m)\u001b[0m\u001b[1;33m:\u001b[0m\u001b[1;33m\u001b[0m\u001b[0m\n",
      "\u001b[1;32mC:\\ProgramData\\Anaconda3\\lib\\site-packages\\xlwings\\utils.py\u001b[0m in \u001b[0;36mprocess_image\u001b[1;34m(image, width, height)\u001b[0m\n\u001b[0;32m    207\u001b[0m         \u001b[1;32mreturn\u001b[0m \u001b[0mfilename\u001b[0m\u001b[1;33m,\u001b[0m \u001b[0mwidth\u001b[0m\u001b[1;33m,\u001b[0m \u001b[0mheight\u001b[0m\u001b[1;33m\u001b[0m\u001b[0m\n\u001b[0;32m    208\u001b[0m     \u001b[1;32melse\u001b[0m\u001b[1;33m:\u001b[0m\u001b[1;33m\u001b[0m\u001b[0m\n\u001b[1;32m--> 209\u001b[1;33m         \u001b[1;32mraise\u001b[0m \u001b[0mTypeError\u001b[0m\u001b[1;33m(\u001b[0m\u001b[1;34m\"Don't know what to do with that image object\"\u001b[0m\u001b[1;33m)\u001b[0m\u001b[1;33m\u001b[0m\u001b[0m\n\u001b[0m",
      "\u001b[1;31mTypeError\u001b[0m: Don't know what to do with that image object"
     ]
    },
    {
     "data": {
      "image/png": "[encoded data removed]",
      "text/plain": [
       "<matplotlib.figure.Figure at 0x2aa25f7bc50>"
      ]
     },
     "metadata": {},
     "output_type": "display_data"
    }
   ],
   "source": [
    "histogram(df)"
   ]
  },
  {
   "cell_type": "code",
   "execution_count": null,
   "metadata": {
    "collapsed": true
   },
   "outputs": [],
   "source": []
  },
  {
   "cell_type": "code",
   "execution_count": null,
   "metadata": {
    "collapsed": true
   },
   "outputs": [],
   "source": []
  },
  {
   "cell_type": "code",
   "execution_count": null,
   "metadata": {
    "collapsed": true
   },
   "outputs": [],
   "source": []
  }
 ],
 "metadata": {
  "kernelspec": {
   "display_name": "Python 3",
   "language": "python",
   "name": "python3"
  },
  "language_info": {
   "codemirror_mode": {
    "name": "ipython",
    "version": 3
   },
   "file_extension": ".py",
   "mimetype": "text/x-python",
   "name": "python",
   "nbconvert_exporter": "python",
   "pygments_lexer": "ipython3",
   "version": "3.6.1"
  }
 },
 "nbformat": 4,
 "nbformat_minor": 2
}
