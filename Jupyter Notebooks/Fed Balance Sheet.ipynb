{
 "cells": [
  {
   "cell_type": "code",
   "execution_count": 26,
   "metadata": {},
   "outputs": [
    {
     "name": "stdout",
     "output_type": "stream",
     "text": [
      "U:\\2017 Fed Challenge\n"
     ]
    }
   ],
   "source": [
    "%matplotlib inline\n",
    "import os\n",
    "print(os.getcwd())\n",
    "os.chdir('U:\\\\2017 Fed Challenge')\n",
    "os.getcwd()\n",
    "import pandas as pd\n",
    "import matplotlib.pyplot as plt"
   ]
  },
  {
   "cell_type": "code",
   "execution_count": 9,
   "metadata": {
    "collapsed": true
   },
   "outputs": [],
   "source": [
    "path = 'U:\\\\2017 Fed Challenge\\\\FedBalanceSheet.csv'"
   ]
  },
  {
   "cell_type": "code",
   "execution_count": 11,
   "metadata": {},
   "outputs": [
    {
     "data": {
      "text/html": [
       "<div>\n",
       "<style>\n",
       "    .dataframe thead tr:only-child th {\n",
       "        text-align: right;\n",
       "    }\n",
       "\n",
       "    .dataframe thead th {\n",
       "        text-align: left;\n",
       "    }\n",
       "\n",
       "    .dataframe tbody tr th {\n",
       "        vertical-align: top;\n",
       "    }\n",
       "</style>\n",
       "<table border=\"1\" class=\"dataframe\">\n",
       "  <thead>\n",
       "    <tr style=\"text-align: right;\">\n",
       "      <th></th>\n",
       "      <th>Trade date</th>\n",
       "      <th>Contractual settlement date</th>\n",
       "      <th>Trade amount</th>\n",
       "      <th>Agency</th>\n",
       "      <th>Coupon</th>\n",
       "      <th>Term</th>\n",
       "      <th>CUSIP</th>\n",
       "      <th>Transaction category</th>\n",
       "      <th>Price</th>\n",
       "      <th>Primary dealer</th>\n",
       "      <th>Investment manager</th>\n",
       "    </tr>\n",
       "  </thead>\n",
       "  <tbody>\n",
       "    <tr>\n",
       "      <th>0</th>\n",
       "      <td>Jan 5 2009</td>\n",
       "      <td>Mar 12 2009</td>\n",
       "      <td>100.0</td>\n",
       "      <td>FHLMC</td>\n",
       "      <td>4.0</td>\n",
       "      <td>30</td>\n",
       "      <td>02R04063</td>\n",
       "      <td>Purchase</td>\n",
       "      <td>99.03</td>\n",
       "      <td>Barclays Capital Inc.</td>\n",
       "      <td>Wellington Management Company</td>\n",
       "    </tr>\n",
       "    <tr>\n",
       "      <th>1</th>\n",
       "      <td>Jan 5 2009</td>\n",
       "      <td>Mar 12 2009</td>\n",
       "      <td>100.0</td>\n",
       "      <td>FHLMC</td>\n",
       "      <td>4.0</td>\n",
       "      <td>30</td>\n",
       "      <td>02R04063</td>\n",
       "      <td>Purchase</td>\n",
       "      <td>99.28</td>\n",
       "      <td>Barclays Capital Inc.</td>\n",
       "      <td>Wellington Management Company</td>\n",
       "    </tr>\n",
       "    <tr>\n",
       "      <th>2</th>\n",
       "      <td>Jan 5 2009</td>\n",
       "      <td>Mar 12 2009</td>\n",
       "      <td>250.0</td>\n",
       "      <td>FHLMC</td>\n",
       "      <td>4.5</td>\n",
       "      <td>30</td>\n",
       "      <td>02R04263</td>\n",
       "      <td>Purchase</td>\n",
       "      <td>100.56</td>\n",
       "      <td>Barclays Capital Inc.</td>\n",
       "      <td>Wellington Management Company</td>\n",
       "    </tr>\n",
       "    <tr>\n",
       "      <th>3</th>\n",
       "      <td>Jan 5 2009</td>\n",
       "      <td>Mar 17 2009</td>\n",
       "      <td>50.0</td>\n",
       "      <td>FNMA</td>\n",
       "      <td>4.5</td>\n",
       "      <td>15</td>\n",
       "      <td>01F04243</td>\n",
       "      <td>Purchase</td>\n",
       "      <td>101.76</td>\n",
       "      <td>Merrill Lynch, Pierce, Fenner &amp; Smith Incorpor...</td>\n",
       "      <td>Wellington Management Company</td>\n",
       "    </tr>\n",
       "    <tr>\n",
       "      <th>4</th>\n",
       "      <td>Jan 5 2009</td>\n",
       "      <td>Mar 12 2009</td>\n",
       "      <td>100.0</td>\n",
       "      <td>FHLMC</td>\n",
       "      <td>4.0</td>\n",
       "      <td>30</td>\n",
       "      <td>02R04063</td>\n",
       "      <td>Purchase</td>\n",
       "      <td>99.25</td>\n",
       "      <td>Merrill Lynch, Pierce, Fenner &amp; Smith Incorpor...</td>\n",
       "      <td>Wellington Management Company</td>\n",
       "    </tr>\n",
       "  </tbody>\n",
       "</table>\n",
       "</div>"
      ],
      "text/plain": [
       "   Trade date Contractual settlement date  Trade amount Agency  Coupon  Term  \\\n",
       "0  Jan 5 2009                 Mar 12 2009         100.0  FHLMC     4.0    30   \n",
       "1  Jan 5 2009                 Mar 12 2009         100.0  FHLMC     4.0    30   \n",
       "2  Jan 5 2009                 Mar 12 2009         250.0  FHLMC     4.5    30   \n",
       "3  Jan 5 2009                 Mar 17 2009          50.0   FNMA     4.5    15   \n",
       "4  Jan 5 2009                 Mar 12 2009         100.0  FHLMC     4.0    30   \n",
       "\n",
       "      CUSIP Transaction category   Price  \\\n",
       "0  02R04063             Purchase   99.03   \n",
       "1  02R04063             Purchase   99.28   \n",
       "2  02R04263             Purchase  100.56   \n",
       "3  01F04243             Purchase  101.76   \n",
       "4  02R04063             Purchase   99.25   \n",
       "\n",
       "                                      Primary dealer  \\\n",
       "0                              Barclays Capital Inc.   \n",
       "1                              Barclays Capital Inc.   \n",
       "2                              Barclays Capital Inc.   \n",
       "3  Merrill Lynch, Pierce, Fenner & Smith Incorpor...   \n",
       "4  Merrill Lynch, Pierce, Fenner & Smith Incorpor...   \n",
       "\n",
       "              Investment manager  \n",
       "0  Wellington Management Company  \n",
       "1  Wellington Management Company  \n",
       "2  Wellington Management Company  \n",
       "3  Wellington Management Company  \n",
       "4  Wellington Management Company  "
      ]
     },
     "execution_count": 11,
     "metadata": {},
     "output_type": "execute_result"
    }
   ],
   "source": [
    "df = pd.read_csv(path, memory_map=True, low_memory=False)\n",
    "df.head()"
   ]
  },
  {
   "cell_type": "code",
   "execution_count": 17,
   "metadata": {},
   "outputs": [
    {
     "data": {
      "text/plain": [
       "array(['FHLMC', 'FNMA', 'GNMA'], dtype=object)"
      ]
     },
     "execution_count": 17,
     "metadata": {},
     "output_type": "execute_result"
    }
   ],
   "source": [
    "df['Agency'].unique()\n"
   ]
  },
  {
   "cell_type": "code",
   "execution_count": 40,
   "metadata": {},
   "outputs": [
    {
     "data": {
      "text/plain": [
       "array([[<matplotlib.axes._subplots.AxesSubplot object at 0x00000248B3E097F0>]], dtype=object)"
      ]
     },
     "execution_count": 40,
     "metadata": {},
     "output_type": "execute_result"
    },
    {
     "data": {
      "image/png": "[encoded data removed]",
      "text/plain": [
       "<matplotlib.figure.Figure at 0x248b3cf82e8>"
      ]
     },
     "metadata": {},
     "output_type": "display_data"
    }
   ],
   "source": [
    "df.hist(column='Trade amount', bins=100)"
   ]
  },
  {
   "cell_type": "code",
   "execution_count": 14,
   "metadata": {},
   "outputs": [
    {
     "data": {
      "text/html": [
       "<div>\n",
       "<style>\n",
       "    .dataframe thead tr:only-child th {\n",
       "        text-align: right;\n",
       "    }\n",
       "\n",
       "    .dataframe thead th {\n",
       "        text-align: left;\n",
       "    }\n",
       "\n",
       "    .dataframe tbody tr th {\n",
       "        vertical-align: top;\n",
       "    }\n",
       "</style>\n",
       "<table border=\"1\" class=\"dataframe\">\n",
       "  <thead>\n",
       "    <tr style=\"text-align: right;\">\n",
       "      <th></th>\n",
       "      <th>Trade amount</th>\n",
       "      <th>Coupon</th>\n",
       "      <th>Term</th>\n",
       "      <th>Price</th>\n",
       "    </tr>\n",
       "  </thead>\n",
       "  <tbody>\n",
       "    <tr>\n",
       "      <th>count</th>\n",
       "      <td>2615.000000</td>\n",
       "      <td>2615.000000</td>\n",
       "      <td>2615.000000</td>\n",
       "      <td>2615.000000</td>\n",
       "    </tr>\n",
       "    <tr>\n",
       "      <th>mean</th>\n",
       "      <td>193.693270</td>\n",
       "      <td>4.698662</td>\n",
       "      <td>29.453155</td>\n",
       "      <td>101.336799</td>\n",
       "    </tr>\n",
       "    <tr>\n",
       "      <th>std</th>\n",
       "      <td>121.411476</td>\n",
       "      <td>0.437154</td>\n",
       "      <td>2.805068</td>\n",
       "      <td>1.747333</td>\n",
       "    </tr>\n",
       "    <tr>\n",
       "      <th>min</th>\n",
       "      <td>0.000000</td>\n",
       "      <td>4.000000</td>\n",
       "      <td>15.000000</td>\n",
       "      <td>95.770000</td>\n",
       "    </tr>\n",
       "    <tr>\n",
       "      <th>25%</th>\n",
       "      <td>150.000000</td>\n",
       "      <td>4.500000</td>\n",
       "      <td>30.000000</td>\n",
       "      <td>100.210000</td>\n",
       "    </tr>\n",
       "    <tr>\n",
       "      <th>50%</th>\n",
       "      <td>150.000000</td>\n",
       "      <td>4.500000</td>\n",
       "      <td>30.000000</td>\n",
       "      <td>101.350000</td>\n",
       "    </tr>\n",
       "    <tr>\n",
       "      <th>75%</th>\n",
       "      <td>250.000000</td>\n",
       "      <td>5.000000</td>\n",
       "      <td>30.000000</td>\n",
       "      <td>102.505000</td>\n",
       "    </tr>\n",
       "    <tr>\n",
       "      <th>max</th>\n",
       "      <td>1500.000000</td>\n",
       "      <td>6.500000</td>\n",
       "      <td>30.000000</td>\n",
       "      <td>106.940000</td>\n",
       "    </tr>\n",
       "  </tbody>\n",
       "</table>\n",
       "</div>"
      ],
      "text/plain": [
       "       Trade amount       Coupon         Term        Price\n",
       "count   2615.000000  2615.000000  2615.000000  2615.000000\n",
       "mean     193.693270     4.698662    29.453155   101.336799\n",
       "std      121.411476     0.437154     2.805068     1.747333\n",
       "min        0.000000     4.000000    15.000000    95.770000\n",
       "25%      150.000000     4.500000    30.000000   100.210000\n",
       "50%      150.000000     4.500000    30.000000   101.350000\n",
       "75%      250.000000     5.000000    30.000000   102.505000\n",
       "max     1500.000000     6.500000    30.000000   106.940000"
      ]
     },
     "execution_count": 14,
     "metadata": {},
     "output_type": "execute_result"
    }
   ],
   "source": [
    "freddie = df[df.Agency.isin(['FHLMC'])]\n",
    "freddie.describe()"
   ]
  },
  {
   "cell_type": "code",
   "execution_count": 16,
   "metadata": {},
   "outputs": [
    {
     "data": {
      "text/html": [
       "<div>\n",
       "<style>\n",
       "    .dataframe thead tr:only-child th {\n",
       "        text-align: right;\n",
       "    }\n",
       "\n",
       "    .dataframe thead th {\n",
       "        text-align: left;\n",
       "    }\n",
       "\n",
       "    .dataframe tbody tr th {\n",
       "        vertical-align: top;\n",
       "    }\n",
       "</style>\n",
       "<table border=\"1\" class=\"dataframe\">\n",
       "  <thead>\n",
       "    <tr style=\"text-align: right;\">\n",
       "      <th></th>\n",
       "      <th>Trade amount</th>\n",
       "      <th>Coupon</th>\n",
       "      <th>Term</th>\n",
       "      <th>Price</th>\n",
       "    </tr>\n",
       "  </thead>\n",
       "  <tbody>\n",
       "    <tr>\n",
       "      <th>count</th>\n",
       "      <td>5274.000000</td>\n",
       "      <td>5274.000000</td>\n",
       "      <td>5274.000000</td>\n",
       "      <td>5274.000000</td>\n",
       "    </tr>\n",
       "    <tr>\n",
       "      <th>mean</th>\n",
       "      <td>230.463197</td>\n",
       "      <td>4.901403</td>\n",
       "      <td>29.087031</td>\n",
       "      <td>101.996198</td>\n",
       "    </tr>\n",
       "    <tr>\n",
       "      <th>std</th>\n",
       "      <td>223.880937</td>\n",
       "      <td>0.575057</td>\n",
       "      <td>3.570669</td>\n",
       "      <td>1.865874</td>\n",
       "    </tr>\n",
       "    <tr>\n",
       "      <th>min</th>\n",
       "      <td>0.000000</td>\n",
       "      <td>3.500000</td>\n",
       "      <td>15.000000</td>\n",
       "      <td>91.440000</td>\n",
       "    </tr>\n",
       "    <tr>\n",
       "      <th>25%</th>\n",
       "      <td>125.000000</td>\n",
       "      <td>4.500000</td>\n",
       "      <td>30.000000</td>\n",
       "      <td>100.610000</td>\n",
       "    </tr>\n",
       "    <tr>\n",
       "      <th>50%</th>\n",
       "      <td>175.000000</td>\n",
       "      <td>5.000000</td>\n",
       "      <td>30.000000</td>\n",
       "      <td>101.980000</td>\n",
       "    </tr>\n",
       "    <tr>\n",
       "      <th>75%</th>\n",
       "      <td>250.000000</td>\n",
       "      <td>5.500000</td>\n",
       "      <td>30.000000</td>\n",
       "      <td>103.360000</td>\n",
       "    </tr>\n",
       "    <tr>\n",
       "      <th>max</th>\n",
       "      <td>3000.000000</td>\n",
       "      <td>6.500000</td>\n",
       "      <td>30.000000</td>\n",
       "      <td>107.090000</td>\n",
       "    </tr>\n",
       "  </tbody>\n",
       "</table>\n",
       "</div>"
      ],
      "text/plain": [
       "       Trade amount       Coupon         Term        Price\n",
       "count   5274.000000  5274.000000  5274.000000  5274.000000\n",
       "mean     230.463197     4.901403    29.087031   101.996198\n",
       "std      223.880937     0.575057     3.570669     1.865874\n",
       "min        0.000000     3.500000    15.000000    91.440000\n",
       "25%      125.000000     4.500000    30.000000   100.610000\n",
       "50%      175.000000     5.000000    30.000000   101.980000\n",
       "75%      250.000000     5.500000    30.000000   103.360000\n",
       "max     3000.000000     6.500000    30.000000   107.090000"
      ]
     },
     "execution_count": 16,
     "metadata": {},
     "output_type": "execute_result"
    }
   ],
   "source": [
    "fannie = df[df.Agency.isin(['FNMA'])]\n",
    "fannie.describe()"
   ]
  },
  {
   "cell_type": "code",
   "execution_count": 18,
   "metadata": {},
   "outputs": [
    {
     "data": {
      "text/html": [
       "<div>\n",
       "<style>\n",
       "    .dataframe thead tr:only-child th {\n",
       "        text-align: right;\n",
       "    }\n",
       "\n",
       "    .dataframe thead th {\n",
       "        text-align: left;\n",
       "    }\n",
       "\n",
       "    .dataframe tbody tr th {\n",
       "        vertical-align: top;\n",
       "    }\n",
       "</style>\n",
       "<table border=\"1\" class=\"dataframe\">\n",
       "  <thead>\n",
       "    <tr style=\"text-align: right;\">\n",
       "      <th></th>\n",
       "      <th>Trade amount</th>\n",
       "      <th>Coupon</th>\n",
       "      <th>Term</th>\n",
       "      <th>Price</th>\n",
       "    </tr>\n",
       "  </thead>\n",
       "  <tbody>\n",
       "    <tr>\n",
       "      <th>count</th>\n",
       "      <td>731.000000</td>\n",
       "      <td>731.000000</td>\n",
       "      <td>731.0</td>\n",
       "      <td>731.000000</td>\n",
       "    </tr>\n",
       "    <tr>\n",
       "      <th>mean</th>\n",
       "      <td>175.340219</td>\n",
       "      <td>4.727770</td>\n",
       "      <td>30.0</td>\n",
       "      <td>101.744118</td>\n",
       "    </tr>\n",
       "    <tr>\n",
       "      <th>std</th>\n",
       "      <td>70.958167</td>\n",
       "      <td>0.402605</td>\n",
       "      <td>0.0</td>\n",
       "      <td>1.937298</td>\n",
       "    </tr>\n",
       "    <tr>\n",
       "      <th>min</th>\n",
       "      <td>18.000000</td>\n",
       "      <td>4.000000</td>\n",
       "      <td>30.0</td>\n",
       "      <td>95.780000</td>\n",
       "    </tr>\n",
       "    <tr>\n",
       "      <th>25%</th>\n",
       "      <td>150.000000</td>\n",
       "      <td>4.500000</td>\n",
       "      <td>30.0</td>\n",
       "      <td>100.470000</td>\n",
       "    </tr>\n",
       "    <tr>\n",
       "      <th>50%</th>\n",
       "      <td>150.000000</td>\n",
       "      <td>4.500000</td>\n",
       "      <td>30.0</td>\n",
       "      <td>101.800000</td>\n",
       "    </tr>\n",
       "    <tr>\n",
       "      <th>75%</th>\n",
       "      <td>200.000000</td>\n",
       "      <td>5.000000</td>\n",
       "      <td>30.0</td>\n",
       "      <td>103.480000</td>\n",
       "    </tr>\n",
       "    <tr>\n",
       "      <th>max</th>\n",
       "      <td>750.000000</td>\n",
       "      <td>6.000000</td>\n",
       "      <td>30.0</td>\n",
       "      <td>105.970000</td>\n",
       "    </tr>\n",
       "  </tbody>\n",
       "</table>\n",
       "</div>"
      ],
      "text/plain": [
       "       Trade amount      Coupon   Term       Price\n",
       "count    731.000000  731.000000  731.0  731.000000\n",
       "mean     175.340219    4.727770   30.0  101.744118\n",
       "std       70.958167    0.402605    0.0    1.937298\n",
       "min       18.000000    4.000000   30.0   95.780000\n",
       "25%      150.000000    4.500000   30.0  100.470000\n",
       "50%      150.000000    4.500000   30.0  101.800000\n",
       "75%      200.000000    5.000000   30.0  103.480000\n",
       "max      750.000000    6.000000   30.0  105.970000"
      ]
     },
     "execution_count": 18,
     "metadata": {},
     "output_type": "execute_result"
    }
   ],
   "source": [
    "ginnie = df[df.Agency.isin(['GNMA'])]\n",
    "ginnie.describe()"
   ]
  },
  {
   "cell_type": "code",
   "execution_count": 41,
   "metadata": {},
   "outputs": [
    {
     "data": {
      "text/plain": [
       "<matplotlib.figure.Figure at 0x248b400a5f8>"
      ]
     },
     "execution_count": 41,
     "metadata": {},
     "output_type": "execute_result"
    },
    {
     "data": {
      "image/png": "[encoded data removed]",
      "text/plain": [
       "<matplotlib.figure.Figure at 0x248b400a710>"
      ]
     },
     "metadata": {},
     "output_type": "display_data"
    },
    {
     "data": {
      "text/plain": [
       "<matplotlib.figure.Figure at 0x248b400a5f8>"
      ]
     },
     "metadata": {},
     "output_type": "display_data"
    }
   ],
   "source": [
    "freddie.hist(column = 'Trade amount', bins=50)\n",
    "plt.figure()"
   ]
  },
  {
   "cell_type": "code",
   "execution_count": 42,
   "metadata": {},
   "outputs": [
    {
     "data": {
      "text/plain": [
       "<matplotlib.figure.Figure at 0x248b22d0e48>"
      ]
     },
     "execution_count": 42,
     "metadata": {},
     "output_type": "execute_result"
    },
    {
     "data": {
      "image/png": "[encoded data removed]",
      "text/plain": [
       "<matplotlib.figure.Figure at 0x248b3d10278>"
      ]
     },
     "metadata": {},
     "output_type": "display_data"
    },
    {
     "data": {
      "text/plain": [
       "<matplotlib.figure.Figure at 0x248b22d0e48>"
      ]
     },
     "metadata": {},
     "output_type": "display_data"
    }
   ],
   "source": [
    "fannie.hist(column = 'Trade amount', bins=50)\n",
    "plt.figure()"
   ]
  },
  {
   "cell_type": "code",
   "execution_count": 43,
   "metadata": {},
   "outputs": [
    {
     "data": {
      "text/plain": [
       "<matplotlib.figure.Figure at 0x248b3869d30>"
      ]
     },
     "execution_count": 43,
     "metadata": {},
     "output_type": "execute_result"
    },
    {
     "data": {
      "image/png": "[encoded data removed]",
      "text/plain": [
       "<matplotlib.figure.Figure at 0x248b3869588>"
      ]
     },
     "metadata": {},
     "output_type": "display_data"
    },
    {
     "data": {
      "text/plain": [
       "<matplotlib.figure.Figure at 0x248b3869d30>"
      ]
     },
     "metadata": {},
     "output_type": "display_data"
    }
   ],
   "source": [
    "ginnie.hist(column = 'Trade amount', bins=50)\n",
    "plt.figure()"
   ]
  }
 ],
 "metadata": {
  "kernelspec": {
   "display_name": "Python 2",
   "language": "python",
   "name": "python2"
  },
  "language_info": {
   "codemirror_mode": {
    "name": "ipython",
    "version": 2
   },
   "file_extension": ".py",
   "mimetype": "text/x-python",
   "name": "python",
   "nbconvert_exporter": "python",
   "pygments_lexer": "ipython2",
   "version": "2.7.13"
  }
 },
 "nbformat": 4,
 "nbformat_minor": 2
}
