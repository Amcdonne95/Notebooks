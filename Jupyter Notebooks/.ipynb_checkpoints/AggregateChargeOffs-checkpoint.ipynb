{
 "cells": [
  {
   "cell_type": "code",
   "execution_count": 2,
   "metadata": {
    "collapsed": true
   },
   "outputs": [],
   "source": [
    "%matplotlib inline\n",
    "import os\n",
    "os.chdir('U:\\\\GitHubClones\\\\SALTSeniorDesign')\n",
    "os.getcwd()\n",
    "#import Excel\n",
    "import xlwings as xw\n",
    "import seaborn as sb\n",
    "import pandas as pd\n",
    "import numpy as np\n",
    "import matplotlib.pyplot as plt\n",
    "from collections import OrderedDict\n",
    "import re\n",
    "from datetime import datetime\n",
    "import datetime\n",
    "import statsmodels.formula.api as sm\n",
    "from statsmodels.stats.outliers_influence import variance_inflation_factor\n",
    "import sklearn\n",
    "from sklearn.model_selection import train_test_split\n",
    "from sklearn.ensemble import RandomForestClassifier\n",
    "from sklearn.metrics import accuracy_score\n",
    "from sklearn.metrics import confusion_matrix\n",
    "from sklearn.decomposition import PCA\n",
    "from sklearn import preprocessing\n",
    "import time"
   ]
  },
  {
   "cell_type": "code",
   "execution_count": 3,
   "metadata": {},
   "outputs": [
    {
     "data": {
      "text/html": [
       "<style>.container { width:100% !important; }</style>"
      ],
      "text/plain": [
       "<IPython.core.display.HTML object>"
      ]
     },
     "metadata": {},
     "output_type": "display_data"
    }
   ],
   "source": [
    "pd.set_option('display.max_rows', 200)\n",
    "pd.set_option('display.max_columns', 200)\n",
    "pd.set_option('display.width', 1000)\n",
    "from IPython.core.display import display, HTML\n",
    "display(HTML(\"<style>.container { width:100% !important; }</style>\"))"
   ]
  },
  {
   "cell_type": "code",
   "execution_count": 4,
   "metadata": {
    "collapsed": true
   },
   "outputs": [],
   "source": [
    "cols = ['assetNumber', 'reportingPeriodEndingDate','reportingPeriodBeginningDate',\n",
    "        'originalLoanTerm','originalLoanAmount','vehicleValueAmount','originalInterestRatePercentage','subvented',\n",
    "        'vehicleNewUsedCode', 'vehicleModelYear','vehicleTypeCode',\n",
    "        'obligorCreditScore','obligorIncomeVerificationLevelCode', 'obligorEmploymentVerificationCode','obligorGeographicLocation',\n",
    "        'paymentToIncomePercentage', 'reportingPeriodActualEndBalanceAmount',\n",
    "        'reportingPeriodBeginningLoanBalanceAmount','totalActualAmountPaid',\n",
    "        'remainingTermToMaturityNumber',\n",
    "        'currentDelinquencyStatus','coObligorIndicator',\n",
    "        'zeroBalanceCode']\n",
    "\n",
    "logitRemoveCols = ['assetNumber', 'reportingPeriodEndingDate','originalLoanAmount','vehicleValueAmount','reportingPeriodActualEndBalanceAmount',\n",
    "        'reportingPeriodBeginningLoanBalanceAmount','totalActualAmountPaid','vehicleNewUsedCode','zeroBalanceCode',\n",
    "        'vehicleModelYear','currentDelinquencyStatus','subvented','obligorIncomeVerificationLevelCode', 'obligorEmploymentVerificationCode',\n",
    "        'obligorGeographicLocation','reportingPeriodBeginningDate']"
   ]
  },
  {
   "cell_type": "code",
   "execution_count": 82,
   "metadata": {
    "collapsed": true
   },
   "outputs": [],
   "source": [
    "wb = xw.Book('Salt.xlsm')\n",
    "setup = wb.sheets('Setup')\n",
    "output = wb.sheets('Output')\n",
    "strats = wb.sheets('Strat Tables')\n",
    "performance = wb.sheets('Performance')\n",
    "\n",
    "# Path For the Current deal that is selected based on Setup\n",
    "directory = setup['Setup.Directory'].value\n",
    "shelf = setup['Setup.Shelf'].value\n",
    "shelfList = setup['Shelf_List'].value\n",
    "deal = setup['Setup.Deal'].value\n",
    "report = setup['Setup.Report'].value\n",
    "num_Deals = setup['Setup.Num_Deals'].value\n",
    "max_Report = setup['Setup.Max_Report_Num'].value\n"
   ]
  },
  {
   "cell_type": "code",
   "execution_count": 96,
   "metadata": {
    "scrolled": true
   },
   "outputs": [],
   "source": [
    "tapes = np.array(setup['Tapes'].value)\n",
    "tapes = tapes[0:int(max_Report),0:int(num_Deals)]\n",
    "dfTapes = pd.DataFrame(data=tapes[1:,1:], columns=tapes[0,1:])\n",
    "dealList = list(dfTapes.columns)"
   ]
  },
  {
   "cell_type": "code",
   "execution_count": 94,
   "metadata": {
    "collapsed": true
   },
   "outputs": [],
   "source": [
    "def chargeOffs(trainOrTest, tapes, dealList, shelfList, unemploymentPath):\n",
    "    shelfList = list(filter(lambda a: a != 'None', shelfList))\n",
    "    train = pd.DataFrame()\n",
    "    for k in range(3, len(dealList)):\n",
    "        \n",
    "        monthList = list(tapes[dealList[k]].astype(str))\n",
    "        monthList = list(filter(lambda a: a != 'None', monthList))\n",
    "        monthList = monthList[:-1]\n",
    "        \n",
    "        if trainOrTest == 'Test':\n",
    "            monthList = [monthList[-1]]\n",
    "        \n",
    "        for i in range(0, len(monthList)):\n",
    "            path = directory + '\\\\' + shelfList[k] + '\\\\' + dealList[k] + '\\\\' + monthList[i]\n",
    "            print(dealList[k])\n",
    "            df = pd.read_csv(path, usecols=cols, memory_map=True, low_memory=False)\n",
    "            df = df[~df.zeroBalanceCode.isin(['-'])]#taking out all of the performing loans so far\n",
    "\n",
    "            df['LTV'] = (df['originalLoanAmount']/df['vehicleValueAmount'])*100\n",
    "            df['loanDiff'] = (df['originalLoanAmount'] - df['reportingPeriodBeginningLoanBalanceAmount'])\n",
    "            df['coObligorIndicator'] = df['coObligorIndicator'].astype(int)\n",
    "\n",
    "            umrate = pd.read_csv(unemploymentPath, memory_map=True, low_memory=False)\n",
    "            umrate['Date'] = pd.to_datetime(umrate.Date)\n",
    "            umrate['Date'] = umrate['Date'].dt.strftime('%m/%d/%Y')\n",
    "            umrate = umrate.set_index('Date')\n",
    "            stateDict = umrate.to_dict(orient='index')\n",
    "\n",
    "            df['reportingPeriodBeginningDate'] = pd.to_datetime(df['reportingPeriodBeginningDate']).dt.strftime('%m/%d/%Y')\n",
    "            states = list(df['obligorGeographicLocation'])\n",
    "            uniqueList = df.reportingPeriodBeginningDate.unique()\n",
    "            umList = []\n",
    "            for j in range(0, len(states)):\n",
    "                if not uniqueList[0]:\n",
    "                    continue\n",
    "                val = stateDict[uniqueList[0]].get(states[j])\n",
    "                umList.append(val)\n",
    "            unemployment = pd.Series(umList)\n",
    "            df = df.assign(StateUnemployment=unemployment.values)\n",
    "            train = train.append(df)\n",
    "    \n",
    "    \n",
    "    return train"
   ]
  },
  {
   "cell_type": "code",
   "execution_count": 95,
   "metadata": {},
   "outputs": [
    {
     "name": "stdout",
     "output_type": "stream",
     "text": [
      "DRIVE 2017-1\n",
      "DRIVE 2017-2\n",
      "DRIVE 2017-3\n",
      "SDART 2017-1\n",
      "SDART 2017-2\n",
      "SDART 2017-3\n"
     ]
    }
   ],
   "source": [
    "umRatePath = 'U:\\\\GitHubClones\\\\SALTSeniorDesign\\\\' + 'State_level_unemployment_rate.csv'\n",
    "dfTrain = chargeOffs('Test', dfTapes, dealList, shelfList, umRatePath)\n",
    "\n",
    "dfTrain.to_csv('AggregateChargeOffsTest.csv')"
   ]
  }
 ],
 "metadata": {
  "kernelspec": {
   "display_name": "Python 3",
   "language": "python",
   "name": "python3"
  },
  "language_info": {
   "codemirror_mode": {
    "name": "ipython",
    "version": 3
   },
   "file_extension": ".py",
   "mimetype": "text/x-python",
   "name": "python",
   "nbconvert_exporter": "python",
   "pygments_lexer": "ipython3",
   "version": "3.6.1"
  }
 },
 "nbformat": 4,
 "nbformat_minor": 2
}
