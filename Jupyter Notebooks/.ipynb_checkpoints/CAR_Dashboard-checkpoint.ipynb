{
 "cells": [
  {
   "cell_type": "code",
   "execution_count": 1,
   "metadata": {
    "collapsed": true
   },
   "outputs": [],
   "source": [
    "import os\n",
    "os.chdir('C:\\\\Users\\\\amcdonne\\\\Downloads\\\\ABS\\\\ChargedOffData')\n",
    "os.getcwd()\n",
    "import seaborn as sb\n",
    "import pandas as pd\n",
    "import numpy as np\n",
    "import matplotlib.pyplot as plt\n",
    "from collections import OrderedDict\n",
    "import dash\n",
    "from dash.dependencies import Input, Output, State\n",
    "import dash_core_components as dcc\n",
    "import dash_html_components as html\n",
    "import dash_table_experiments as dt\n",
    "import json\n",
    "import plotly"
   ]
  },
  {
   "cell_type": "code",
   "execution_count": 2,
   "metadata": {},
   "outputs": [
    {
     "data": {
      "text/html": [
       "<style>.container { width:100% !important; }</style>"
      ],
      "text/plain": [
       "<IPython.core.display.HTML object>"
      ]
     },
     "metadata": {},
     "output_type": "display_data"
    }
   ],
   "source": [
    "pd.set_option('display.max_rows', 200)\n",
    "pd.set_option('display.max_columns', 200)\n",
    "pd.set_option('display.width', 1000)\n",
    "from IPython.core.display import display, HTML\n",
    "display(HTML(\"<style>.container { width:100% !important; }</style>\"))"
   ]
  },
  {
   "cell_type": "code",
   "execution_count": 3,
   "metadata": {
    "collapsed": true
   },
   "outputs": [],
   "source": [
    "path = 'C:\\\\Users\\\\amcdonne\\\\Downloads\\\\ABS\\\\ChargedOffData\\\\DRIVE_SDART_all_2017.csv'\n",
    "df = pd.read_csv(path, memory_map=True, low_memory=False)"
   ]
  },
  {
   "cell_type": "code",
   "execution_count": 4,
   "metadata": {},
   "outputs": [
    {
     "data": {
      "text/plain": [
       "['assetNumber',\n",
       " 'reportingPeriodBeginningDate',\n",
       " 'reportingPeriodEndingDate',\n",
       " 'originalLoanAmount',\n",
       " 'originalLoanTerm',\n",
       " 'originalInterestRatePercentage',\n",
       " 'subvented',\n",
       " 'vehicleNewUsedCode',\n",
       " 'vehicleModelYear',\n",
       " 'vehicleTypeCode',\n",
       " 'vehicleValueAmount',\n",
       " 'obligorCreditScore',\n",
       " 'obligorIncomeVerificationLevelCode',\n",
       " 'obligorEmploymentVerificationCode',\n",
       " 'coObligorIndicator',\n",
       " 'paymentToIncomePercentage',\n",
       " 'obligorGeographicLocation',\n",
       " 'remainingTermToMaturityNumber',\n",
       " 'reportingPeriodBeginningLoanBalanceAmount',\n",
       " 'reportingPeriodActualEndBalanceAmount',\n",
       " 'totalActualAmountPaid',\n",
       " 'zeroBalanceCode',\n",
       " 'currentDelinquencyStatus',\n",
       " 'LTV',\n",
       " 'loanDiff',\n",
       " 'StateUnemployment']"
      ]
     },
     "execution_count": 4,
     "metadata": {},
     "output_type": "execute_result"
    }
   ],
   "source": [
    "list(df.columns)"
   ]
  },
  {
   "cell_type": "code",
   "execution_count": 16,
   "metadata": {
    "collapsed": true
   },
   "outputs": [],
   "source": [
    "#df['pctDeal'] = (df['reportingPeriodActualEndBalanceAmount']/(df['reportingPeriodActualEndBalanceAmount'].sum()))\n",
    "#PCT Deal not needed yet because these are charged off and there is no remaining balance in the loans"
   ]
  },
  {
   "cell_type": "code",
   "execution_count": 6,
   "metadata": {},
   "outputs": [
    {
     "name": "stderr",
     "output_type": "stream",
     "text": [
      " * Restarting with stat\n"
     ]
    },
    {
     "ename": "SystemExit",
     "evalue": "1",
     "output_type": "error",
     "traceback": [
      "An exception has occurred, use %tb to see the full traceback.\n",
      "\u001b[1;31mSystemExit\u001b[0m\u001b[1;31m:\u001b[0m 1\n"
     ]
    }
   ],
   "source": [
    "app = dash.Dash()\n",
    "\n",
    "DF_GAPMINDER = pd.read_csv(\n",
    "    'https://raw.githubusercontent.com/plotly/datasets/master/gapminderDataFiveYear.csv'\n",
    ")\n",
    "DF_GAPMINDER = DF_GAPMINDER[DF_GAPMINDER['year'] == 2007]\n",
    "DF_GAPMINDER.loc[0:20]\n",
    "\n",
    "DF_SIMPLE = pd.DataFrame({\n",
    "    'x': ['A', 'B', 'C', 'D', 'E', 'F'],\n",
    "    'y': [4, 3, 1, 2, 3, 6],\n",
    "    'z': ['a', 'b', 'c', 'a', 'b', 'c']\n",
    "})\n",
    "\n",
    "\n",
    "dataframes = {'DF_GAPMINDER': DF_GAPMINDER,\n",
    "              'DF_SIMPLE': DF_SIMPLE}\n",
    "\n",
    "\n",
    "def get_data_object(user_selection):\n",
    "    \"\"\"\n",
    "    For user selections, return the relevant in-memory data frame.\n",
    "    \"\"\"\n",
    "    return dataframes[user_selection]\n",
    "\n",
    "app.layout = html.Div([\n",
    "    html.H4('DataTable'),\n",
    "    html.Label('Report type:', style={'font-weight': 'bold'}),\n",
    "    dcc.Dropdown(\n",
    "        id='field-dropdown',\n",
    "        options=[{'label': df, 'value': df} for df in dataframes],\n",
    "        value='DF_GAPMINDER',\n",
    "        clearable=False\n",
    "    ),\n",
    "    dt.DataTable(\n",
    "        # Initialise the rows\n",
    "        rows=[{}],\n",
    "        row_selectable=True,\n",
    "        filterable=True,\n",
    "        sortable=True,\n",
    "        selected_row_indices=[],\n",
    "        id='table'\n",
    "    ),\n",
    "    html.Div(id='selected-indexes')\n",
    "], className='container')\n",
    "\n",
    "\n",
    "@app.callback(Output('table', 'rows'), [Input('field-dropdown', 'value')])\n",
    "def update_table(user_selection):\n",
    "    \"\"\"\n",
    "    For user selections, return the relevant table\n",
    "    \"\"\"\n",
    "    df = get_data_object(user_selection)\n",
    "    return df.to_dict('records')\n",
    "\n",
    "\n",
    "app.css.append_css({\n",
    "    'external_url': 'https://codepen.io/chriddyp/pen/bWLwgP.css'\n",
    "})\n",
    "\n",
    "if __name__ == '__main__':\n",
    "    app.run_server(debug=True)"
   ]
  },
  {
   "cell_type": "code",
   "execution_count": null,
   "metadata": {
    "collapsed": true
   },
   "outputs": [],
   "source": []
  },
  {
   "cell_type": "code",
   "execution_count": null,
   "metadata": {
    "collapsed": true
   },
   "outputs": [],
   "source": []
  }
 ],
 "metadata": {
  "kernelspec": {
   "display_name": "Python 2",
   "language": "python",
   "name": "python2"
  },
  "language_info": {
   "codemirror_mode": {
    "name": "ipython",
    "version": 2
   },
   "file_extension": ".py",
   "mimetype": "text/x-python",
   "name": "python",
   "nbconvert_exporter": "python",
   "pygments_lexer": "ipython2",
   "version": "2.7.13"
  }
 },
 "nbformat": 4,
 "nbformat_minor": 2
}
