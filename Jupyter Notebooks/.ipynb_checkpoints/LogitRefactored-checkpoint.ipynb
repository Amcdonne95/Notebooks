{
 "cells": [
  {
   "cell_type": "code",
   "execution_count": 2,
   "metadata": {
    "collapsed": true
   },
   "outputs": [],
   "source": [
    "%matplotlib inline\n",
    "import os\n",
    "os.chdir('U:\\\\GitHubClones\\\\SALTSeniorDesign')\n",
    "os.getcwd()\n",
    "#import Excel\n",
    "import xlwings as xw\n",
    "import seaborn as sb\n",
    "import pandas as pd\n",
    "import numpy as np\n",
    "import matplotlib.pyplot as plt\n",
    "from collections import OrderedDict\n",
    "import re\n",
    "from datetime import datetime\n",
    "import datetime\n",
    "import statsmodels.formula.api as sm\n",
    "from statsmodels.stats.outliers_influence import variance_inflation_factor\n",
    "import sklearn\n",
    "from sklearn.model_selection import train_test_split\n",
    "from sklearn.ensemble import RandomForestClassifier\n",
    "from sklearn.metrics import accuracy_score\n",
    "from sklearn.metrics import confusion_matrix\n",
    "from sklearn.decomposition import PCA\n",
    "import time"
   ]
  },
  {
   "cell_type": "code",
   "execution_count": 3,
   "metadata": {},
   "outputs": [
    {
     "data": {
      "text/html": [
       "<style>.container { width:100% !important; }</style>"
      ],
      "text/plain": [
       "<IPython.core.display.HTML object>"
      ]
     },
     "metadata": {},
     "output_type": "display_data"
    }
   ],
   "source": [
    "pd.set_option('display.max_rows', 200)\n",
    "pd.set_option('display.max_columns', 200)\n",
    "pd.set_option('display.width', 1000)\n",
    "from IPython.core.display import display, HTML\n",
    "display(HTML(\"<style>.container { width:100% !important; }</style>\"))"
   ]
  },
  {
   "cell_type": "code",
   "execution_count": 4,
   "metadata": {},
   "outputs": [
    {
     "data": {
      "text/plain": [
       "'\\nx = list(Dict.keys())\\nfor i in range(0, len(x)):\\n    data[x[i]] = data[x[i]].map(Dict[x[i]])\\ndata = pd.get_dummies(data, columns= x)\\n'"
      ]
     },
     "execution_count": 4,
     "metadata": {},
     "output_type": "execute_result"
    }
   ],
   "source": [
    "mapDict = {\n",
    "    'subvented':{\n",
    "        0:'None',\n",
    "        1:'Rate',\n",
    "        2:'Cash',\n",
    "        3:'Both',\n",
    "    },\n",
    "    'vehicleTypeCode':{\n",
    "        1:'Car',\n",
    "        2:'Truck',\n",
    "        3:'SUV',\n",
    "        4:'Motorcycle',\n",
    "        98:'Other',\n",
    "        99:'Unknown'\n",
    "    },\n",
    "    'obligorIncomeVerificationLevelCode':{\n",
    "        1:'NotStatedNotVerified',\n",
    "        2:'StatedNotVerified',\n",
    "        3:'StatedVerified',\n",
    "        4:'Stated12mVerified',\n",
    "        5:'Stated24mVerified'\n",
    "    },\n",
    "    'obligorEmploymentVerificationCode':{\n",
    "        1:'NotStatedNotVerified',\n",
    "        2:'StatedNotVerified',\n",
    "        3:'StatedVerified'\n",
    "    }\n",
    "}\n",
    "\n",
    "'''\n",
    "x = list(Dict.keys())\n",
    "for i in range(0, len(x)):\n",
    "    data[x[i]] = data[x[i]].map(Dict[x[i]])\n",
    "data = pd.get_dummies(data, columns= x)\n",
    "'''\n",
    "#For creating dummy variables on the fly"
   ]
  },
  {
   "cell_type": "code",
   "execution_count": 11,
   "metadata": {
    "collapsed": true
   },
   "outputs": [],
   "source": [
    "cols = ['assetNumber', 'reportingPeriodEndingDate','reportingPeriodBeginningDate',\n",
    "        'originalLoanTerm','originalLoanAmount','vehicleValueAmount','originalInterestRatePercentage','subvented',\n",
    "        'vehicleNewUsedCode', 'vehicleModelYear','vehicleTypeCode',\n",
    "        'obligorCreditScore','obligorIncomeVerificationLevelCode', 'obligorEmploymentVerificationCode','obligorGeographicLocation',\n",
    "        'paymentToIncomePercentage', 'reportingPeriodActualEndBalanceAmount',\n",
    "        'reportingPeriodBeginningLoanBalanceAmount','totalActualAmountPaid',\n",
    "        'remainingTermToMaturityNumber',\n",
    "        'currentDelinquencyStatus','coObligorIndicator',\n",
    "        'zeroBalanceCode']\n",
    "\n",
    "logitRemoveCols = ['assetNumber', 'reportingPeriodEndingDate','originalLoanAmount','vehicleValueAmount','reportingPeriodActualEndBalanceAmount',\n",
    "        'reportingPeriodBeginningLoanBalanceAmount','totalActualAmountPaid','vehicleNewUsedCode','zeroBalanceCode',\n",
    "        'vehicleModelYear','currentDelinquencyStatus','subvented','obligorIncomeVerificationLevelCode', 'obligorEmploymentVerificationCode',\n",
    "        'obligorGeographicLocation','reportingPeriodBeginningDate']"
   ]
  },
  {
   "cell_type": "code",
   "execution_count": 12,
   "metadata": {
    "collapsed": true
   },
   "outputs": [],
   "source": [
    "wb = xw.Book('Salt.xlsm')\n",
    "setup = wb.sheets('Setup')\n",
    "output = wb.sheets('Output')\n",
    "strats = wb.sheets('Strat Tables')\n",
    "performance = wb.sheets('Performance')\n",
    "\n",
    "# Path For the Current deal that is selected based on Setup\n",
    "directory = setup['Setup.Directory'].value\n",
    "shelf = setup['Setup.Shelf'].value\n",
    "deal = setup['Setup.Deal'].value\n",
    "report = setup['Setup.Report'].value\n",
    "num_Deals = setup['Setup.Num_Deals'].value\n",
    "max_Report = setup['Setup.Max_Report_Num'].value"
   ]
  },
  {
   "cell_type": "code",
   "execution_count": 20,
   "metadata": {
    "scrolled": true
   },
   "outputs": [
    {
     "data": {
      "text/html": [
       "<div>\n",
       "<style>\n",
       "    .dataframe thead tr:only-child th {\n",
       "        text-align: right;\n",
       "    }\n",
       "\n",
       "    .dataframe thead th {\n",
       "        text-align: left;\n",
       "    }\n",
       "\n",
       "    .dataframe tbody tr th {\n",
       "        vertical-align: top;\n",
       "    }\n",
       "</style>\n",
       "<table border=\"1\" class=\"dataframe\">\n",
       "  <thead>\n",
       "    <tr style=\"text-align: right;\">\n",
       "      <th></th>\n",
       "      <th>AMCAR 2017-1</th>\n",
       "      <th>AMCAR 2017-2</th>\n",
       "      <th>AMCAR 2017-3</th>\n",
       "      <th>DRIVE 2017-1</th>\n",
       "      <th>DRIVE 2017-2</th>\n",
       "      <th>DRIVE 2017-3</th>\n",
       "      <th>SDART 2017-1</th>\n",
       "      <th>SDART 2017-2</th>\n",
       "      <th>SDART 2017-3</th>\n",
       "    </tr>\n",
       "  </thead>\n",
       "  <tbody>\n",
       "    <tr>\n",
       "      <th>0</th>\n",
       "      <td>2017\\01 January\\2017.03.23_AmeriCredit Automob...</td>\n",
       "      <td>2017\\03 March\\2017.05.02_AmeriCredit Automobil...</td>\n",
       "      <td>2017\\06 June\\2017.07.01_AmeriCredit Automobile...</td>\n",
       "      <td>2017\\05 May\\2017.06.15_Drive Auto Receivables ...</td>\n",
       "      <td>2017\\06 June\\2017.07.20_Drive Auto Receivables...</td>\n",
       "      <td>None</td>\n",
       "      <td>2017\\01 January\\2017.02.15_Santander Drive Aut...</td>\n",
       "      <td>2017\\04 April\\2017.05.18_Santander Drive Auto ...</td>\n",
       "      <td>2017\\08 August\\2017.09.07_Santander Drive Auto...</td>\n",
       "    </tr>\n",
       "    <tr>\n",
       "      <th>1</th>\n",
       "      <td>2017\\02 February\\2017.03.23_AmeriCredit Automo...</td>\n",
       "      <td>2017\\04 April\\2017.06.23_AmeriCredit Automobil...</td>\n",
       "      <td>2017\\07 July\\2017.08.25_AmeriCredit Automobile...</td>\n",
       "      <td>2017\\06 June\\2017.07.17_Drive Auto Receivables...</td>\n",
       "      <td>2017\\07 July\\2017.08.15_Drive Auto Receivables...</td>\n",
       "      <td>None</td>\n",
       "      <td>2017\\02 February\\2017.03.15_Santander Drive Au...</td>\n",
       "      <td>2017\\05 May\\2017.06.15_Santander Drive Auto Re...</td>\n",
       "      <td>2017\\09 September\\2017.10.16_Santander Drive A...</td>\n",
       "    </tr>\n",
       "    <tr>\n",
       "      <th>2</th>\n",
       "      <td>2017\\03 March\\2017.04.24_AmeriCredit Automobil...</td>\n",
       "      <td>2017\\05 May\\2017.07.24_AmeriCredit Automobile ...</td>\n",
       "      <td>2017\\08 August\\2017.09.25_AmeriCredit Automobi...</td>\n",
       "      <td>2017\\07 July\\2017.08.15_Drive Auto Receivables...</td>\n",
       "      <td>2017\\08 August\\2017.09.15_Drive Auto Receivabl...</td>\n",
       "      <td>None</td>\n",
       "      <td>2017\\03 March\\2017.04.17_Santander Drive Auto ...</td>\n",
       "      <td>2017\\06 June\\2017.07.17_Santander Drive Auto R...</td>\n",
       "      <td>None</td>\n",
       "    </tr>\n",
       "    <tr>\n",
       "      <th>3</th>\n",
       "      <td>2017\\04 April\\2017.05.23_AmeriCredit Automobil...</td>\n",
       "      <td>2017\\06 June\\2017.08.23_AmeriCredit Automobile...</td>\n",
       "      <td>None</td>\n",
       "      <td>2017\\08 August\\2017.09.15_Drive Auto Receivabl...</td>\n",
       "      <td>2017\\09 September\\2017.10.16_Drive Auto Receiv...</td>\n",
       "      <td>None</td>\n",
       "      <td>2017\\04 April\\2017.05.15_Santander Drive Auto ...</td>\n",
       "      <td>2017\\07 July\\2017.08.15_Santander Drive Auto R...</td>\n",
       "      <td>None</td>\n",
       "    </tr>\n",
       "    <tr>\n",
       "      <th>4</th>\n",
       "      <td>2017\\05 May\\2017.06.23_AmeriCredit Automobile ...</td>\n",
       "      <td>2017\\08 August\\2017.09.25_AmeriCredit Automobi...</td>\n",
       "      <td>None</td>\n",
       "      <td>2017\\09 September\\2017.10.16_Drive Auto Receiv...</td>\n",
       "      <td>2017\\10 October\\2017.11.15_Drive Auto Receivab...</td>\n",
       "      <td>None</td>\n",
       "      <td>2017\\05 May\\2017.06.15_Santander Drive Auto Re...</td>\n",
       "      <td>2017\\08 August\\2017.09.15_Santander Drive Auto...</td>\n",
       "      <td>None</td>\n",
       "    </tr>\n",
       "    <tr>\n",
       "      <th>5</th>\n",
       "      <td>2017\\06 June\\2017.07.24_AmeriCredit Automobile...</td>\n",
       "      <td>2017\\10 October\\2017.11.22_AmeriCredit Automob...</td>\n",
       "      <td>None</td>\n",
       "      <td>2017\\10 October\\2017.11.15_Drive Auto Receivab...</td>\n",
       "      <td>None</td>\n",
       "      <td>None</td>\n",
       "      <td>2017\\06 June\\2017.07.17_Santander Drive Auto R...</td>\n",
       "      <td>2017\\09 September\\2017.10.16_Santander Drive A...</td>\n",
       "      <td>None</td>\n",
       "    </tr>\n",
       "    <tr>\n",
       "      <th>6</th>\n",
       "      <td>2017\\07 July\\2017.08.23_AmeriCredit Automobile...</td>\n",
       "      <td>None</td>\n",
       "      <td>None</td>\n",
       "      <td>None</td>\n",
       "      <td>None</td>\n",
       "      <td>None</td>\n",
       "      <td>2017\\07 July\\2017.08.15_Santander Drive Auto R...</td>\n",
       "      <td>2017\\10 October\\2017.11.15_Santander Drive Aut...</td>\n",
       "      <td>None</td>\n",
       "    </tr>\n",
       "    <tr>\n",
       "      <th>7</th>\n",
       "      <td>2017\\08 August\\2017.09.25_AmeriCredit Automobi...</td>\n",
       "      <td>None</td>\n",
       "      <td>None</td>\n",
       "      <td>None</td>\n",
       "      <td>None</td>\n",
       "      <td>None</td>\n",
       "      <td>2017\\08 August\\2017.09.15_Santander Drive Auto...</td>\n",
       "      <td>None</td>\n",
       "      <td>None</td>\n",
       "    </tr>\n",
       "    <tr>\n",
       "      <th>8</th>\n",
       "      <td>2017\\10 October\\2017.11.22_AmeriCredit Automob...</td>\n",
       "      <td>None</td>\n",
       "      <td>None</td>\n",
       "      <td>None</td>\n",
       "      <td>None</td>\n",
       "      <td>None</td>\n",
       "      <td>2017\\09 September\\2017.10.16_Santander Drive A...</td>\n",
       "      <td>None</td>\n",
       "      <td>None</td>\n",
       "    </tr>\n",
       "  </tbody>\n",
       "</table>\n",
       "</div>"
      ],
      "text/plain": [
       "                                        AMCAR 2017-1                                       AMCAR 2017-2                                       AMCAR 2017-3                                       DRIVE 2017-1                                       DRIVE 2017-2 DRIVE 2017-3                                       SDART 2017-1                                       SDART 2017-2                                       SDART 2017-3\n",
       "0  2017\\01 January\\2017.03.23_AmeriCredit Automob...  2017\\03 March\\2017.05.02_AmeriCredit Automobil...  2017\\06 June\\2017.07.01_AmeriCredit Automobile...  2017\\05 May\\2017.06.15_Drive Auto Receivables ...  2017\\06 June\\2017.07.20_Drive Auto Receivables...         None  2017\\01 January\\2017.02.15_Santander Drive Aut...  2017\\04 April\\2017.05.18_Santander Drive Auto ...  2017\\08 August\\2017.09.07_Santander Drive Auto...\n",
       "1  2017\\02 February\\2017.03.23_AmeriCredit Automo...  2017\\04 April\\2017.06.23_AmeriCredit Automobil...  2017\\07 July\\2017.08.25_AmeriCredit Automobile...  2017\\06 June\\2017.07.17_Drive Auto Receivables...  2017\\07 July\\2017.08.15_Drive Auto Receivables...         None  2017\\02 February\\2017.03.15_Santander Drive Au...  2017\\05 May\\2017.06.15_Santander Drive Auto Re...  2017\\09 September\\2017.10.16_Santander Drive A...\n",
       "2  2017\\03 March\\2017.04.24_AmeriCredit Automobil...  2017\\05 May\\2017.07.24_AmeriCredit Automobile ...  2017\\08 August\\2017.09.25_AmeriCredit Automobi...  2017\\07 July\\2017.08.15_Drive Auto Receivables...  2017\\08 August\\2017.09.15_Drive Auto Receivabl...         None  2017\\03 March\\2017.04.17_Santander Drive Auto ...  2017\\06 June\\2017.07.17_Santander Drive Auto R...                                               None\n",
       "3  2017\\04 April\\2017.05.23_AmeriCredit Automobil...  2017\\06 June\\2017.08.23_AmeriCredit Automobile...                                               None  2017\\08 August\\2017.09.15_Drive Auto Receivabl...  2017\\09 September\\2017.10.16_Drive Auto Receiv...         None  2017\\04 April\\2017.05.15_Santander Drive Auto ...  2017\\07 July\\2017.08.15_Santander Drive Auto R...                                               None\n",
       "4  2017\\05 May\\2017.06.23_AmeriCredit Automobile ...  2017\\08 August\\2017.09.25_AmeriCredit Automobi...                                               None  2017\\09 September\\2017.10.16_Drive Auto Receiv...  2017\\10 October\\2017.11.15_Drive Auto Receivab...         None  2017\\05 May\\2017.06.15_Santander Drive Auto Re...  2017\\08 August\\2017.09.15_Santander Drive Auto...                                               None\n",
       "5  2017\\06 June\\2017.07.24_AmeriCredit Automobile...  2017\\10 October\\2017.11.22_AmeriCredit Automob...                                               None  2017\\10 October\\2017.11.15_Drive Auto Receivab...                                               None         None  2017\\06 June\\2017.07.17_Santander Drive Auto R...  2017\\09 September\\2017.10.16_Santander Drive A...                                               None\n",
       "6  2017\\07 July\\2017.08.23_AmeriCredit Automobile...                                               None                                               None                                               None                                               None         None  2017\\07 July\\2017.08.15_Santander Drive Auto R...  2017\\10 October\\2017.11.15_Santander Drive Aut...                                               None\n",
       "7  2017\\08 August\\2017.09.25_AmeriCredit Automobi...                                               None                                               None                                               None                                               None         None  2017\\08 August\\2017.09.15_Santander Drive Auto...                                               None                                               None\n",
       "8  2017\\10 October\\2017.11.22_AmeriCredit Automob...                                               None                                               None                                               None                                               None         None  2017\\09 September\\2017.10.16_Santander Drive A...                                               None                                               None"
      ]
     },
     "execution_count": 20,
     "metadata": {},
     "output_type": "execute_result"
    }
   ],
   "source": [
    "tapes = np.array(setup['Tapes'].value)\n",
    "tapes = tapes[0:int(max_Report),0:int(num_Deals)]\n",
    "dfTapes = pd.DataFrame(data=tapes[1:,1:], columns=tapes[0,1:])\n",
    "dfTapes"
   ]
  },
  {
   "cell_type": "code",
   "execution_count": 22,
   "metadata": {},
   "outputs": [
    {
     "data": {
      "text/plain": [
       "0    2017\\01 January\\2017.02.15_Santander Drive Aut...\n",
       "1    2017\\02 February\\2017.03.15_Santander Drive Au...\n",
       "2    2017\\03 March\\2017.04.17_Santander Drive Auto ...\n",
       "3    2017\\04 April\\2017.05.15_Santander Drive Auto ...\n",
       "4    2017\\05 May\\2017.06.15_Santander Drive Auto Re...\n",
       "5    2017\\06 June\\2017.07.17_Santander Drive Auto R...\n",
       "6    2017\\07 July\\2017.08.15_Santander Drive Auto R...\n",
       "7    2017\\08 August\\2017.09.15_Santander Drive Auto...\n",
       "8    2017\\09 September\\2017.10.16_Santander Drive A...\n",
       "Name: SDART 2017-1, dtype: object"
      ]
     },
     "execution_count": 22,
     "metadata": {},
     "output_type": "execute_result"
    }
   ],
   "source": [
    "dfTapes[deal]"
   ]
  },
  {
   "cell_type": "code",
   "execution_count": 24,
   "metadata": {},
   "outputs": [
    {
     "name": "stdout",
     "output_type": "stream",
     "text": [
      "['2017\\\\01 January\\\\2017.02.15_Santander Drive Auto Receivables Trust 2017-1 Data Tape.csv', '2017\\\\02 February\\\\2017.03.15_Santander Drive Auto Receivables Trust 2017-1 Data Tape.csv', '2017\\\\03 March\\\\2017.04.17_Santander Drive Auto Receivables Trust 2017-1 Data Tape.csv', '2017\\\\04 April\\\\2017.05.15_Santander Drive Auto Receivables Trust 2017-1 Data Tape.csv', '2017\\\\05 May\\\\2017.06.15_Santander Drive Auto Receivables Trust 2017-1 Data Tape.csv', '2017\\\\06 June\\\\2017.07.17_Santander Drive Auto Receivables Trust 2017-1 Data Tape.csv', '2017\\\\07 July\\\\2017.08.15_Santander Drive Auto Receivables Trust 2017-1 Data Tape.csv', '2017\\\\08 August\\\\2017.09.15_Santander Drive Auto Receivables Trust 2017-1 Data Tape.csv', '2017\\\\09 September\\\\2017.10.16_Santander Drive Auto Receivables Trust 2017-1 Data Tape.csv']\n",
      "2017\\01 January\\2017.02.15_Santander Drive Auto Receivables Trust 2017-1 Data Tape.csv\n",
      "2017\\02 February\\2017.03.15_Santander Drive Auto Receivables Trust 2017-1 Data Tape.csv\n",
      "2017\\03 March\\2017.04.17_Santander Drive Auto Receivables Trust 2017-1 Data Tape.csv\n",
      "2017\\04 April\\2017.05.15_Santander Drive Auto Receivables Trust 2017-1 Data Tape.csv\n",
      "2017\\05 May\\2017.06.15_Santander Drive Auto Receivables Trust 2017-1 Data Tape.csv\n",
      "2017\\06 June\\2017.07.17_Santander Drive Auto Receivables Trust 2017-1 Data Tape.csv\n",
      "2017\\07 July\\2017.08.15_Santander Drive Auto Receivables Trust 2017-1 Data Tape.csv\n",
      "2017\\08 August\\2017.09.15_Santander Drive Auto Receivables Trust 2017-1 Data Tape.csv\n",
      "2017\\09 September\\2017.10.16_Santander Drive Auto Receivables Trust 2017-1 Data Tape.csv\n"
     ]
    }
   ],
   "source": [
    "dealList = list(dfTapes[deal].astype(str))\n",
    "print(dealList)\n",
    "dealList = list(filter(lambda a: a != 'None', dealList))\n",
    "train = pd.DataFrame()\n",
    "for i in range(0, len(dealList)):\n",
    "    print(dealList[i])"
   ]
  },
  {
   "cell_type": "code",
   "execution_count": 14,
   "metadata": {
    "collapsed": true
   },
   "outputs": [],
   "source": [
    "def chargeOffs(tapes, deal, unemploymentPath):\n",
    "    dealList = list(tapes[deal].astype(str))\n",
    "    dealList = list(filter(lambda a: a != 'None', dealList))\n",
    "    train = pd.DataFrame()\n",
    "    for i in range(0, len(dealList)):\n",
    "        path = directory + '\\\\' + shelf + '\\\\' + deal + '\\\\' + dealList[i]\n",
    "        df = pd.read_csv(path, usecols=cols, memory_map=True, low_memory=False)\n",
    "        df = df[~df.zeroBalanceCode.isin(['-'])]#taking out all of the performing loans so far\n",
    "        \n",
    "        df['LTV'] = (df['originalLoanAmount']/df['vehicleValueAmount'])*100\n",
    "        df['loanDiff'] = (df['originalLoanAmount'] - df['reportingPeriodBeginningLoanBalanceAmount'])\n",
    "        df['coObligorIndicator'] = df['coObligorIndicator'].astype(int)\n",
    "        \n",
    "        umrate = pd.read_csv(unemploymentPath, memory_map=True, low_memory=False)\n",
    "        umrate['Date'] = pd.to_datetime(umrate.Date)\n",
    "        umrate['Date'] = umrate['Date'].dt.strftime('%m/%d/%Y')\n",
    "        umrate = umrate.set_index('Date')\n",
    "        stateDict = umrate.to_dict(orient='index')\n",
    "\n",
    "        df['reportingPeriodBeginningDate'] = pd.to_datetime(df['reportingPeriodBeginningDate']).dt.strftime('%m/%d/%Y')\n",
    "        states = list(df['obligorGeographicLocation'])\n",
    "        uniqueList = df.reportingPeriodBeginningDate.unique()\n",
    "        umList = []\n",
    "        for j in range(0, len(states)):\n",
    "            if not uniqueList[0]:\n",
    "                continue\n",
    "            val = stateDict[uniqueList[0]].get(states[j])\n",
    "            umList.append(val)\n",
    "        unemployment = pd.Series(umList)\n",
    "        df = df.assign(StateUnemployment=unemployment.values)\n",
    "        train = train.append(df)\n",
    "    \n",
    "    \n",
    "    return train"
   ]
  },
  {
   "cell_type": "code",
   "execution_count": 15,
   "metadata": {
    "scrolled": true
   },
   "outputs": [
    {
     "ename": "TypeError",
     "evalue": "object of type 'filter' has no len()",
     "output_type": "error",
     "traceback": [
      "\u001b[1;31m---------------------------------------------------------------------------\u001b[0m",
      "\u001b[1;31mTypeError\u001b[0m                                 Traceback (most recent call last)",
      "\u001b[1;32m<ipython-input-15-4ecd60d9848e>\u001b[0m in \u001b[0;36m<module>\u001b[1;34m()\u001b[0m\n\u001b[0;32m      1\u001b[0m \u001b[0mumRatePath\u001b[0m \u001b[1;33m=\u001b[0m \u001b[1;34m'U:\\\\GitHubClones\\\\SALTSeniorDesign\\\\'\u001b[0m \u001b[1;33m+\u001b[0m \u001b[1;34m'State_level_unemployment_rate.csv'\u001b[0m\u001b[1;33m\u001b[0m\u001b[0m\n\u001b[1;32m----> 2\u001b[1;33m \u001b[0mdfTrain\u001b[0m \u001b[1;33m=\u001b[0m \u001b[0mchargeOffs\u001b[0m\u001b[1;33m(\u001b[0m\u001b[0mdfTapes\u001b[0m\u001b[1;33m,\u001b[0m \u001b[0mdeal\u001b[0m\u001b[1;33m,\u001b[0m \u001b[0mumRatePath\u001b[0m\u001b[1;33m)\u001b[0m\u001b[1;33m\u001b[0m\u001b[0m\n\u001b[0m",
      "\u001b[1;32m<ipython-input-14-e1bacde32297>\u001b[0m in \u001b[0;36mchargeOffs\u001b[1;34m(tapes, deal, unemploymentPath)\u001b[0m\n\u001b[0;32m      3\u001b[0m     \u001b[0mdealLis\u001b[0m \u001b[1;33m=\u001b[0m \u001b[0mfilter\u001b[0m\u001b[1;33m(\u001b[0m\u001b[1;32mlambda\u001b[0m \u001b[0ma\u001b[0m\u001b[1;33m:\u001b[0m \u001b[0ma\u001b[0m \u001b[1;33m!=\u001b[0m \u001b[1;34m'None'\u001b[0m\u001b[1;33m,\u001b[0m \u001b[0mdealLis\u001b[0m\u001b[1;33m)\u001b[0m\u001b[1;33m\u001b[0m\u001b[0m\n\u001b[0;32m      4\u001b[0m     \u001b[0mtrain\u001b[0m \u001b[1;33m=\u001b[0m \u001b[0mpd\u001b[0m\u001b[1;33m.\u001b[0m\u001b[0mDataFrame\u001b[0m\u001b[1;33m(\u001b[0m\u001b[1;33m)\u001b[0m\u001b[1;33m\u001b[0m\u001b[0m\n\u001b[1;32m----> 5\u001b[1;33m     \u001b[1;32mfor\u001b[0m \u001b[0mi\u001b[0m \u001b[1;32min\u001b[0m \u001b[0mrange\u001b[0m\u001b[1;33m(\u001b[0m\u001b[1;36m0\u001b[0m\u001b[1;33m,\u001b[0m \u001b[0mlen\u001b[0m\u001b[1;33m(\u001b[0m\u001b[0mdealLis\u001b[0m\u001b[1;33m)\u001b[0m\u001b[1;33m)\u001b[0m\u001b[1;33m:\u001b[0m\u001b[1;33m\u001b[0m\u001b[0m\n\u001b[0m\u001b[0;32m      6\u001b[0m         \u001b[0mpath\u001b[0m \u001b[1;33m=\u001b[0m \u001b[0mdirectory\u001b[0m \u001b[1;33m+\u001b[0m \u001b[1;34m'\\\\'\u001b[0m \u001b[1;33m+\u001b[0m \u001b[0mshelf\u001b[0m \u001b[1;33m+\u001b[0m \u001b[1;34m'\\\\'\u001b[0m \u001b[1;33m+\u001b[0m \u001b[0mdeal\u001b[0m \u001b[1;33m+\u001b[0m \u001b[1;34m'\\\\'\u001b[0m \u001b[1;33m+\u001b[0m \u001b[0mdealLis\u001b[0m\u001b[1;33m[\u001b[0m\u001b[0mi\u001b[0m\u001b[1;33m]\u001b[0m\u001b[1;33m\u001b[0m\u001b[0m\n\u001b[0;32m      7\u001b[0m         \u001b[0mdf\u001b[0m \u001b[1;33m=\u001b[0m \u001b[0mpd\u001b[0m\u001b[1;33m.\u001b[0m\u001b[0mread_csv\u001b[0m\u001b[1;33m(\u001b[0m\u001b[0mpath\u001b[0m\u001b[1;33m,\u001b[0m \u001b[0musecols\u001b[0m\u001b[1;33m=\u001b[0m\u001b[0mcols\u001b[0m\u001b[1;33m,\u001b[0m \u001b[0mmemory_map\u001b[0m\u001b[1;33m=\u001b[0m\u001b[1;32mTrue\u001b[0m\u001b[1;33m,\u001b[0m \u001b[0mlow_memory\u001b[0m\u001b[1;33m=\u001b[0m\u001b[1;32mFalse\u001b[0m\u001b[1;33m)\u001b[0m\u001b[1;33m\u001b[0m\u001b[0m\n",
      "\u001b[1;31mTypeError\u001b[0m: object of type 'filter' has no len()"
     ]
    }
   ],
   "source": [
    "umRatePath = 'U:\\\\GitHubClones\\\\SALTSeniorDesign\\\\' + 'State_level_unemployment_rate.csv'\n",
    "dfTrain = chargeOffs(dfTapes, deal, umRatePath)"
   ]
  },
  {
   "cell_type": "code",
   "execution_count": null,
   "metadata": {},
   "outputs": [],
   "source": [
    "dfTrain.head()"
   ]
  },
  {
   "cell_type": "code",
   "execution_count": null,
   "metadata": {
    "collapsed": true
   },
   "outputs": [],
   "source": [
    "def clean(data):\n",
    "    data['obligorCreditScore'] = data['obligorCreditScore'].replace(['-'], 0)\n",
    "    data['zeroBalanceCode'] = pd.to_numeric(data['zeroBalanceCode'], errors = 'coerce')\n",
    "    data['obligorCreditScore'] = pd.to_numeric(data['obligorCreditScore'], errors = 'coerce')\n",
    "    data['subvented'] = pd.to_numeric(data['subvented'], errors = 'coerce').fillna(3)\n",
    "    return data\n",
    "\n",
    "def logitDummyVariables(data):\n",
    "    \n",
    "    data['newUsed'] = np.where((data['vehicleNewUsedCode']>1), 1, 0) # 0 means new, 1 means used\n",
    "    data['subvent'] = np.where((data['subvented']>0), 1, 0)\n",
    "    data['verifyScore'] = data['obligorIncomeVerificationLevelCode'] + data['obligorEmploymentVerificationCode']\n",
    "    data['Default'] = np.where((data['zeroBalanceCode'] == 4), 1, 0)\n",
    "    \n",
    "    return data"
   ]
  },
  {
   "cell_type": "code",
   "execution_count": null,
   "metadata": {},
   "outputs": [],
   "source": [
    "dfTrain = clean(dfTrain)\n",
    "dfTrain = logitDummyVariables(dfTrain)\n",
    "dfTrain = dfTrain.drop(logitRemoveCols, axis=1)\n",
    "dfTrain.head()"
   ]
  },
  {
   "cell_type": "code",
   "execution_count": null,
   "metadata": {},
   "outputs": [],
   "source": [
    "sb.heatmap(dfTrain.corr())"
   ]
  },
  {
   "cell_type": "code",
   "execution_count": null,
   "metadata": {
    "collapsed": true
   },
   "outputs": [],
   "source": [
    "modelCols = list(dfTrain.columns)\n",
    "modelCols = modelCols[:-1]\n",
    "predictors = dfTrain[modelCols]\n",
    "y = dfTrain.Default"
   ]
  },
  {
   "cell_type": "code",
   "execution_count": null,
   "metadata": {
    "scrolled": true
   },
   "outputs": [],
   "source": [
    "est = sm.OLS(y, predictors).fit()\n",
    "est.summary()"
   ]
  },
  {
   "cell_type": "code",
   "execution_count": null,
   "metadata": {
    "scrolled": true
   },
   "outputs": [],
   "source": [
    "logReg = sm.Logit(y,predictors).fit()\n",
    "logReg.summary()"
   ]
  },
  {
   "cell_type": "code",
   "execution_count": null,
   "metadata": {
    "collapsed": true
   },
   "outputs": [],
   "source": []
  },
  {
   "cell_type": "code",
   "execution_count": null,
   "metadata": {
    "collapsed": true
   },
   "outputs": [],
   "source": []
  },
  {
   "cell_type": "code",
   "execution_count": null,
   "metadata": {
    "collapsed": true
   },
   "outputs": [],
   "source": []
  },
  {
   "cell_type": "code",
   "execution_count": null,
   "metadata": {
    "collapsed": true
   },
   "outputs": [],
   "source": [
    "dfForest = chargeOffs(dfTapes, deal, umRatePath)\n",
    "dfForest = clean(dfForest)"
   ]
  }
 ],
 "metadata": {
  "kernelspec": {
   "display_name": "Python 3",
   "language": "python",
   "name": "python3"
  },
  "language_info": {
   "codemirror_mode": {
    "name": "ipython",
    "version": 3
   },
   "file_extension": ".py",
   "mimetype": "text/x-python",
   "name": "python",
   "nbconvert_exporter": "python",
   "pygments_lexer": "ipython3",
   "version": "3.6.1"
  }
 },
 "nbformat": 4,
 "nbformat_minor": 2
}
