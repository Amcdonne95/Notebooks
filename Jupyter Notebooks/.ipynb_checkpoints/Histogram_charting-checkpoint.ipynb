{
 "cells": [
  {
   "cell_type": "markdown",
   "metadata": {},
   "source": [
    "##### Auto Generates Dynamic Histograms for Compareing Non-performing and Original Credit Metrics"
   ]
  },
  {
   "cell_type": "code",
   "execution_count": 2,
   "metadata": {},
   "outputs": [],
   "source": [
    "import plotly.plotly as py\n",
    "import plotly.graph_objs as go\n",
    "import pandas as pd\n",
    "import numpy as np\n",
    "import colorlover as cl\n",
    "from IPython.display import HTML"
   ]
  },
  {
   "cell_type": "code",
   "execution_count": 3,
   "metadata": {
    "collapsed": true
   },
   "outputs": [],
   "source": [
    "path = 'https://raw.githubusercontent.com/Amcdonne95/SeniorDesignData/master/Drive%20Auto%20Receivables%20Trust/DRIVE%202017-1/2017/05%20May/2017.06.15_Drive%20Auto%20Receivables%20Trust%202017-1%20Data%20Tape.csv'\n",
    "path_2 = 'https://raw.githubusercontent.com/Amcdonne95/SeniorDesignData/master/Non-performing_loans/Drive%20Auto%20Receivables%20Trust/DRIVE%202017-1/Non-performing_loans_April-2018.csv'"
   ]
  },
  {
   "cell_type": "code",
   "execution_count": 4,
   "metadata": {
    "collapsed": true,
    "scrolled": true
   },
   "outputs": [],
   "source": [
    "df_1 = pd.read_csv(path, low_memory=False, memory_map=True)\n",
    "df_2 =pd.read_csv(path_2, low_memory=False, memory_map=True)"
   ]
  },
  {
   "cell_type": "code",
   "execution_count": 18,
   "metadata": {
    "collapsed": true
   },
   "outputs": [
    {
     "data": {
      "text/plain": [
       "13310    75\n",
       "10133    75\n",
       "2195     75\n",
       "4147     75\n",
       "12999    75\n",
       "17538    75\n",
       "623      75\n",
       "626      75\n",
       "2146     75\n",
       "13044    75\n",
       "2745     75\n",
       "2278     75\n",
       "10112    75\n",
       "13459    75\n",
       "17918    75\n",
       "17917    75\n",
       "9496     75\n",
       "3944     75\n",
       "13656    75\n",
       "3948     75\n",
       "17848    75\n",
       "3841     75\n",
       "4065     75\n",
       "17932    75\n",
       "2193     75\n",
       "13036    75\n",
       "9540     75\n",
       "3882     75\n",
       "13366    75\n",
       "2314     75\n",
       "         ..\n",
       "6698     24\n",
       "163      24\n",
       "16953    24\n",
       "516      24\n",
       "1070     24\n",
       "10658    24\n",
       "721      24\n",
       "720      24\n",
       "3053     24\n",
       "22279    24\n",
       "2856     24\n",
       "10752    24\n",
       "10754    24\n",
       "14013    24\n",
       "21933    24\n",
       "10868    24\n",
       "112      24\n",
       "1627     24\n",
       "3607     24\n",
       "19327    24\n",
       "8379     24\n",
       "22368    24\n",
       "21031    24\n",
       "15243    24\n",
       "6991     24\n",
       "7222     24\n",
       "11163    24\n",
       "6025     24\n",
       "15936    24\n",
       "11343    24\n",
       "Name: originalLoanTerm, Length: 22825, dtype: int64"
      ]
     },
     "execution_count": 18,
     "metadata": {},
     "output_type": "execute_result"
    }
   ],
   "source": [
    "df_2['originalLoanTerm'].sort_values(ascending=False)"
   ]
  },
  {
   "cell_type": "code",
   "execution_count": 32,
   "metadata": {},
   "outputs": [
    {
     "data": {
      "text/plain": [
       "['rgb(165,0,38)',\n",
       " 'rgb(215,48,39)',\n",
       " 'rgb(244,109,67)',\n",
       " 'rgb(253,174,97)',\n",
       " 'rgb(254,224,139)',\n",
       " 'rgb(255,255,191)',\n",
       " 'rgb(217,239,139)',\n",
       " 'rgb(166,217,106)',\n",
       " 'rgb(102,189,99)',\n",
       " 'rgb(26,152,80)',\n",
       " 'rgb(0,104,55)']"
      ]
     },
     "execution_count": 32,
     "metadata": {},
     "output_type": "execute_result"
    }
   ],
   "source": [
    "ryb = cl.scales['11']['div']['RdYlGn']\n",
    "ryb"
   ]
  },
  {
   "cell_type": "code",
   "execution_count": 34,
   "metadata": {},
   "outputs": [
    {
     "data": {
      "text/html": [
       "<div style=\"background-color:rgb(165,0,38);height:20px;width:20px;display:inline-block;\"></div><div style=\"background-color:rgb(215,48,39);height:20px;width:20px;display:inline-block;\"></div><div style=\"background-color:rgb(244,109,67);height:20px;width:20px;display:inline-block;\"></div><div style=\"background-color:rgb(253,174,97);height:20px;width:20px;display:inline-block;\"></div><div style=\"background-color:rgb(254,224,139);height:20px;width:20px;display:inline-block;\"></div><div style=\"background-color:rgb(255,255,191);height:20px;width:20px;display:inline-block;\"></div><div style=\"background-color:rgb(217,239,139);height:20px;width:20px;display:inline-block;\"></div><div style=\"background-color:rgb(166,217,106);height:20px;width:20px;display:inline-block;\"></div><div style=\"background-color:rgb(102,189,99);height:20px;width:20px;display:inline-block;\"></div><div style=\"background-color:rgb(26,152,80);height:20px;width:20px;display:inline-block;\"></div><div style=\"background-color:rgb(0,104,55);height:20px;width:20px;display:inline-block;\"></div>"
      ],
      "text/plain": [
       "<IPython.core.display.HTML object>"
      ]
     },
     "execution_count": 34,
     "metadata": {},
     "output_type": "execute_result"
    }
   ],
   "source": [
    "HTML(cl.to_html(ryb))"
   ]
  },
  {
   "cell_type": "code",
   "execution_count": 27,
   "metadata": {
    "collapsed": true
   },
   "outputs": [],
   "source": [
    "scale = []"
   ]
  },
  {
   "cell_type": "code",
   "execution_count": 37,
   "metadata": {
    "collapsed": true
   },
   "outputs": [],
   "source": [
    "scale_2 = [[0,ryb[10]], [.111111111,ryb[9]], [.2222222,ryb[8]], [.333333333,ryb[7]], [.444444444,ryb[6]],\n",
    "           [.55555555,ryb[5]],[.66666666, ryb[4]], [.7777777777,ryb[3]], [.88888888,ryb[2]], \n",
    "           [.99999999,ryb[1]], [1.0,ryb[0]]]"
   ]
  },
  {
   "cell_type": "code",
   "execution_count": null,
   "metadata": {
    "collapsed": true
   },
   "outputs": [],
   "source": []
  },
  {
   "cell_type": "code",
   "execution_count": null,
   "metadata": {
    "collapsed": true
   },
   "outputs": [],
   "source": []
  },
  {
   "cell_type": "code",
   "execution_count": null,
   "metadata": {
    "collapsed": true
   },
   "outputs": [],
   "source": []
  },
  {
   "cell_type": "code",
   "execution_count": 41,
   "metadata": {},
   "outputs": [
    {
     "data": {
      "text/html": [
       "<iframe id=\"igraph\" scrolling=\"no\" style=\"border:none;\" seamless=\"seamless\" src=\"https://plot.ly/~amcdonne/17.embed\" height=\"525px\" width=\"100%\"></iframe>"
      ],
      "text/plain": [
       "<plotly.tools.PlotlyDisplay object>"
      ]
     },
     "execution_count": 41,
     "metadata": {},
     "output_type": "execute_result"
    }
   ],
   "source": [
    "#colorscale is mapped by normalizing the values \n",
    "trace1 = go.Scattergl(\n",
    "        x=df_2['originalInterestRatePercentage'],\n",
    "        y=df_2['originalLoanAmount'],\n",
    "        mode='markers',\n",
    "        marker=dict(\n",
    "            color=df_2['originalLoanTerm'],\n",
    "            colorscale= [[0,ryb[10]], [.111111111,ryb[9]], [.2222222,ryb[8]], [.333333333,ryb[7]], [.444444444,ryb[6]],\n",
    "           [.55555555,ryb[5]],[.66666666, ryb[4]], [.7777777777,ryb[3]], [.88888888,ryb[2]], \n",
    "           [.99999999,ryb[1]], [1.0,ryb[0]]],\n",
    "            showscale=True,\n",
    "            opacity=.70\n",
    "        ),\n",
    "    )\n",
    "data = go.Data([trace1])\n",
    "layout = go.Layout(title='Loan Amount vs APR')\n",
    "figure=go.Figure(data=data, layout=layout)\n",
    "py.iplot(figure, filename='scatter')"
   ]
  },
  {
   "cell_type": "code",
   "execution_count": null,
   "metadata": {
    "collapsed": true
   },
   "outputs": [],
   "source": []
  },
  {
   "cell_type": "code",
   "execution_count": 112,
   "metadata": {
    "collapsed": true
   },
   "outputs": [],
   "source": [
    "def fico_scoreHist(before, after):\n",
    "    after = after[~after.obligorCreditScore.isin(['-'])]\n",
    "    after = after[after['zeroBalanceCode'] == 4]\n",
    "    after = after['obligorCreditScore']\n",
    "\n",
    "    before = before[~before.obligorCreditScore.isin(['-'])]\n",
    "    before = before['obligorCreditScore']\n",
    "\n",
    "    before = pd.to_numeric(before, errors='coerce')\n",
    "    after = pd.to_numeric(after, errors='coerce')\n",
    "        \n",
    "    trace1 = go.Histogram(\n",
    "    name='Fico Scores at Origination',\n",
    "    x=before,\n",
    "    opacity=0.75\n",
    "    )\n",
    "\n",
    "    trace2 = go.Histogram(\n",
    "        name='Defaulted Fico Scores',\n",
    "        x=after,\n",
    "        opacity=0.75\n",
    "    )\n",
    "    data = [trace1, trace2]\n",
    "    layout = go.Layout(barmode='overlay')\n",
    "    fig = go.Figure(data=data, layout=layout)\n",
    "    return py.iplot(fig, filename='overlayHist')"
   ]
  },
  {
   "cell_type": "code",
   "execution_count": 102,
   "metadata": {
    "collapsed": true
   },
   "outputs": [],
   "source": [
    "def other_histograms(before, after, metric):\n",
    "    metric = str(metric)\n",
    "    mapDict = {\n",
    "        'originalInterestRatePercentage':\"APR's\",\n",
    "        'LTV':\"LTV's\",\n",
    "        'paymentToIncomePercentage':\"PTI's\"\n",
    "    }\n",
    "    \n",
    "    if metric == 'LTV':\n",
    "        before['LTV'] = (before['originalLoanAmount']/before['vehicleValueAmount'])*100\n",
    "        after['LTV'] = (after['originalLoanAmount']/after['vehicleValueAmount'])*100\n",
    "    \n",
    "    after = after[after['zeroBalanceCode'] == 4]\n",
    "    before = pd.to_numeric(before[metric], errors='coerce')\n",
    "    after = pd.to_numeric(after[metric], errors='coerce')\n",
    "    \n",
    "\n",
    "    trace1 = go.Histogram(\n",
    "    name= mapDict[metric] + ' at Origination',\n",
    "    x=before,\n",
    "    opacity=0.75\n",
    "     )\n",
    "\n",
    "    trace2 = go.Histogram(\n",
    "        name='Defaulted ' + mapDict[metric],\n",
    "        x=after,\n",
    "        opacity=0.75\n",
    "    )\n",
    "    data = [trace1, trace2]\n",
    "    layout = go.Layout(barmode='overlay')\n",
    "    fig = go.Figure(data=data, layout=layout)\n",
    "    return py.iplot(fig, filename='overlayHist')"
   ]
  },
  {
   "cell_type": "code",
   "execution_count": 119,
   "metadata": {
    "collapsed": true
   },
   "outputs": [],
   "source": [
    "def Histogram_data(before, after, metric):\n",
    "    metric = str(metric)\n",
    "    \n",
    "    if metric == 'obligorCreditScore':\n",
    "        after = after[~after.obligorCreditScore.isin(['-'])]\n",
    "        after = after[after['zeroBalanceCode'] == 4]\n",
    "        after = after['obligorCreditScore']\n",
    "\n",
    "        before = before[~before.obligorCreditScore.isin(['-'])]\n",
    "        before = before['obligorCreditScore']\n",
    "        return [before, after]\n",
    "    \n",
    "    if metric == 'LTV':\n",
    "        before['LTV'] = (before['originalLoanAmount']/before['vehicleValueAmount'])*100\n",
    "        after['LTV'] = (after['originalLoanAmount']/after['vehicleValueAmount'])*100\n",
    "    \n",
    "    after = after[after['zeroBalanceCode'] == 4]\n",
    "    before = pd.to_numeric(before[metric], errors='coerce')\n",
    "    after = pd.to_numeric(after[metric], errors='coerce')\n",
    "    \n",
    "    return [before, after]"
   ]
  },
  {
   "cell_type": "code",
   "execution_count": 120,
   "metadata": {
    "collapsed": true
   },
   "outputs": [],
   "source": [
    "data_lst = Histogram_data(df_1, df_2, 'LTV')"
   ]
  },
  {
   "cell_type": "code",
   "execution_count": 115,
   "metadata": {},
   "outputs": [
    {
     "name": "stderr",
     "output_type": "stream",
     "text": [
      "C:\\ProgramData\\Anaconda3\\lib\\site-packages\\plotly\\plotly\\plotly.py:224: UserWarning:\n",
      "\n",
      "Woah there! Look at all those points! Due to browser limitations, the Plotly SVG drawing functions have a hard time graphing more than 500k data points for line charts, or 40k points for other types of charts. Here are some suggestions:\n",
      "(1) Use the `plotly.graph_objs.Scattergl` trace object to generate a WebGl graph.\n",
      "(2) Trying using the image API to return an image instead of a graph URL\n",
      "(3) Use matplotlib\n",
      "(4) See if you can create your visualization with fewer data points\n",
      "\n",
      "If the visualization you're using aggregates points (e.g., box plot, histogram, etc.) you can disregard this warning.\n",
      "\n"
     ]
    },
    {
     "data": {
      "text/html": [
       "<iframe id=\"igraph\" scrolling=\"no\" style=\"border:none;\" seamless=\"seamless\" src=\"https://plot.ly/~amcdonne/15.embed\" height=\"525px\" width=\"100%\"></iframe>"
      ],
      "text/plain": [
       "<plotly.tools.PlotlyDisplay object>"
      ]
     },
     "execution_count": 115,
     "metadata": {},
     "output_type": "execute_result"
    }
   ],
   "source": [
    "fico_scoreHist(df_1, df_2)"
   ]
  },
  {
   "cell_type": "code",
   "execution_count": 97,
   "metadata": {},
   "outputs": [
    {
     "name": "stderr",
     "output_type": "stream",
     "text": [
      "C:\\ProgramData\\Anaconda3\\lib\\site-packages\\plotly\\plotly\\plotly.py:224: UserWarning:\n",
      "\n",
      "Woah there! Look at all those points! Due to browser limitations, the Plotly SVG drawing functions have a hard time graphing more than 500k data points for line charts, or 40k points for other types of charts. Here are some suggestions:\n",
      "(1) Use the `plotly.graph_objs.Scattergl` trace object to generate a WebGl graph.\n",
      "(2) Trying using the image API to return an image instead of a graph URL\n",
      "(3) Use matplotlib\n",
      "(4) See if you can create your visualization with fewer data points\n",
      "\n",
      "If the visualization you're using aggregates points (e.g., box plot, histogram, etc.) you can disregard this warning.\n",
      "\n"
     ]
    },
    {
     "data": {
      "text/html": [
       "<iframe id=\"igraph\" scrolling=\"no\" style=\"border:none;\" seamless=\"seamless\" src=\"https://plot.ly/~amcdonne/15.embed\" height=\"525px\" width=\"100%\"></iframe>"
      ],
      "text/plain": [
       "<plotly.tools.PlotlyDisplay object>"
      ]
     },
     "execution_count": 97,
     "metadata": {},
     "output_type": "execute_result"
    }
   ],
   "source": [
    "other_histograms(df_1, df_2, 'originalInterestRatePercentage')"
   ]
  },
  {
   "cell_type": "code",
   "execution_count": 101,
   "metadata": {
    "scrolled": false
   },
   "outputs": [
    {
     "name": "stderr",
     "output_type": "stream",
     "text": [
      "C:\\ProgramData\\Anaconda3\\lib\\site-packages\\plotly\\plotly\\plotly.py:224: UserWarning:\n",
      "\n",
      "Woah there! Look at all those points! Due to browser limitations, the Plotly SVG drawing functions have a hard time graphing more than 500k data points for line charts, or 40k points for other types of charts. Here are some suggestions:\n",
      "(1) Use the `plotly.graph_objs.Scattergl` trace object to generate a WebGl graph.\n",
      "(2) Trying using the image API to return an image instead of a graph URL\n",
      "(3) Use matplotlib\n",
      "(4) See if you can create your visualization with fewer data points\n",
      "\n",
      "If the visualization you're using aggregates points (e.g., box plot, histogram, etc.) you can disregard this warning.\n",
      "\n"
     ]
    },
    {
     "data": {
      "text/html": [
       "<iframe id=\"igraph\" scrolling=\"no\" style=\"border:none;\" seamless=\"seamless\" src=\"https://plot.ly/~amcdonne/15.embed\" height=\"525px\" width=\"100%\"></iframe>"
      ],
      "text/plain": [
       "<plotly.tools.PlotlyDisplay object>"
      ]
     },
     "execution_count": 101,
     "metadata": {},
     "output_type": "execute_result"
    }
   ],
   "source": [
    "other_histograms(df_1, df_2, 'LTV')"
   ]
  },
  {
   "cell_type": "code",
   "execution_count": 114,
   "metadata": {},
   "outputs": [
    {
     "name": "stderr",
     "output_type": "stream",
     "text": [
      "C:\\ProgramData\\Anaconda3\\lib\\site-packages\\plotly\\plotly\\plotly.py:224: UserWarning:\n",
      "\n",
      "Woah there! Look at all those points! Due to browser limitations, the Plotly SVG drawing functions have a hard time graphing more than 500k data points for line charts, or 40k points for other types of charts. Here are some suggestions:\n",
      "(1) Use the `plotly.graph_objs.Scattergl` trace object to generate a WebGl graph.\n",
      "(2) Trying using the image API to return an image instead of a graph URL\n",
      "(3) Use matplotlib\n",
      "(4) See if you can create your visualization with fewer data points\n",
      "\n",
      "If the visualization you're using aggregates points (e.g., box plot, histogram, etc.) you can disregard this warning.\n",
      "\n"
     ]
    },
    {
     "data": {
      "text/html": [
       "<iframe id=\"igraph\" scrolling=\"no\" style=\"border:none;\" seamless=\"seamless\" src=\"https://plot.ly/~amcdonne/15.embed\" height=\"525px\" width=\"100%\"></iframe>"
      ],
      "text/plain": [
       "<plotly.tools.PlotlyDisplay object>"
      ]
     },
     "execution_count": 114,
     "metadata": {},
     "output_type": "execute_result"
    }
   ],
   "source": [
    "other_histograms(df_1, df_2, 'paymentToIncomePercentage')"
   ]
  }
 ],
 "metadata": {
  "kernelspec": {
   "display_name": "Python 3",
   "language": "python",
   "name": "python3"
  }
 },
 "nbformat": 4,
 "nbformat_minor": 2
}
