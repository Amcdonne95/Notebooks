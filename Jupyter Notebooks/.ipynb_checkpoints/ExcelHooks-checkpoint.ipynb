{
 "cells": [
  {
   "cell_type": "code",
   "execution_count": 1,
   "metadata": {
    "collapsed": true
   },
   "outputs": [],
   "source": [
    "%matplotlib inline\n",
    "import os\n",
    "os.chdir('U:\\\\GitHubClones\\\\SALTSeniorDesign')\n",
    "os.getcwd()\n",
    "#import Excel\n",
    "import xlwings as xw\n",
    "import pandas as pd\n",
    "import numpy as np\n",
    "import matplotlib.pyplot as plt\n",
    "from collections import OrderedDict\n",
    "import re\n",
    "from datetime import datetime"
   ]
  },
  {
   "cell_type": "code",
   "execution_count": 61,
   "metadata": {},
   "outputs": [
    {
     "data": {
      "text/plain": [
       "u'0.20.1'"
      ]
     },
     "execution_count": 61,
     "metadata": {},
     "output_type": "execute_result"
    }
   ],
   "source": [
    "pd.__version__"
   ]
  },
  {
   "cell_type": "code",
   "execution_count": 2,
   "metadata": {},
   "outputs": [
    {
     "data": {
      "text/html": [
       "<style>.container { width:100% !important; }</style>"
      ],
      "text/plain": [
       "<IPython.core.display.HTML object>"
      ]
     },
     "metadata": {},
     "output_type": "display_data"
    }
   ],
   "source": [
    "pd.set_option('display.max_rows', 200)\n",
    "pd.set_option('display.max_columns', 200)\n",
    "pd.set_option('display.width', 1000)\n",
    "from IPython.core.display import display, HTML\n",
    "display(HTML(\"<style>.container { width:100% !important; }</style>\"))"
   ]
  },
  {
   "cell_type": "markdown",
   "metadata": {},
   "source": [
    "## Dont run this block for now"
   ]
  },
  {
   "cell_type": "code",
   "execution_count": null,
   "metadata": {
    "collapsed": true
   },
   "outputs": [],
   "source": [
    "def aggChargeOffs():\n",
    "    agg_df = pd.DataFrame()\n",
    "    for i in range(0, len(dfTapes[deal].index)):\n",
    "        if dfTapes[deal][i] == 'None':\n",
    "            break\n",
    "        else:\n",
    "            path = directory + '\\\\' + shelf + '\\\\' + deal + '\\\\' + dfTapes[deal][i]\n",
    "            \n",
    "            df = pd.read_csv(path, memory_map=True, low_memory=False)\n",
    "            df = df[~df.zeroBalanceCode.isin(['-'])]\n",
    "            #df['Month'] = \n",
    "            agg_df = pd.concat([agg_df, df])\n",
    "    \n",
    "    return agg_df\n",
    "aggChargeOffs()\n"
   ]
  },
  {
   "cell_type": "markdown",
   "metadata": {},
   "source": [
    "*______*"
   ]
  },
  {
   "cell_type": "code",
   "execution_count": 30,
   "metadata": {
    "collapsed": true
   },
   "outputs": [],
   "source": [
    "wb = xw.Book('Salt.xlsm')\n",
    "setup = wb.sheets('Setup')\n",
    "output = wb.sheets('Output')\n",
    "strats = wb.sheets('Strat Tables')\n",
    "performance = wb.sheets('Performance')\n",
    "summary = wb.sheets('Summary')\n",
    "\n",
    "# Path For the Current deal that is selected based on Setup\n",
    "directory = setup['Setup.Directory'].value\n",
    "shelf = setup['Setup.Shelf'].value\n",
    "deal = setup['Setup.Deal'].value\n",
    "report = setup['Setup.Report'].value\n",
    "num_Deals = setup['Setup.Num_Deals'].value\n",
    "max_Report = setup['Setup.Max_Report_Num'].value"
   ]
  },
  {
   "cell_type": "code",
   "execution_count": 3,
   "metadata": {
    "collapsed": true
   },
   "outputs": [],
   "source": [
    "tapes = np.array(setup['Tapes'].value)\n",
    "tapes = tapes[0:int(max_Report),0:int(num_Deals)]"
   ]
  },
  {
   "cell_type": "code",
   "execution_count": 4,
   "metadata": {
    "scrolled": true
   },
   "outputs": [
    {
     "data": {
      "text/html": [
       "<div>\n",
       "<style>\n",
       "    .dataframe thead tr:only-child th {\n",
       "        text-align: right;\n",
       "    }\n",
       "\n",
       "    .dataframe thead th {\n",
       "        text-align: left;\n",
       "    }\n",
       "\n",
       "    .dataframe tbody tr th {\n",
       "        vertical-align: top;\n",
       "    }\n",
       "</style>\n",
       "<table border=\"1\" class=\"dataframe\">\n",
       "  <thead>\n",
       "    <tr style=\"text-align: right;\">\n",
       "      <th></th>\n",
       "      <th>AMCAR 2017-1</th>\n",
       "      <th>AMCAR 2017-2</th>\n",
       "      <th>AMCAR 2017-3</th>\n",
       "      <th>SDART 2017-1</th>\n",
       "      <th>SDART 2017-2</th>\n",
       "      <th>SDART 2017-3</th>\n",
       "    </tr>\n",
       "  </thead>\n",
       "  <tbody>\n",
       "    <tr>\n",
       "      <th>0</th>\n",
       "      <td>2017\\01 January\\2017.03.23_AmeriCredit Automob...</td>\n",
       "      <td>2017\\03 March\\2017.05.02_AmeriCredit Automobil...</td>\n",
       "      <td>2017\\06 June\\2017.07.01_AmeriCredit Automobile...</td>\n",
       "      <td>2017\\01 January\\2017.02.15_Santander Drive Aut...</td>\n",
       "      <td>2017\\04 April\\2017.05.18_Santander Drive Auto ...</td>\n",
       "      <td>2017\\08 August\\2017.09.07_Santander Drive Auto...</td>\n",
       "    </tr>\n",
       "    <tr>\n",
       "      <th>1</th>\n",
       "      <td>2017\\02 February\\2017.03.23_AmeriCredit Automo...</td>\n",
       "      <td>2017\\04 April\\2017.06.23_AmeriCredit Automobil...</td>\n",
       "      <td>2017\\07 July\\2017.08.25_AmeriCredit Automobile...</td>\n",
       "      <td>2017\\02 February\\2017.03.15_Santander Drive Au...</td>\n",
       "      <td>2017\\05 May\\2017.06.15_Santander Drive Auto Re...</td>\n",
       "      <td>2017\\09 September\\2017.10.16_Santander Drive A...</td>\n",
       "    </tr>\n",
       "    <tr>\n",
       "      <th>2</th>\n",
       "      <td>2017\\03 March\\2017.04.24_AmeriCredit Automobil...</td>\n",
       "      <td>2017\\05 May\\2017.07.24_AmeriCredit Automobile ...</td>\n",
       "      <td>2017\\08 August\\2017.09.25_AmeriCredit Automobi...</td>\n",
       "      <td>2017\\03 March\\2017.04.17_Santander Drive Auto ...</td>\n",
       "      <td>2017\\06 June\\2017.07.17_Santander Drive Auto R...</td>\n",
       "      <td>None</td>\n",
       "    </tr>\n",
       "    <tr>\n",
       "      <th>3</th>\n",
       "      <td>2017\\04 April\\2017.05.23_AmeriCredit Automobil...</td>\n",
       "      <td>2017\\06 June\\2017.08.23_AmeriCredit Automobile...</td>\n",
       "      <td>None</td>\n",
       "      <td>2017\\04 April\\2017.05.15_Santander Drive Auto ...</td>\n",
       "      <td>2017\\07 July\\2017.08.15_Santander Drive Auto R...</td>\n",
       "      <td>None</td>\n",
       "    </tr>\n",
       "    <tr>\n",
       "      <th>4</th>\n",
       "      <td>2017\\05 May\\2017.06.23_AmeriCredit Automobile ...</td>\n",
       "      <td>2017\\08 August\\2017.09.25_AmeriCredit Automobi...</td>\n",
       "      <td>None</td>\n",
       "      <td>2017\\05 May\\2017.06.15_Santander Drive Auto Re...</td>\n",
       "      <td>2017\\08 August\\2017.09.15_Santander Drive Auto...</td>\n",
       "      <td>None</td>\n",
       "    </tr>\n",
       "  </tbody>\n",
       "</table>\n",
       "</div>"
      ],
      "text/plain": [
       "                                        AMCAR 2017-1  \\\n",
       "0  2017\\01 January\\2017.03.23_AmeriCredit Automob...   \n",
       "1  2017\\02 February\\2017.03.23_AmeriCredit Automo...   \n",
       "2  2017\\03 March\\2017.04.24_AmeriCredit Automobil...   \n",
       "3  2017\\04 April\\2017.05.23_AmeriCredit Automobil...   \n",
       "4  2017\\05 May\\2017.06.23_AmeriCredit Automobile ...   \n",
       "\n",
       "                                        AMCAR 2017-2  \\\n",
       "0  2017\\03 March\\2017.05.02_AmeriCredit Automobil...   \n",
       "1  2017\\04 April\\2017.06.23_AmeriCredit Automobil...   \n",
       "2  2017\\05 May\\2017.07.24_AmeriCredit Automobile ...   \n",
       "3  2017\\06 June\\2017.08.23_AmeriCredit Automobile...   \n",
       "4  2017\\08 August\\2017.09.25_AmeriCredit Automobi...   \n",
       "\n",
       "                                        AMCAR 2017-3  \\\n",
       "0  2017\\06 June\\2017.07.01_AmeriCredit Automobile...   \n",
       "1  2017\\07 July\\2017.08.25_AmeriCredit Automobile...   \n",
       "2  2017\\08 August\\2017.09.25_AmeriCredit Automobi...   \n",
       "3                                               None   \n",
       "4                                               None   \n",
       "\n",
       "                                        SDART 2017-1  \\\n",
       "0  2017\\01 January\\2017.02.15_Santander Drive Aut...   \n",
       "1  2017\\02 February\\2017.03.15_Santander Drive Au...   \n",
       "2  2017\\03 March\\2017.04.17_Santander Drive Auto ...   \n",
       "3  2017\\04 April\\2017.05.15_Santander Drive Auto ...   \n",
       "4  2017\\05 May\\2017.06.15_Santander Drive Auto Re...   \n",
       "\n",
       "                                        SDART 2017-2  \\\n",
       "0  2017\\04 April\\2017.05.18_Santander Drive Auto ...   \n",
       "1  2017\\05 May\\2017.06.15_Santander Drive Auto Re...   \n",
       "2  2017\\06 June\\2017.07.17_Santander Drive Auto R...   \n",
       "3  2017\\07 July\\2017.08.15_Santander Drive Auto R...   \n",
       "4  2017\\08 August\\2017.09.15_Santander Drive Auto...   \n",
       "\n",
       "                                        SDART 2017-3  \n",
       "0  2017\\08 August\\2017.09.07_Santander Drive Auto...  \n",
       "1  2017\\09 September\\2017.10.16_Santander Drive A...  \n",
       "2                                               None  \n",
       "3                                               None  \n",
       "4                                               None  "
      ]
     },
     "execution_count": 4,
     "metadata": {},
     "output_type": "execute_result"
    }
   ],
   "source": [
    "dfTapes = pd.DataFrame(data=tapes[1:,1:], columns=tapes[0,1:])\n",
    "dfTapes.head()"
   ]
  },
  {
   "cell_type": "code",
   "execution_count": 5,
   "metadata": {
    "collapsed": true
   },
   "outputs": [],
   "source": [
    "path = directory + '\\\\' + shelf + '\\\\' + deal + '\\\\' + dfTapes[deal][0]"
   ]
  },
  {
   "cell_type": "code",
   "execution_count": 57,
   "metadata": {},
   "outputs": [
    {
     "data": {
      "text/plain": [
       "66797"
      ]
     },
     "execution_count": 57,
     "metadata": {},
     "output_type": "execute_result"
    }
   ],
   "source": [
    "df = pd.read_csv(path, memory_map=True, low_memory=False)\n",
    "len(df.index)"
   ]
  },
  {
   "cell_type": "code",
   "execution_count": 102,
   "metadata": {},
   "outputs": [
    {
     "data": {
      "text/plain": [
       "array(['AZ', 'TX', 'WA', 'FL', 'IL', 'VA', 'CA', 'NY', 'NC', 'UT', 'OH',\n",
       "       'NV', 'DC', 'MS', 'MD', 'NM', 'GA', 'IN', 'MI', 'ME', 'MO', 'OK',\n",
       "       'TN', 'AR', 'AL', 'NJ', 'CT', 'LA', 'SC', 'WV', 'KY', 'DE', 'IA',\n",
       "       'CO', 'WI', 'VT', 'HI', 'NH', 'OR', 'RI', 'KS', 'MN', 'WY', 'SD',\n",
       "       'NE', 'ID', 'ND', 'MT', 'AK'], dtype=object)"
      ]
     },
     "execution_count": 102,
     "metadata": {},
     "output_type": "execute_result"
    }
   ],
   "source": [
    "df['obligorGeographicLocation'].unique()"
   ]
  },
  {
   "cell_type": "code",
   "execution_count": 58,
   "metadata": {},
   "outputs": [
    {
     "name": "stdout",
     "output_type": "stream",
     "text": [
      "66797\n",
      "57204\n"
     ]
    }
   ],
   "source": [
    "df = df[df.zeroBalanceCode.isin(['-'])]\n",
    "print(len(df.index))\n",
    "df['vehicleNewUsedCode'] = pd.to_numeric(df['vehicleNewUsedCode'], errors='coerce')\n",
    "df['obligorIncomeVerificationLevelCode'] = pd.to_numeric(df['obligorIncomeVerificationLevelCode'], errors='coerce')\n",
    "df['obligorEmploymentVerificationCode'] = pd.to_numeric(df['obligorEmploymentVerificationCode'], errors='coerce')\n",
    "cs = df['obligorCreditScore'][~df.obligorCreditScore.isin(['-'])]\n",
    "cs['obligorCreditScore'] = pd.to_numeric(cs, errors='coerce')\n",
    "print(len(cs.index))"
   ]
  },
  {
   "cell_type": "code",
   "execution_count": 59,
   "metadata": {
    "collapsed": true
   },
   "outputs": [],
   "source": [
    "WA = lambda x: np.average(x, axis=0, weights = df.loc[x.index, 'reportingPeriodActualEndBalanceAmount'])\n",
    "df['pctDeal'] = (df['reportingPeriodActualEndBalanceAmount']/(df['reportingPeriodActualEndBalanceAmount'].sum()))*100\n",
    "df['LTV'] = (df['originalLoanAmount']/df['vehicleValueAmount'])*100 #Loan to value ratio"
   ]
  },
  {
   "cell_type": "code",
   "execution_count": 60,
   "metadata": {
    "collapsed": true
   },
   "outputs": [],
   "source": [
    "a = OrderedDict([\n",
    "    ('pctDeal', ['sum'])\n",
    "])\n",
    "\n",
    "income = {\n",
    "    1:'Not Stated, Not Verified',\n",
    "    2:'Stated, Not Verified',\n",
    "    3:'Stated, Verified',\n",
    "    4:'Stated, Verified: 12 M',\n",
    "    5:'Stated, Verified: 24 M'\n",
    "}\n",
    "\n",
    "job =  {\n",
    "    1:'Not Stated, Not Verified',\n",
    "    2:'Stated, Not Verified',\n",
    "    3:'Stated, Third Party Verified'\n",
    "}\n",
    "\n",
    "newUsed = {\n",
    "    1:'New Vehicle',\n",
    "    2:'Used Vehicle'\n",
    "}\n",
    "\n",
    "avgDict = {\n",
    "    0:'Credit Score at Origination',\n",
    "    1:'Remaining Term to Maturity',\n",
    "    2:'APR at Origination',\n",
    "    3:'Payment to Income'\n",
    "}\n",
    "\n",
    "wAvg = {\n",
    "    'Weighted Average':[WA(cs['obligorCreditScore']),\n",
    "                                WA(df['remainingTermToMaturityNumber']),\n",
    "                                WA(df['originalInterestRatePercentage']),\n",
    "                                WA(df['paymentToIncomePercentage'])]\n",
    "}\n",
    "\n",
    "columns = {\n",
    "    \n",
    "}"
   ]
  },
  {
   "cell_type": "code",
   "execution_count": 61,
   "metadata": {},
   "outputs": [],
   "source": [
    "s = 'summary'\n",
    "summary[s+'.WA'].value = pd.DataFrame(data=wAvg).rename(index=avgDict)\n",
    "\n",
    "nonSubvented = df[df['subvented'] == '0']['pctDeal'].sum()/100\n",
    "subvented = df[df['subvented'] != '0']['pctDeal'].sum()/100\n",
    "\n",
    "summary[s+'.newUsed'].value = df[['pctDeal']].groupby(df['vehicleNewUsedCode']).sum().rename(index=newUsed)/100\n",
    "summary[s+'.manufact'].value = (df[['pctDeal']].groupby(df['vehicleManufacturerName']).sum()).sort_values(['pctDeal'], ascending=False).head(5)/100\n",
    "summary[s+'.model'].value = (df[['pctDeal']].groupby(df['vehicleModelName']).sum()).sort_values(['pctDeal'], ascending=False).head(5)/100\n",
    "summary[s+'.location'].value = (df[['pctDeal']].groupby(df['obligorGeographicLocation']).sum()).sort_values(['pctDeal'], ascending=False).head(5)/100\n",
    "\n",
    "summary[s+'.incomeVerify'].value = df[['pctDeal']].groupby(df['obligorIncomeVerificationLevelCode']).sum().rename(index=income)/100\n",
    "summary[s+'.jobVerify'].value = df[['pctDeal']].groupby(df['obligorEmploymentVerificationCode']).sum().rename(index=job)/100"
   ]
  },
  {
   "cell_type": "code",
   "execution_count": null,
   "metadata": {
    "collapsed": true
   },
   "outputs": [],
   "source": []
  }
 ],
 "metadata": {
  "kernelspec": {
   "display_name": "Python 2",
   "language": "python",
   "name": "python2"
  },
  "language_info": {
   "codemirror_mode": {
    "name": "ipython",
    "version": 2
   },
   "file_extension": ".py",
   "mimetype": "text/x-python",
   "name": "python",
   "nbconvert_exporter": "python",
   "pygments_lexer": "ipython2",
   "version": "2.7.13"
  }
 },
 "nbformat": 4,
 "nbformat_minor": 2
}
