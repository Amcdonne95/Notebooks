{
 "cells": [
  {
   "cell_type": "code",
   "execution_count": 2,
   "metadata": {},
   "outputs": [
    {
     "name": "stdout",
     "output_type": "stream",
     "text": [
      "C:\\Users\\amcdonne.CAMPUS\\Jupyter Notebooks\n"
     ]
    }
   ],
   "source": [
    "%matplotlib inline\n",
    "import os\n",
    "print(os.getcwd())\n",
    "os.chdir('U:\\\\2017 Fed Challenge')\n",
    "os.getcwd()\n",
    "import pandas as pd\n",
    "import numpy as np\n",
    "import matplotlib.pyplot as plt\n",
    "from collections import OrderedDict\n",
    "import re"
   ]
  },
  {
   "cell_type": "code",
   "execution_count": 3,
   "metadata": {
    "collapsed": true
   },
   "outputs": [],
   "source": [
    "path = 'U:\\\\2017 Fed Challenge\\\\AllDataFedBS.csv'"
   ]
  },
  {
   "cell_type": "code",
   "execution_count": 4,
   "metadata": {
    "collapsed": true
   },
   "outputs": [],
   "source": [
    "wm = lambda x: np.average(x, axis=0, weights = df.loc[x.index, 'TradeAmount'])"
   ]
  },
  {
   "cell_type": "code",
   "execution_count": 5,
   "metadata": {},
   "outputs": [
    {
     "data": {
      "text/html": [
       "<div>\n",
       "<style>\n",
       "    .dataframe thead tr:only-child th {\n",
       "        text-align: right;\n",
       "    }\n",
       "\n",
       "    .dataframe thead th {\n",
       "        text-align: left;\n",
       "    }\n",
       "\n",
       "    .dataframe tbody tr th {\n",
       "        vertical-align: top;\n",
       "    }\n",
       "</style>\n",
       "<table border=\"1\" class=\"dataframe\">\n",
       "  <thead>\n",
       "    <tr style=\"text-align: right;\">\n",
       "      <th></th>\n",
       "      <th>TradeDate</th>\n",
       "      <th>ContractualSettlementDate</th>\n",
       "      <th>TradeAmount</th>\n",
       "      <th>Agency</th>\n",
       "      <th>Coupon</th>\n",
       "      <th>Term</th>\n",
       "      <th>CUSIP</th>\n",
       "      <th>TransactionCategory</th>\n",
       "      <th>Price</th>\n",
       "      <th>PrimaryDealer</th>\n",
       "      <th>InvestmentManager</th>\n",
       "    </tr>\n",
       "  </thead>\n",
       "  <tbody>\n",
       "    <tr>\n",
       "      <th>0</th>\n",
       "      <td>Jan 5 2009</td>\n",
       "      <td>Mar 12 2009</td>\n",
       "      <td>100.0</td>\n",
       "      <td>FHLMC</td>\n",
       "      <td>4.0</td>\n",
       "      <td>30</td>\n",
       "      <td>02R04063</td>\n",
       "      <td>Purchase</td>\n",
       "      <td>99.03</td>\n",
       "      <td>Barclays Capital Inc.</td>\n",
       "      <td>Wellington Management Company</td>\n",
       "    </tr>\n",
       "    <tr>\n",
       "      <th>1</th>\n",
       "      <td>Jan 5 2009</td>\n",
       "      <td>Mar 12 2009</td>\n",
       "      <td>100.0</td>\n",
       "      <td>FHLMC</td>\n",
       "      <td>4.0</td>\n",
       "      <td>30</td>\n",
       "      <td>02R04063</td>\n",
       "      <td>Purchase</td>\n",
       "      <td>99.28</td>\n",
       "      <td>Barclays Capital Inc.</td>\n",
       "      <td>Wellington Management Company</td>\n",
       "    </tr>\n",
       "    <tr>\n",
       "      <th>2</th>\n",
       "      <td>Jan 5 2009</td>\n",
       "      <td>Mar 12 2009</td>\n",
       "      <td>250.0</td>\n",
       "      <td>FHLMC</td>\n",
       "      <td>4.5</td>\n",
       "      <td>30</td>\n",
       "      <td>02R04263</td>\n",
       "      <td>Purchase</td>\n",
       "      <td>100.56</td>\n",
       "      <td>Barclays Capital Inc.</td>\n",
       "      <td>Wellington Management Company</td>\n",
       "    </tr>\n",
       "    <tr>\n",
       "      <th>3</th>\n",
       "      <td>Jan 5 2009</td>\n",
       "      <td>Mar 17 2009</td>\n",
       "      <td>50.0</td>\n",
       "      <td>FNMA</td>\n",
       "      <td>4.5</td>\n",
       "      <td>15</td>\n",
       "      <td>01F04243</td>\n",
       "      <td>Purchase</td>\n",
       "      <td>101.76</td>\n",
       "      <td>Merrill Lynch, Pierce, Fenner &amp; Smith Incorpor...</td>\n",
       "      <td>Wellington Management Company</td>\n",
       "    </tr>\n",
       "    <tr>\n",
       "      <th>4</th>\n",
       "      <td>Jan 5 2009</td>\n",
       "      <td>Mar 12 2009</td>\n",
       "      <td>100.0</td>\n",
       "      <td>FHLMC</td>\n",
       "      <td>4.0</td>\n",
       "      <td>30</td>\n",
       "      <td>02R04063</td>\n",
       "      <td>Purchase</td>\n",
       "      <td>99.25</td>\n",
       "      <td>Merrill Lynch, Pierce, Fenner &amp; Smith Incorpor...</td>\n",
       "      <td>Wellington Management Company</td>\n",
       "    </tr>\n",
       "  </tbody>\n",
       "</table>\n",
       "</div>"
      ],
      "text/plain": [
       "    TradeDate ContractualSettlementDate  TradeAmount Agency  Coupon  Term  \\\n",
       "0  Jan 5 2009               Mar 12 2009        100.0  FHLMC     4.0    30   \n",
       "1  Jan 5 2009               Mar 12 2009        100.0  FHLMC     4.0    30   \n",
       "2  Jan 5 2009               Mar 12 2009        250.0  FHLMC     4.5    30   \n",
       "3  Jan 5 2009               Mar 17 2009         50.0   FNMA     4.5    15   \n",
       "4  Jan 5 2009               Mar 12 2009        100.0  FHLMC     4.0    30   \n",
       "\n",
       "      CUSIP TransactionCategory   Price  \\\n",
       "0  02R04063            Purchase   99.03   \n",
       "1  02R04063            Purchase   99.28   \n",
       "2  02R04263            Purchase  100.56   \n",
       "3  01F04243            Purchase  101.76   \n",
       "4  02R04063            Purchase   99.25   \n",
       "\n",
       "                                       PrimaryDealer  \\\n",
       "0                              Barclays Capital Inc.   \n",
       "1                              Barclays Capital Inc.   \n",
       "2                              Barclays Capital Inc.   \n",
       "3  Merrill Lynch, Pierce, Fenner & Smith Incorpor...   \n",
       "4  Merrill Lynch, Pierce, Fenner & Smith Incorpor...   \n",
       "\n",
       "               InvestmentManager  \n",
       "0  Wellington Management Company  \n",
       "1  Wellington Management Company  \n",
       "2  Wellington Management Company  \n",
       "3  Wellington Management Company  \n",
       "4  Wellington Management Company  "
      ]
     },
     "execution_count": 5,
     "metadata": {},
     "output_type": "execute_result"
    }
   ],
   "source": [
    "df = pd.read_csv(path, memory_map=True, low_memory=False)\n",
    "df['TransactionCategory'].unique()\n",
    "df.head()"
   ]
  },
  {
   "cell_type": "code",
   "execution_count": 6,
   "metadata": {
    "scrolled": true
   },
   "outputs": [
    {
     "name": "stdout",
     "output_type": "stream",
     "text": [
      "10058\n"
     ]
    },
    {
     "data": {
      "text/plain": [
       "<bound method Series.unique of 0        02R04063\n",
       "1        02R04063\n",
       "2        02R04263\n",
       "3        01F04243\n",
       "4        02R04063\n",
       "5        01F04262\n",
       "6        01N04263\n",
       "7        02R04263\n",
       "8        02R04263\n",
       "9        02R04043\n",
       "10       02R04063\n",
       "11       02R05062\n",
       "12       01F05043\n",
       "13       02R04263\n",
       "14       02R05062\n",
       "15       01F06062\n",
       "16       01F06262\n",
       "17       02R04263\n",
       "18       02R04263\n",
       "19       02R05263\n",
       "20       02R05063\n",
       "21       02R05062\n",
       "22       01F04063\n",
       "23       02R04263\n",
       "24       02R05062\n",
       "25       01N04263\n",
       "26       01N04263\n",
       "27       02R05261\n",
       "28       02R05261\n",
       "29       02R06061\n",
       "           ...   \n",
       "10028    01F04267\n",
       "10029    01F05267\n",
       "10030    02R04267\n",
       "10031    01F05267\n",
       "10032    01F04267\n",
       "10033    02R04267\n",
       "10034    01F05267\n",
       "10035    01F05267\n",
       "10036    01F04267\n",
       "10037    02R04267\n",
       "10038    01F05267\n",
       "10039    01F05267\n",
       "10040    01F04267\n",
       "10041    01F05267\n",
       "10042    02R04267\n",
       "10043    01F05267\n",
       "10044    02R04267\n",
       "10045    01F05267\n",
       "10046    01F04267\n",
       "10047    01F05267\n",
       "10048    01F04267\n",
       "10049    02R04267\n",
       "10050    01F05267\n",
       "10051    01F05267\n",
       "10052    01F04267\n",
       "10053    01F05267\n",
       "10054    01F04267\n",
       "10055    01F05267\n",
       "10056    02R04267\n",
       "10057    01F05267\n",
       "Name: CUSIP, Length: 10058, dtype: object>"
      ]
     },
     "execution_count": 6,
     "metadata": {},
     "output_type": "execute_result"
    }
   ],
   "source": [
    "print(len(df.index))\n",
    "df['CUSIP'].unique"
   ]
  },
  {
   "cell_type": "code",
   "execution_count": 7,
   "metadata": {
    "collapsed": true
   },
   "outputs": [],
   "source": [
    "purchased = df[df.TransactionCategory.isin(['Purchase'])]\n",
    "sale = df[df.TransactionCategory.isin(['Sale'])]"
   ]
  },
  {
   "cell_type": "code",
   "execution_count": 8,
   "metadata": {
    "collapsed": true
   },
   "outputs": [
    {
     "name": "stdout",
     "output_type": "stream",
     "text": [
      "################### SOLD ###################\n",
      "       TradeAmount       Coupon         Term        Price\n",
      "count  1438.000000  1438.000000  1438.000000  1438.000000\n",
      "mean    417.347079     5.212796    29.325452   103.229312\n",
      "std     360.377272     0.514835     3.104051     1.823251\n",
      "min       0.000000     3.500000    15.000000    97.560000\n",
      "25%     170.000000     5.000000    30.000000   102.090000\n",
      "50%     445.000000     5.500000    30.000000   103.195000\n",
      "75%     500.000000     5.500000    30.000000   104.022500\n",
      "max    3000.000000     6.500000    30.000000   107.520000\n",
      "count    1438.000000\n",
      "mean      103.229312\n",
      "std         1.823251\n",
      "min        97.560000\n",
      "25%       102.090000\n",
      "50%       103.195000\n",
      "75%       104.022500\n",
      "max       107.520000\n",
      "Name: Price, dtype: float64\n",
      "################### PURCHASED ###############\n",
      "       TradeAmount       Coupon         Term        Price\n",
      "count  8620.000000  8620.000000  8620.000000  8620.000000\n",
      "mean    214.633933     4.825174    29.275522   101.774783\n",
      "std     189.680888     0.532180     3.203480     1.860662\n",
      "min       0.000000     3.500000    15.000000    91.440000\n",
      "25%     125.000000     4.500000    30.000000   100.460000\n",
      "50%     150.000000     4.500000    30.000000   101.760000\n",
      "75%     250.000000     5.000000    30.000000   103.092500\n",
      "max    3000.000000     6.500000    30.000000   107.090000\n",
      "count    8620.000000\n",
      "mean      101.774783\n",
      "std         1.860662\n",
      "min        91.440000\n",
      "25%       100.460000\n",
      "50%       101.760000\n",
      "75%       103.092500\n",
      "max       107.090000\n",
      "Name: Price, dtype: float64\n"
     ]
    },
    {
     "data": {
      "image/png": "[encoded data removed]",
      "text/plain": [
       "<matplotlib.figure.Figure at 0x2607d44ea58>"
      ]
     },
     "metadata": {},
     "output_type": "display_data"
    },
    {
     "data": {
      "image/png": "[encoded data removed]",
      "text/plain": [
       "<matplotlib.figure.Figure at 0x2607d449e80>"
      ]
     },
     "metadata": {},
     "output_type": "display_data"
    },
    {
     "data": {
      "image/png": "[encoded data removed]",
      "text/plain": [
       "<matplotlib.figure.Figure at 0x2607d335828>"
      ]
     },
     "metadata": {},
     "output_type": "display_data"
    },
    {
     "data": {
      "image/png": "[encoded data removed]",
      "text/plain": [
       "<matplotlib.figure.Figure at 0x2607d3358d0>"
      ]
     },
     "metadata": {},
     "output_type": "display_data"
    }
   ],
   "source": [
    "sale.head()\n",
    "sale.hist(column='Price', bins=30)\n",
    "sale.hist(column='TradeAmount', bins=50)\n",
    "print(\"################### SOLD ###################\")\n",
    "print(sale.describe())\n",
    "print(sale['Price'].describe())\n",
    "\n",
    "print(\"################### PURCHASED ###############\")\n",
    "purchased.hist(column='Price', bins=30)\n",
    "purchased.hist(column='TradeAmount', bins=50)\n",
    "print(purchased.describe())\n",
    "print(purchased['Price'].describe())\n"
   ]
  },
  {
   "cell_type": "code",
   "execution_count": 9,
   "metadata": {},
   "outputs": [
    {
     "data": {
      "text/html": [
       "<div>\n",
       "<style>\n",
       "    .dataframe thead tr:only-child th {\n",
       "        text-align: right;\n",
       "    }\n",
       "\n",
       "    .dataframe thead th {\n",
       "        text-align: left;\n",
       "    }\n",
       "\n",
       "    .dataframe tbody tr th {\n",
       "        vertical-align: top;\n",
       "    }\n",
       "</style>\n",
       "<table border=\"1\" class=\"dataframe\">\n",
       "  <thead>\n",
       "    <tr style=\"text-align: right;\">\n",
       "      <th></th>\n",
       "      <th>count</th>\n",
       "      <th>mean</th>\n",
       "      <th>std</th>\n",
       "      <th>min</th>\n",
       "      <th>25%</th>\n",
       "      <th>50%</th>\n",
       "      <th>75%</th>\n",
       "      <th>max</th>\n",
       "    </tr>\n",
       "    <tr>\n",
       "      <th>Agency</th>\n",
       "      <th></th>\n",
       "      <th></th>\n",
       "      <th></th>\n",
       "      <th></th>\n",
       "      <th></th>\n",
       "      <th></th>\n",
       "      <th></th>\n",
       "      <th></th>\n",
       "    </tr>\n",
       "  </thead>\n",
       "  <tbody>\n",
       "    <tr>\n",
       "      <th>FHLMC</th>\n",
       "      <td>2615.0</td>\n",
       "      <td>193.693270</td>\n",
       "      <td>121.411476</td>\n",
       "      <td>0.0</td>\n",
       "      <td>150.0</td>\n",
       "      <td>150.0</td>\n",
       "      <td>250.0</td>\n",
       "      <td>1500.0</td>\n",
       "    </tr>\n",
       "    <tr>\n",
       "      <th>FNMA</th>\n",
       "      <td>5274.0</td>\n",
       "      <td>230.463197</td>\n",
       "      <td>223.880937</td>\n",
       "      <td>0.0</td>\n",
       "      <td>125.0</td>\n",
       "      <td>175.0</td>\n",
       "      <td>250.0</td>\n",
       "      <td>3000.0</td>\n",
       "    </tr>\n",
       "    <tr>\n",
       "      <th>GNMA</th>\n",
       "      <td>731.0</td>\n",
       "      <td>175.340219</td>\n",
       "      <td>70.958167</td>\n",
       "      <td>18.0</td>\n",
       "      <td>150.0</td>\n",
       "      <td>150.0</td>\n",
       "      <td>200.0</td>\n",
       "      <td>750.0</td>\n",
       "    </tr>\n",
       "  </tbody>\n",
       "</table>\n",
       "</div>"
      ],
      "text/plain": [
       "         count        mean         std   min    25%    50%    75%     max\n",
       "Agency                                                                   \n",
       "FHLMC   2615.0  193.693270  121.411476   0.0  150.0  150.0  250.0  1500.0\n",
       "FNMA    5274.0  230.463197  223.880937   0.0  125.0  175.0  250.0  3000.0\n",
       "GNMA     731.0  175.340219   70.958167  18.0  150.0  150.0  200.0   750.0"
      ]
     },
     "execution_count": 9,
     "metadata": {},
     "output_type": "execute_result"
    }
   ],
   "source": [
    "purchased['TradeAmount'].groupby(purchased['Agency']).describe()"
   ]
  },
  {
   "cell_type": "code",
   "execution_count": 10,
   "metadata": {},
   "outputs": [
    {
     "data": {
      "text/html": [
       "<div>\n",
       "<style>\n",
       "    .dataframe thead tr:only-child th {\n",
       "        text-align: right;\n",
       "    }\n",
       "\n",
       "    .dataframe thead th {\n",
       "        text-align: left;\n",
       "    }\n",
       "\n",
       "    .dataframe tbody tr th {\n",
       "        vertical-align: top;\n",
       "    }\n",
       "</style>\n",
       "<table border=\"1\" class=\"dataframe\">\n",
       "  <thead>\n",
       "    <tr style=\"text-align: right;\">\n",
       "      <th></th>\n",
       "      <th>count</th>\n",
       "      <th>mean</th>\n",
       "      <th>std</th>\n",
       "      <th>min</th>\n",
       "      <th>25%</th>\n",
       "      <th>50%</th>\n",
       "      <th>75%</th>\n",
       "      <th>max</th>\n",
       "    </tr>\n",
       "    <tr>\n",
       "      <th>Agency</th>\n",
       "      <th></th>\n",
       "      <th></th>\n",
       "      <th></th>\n",
       "      <th></th>\n",
       "      <th></th>\n",
       "      <th></th>\n",
       "      <th></th>\n",
       "      <th></th>\n",
       "    </tr>\n",
       "  </thead>\n",
       "  <tbody>\n",
       "    <tr>\n",
       "      <th>FHLMC</th>\n",
       "      <td>197.0</td>\n",
       "      <td>361.197970</td>\n",
       "      <td>297.532379</td>\n",
       "      <td>10.0</td>\n",
       "      <td>125.0</td>\n",
       "      <td>250.0</td>\n",
       "      <td>500.0</td>\n",
       "      <td>1500.0</td>\n",
       "    </tr>\n",
       "    <tr>\n",
       "      <th>FNMA</th>\n",
       "      <td>1175.0</td>\n",
       "      <td>438.151149</td>\n",
       "      <td>373.536264</td>\n",
       "      <td>0.0</td>\n",
       "      <td>200.0</td>\n",
       "      <td>450.0</td>\n",
       "      <td>500.0</td>\n",
       "      <td>3000.0</td>\n",
       "    </tr>\n",
       "    <tr>\n",
       "      <th>GNMA</th>\n",
       "      <td>66.0</td>\n",
       "      <td>214.568182</td>\n",
       "      <td>158.054905</td>\n",
       "      <td>18.0</td>\n",
       "      <td>100.0</td>\n",
       "      <td>200.0</td>\n",
       "      <td>225.0</td>\n",
       "      <td>750.0</td>\n",
       "    </tr>\n",
       "  </tbody>\n",
       "</table>\n",
       "</div>"
      ],
      "text/plain": [
       "         count        mean         std   min    25%    50%    75%     max\n",
       "Agency                                                                   \n",
       "FHLMC    197.0  361.197970  297.532379  10.0  125.0  250.0  500.0  1500.0\n",
       "FNMA    1175.0  438.151149  373.536264   0.0  200.0  450.0  500.0  3000.0\n",
       "GNMA      66.0  214.568182  158.054905  18.0  100.0  200.0  225.0   750.0"
      ]
     },
     "execution_count": 10,
     "metadata": {},
     "output_type": "execute_result"
    }
   ],
   "source": [
    "sale['TradeAmount'].groupby(sale['Agency']).describe()"
   ]
  },
  {
   "cell_type": "code",
   "execution_count": 11,
   "metadata": {},
   "outputs": [
    {
     "name": "stdout",
     "output_type": "stream",
     "text": [
      "13\n",
      "12\n"
     ]
    }
   ],
   "source": [
    "# [-1, 10, 25, 50, 100, 200, 300, 400, 500, 600, 700, 800, 900, 1000, 1500, 2000, 2500, 3000 ]\n",
    "# ['(0, 10]', '(10,25]', '(25, 50]', '(50, 100]', '(100, 200]', '(200, 300]', '(300, 400]', '(400, 500]', '(500, 600]', '(600, 700]', '(700, 800]', '(800, 900]', '(900, 1000]', '(1000, 1500]', '(1500, 2000]', '(2000, 2500]','(2500, 3000]']\n",
    "SaleTradeCut = [-1, 50, 100, 200, 300, 400, 500, 1000, 3000]\n",
    "PurchasedTradeCut = [-1, 10, 50, 100, 150, 200, 250, 300, 500, 700, 1000, 2000, 3000]\n",
    "\n",
    "SaleTradeBin = ['(0, 50]','(50, 100]', '(100, 200]', '(200, 300]', '(300, 400]', '(400, 500]', '(500, 1000]', '(1000, 3000]']\n",
    "PurchasedTradeBin = ['(0, 10]', '(10, 50]', '(50, 100]', '(100, 150]', '(150, 200]', '(200, 250]', '(250, 300]', '(300, 500]', '(500, 700]', '(700, 1000]', '(1000, 2000]', '(2000, 3000]']\n",
    "print(len(PurchasedTradeCut))\n",
    "print(len(PurchasedTradeBin))"
   ]
  },
  {
   "cell_type": "code",
   "execution_count": 12,
   "metadata": {
    "scrolled": true
   },
   "outputs": [
    {
     "name": "stderr",
     "output_type": "stream",
     "text": [
      "C:\\ProgramData\\Anaconda3\\lib\\site-packages\\ipykernel_launcher.py:1: SettingWithCopyWarning: \n",
      "A value is trying to be set on a copy of a slice from a DataFrame.\n",
      "Try using .loc[row_indexer,col_indexer] = value instead\n",
      "\n",
      "See the caveats in the documentation: http://pandas.pydata.org/pandas-docs/stable/indexing.html#indexing-view-versus-copy\n",
      "  \"\"\"Entry point for launching an IPython kernel.\n",
      "C:\\ProgramData\\Anaconda3\\lib\\site-packages\\ipykernel_launcher.py:2: SettingWithCopyWarning: \n",
      "A value is trying to be set on a copy of a slice from a DataFrame.\n",
      "Try using .loc[row_indexer,col_indexer] = value instead\n",
      "\n",
      "See the caveats in the documentation: http://pandas.pydata.org/pandas-docs/stable/indexing.html#indexing-view-versus-copy\n",
      "  \n"
     ]
    }
   ],
   "source": [
    "sale['TradeAmountBin'] = pd.cut(sale['TradeAmount'], SaleTradeCut, right=True, labels=SaleTradeBin)\n",
    "purchased['TradeAmountBin'] = pd.cut(purchased['TradeAmount'], PurchasedTradeCut, right=True, labels=PurchasedTradeBin)"
   ]
  },
  {
   "cell_type": "code",
   "execution_count": 14,
   "metadata": {
    "collapsed": true
   },
   "outputs": [],
   "source": [
    "a = OrderedDict([\n",
    "    ('TradeAmount', ['count','sum','mean']),\n",
    "    ('Term',{'Weighted Average': wm}),\n",
    "    ('Coupon',{'Weighted Average': wm}),\n",
    "    ('Price',{'Weighted Average': wm})\n",
    "])"
   ]
  },
  {
   "cell_type": "code",
   "execution_count": 18,
   "metadata": {},
   "outputs": [
    {
     "name": "stderr",
     "output_type": "stream",
     "text": [
      "C:\\ProgramData\\Anaconda3\\lib\\site-packages\\pandas\\core\\groupby.py:3961: FutureWarning: using a dict with renaming is deprecated and will be removed in a future version\n",
      "  return super(DataFrameGroupBy, self).aggregate(arg, *args, **kwargs)\n"
     ]
    }
   ],
   "source": [
    "saleStrat = sale[['TradeAmount', 'Term', 'Coupon', 'Price']].groupby([sale['Agency'], sale['TradeAmountBin']]).agg(a)\n",
    "#saleStrat = sale[['TradeAmount', 'Term', 'Coupon', 'Price']].groupby(sale['TradeAmountBin']).agg(a)\n",
    "saleStrat.to_clipboard()"
   ]
  },
  {
   "cell_type": "code",
   "execution_count": 19,
   "metadata": {},
   "outputs": [
    {
     "name": "stderr",
     "output_type": "stream",
     "text": [
      "C:\\ProgramData\\Anaconda3\\lib\\site-packages\\pandas\\core\\groupby.py:3961: FutureWarning: using a dict with renaming is deprecated and will be removed in a future version\n",
      "  return super(DataFrameGroupBy, self).aggregate(arg, *args, **kwargs)\n"
     ]
    }
   ],
   "source": [
    "purchasedStrat = purchased[['TradeAmount','Term', 'Coupon', 'Price']].groupby([purchased['Agency'], purchased['TradeAmountBin']]).agg(a)\n",
    "#purchasedStrat = purchased[['TradeAmount','Term', 'Coupon', 'Price']].groupby(purchased['TradeAmountBin']).agg(a)\n",
    "purchasedStrat.to_clipboard()"
   ]
  },
  {
   "cell_type": "code",
   "execution_count": 28,
   "metadata": {
    "collapsed": true
   },
   "outputs": [],
   "source": []
  }
 ],
 "metadata": {
  "kernelspec": {
   "display_name": "Python 2",
   "language": "python",
   "name": "python2"
  },
  "language_info": {
   "codemirror_mode": {
    "name": "ipython",
    "version": 2
   },
   "file_extension": ".py",
   "mimetype": "text/x-python",
   "name": "python",
   "nbconvert_exporter": "python",
   "pygments_lexer": "ipython2",
   "version": "2.7.13"
  }
 },
 "nbformat": 4,
 "nbformat_minor": 2
}
