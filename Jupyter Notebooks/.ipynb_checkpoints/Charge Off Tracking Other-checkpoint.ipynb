{
 "cells": [
  {
   "cell_type": "code",
   "execution_count": 17,
   "metadata": {
    "collapsed": true
   },
   "outputs": [],
   "source": [
    "%matplotlib inline\n",
    "import os\n",
    "#os.chdir('U:\\\\GitHubClones\\\\SeniorDesign')\n",
    "#os.getcwd()\n",
    "#import Excel\n",
    "import pandas as pd\n",
    "import numpy as np\n",
    "import matplotlib.pyplot as plt\n",
    "from collections import OrderedDict\n",
    "import re\n",
    "from datetime import datetime"
   ]
  },
  {
   "cell_type": "code",
   "execution_count": 18,
   "metadata": {
    "collapsed": true
   },
   "outputs": [],
   "source": [
    "os.chdir('C:\\\\Users\\\\austi\\\\Desktop\\\\Senior Design Project\\\\Files')"
   ]
  },
  {
   "cell_type": "code",
   "execution_count": null,
   "metadata": {
    "collapsed": true
   },
   "outputs": [],
   "source": []
  },
  {
   "cell_type": "code",
   "execution_count": 19,
   "metadata": {},
   "outputs": [
    {
     "data": {
      "text/html": [
       "<style>.container { width:100% !important; }</style>"
      ],
      "text/plain": [
       "<IPython.core.display.HTML object>"
      ]
     },
     "metadata": {},
     "output_type": "display_data"
    }
   ],
   "source": [
    "pd.set_option('display.max_rows', 200)\n",
    "pd.set_option('display.max_columns', 200)\n",
    "pd.set_option('display.width', 1000)\n",
    "from IPython.core.display import display, HTML\n",
    "display(HTML(\"<style>.container { width:100% !important; }</style>\"))"
   ]
  },
  {
   "cell_type": "code",
   "execution_count": 22,
   "metadata": {},
   "outputs": [
    {
     "name": "stdout",
     "output_type": "stream",
     "text": [
      "C:\\Users\\austi\\Desktop\\Senior Design Project\\Files\\2017.06.15_Santander Drive Auto Receivables Trust 2017-1 Data Tape.csv\n"
     ]
    }
   ],
   "source": [
    "#path = Excel.directory + \"\\\\\" + Excel.shelf + \"\\\\\" + Excel.dealName + \"\\\\\" + Excel.reportList[2]\n",
    "june = '2017.06.15_Santander Drive Auto Receivables Trust 2017-1 Data Tape.csv'\n",
    "july = '2017.07.17_Santander Drive Auto Receivables Trust 2017-1 Data Tape.csv'\n",
    "path = 'C:\\\\Users\\\\austi\\\\Desktop\\\\Senior Design Project\\\\Files' + '\\\\' + june\n",
    "print(path)"
   ]
  },
  {
   "cell_type": "code",
   "execution_count": 23,
   "metadata": {},
   "outputs": [
    {
     "data": {
      "text/plain": [
       "64551"
      ]
     },
     "execution_count": 23,
     "metadata": {},
     "output_type": "execute_result"
    }
   ],
   "source": [
    "df = pd.read_csv(path, memory_map=True, low_memory=False)\n",
    "len(df.index)\n"
   ]
  },
  {
   "cell_type": "code",
   "execution_count": 39,
   "metadata": {
    "scrolled": true
   },
   "outputs": [
    {
     "data": {
      "text/plain": [
       "['assetTypeNumber',\n",
       " 'assetNumber',\n",
       " 'reportingPeriodBeginningDate',\n",
       " 'reportingPeriodEndingDate',\n",
       " 'originatorName',\n",
       " 'originationDate',\n",
       " 'originalLoanAmount',\n",
       " 'originalLoanTerm',\n",
       " 'loanMaturityDate',\n",
       " 'originalInterestRatePercentage',\n",
       " 'interestCalculationTypeCode',\n",
       " 'originalInterestRateTypeCode',\n",
       " 'originalInterestOnlyTermNumber',\n",
       " 'originalFirstPaymentDate',\n",
       " 'underwritingIndicator',\n",
       " 'gracePeriodNumber',\n",
       " 'paymentTypeCode',\n",
       " 'subvented',\n",
       " 'vehicleManufacturerName',\n",
       " 'vehicleModelName',\n",
       " 'vehicleNewUsedCode',\n",
       " 'vehicleModelYear',\n",
       " 'vehicleTypeCode',\n",
       " 'vehicleValueAmount',\n",
       " 'vehicleValueSourceCode',\n",
       " 'obligorCreditScoreType',\n",
       " 'obligorCreditScore',\n",
       " 'obligorIncomeVerificationLevelCode',\n",
       " 'obligorEmploymentVerificationCode',\n",
       " 'coObligorIndicator',\n",
       " 'paymentToIncomePercentage',\n",
       " 'obligorGeographicLocation',\n",
       " 'assetAddedIndicator',\n",
       " 'remainingTermToMaturityNumber',\n",
       " 'reportingPeriodModificationIndicator',\n",
       " 'servicingAdvanceMethodCode',\n",
       " 'reportingPeriodBeginningLoanBalanceAmount',\n",
       " 'nextReportingPeriodPaymentAmountDue',\n",
       " 'reportingPeriodInterestRatePercentage',\n",
       " 'nextInterestRatePercentage',\n",
       " 'servicingFeePercentage',\n",
       " 'servicingFlatFeeAmount',\n",
       " 'otherServicerFeeRetainedByServicer',\n",
       " 'otherAssessedUncollectedServicerFeeAmount',\n",
       " 'scheduledInterestAmount',\n",
       " 'scheduledPrincipalAmount',\n",
       " 'otherPrincipalAdjustmentAmount',\n",
       " 'reportingPeriodActualEndBalanceAmount',\n",
       " 'reportingPeriodScheduledPaymentAmount',\n",
       " 'totalActualAmountPaid',\n",
       " 'actualInterestCollectedAmount',\n",
       " 'actualPrincipalCollectedAmount',\n",
       " 'actualOtherCollectedAmount',\n",
       " 'servicerAdvancedAmount',\n",
       " 'interestPaidThroughDate',\n",
       " 'zeroBalanceEffectiveDate',\n",
       " 'zeroBalanceCode',\n",
       " 'currentDelinquencyStatus',\n",
       " 'primaryLoanServicerName',\n",
       " 'mostRecentServicingTransferReceivedDate',\n",
       " 'assetSubjectDemandIndicator',\n",
       " 'assetSubjectDemandStatusCode',\n",
       " 'repurchaseAmount',\n",
       " 'DemandResolutionDate',\n",
       " 'repurchaserName',\n",
       " 'repurchaseReplacementReasonCode',\n",
       " 'chargedoffPrincipalAmount',\n",
       " 'recoveredAmount',\n",
       " 'modificationTypeCode',\n",
       " 'paymentExtendedNumber',\n",
       " 'repossessedIndicator',\n",
       " 'repossessedProceedsAmount',\n",
       " 'LTV',\n",
       " 'pctDeal',\n",
       " 'Fico Group',\n",
       " 'APR Group',\n",
       " 'PTI Group',\n",
       " 'Zero Balance Code Group']"
      ]
     },
     "execution_count": 39,
     "metadata": {},
     "output_type": "execute_result"
    }
   ],
   "source": [
    "list(df.columns)"
   ]
  },
  {
   "cell_type": "code",
   "execution_count": 6,
   "metadata": {},
   "outputs": [
    {
     "data": {
      "text/plain": [
       "array([3, 2], dtype=int64)"
      ]
     },
     "execution_count": 6,
     "metadata": {},
     "output_type": "execute_result"
    }
   ],
   "source": [
    "df['obligorIncomeVerificationLevelCode'].unique()"
   ]
  },
  {
   "cell_type": "code",
   "execution_count": 7,
   "metadata": {
    "collapsed": true
   },
   "outputs": [],
   "source": [
    "WA = lambda x: np.average(x, axis=0, weights = df.loc[x.index, 'reportingPeriodActualEndBalanceAmount']) #have to calculate weighted average values before performing loan Cut"
   ]
  },
  {
   "cell_type": "code",
   "execution_count": 26,
   "metadata": {
    "collapsed": true
   },
   "outputs": [],
   "source": [
    "df['LTV'] = (df['originalLoanAmount']/df['vehicleValueAmount'])*100 #Loan to value ratio\n",
    "df['pctDeal'] = (df['reportingPeriodActualEndBalanceAmount']/(df['reportingPeriodActualEndBalanceAmount'].sum()))*100 #Individual Loan as a Percent of Current month Balance\n",
    "df['totalCollected'] = df['actualInterestCollectedAmount'] + df['actualPrincipalCollectedAmount'] + df['actualOtherCollectedAmount']\n",
    "df['principalPaid'] = df['originalLoanAmount'] - df['reportingPeriodActualEndBalanceAmount']\n"
   ]
  },
  {
   "cell_type": "code",
   "execution_count": null,
   "metadata": {
    "collapsed": true
   },
   "outputs": [],
   "source": [
    "preDefault = df[['assetNumber','originalLoanAmount', 'reportingPeriodActualEndBalanceAmount', 'principalPaid','totalActualAmountPaid','totalCollected']]\n",
    "\n",
    "print(df['pctDeal'].head())\n",
    "preDefault.head()"
   ]
  },
  {
   "cell_type": "code",
   "execution_count": 17,
   "metadata": {},
   "outputs": [
    {
     "data": {
      "text/plain": [
       "'\\nfor i in range(0,10):\\n    path = Excel.directory + \"\\\\\" + Excel.shelf + \"\\\\\" + Excel.dealName + \"\\\\\" + Excel.reportList[i]\\n    df = pd.read_csv(path, memory_map=True, low_memory=False)\\n\\n'"
      ]
     },
     "execution_count": 17,
     "metadata": {},
     "output_type": "execute_result"
    }
   ],
   "source": [
    "for i in range(0,10):\n",
    "    path = Excel.directory + \"\\\\\" + Excel.shelf + \"\\\\\" + Excel.dealName + \"\\\\\" + Excel.reportList[i]\n",
    "    df = pd.read_csv(path, memory_map=True, low_memory=False)\n",
    "    \n",
    "    df['LTV'] = (df['originalLoanAmount']/df['vehicleValueAmount'])*100 #Loan to value ratio\n",
    "    df['pctDeal'] = (df['reportingPeriodActualEndBalanceAmount']/(df['reportingPeriodActualEndBalanceAmount'].sum()))*100\n",
    "    totalBalAmount = df['reportingPeriodActualEndBalanceAmount'].sum()\n",
    "    \n",
    "    \n",
    "    df = df[~df.zeroBalanceCode.isin(['-'])] #taking out all of the performing loans so far\n",
    "    df['zeroBalanceCode'] = pd.to_numeric(df['zeroBalanceCode'], errors='coerce')\n",
    "    df.loc[df['zeroBalanceCode'] > 1] = 0\n",
    "    "
   ]
  },
  {
   "cell_type": "markdown",
   "metadata": {},
   "source": [
    "### Converting Zero Balance Codes"
   ]
  },
  {
   "cell_type": "code",
   "execution_count": 111,
   "metadata": {},
   "outputs": [
    {
     "name": "stdout",
     "output_type": "stream",
     "text": [
      "1769\n",
      "['4' '1' '3']\n",
      "int64\n"
     ]
    },
    {
     "data": {
      "text/plain": [
       "4      4\n",
       "78     4\n",
       "100    4\n",
       "151    1\n",
       "155    4\n",
       "Name: zeroBalanceCode, dtype: int64"
      ]
     },
     "execution_count": 111,
     "metadata": {},
     "output_type": "execute_result"
    }
   ],
   "source": [
    "df = df[~df.zeroBalanceCode.isin(['-'])]\n",
    "print(len(df.index))\n",
    "print(df['zeroBalanceCode'].unique())\n",
    "df['zeroBalanceCode'] = pd.to_numeric(df['zeroBalanceCode'], errors='coerce')\n",
    "print(df['zeroBalanceCode'].dtype)\n",
    "df['zeroBalanceCode'].head()"
   ]
  },
  {
   "cell_type": "code",
   "execution_count": 112,
   "metadata": {},
   "outputs": [
    {
     "data": {
      "text/plain": [
       "array(['0', '1', '1;  2'], dtype=object)"
      ]
     },
     "execution_count": 112,
     "metadata": {},
     "output_type": "execute_result"
    }
   ],
   "source": [
    "df['recoveredAmount'].unique()#\n",
    "df['chargedoffPrincipalAmount'].unique()\n",
    "df['repossessedProceedsAmount'].unique()#object\n",
    "df['subvented'].unique()"
   ]
  },
  {
   "cell_type": "code",
   "execution_count": 113,
   "metadata": {},
   "outputs": [
    {
     "data": {
      "text/plain": [
       "4      0\n",
       "78     0\n",
       "100    0\n",
       "151    1\n",
       "155    0\n",
       "Name: zeroBalanceCode, dtype: int64"
      ]
     },
     "execution_count": 113,
     "metadata": {},
     "output_type": "execute_result"
    }
   ],
   "source": [
    "df.loc[df['zeroBalanceCode'] > 1] = 0 # 1 means the loan has paid down, 0 means the loan has defaulted in some way\n",
    "df['zeroBalanceCode'].unique()\n",
    "df['zeroBalanceCode'].head()"
   ]
  },
  {
   "cell_type": "markdown",
   "metadata": {},
   "source": [
    "#### Changing Values to Numeric"
   ]
  },
  {
   "cell_type": "code",
   "execution_count": 117,
   "metadata": {},
   "outputs": [
    {
     "data": {
      "text/plain": [
       "array([0, 2, 3], dtype=int64)"
      ]
     },
     "execution_count": 117,
     "metadata": {},
     "output_type": "execute_result"
    }
   ],
   "source": [
    "df['obligorCreditScore'] = pd.to_numeric(df['obligorCreditScore'], errors='coerce')\n",
    "df['subvented'] = pd.to_numeric(df['subvented'], errors='coerce')\n",
    "df['obligorIncomeVerificationLevelCode'].unique()"
   ]
  },
  {
   "cell_type": "markdown",
   "metadata": {},
   "source": [
    "### Bins For Cutting Data"
   ]
  },
  {
   "cell_type": "code",
   "execution_count": 115,
   "metadata": {
    "collapsed": true
   },
   "outputs": [],
   "source": [
    "FicoBins = [-1, 440, 500, 560, 620, 680, 740, 800, 1000]\n",
    "APRBins = [0, .02 ,.04, .06, .08, .1, .12, .14, .16, 1000]\n",
    "LTVBins = [-1, .7, .8, .9, 1, 1.1, 1.2, 1.3, 1.4, 1000]\n",
    "PTIBins = [-1, .02, .04, .06, .08, .1, .12, .14, .16, 1000]\n",
    "ZeroBalanceCodeBins = [-1, 0, 1]\n",
    "SubventedCodeBins = [-1, 0, 1, 2, 3]\n",
    "IncomeVerificationCodeBins = [0, 1, 2, 3, 4, 5]"
   ]
  },
  {
   "cell_type": "code",
   "execution_count": 116,
   "metadata": {
    "collapsed": true
   },
   "outputs": [],
   "source": [
    "FicoGroup = ['[-1, 440)', '[440, 500)', '[500, 560)', '[560, 620)', '[620, 680)', '[680, 740)', '[740, 800)', '[800, 1000)']\n",
    "APRGroup = ['[0.0, 0.02)', '[0.02, 0.04)', '[0.04, 0.06)', '[0.06, 0.08)', '[0.08, 0.1)', '[0.1, 0.12)', '[0.12, 0.14)', '[0.14, 0.16)', '[0.16, 1000.0)']\n",
    "PTIGroup = ['[-1.0, 0.02)', '[0.02, 0.04)', '[0.04, 0.06)', '[0.06, 0.08)', '[0.08, 0.1)', '[0.1, 0.12)', '[0.12, 0.14)', '[0.14, 0.16)', '[0.16, 1000.0)']\n",
    "LTVGroup = ['[-1.0, 0.7)', '[0.7, 0.8)', '[0.8, 0.9)', '[0.9, 1.0)', '[1.0, 1.1)', '[1.1, 1.2)', '[1.2, 1.3)', '[1.3, 1.4)', '[1.4, 1000.0)']\n",
    "ZeroBalanceCodeGroup = ['Default', 'Paid Down']\n",
    "SubventedCodeGroup = ['None', 'Rate', 'Cash', 'Other']\n",
    "IncomeVerificationCodeGroup = ['None', 'Stated', 'Stated & Verified', 'Extra Verfied', '2 Years Verified']"
   ]
  },
  {
   "cell_type": "markdown",
   "metadata": {},
   "source": [
    "### Cutting the Data"
   ]
  },
  {
   "cell_type": "code",
   "execution_count": 106,
   "metadata": {},
   "outputs": [
    {
     "data": {
      "text/plain": [
       "4         NaN\n",
       "78        NaN\n",
       "100       NaN\n",
       "151    Stated\n",
       "155       NaN\n",
       "Name: Income Verification Code Group, dtype: category\n",
       "Categories (5, object): [2 Years Verified < Extra Verfied < None < Stated < Stated & Verified]"
      ]
     },
     "execution_count": 106,
     "metadata": {},
     "output_type": "execute_result"
    }
   ],
   "source": [
    "df['Fico Group'] = pd.cut(df['obligorCreditScore'], FicoBins, right=True, labels=FicoGroup)\n",
    "df['APR Group'] = pd.cut(df['originalInterestRatePercentage'], APRBins, right=True, labels=APRGroup)\n",
    "df['PTI Group'] = pd.cut(df['paymentToIncomePercentage'], PTIBins, right=True, labels=PTIGroup)\n",
    "df['Zero Balance Code Group'] = pd.cut(df['zeroBalanceCode'], ZeroBalanceCodeBins, right=True, labels=ZeroBalanceCodeGroup)\n",
    "df['Subvented Code Group'] = pd.cut(df['subvented'], SubventedCodeBins, right=True, labels=SubventedCodeGroup)\n",
    "df['Income Verification Code Group'] = pd.cut(df['obligorIncomeVerificationLevelCode'], IncomeVerificationCodeBins, right=True, labels=IncomeVerificationCodeGroup)\n",
    "df['Income Verification Code Group'].head()"
   ]
  },
  {
   "cell_type": "markdown",
   "metadata": {},
   "source": [
    "#### Adding No Score Category"
   ]
  },
  {
   "cell_type": "code",
   "execution_count": 85,
   "metadata": {
    "collapsed": true
   },
   "outputs": [],
   "source": [
    "df['Fico Group'] = df['Fico Group'].cat.add_categories('No Score').fillna('No Score')"
   ]
  },
  {
   "cell_type": "code",
   "execution_count": 86,
   "metadata": {
    "collapsed": true
   },
   "outputs": [],
   "source": [
    "a = OrderedDict([\n",
    "    ('assetNumber', ['count']),\n",
    "    ('originalInterestRatePercentage', ['mean']),\n",
    "    ('chargedoffPrincipalAmount', ['mean']),\n",
    "    ('totalActualAmountPaid', ['mean'])\n",
    "])"
   ]
  },
  {
   "cell_type": "code",
   "execution_count": 87,
   "metadata": {},
   "outputs": [
    {
     "data": {
      "text/plain": [
       "Default      943\n",
       "Paid Down    826\n",
       "Name: Zero Balance Code Group, dtype: int64"
      ]
     },
     "execution_count": 87,
     "metadata": {},
     "output_type": "execute_result"
    }
   ],
   "source": [
    "df['Zero Balance Code Group'].value_counts()"
   ]
  },
  {
   "cell_type": "code",
   "execution_count": 89,
   "metadata": {},
   "outputs": [
    {
     "data": {
      "text/html": [
       "<div>\n",
       "<style>\n",
       "    .dataframe thead tr:only-child th {\n",
       "        text-align: right;\n",
       "    }\n",
       "\n",
       "    .dataframe thead th {\n",
       "        text-align: left;\n",
       "    }\n",
       "\n",
       "    .dataframe tbody tr th {\n",
       "        vertical-align: top;\n",
       "    }\n",
       "</style>\n",
       "<table border=\"1\" class=\"dataframe\">\n",
       "  <thead>\n",
       "    <tr>\n",
       "      <th></th>\n",
       "      <th></th>\n",
       "      <th></th>\n",
       "      <th>assetNumber</th>\n",
       "      <th>originalInterestRatePercentage</th>\n",
       "      <th>chargedoffPrincipalAmount</th>\n",
       "      <th>totalActualAmountPaid</th>\n",
       "    </tr>\n",
       "    <tr>\n",
       "      <th></th>\n",
       "      <th></th>\n",
       "      <th></th>\n",
       "      <th>count</th>\n",
       "      <th>mean</th>\n",
       "      <th>mean</th>\n",
       "      <th>mean</th>\n",
       "    </tr>\n",
       "    <tr>\n",
       "      <th>Fico Group</th>\n",
       "      <th>Subvented Code Group</th>\n",
       "      <th>Zero Balance Code Group</th>\n",
       "      <th></th>\n",
       "      <th></th>\n",
       "      <th></th>\n",
       "      <th></th>\n",
       "    </tr>\n",
       "  </thead>\n",
       "  <tbody>\n",
       "    <tr>\n",
       "      <th rowspan=\"2\" valign=\"top\">[-1, 440)</th>\n",
       "      <th rowspan=\"2\" valign=\"top\">None</th>\n",
       "      <th>Default</th>\n",
       "      <td>943</td>\n",
       "      <td>0.000000</td>\n",
       "      <td>0.0</td>\n",
       "      <td>0.000000</td>\n",
       "    </tr>\n",
       "    <tr>\n",
       "      <th>Paid Down</th>\n",
       "      <td>1</td>\n",
       "      <td>0.240000</td>\n",
       "      <td>0.0</td>\n",
       "      <td>12719.760000</td>\n",
       "    </tr>\n",
       "    <tr>\n",
       "      <th rowspan=\"2\" valign=\"top\">[440, 500)</th>\n",
       "      <th>None</th>\n",
       "      <th>Paid Down</th>\n",
       "      <td>20</td>\n",
       "      <td>0.202220</td>\n",
       "      <td>0.0</td>\n",
       "      <td>12493.228500</td>\n",
       "    </tr>\n",
       "    <tr>\n",
       "      <th>Rate</th>\n",
       "      <th>Paid Down</th>\n",
       "      <td>1</td>\n",
       "      <td>0.180000</td>\n",
       "      <td>0.0</td>\n",
       "      <td>16738.670000</td>\n",
       "    </tr>\n",
       "    <tr>\n",
       "      <th rowspan=\"2\" valign=\"top\">[500, 560)</th>\n",
       "      <th>None</th>\n",
       "      <th>Paid Down</th>\n",
       "      <td>110</td>\n",
       "      <td>0.182687</td>\n",
       "      <td>0.0</td>\n",
       "      <td>13478.966727</td>\n",
       "    </tr>\n",
       "    <tr>\n",
       "      <th>Rate</th>\n",
       "      <th>Paid Down</th>\n",
       "      <td>14</td>\n",
       "      <td>0.144129</td>\n",
       "      <td>0.0</td>\n",
       "      <td>23030.277857</td>\n",
       "    </tr>\n",
       "    <tr>\n",
       "      <th rowspan=\"2\" valign=\"top\">[560, 620)</th>\n",
       "      <th>None</th>\n",
       "      <th>Paid Down</th>\n",
       "      <td>228</td>\n",
       "      <td>0.163616</td>\n",
       "      <td>0.0</td>\n",
       "      <td>15082.607763</td>\n",
       "    </tr>\n",
       "    <tr>\n",
       "      <th>Rate</th>\n",
       "      <th>Paid Down</th>\n",
       "      <td>35</td>\n",
       "      <td>0.121583</td>\n",
       "      <td>0.0</td>\n",
       "      <td>21038.729714</td>\n",
       "    </tr>\n",
       "    <tr>\n",
       "      <th rowspan=\"2\" valign=\"top\">[620, 680)</th>\n",
       "      <th>None</th>\n",
       "      <th>Paid Down</th>\n",
       "      <td>190</td>\n",
       "      <td>0.149204</td>\n",
       "      <td>0.0</td>\n",
       "      <td>17338.081105</td>\n",
       "    </tr>\n",
       "    <tr>\n",
       "      <th>Rate</th>\n",
       "      <th>Paid Down</th>\n",
       "      <td>14</td>\n",
       "      <td>0.129614</td>\n",
       "      <td>0.0</td>\n",
       "      <td>26362.714286</td>\n",
       "    </tr>\n",
       "    <tr>\n",
       "      <th rowspan=\"2\" valign=\"top\">[680, 740)</th>\n",
       "      <th>None</th>\n",
       "      <th>Paid Down</th>\n",
       "      <td>64</td>\n",
       "      <td>0.136195</td>\n",
       "      <td>0.0</td>\n",
       "      <td>19523.531406</td>\n",
       "    </tr>\n",
       "    <tr>\n",
       "      <th>Rate</th>\n",
       "      <th>Paid Down</th>\n",
       "      <td>1</td>\n",
       "      <td>0.044300</td>\n",
       "      <td>0.0</td>\n",
       "      <td>4520.560000</td>\n",
       "    </tr>\n",
       "    <tr>\n",
       "      <th>[740, 800)</th>\n",
       "      <th>None</th>\n",
       "      <th>Paid Down</th>\n",
       "      <td>12</td>\n",
       "      <td>0.116083</td>\n",
       "      <td>0.0</td>\n",
       "      <td>18826.563333</td>\n",
       "    </tr>\n",
       "    <tr>\n",
       "      <th>[800, 1000)</th>\n",
       "      <th>None</th>\n",
       "      <th>Paid Down</th>\n",
       "      <td>10</td>\n",
       "      <td>0.074800</td>\n",
       "      <td>0.0</td>\n",
       "      <td>17263.259000</td>\n",
       "    </tr>\n",
       "    <tr>\n",
       "      <th rowspan=\"2\" valign=\"top\">No Score</th>\n",
       "      <th>None</th>\n",
       "      <th>Paid Down</th>\n",
       "      <td>114</td>\n",
       "      <td>0.205929</td>\n",
       "      <td>0.0</td>\n",
       "      <td>9556.817281</td>\n",
       "    </tr>\n",
       "    <tr>\n",
       "      <th>Rate</th>\n",
       "      <th>Paid Down</th>\n",
       "      <td>12</td>\n",
       "      <td>0.137458</td>\n",
       "      <td>0.0</td>\n",
       "      <td>12230.640000</td>\n",
       "    </tr>\n",
       "  </tbody>\n",
       "</table>\n",
       "</div>"
      ],
      "text/plain": [
       "                                                         assetNumber  \\\n",
       "                                                               count   \n",
       "Fico Group  Subvented Code Group Zero Balance Code Group               \n",
       "[-1, 440)   None                 Default                         943   \n",
       "                                 Paid Down                         1   \n",
       "[440, 500)  None                 Paid Down                        20   \n",
       "            Rate                 Paid Down                         1   \n",
       "[500, 560)  None                 Paid Down                       110   \n",
       "            Rate                 Paid Down                        14   \n",
       "[560, 620)  None                 Paid Down                       228   \n",
       "            Rate                 Paid Down                        35   \n",
       "[620, 680)  None                 Paid Down                       190   \n",
       "            Rate                 Paid Down                        14   \n",
       "[680, 740)  None                 Paid Down                        64   \n",
       "            Rate                 Paid Down                         1   \n",
       "[740, 800)  None                 Paid Down                        12   \n",
       "[800, 1000) None                 Paid Down                        10   \n",
       "No Score    None                 Paid Down                       114   \n",
       "            Rate                 Paid Down                        12   \n",
       "\n",
       "                                                         originalInterestRatePercentage  \\\n",
       "                                                                                   mean   \n",
       "Fico Group  Subvented Code Group Zero Balance Code Group                                  \n",
       "[-1, 440)   None                 Default                                       0.000000   \n",
       "                                 Paid Down                                     0.240000   \n",
       "[440, 500)  None                 Paid Down                                     0.202220   \n",
       "            Rate                 Paid Down                                     0.180000   \n",
       "[500, 560)  None                 Paid Down                                     0.182687   \n",
       "            Rate                 Paid Down                                     0.144129   \n",
       "[560, 620)  None                 Paid Down                                     0.163616   \n",
       "            Rate                 Paid Down                                     0.121583   \n",
       "[620, 680)  None                 Paid Down                                     0.149204   \n",
       "            Rate                 Paid Down                                     0.129614   \n",
       "[680, 740)  None                 Paid Down                                     0.136195   \n",
       "            Rate                 Paid Down                                     0.044300   \n",
       "[740, 800)  None                 Paid Down                                     0.116083   \n",
       "[800, 1000) None                 Paid Down                                     0.074800   \n",
       "No Score    None                 Paid Down                                     0.205929   \n",
       "            Rate                 Paid Down                                     0.137458   \n",
       "\n",
       "                                                         chargedoffPrincipalAmount  \\\n",
       "                                                                              mean   \n",
       "Fico Group  Subvented Code Group Zero Balance Code Group                             \n",
       "[-1, 440)   None                 Default                                       0.0   \n",
       "                                 Paid Down                                     0.0   \n",
       "[440, 500)  None                 Paid Down                                     0.0   \n",
       "            Rate                 Paid Down                                     0.0   \n",
       "[500, 560)  None                 Paid Down                                     0.0   \n",
       "            Rate                 Paid Down                                     0.0   \n",
       "[560, 620)  None                 Paid Down                                     0.0   \n",
       "            Rate                 Paid Down                                     0.0   \n",
       "[620, 680)  None                 Paid Down                                     0.0   \n",
       "            Rate                 Paid Down                                     0.0   \n",
       "[680, 740)  None                 Paid Down                                     0.0   \n",
       "            Rate                 Paid Down                                     0.0   \n",
       "[740, 800)  None                 Paid Down                                     0.0   \n",
       "[800, 1000) None                 Paid Down                                     0.0   \n",
       "No Score    None                 Paid Down                                     0.0   \n",
       "            Rate                 Paid Down                                     0.0   \n",
       "\n",
       "                                                         totalActualAmountPaid  \n",
       "                                                                          mean  \n",
       "Fico Group  Subvented Code Group Zero Balance Code Group                        \n",
       "[-1, 440)   None                 Default                              0.000000  \n",
       "                                 Paid Down                        12719.760000  \n",
       "[440, 500)  None                 Paid Down                        12493.228500  \n",
       "            Rate                 Paid Down                        16738.670000  \n",
       "[500, 560)  None                 Paid Down                        13478.966727  \n",
       "            Rate                 Paid Down                        23030.277857  \n",
       "[560, 620)  None                 Paid Down                        15082.607763  \n",
       "            Rate                 Paid Down                        21038.729714  \n",
       "[620, 680)  None                 Paid Down                        17338.081105  \n",
       "            Rate                 Paid Down                        26362.714286  \n",
       "[680, 740)  None                 Paid Down                        19523.531406  \n",
       "            Rate                 Paid Down                         4520.560000  \n",
       "[740, 800)  None                 Paid Down                        18826.563333  \n",
       "[800, 1000) None                 Paid Down                        17263.259000  \n",
       "No Score    None                 Paid Down                         9556.817281  \n",
       "            Rate                 Paid Down                        12230.640000  "
      ]
     },
     "execution_count": 89,
     "metadata": {},
     "output_type": "execute_result"
    }
   ],
   "source": [
    "df[['assetNumber', 'originalInterestRatePercentage', 'chargedoffPrincipalAmount', 'totalActualAmountPaid']].groupby([ df['Fico Group'], df['Subvented Code Group'], df['Zero Balance Code Group']]).agg(a)"
   ]
  },
  {
   "cell_type": "code",
   "execution_count": null,
   "metadata": {
    "collapsed": true
   },
   "outputs": [],
   "source": []
  }
 ],
 "metadata": {
  "kernelspec": {
   "display_name": "Python 2",
   "language": "python",
   "name": "python2"
  },
  "language_info": {
   "codemirror_mode": {
    "name": "ipython",
    "version": 2
   },
   "file_extension": ".py",
   "mimetype": "text/x-python",
   "name": "python",
   "nbconvert_exporter": "python",
   "pygments_lexer": "ipython2",
   "version": "2.7.13"
  }
 },
 "nbformat": 4,
 "nbformat_minor": 2
}
