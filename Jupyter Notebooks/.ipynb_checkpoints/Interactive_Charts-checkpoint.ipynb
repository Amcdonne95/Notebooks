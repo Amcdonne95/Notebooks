{
 "cells": [
  {
   "cell_type": "code",
   "execution_count": 4,
   "metadata": {
    "collapsed": true
   },
   "outputs": [],
   "source": [
    "import plotly.plotly as py\n",
    "import plotly.graph_objs as go\n",
    "import pandas as pd\n",
    "import numpy as np\n",
    "from collections import defaultdict"
   ]
  },
  {
   "cell_type": "code",
   "execution_count": 9,
   "metadata": {
    "collapsed": true
   },
   "outputs": [],
   "source": [
    "path = 'https://raw.githubusercontent.com/Amcdonne95/SeniorDesignData/master/Drive%20Auto%20Receivables%20Trust/DRIVE%202017-1/2017/05%20May/2017.06.15_Drive%20Auto%20Receivables%20Trust%202017-1%20Data%20Tape.csv'\n",
    "path_2 = 'https://raw.githubusercontent.com/Amcdonne95/SeniorDesignData/master/Non-performing_loans/Drive%20Auto%20Receivables%20Trust/DRIVE%202017-1/Non-performing_loans_April-2018.csv'\n",
    "path_3 = 'https://raw.githubusercontent.com/Amcdonne95/SeniorDesignData/master/Drive%20Auto%20Receivables%20Trust/DRIVE%202017-2/2017/06%20June/2017.07.20_Drive%20Auto%20Receivables%20Trust%202017-2%20Data%20Tape.csv'\n",
    "path_4 = 'https://raw.githubusercontent.com/Amcdonne95/SeniorDesignData/master/Non-performing_loans/Drive%20Auto%20Receivables%20Trust/DRIVE%202017-2/Non-performing_loans_April-2018.csv'\n",
    "\n"
   ]
  },
  {
   "cell_type": "code",
   "execution_count": 10,
   "metadata": {},
   "outputs": [],
   "source": [
    "Drive_2017_1_before = pd.read_csv(path, low_memory=False, memory_map=True)\n",
    "Drive_2017_1_after =pd.read_csv(path_2, low_memory=False, memory_map=True)\n",
    "Drive_2017_2_before = pd.read_csv(path_3, low_memory=False, memory_map=True)\n",
    "Drive_2017_2_after =pd.read_csv(path_4, low_memory=False, memory_map=True)"
   ]
  },
  {
   "cell_type": "code",
   "execution_count": 11,
   "metadata": {
    "collapsed": true
   },
   "outputs": [],
   "source": [
    "def histograms(before, after, metric):\n",
    "    metric = str(metric)\n",
    "\n",
    "    if metric == 'obligorCreditScore':\n",
    "        after = after[~after.obligorCreditScore.isin(['-'])]\n",
    "        after = after[after['zeroBalanceCode'] == 4]\n",
    "        after = after['obligorCreditScore']\n",
    "\n",
    "        before = before[~before.obligorCreditScore.isin(['-'])]\n",
    "        before = before['obligorCreditScore']\n",
    "\n",
    "        before = pd.to_numeric(before, errors='coerce')\n",
    "        after = pd.to_numeric(after, errors='coerce')\n",
    "\n",
    "        return [before, after]\n",
    "\n",
    "    if metric == 'LTV':\n",
    "        before['LTV'] = (before['originalLoanAmount'] / before['vehicleValueAmount']) * 100\n",
    "        after['LTV'] = (after['originalLoanAmount'] / after['vehicleValueAmount']) * 100\n",
    "\n",
    "    after = after[after['zeroBalanceCode'] == 4]\n",
    "    before = pd.to_numeric(before[metric], errors='coerce')\n",
    "    after = pd.to_numeric(after[metric], errors='coerce')\n",
    "\n",
    "    return [before, after]"
   ]
  },
  {
   "cell_type": "code",
   "execution_count": 31,
   "metadata": {
    "collapsed": true
   },
   "outputs": [],
   "source": [
    "before_after_dict = {\n",
    "    'DRIVE 2017-1':{\n",
    "        'before': Drive_2017_1_before,\n",
    "        'after': Drive_2017_1_after\n",
    "    },\n",
    "    'DRIVE 2017-2':{\n",
    "        'before': Drive_2017_2_before,\n",
    "        'after': Drive_2017_2_after\n",
    "    }\n",
    "}"
   ]
  },
  {
   "cell_type": "code",
   "execution_count": 30,
   "metadata": {
    "collapsed": true
   },
   "outputs": [],
   "source": [
    "def prep_hist_data(deal_list):\n",
    "    metrics = ['obligorCreditScore', 'originalInterestRatePercentage', 'LTV', 'paymentToIncomePercentage']\n",
    "    tempList = []\n",
    "    for i in deal_list:\n",
    "        for j in metrics:\n",
    "            tempData = histograms(before_after_dict[i]['before'], before_after_dict[i]['after'], j)\n",
    "            tempList.append(tempData)\n",
    "    return tempList"
   ]
  },
  {
   "cell_type": "code",
   "execution_count": 32,
   "metadata": {},
   "outputs": [],
   "source": [
    "lis = prep_hist_data(['DRIVE 2017-1', 'DRIVE 2017-2'])"
   ]
  },
  {
   "cell_type": "code",
   "execution_count": 34,
   "metadata": {},
   "outputs": [
    {
     "name": "stdout",
     "output_type": "stream",
     "text": [
      "8\n"
     ]
    }
   ],
   "source": [
    "print(len(lis))"
   ]
  },
  {
   "cell_type": "code",
   "execution_count": 35,
   "metadata": {},
   "outputs": [
    {
     "data": {
      "text/plain": [
       "[0, 1, 2, 3, 4, 5, 6, 7]"
      ]
     },
     "execution_count": 35,
     "metadata": {},
     "output_type": "execute_result"
    }
   ],
   "source": [
    "list(range(0,8))"
   ]
  },
  {
   "cell_type": "code",
   "execution_count": 36,
   "metadata": {},
   "outputs": [],
   "source": [
    "def lis_to_dict(lis):\n",
    "    deal_list = ['DRIVE 2017-1', 'DRIVE 2017-2']\n",
    "    metrics = ['Fico Score', 'APR', 'LTV', 'PTI']\n",
    "    data_dict = {}\n",
    "    metric_count = 0\n",
    "    deal_count = 0\n",
    "    \n",
    "    for i in range(0, len(lis)):\n",
    "        if metric_count == 4:\n",
    "            metric_count = 0\n",
    "            deal_count += 1\n",
    "        data_dict[deal_count][metric_count] = lis[i]\n",
    "        metric_count += 1\n",
    "    return data_dict"
   ]
  },
  {
   "cell_type": "code",
   "execution_count": 37,
   "metadata": {},
   "outputs": [
    {
     "ename": "KeyError",
     "evalue": "0",
     "output_type": "error",
     "traceback": [
      "\u001b[1;31m---------------------------------------------------------------------------\u001b[0m",
      "\u001b[1;31mKeyError\u001b[0m                                  Traceback (most recent call last)",
      "\u001b[1;32m<ipython-input-37-52802c69480b>\u001b[0m in \u001b[0;36m<module>\u001b[1;34m()\u001b[0m\n\u001b[1;32m----> 1\u001b[1;33m \u001b[0mdump\u001b[0m \u001b[1;33m=\u001b[0m \u001b[0mlis_to_dict\u001b[0m\u001b[1;33m(\u001b[0m\u001b[0mlis\u001b[0m\u001b[1;33m)\u001b[0m\u001b[1;33m\u001b[0m\u001b[0m\n\u001b[0m",
      "\u001b[1;32m<ipython-input-36-dac6bf956df0>\u001b[0m in \u001b[0;36mlis_to_dict\u001b[1;34m(lis)\u001b[0m\n\u001b[0;32m     10\u001b[0m             \u001b[0mmetric_count\u001b[0m \u001b[1;33m=\u001b[0m \u001b[1;36m0\u001b[0m\u001b[1;33m\u001b[0m\u001b[0m\n\u001b[0;32m     11\u001b[0m             \u001b[0mdeal_count\u001b[0m \u001b[1;33m+=\u001b[0m \u001b[1;36m1\u001b[0m\u001b[1;33m\u001b[0m\u001b[0m\n\u001b[1;32m---> 12\u001b[1;33m         \u001b[0mdata_dict\u001b[0m\u001b[1;33m[\u001b[0m\u001b[0mdeal_count\u001b[0m\u001b[1;33m]\u001b[0m\u001b[1;33m[\u001b[0m\u001b[0mmetric_count\u001b[0m\u001b[1;33m]\u001b[0m \u001b[1;33m=\u001b[0m \u001b[0mlis\u001b[0m\u001b[1;33m[\u001b[0m\u001b[0mi\u001b[0m\u001b[1;33m]\u001b[0m\u001b[1;33m\u001b[0m\u001b[0m\n\u001b[0m\u001b[0;32m     13\u001b[0m         \u001b[0mmetric_count\u001b[0m \u001b[1;33m+=\u001b[0m \u001b[1;36m1\u001b[0m\u001b[1;33m\u001b[0m\u001b[0m\n\u001b[0;32m     14\u001b[0m     \u001b[1;32mreturn\u001b[0m \u001b[0mdata_dict\u001b[0m\u001b[1;33m\u001b[0m\u001b[0m\n",
      "\u001b[1;31mKeyError\u001b[0m: 0"
     ]
    }
   ],
   "source": [
    "dump = lis_to_dict(lis)"
   ]
  },
  {
   "cell_type": "code",
   "execution_count": 24,
   "metadata": {},
   "outputs": [],
   "source": [
    "def histogram_dict(deal_list):\n",
    "    metrics = ['obligorCreditScore', 'originalInterestRatePercentage', 'LTV', 'paymentToIncomePercentage']\n",
    "    data_dict = {}\n",
    "    '''\n",
    "    data_dict = {\n",
    "        'DRIVE 2017-1':{\n",
    "            'obligorCreditScore':None,\n",
    "            'originalInterestRatePercentage':None,\n",
    "            'LTV':None,\n",
    "            'paymentToIncomePercentage':None\n",
    "        },\n",
    "        'DRIVE 2017-2':{\n",
    "            'obligorCreditScore':None,\n",
    "            'originalInterestRatePercentage':None,\n",
    "            'LTV':None,\n",
    "            'paymentToIncomePercentage':None\n",
    "        }\n",
    "    }'''\n",
    "    \n",
    "    for i in deal_list:\n",
    "        str(i)\n",
    "        data_dict[i] = i\n",
    "        for j in metrics:\n",
    "            temp_data = histograms(before_after_dict[i]['before'], before_after_dict[i]['after'], j)\n",
    "            data_dict[i][j] = temp_data\n",
    "    return data_dict"
   ]
  },
  {
   "cell_type": "code",
   "execution_count": 26,
   "metadata": {
    "collapsed": true
   },
   "outputs": [],
   "source": [
    "def histo_dict(deal_list):\n",
    "    metrics = ['obligorCreditScore', 'originalInterestRatePercentage', 'LTV', 'paymentToIncomePercentage']\n",
    "    data_dict = defaultdict(dict)\n",
    "    for i in deal_list:\n",
    "        str(i)\n",
    "        #data_dict[i] = i\n",
    "        for j in metrics:\n",
    "            data_dict[i][j] = histograms(before_after_dict[i]['before'], before_after_dict[i]['after'], j)\n",
    "    return data_dict\n",
    "            "
   ]
  },
  {
   "cell_type": "code",
   "execution_count": 27,
   "metadata": {},
   "outputs": [
    {
     "ename": "NameError",
     "evalue": "name 'defaultdict' is not defined",
     "output_type": "error",
     "traceback": [
      "\u001b[1;31m---------------------------------------------------------------------------\u001b[0m",
      "\u001b[1;31mNameError\u001b[0m                                 Traceback (most recent call last)",
      "\u001b[1;32m<ipython-input-27-11bc33bdd797>\u001b[0m in \u001b[0;36m<module>\u001b[1;34m()\u001b[0m\n\u001b[1;32m----> 1\u001b[1;33m \u001b[0my\u001b[0m \u001b[1;33m=\u001b[0m \u001b[0mhisto_dict\u001b[0m\u001b[1;33m(\u001b[0m\u001b[1;33m[\u001b[0m\u001b[1;34m'DRIVE 2017-1'\u001b[0m\u001b[1;33m,\u001b[0m \u001b[1;34m'DRIVE 2017-2'\u001b[0m\u001b[1;33m]\u001b[0m\u001b[1;33m)\u001b[0m\u001b[1;33m\u001b[0m\u001b[0m\n\u001b[0m",
      "\u001b[1;32m<ipython-input-26-d45defd49103>\u001b[0m in \u001b[0;36mhisto_dict\u001b[1;34m(deal_list)\u001b[0m\n\u001b[0;32m      1\u001b[0m \u001b[1;32mdef\u001b[0m \u001b[0mhisto_dict\u001b[0m\u001b[1;33m(\u001b[0m\u001b[0mdeal_list\u001b[0m\u001b[1;33m)\u001b[0m\u001b[1;33m:\u001b[0m\u001b[1;33m\u001b[0m\u001b[0m\n\u001b[0;32m      2\u001b[0m     \u001b[0mmetrics\u001b[0m \u001b[1;33m=\u001b[0m \u001b[1;33m[\u001b[0m\u001b[1;34m'obligorCreditScore'\u001b[0m\u001b[1;33m,\u001b[0m \u001b[1;34m'originalInterestRatePercentage'\u001b[0m\u001b[1;33m,\u001b[0m \u001b[1;34m'LTV'\u001b[0m\u001b[1;33m,\u001b[0m \u001b[1;34m'paymentToIncomePercentage'\u001b[0m\u001b[1;33m]\u001b[0m\u001b[1;33m\u001b[0m\u001b[0m\n\u001b[1;32m----> 3\u001b[1;33m     \u001b[0mdata_dict\u001b[0m \u001b[1;33m=\u001b[0m \u001b[0mdefaultdict\u001b[0m\u001b[1;33m(\u001b[0m\u001b[0mdict\u001b[0m\u001b[1;33m)\u001b[0m\u001b[1;33m\u001b[0m\u001b[0m\n\u001b[0m\u001b[0;32m      4\u001b[0m     \u001b[1;32mfor\u001b[0m \u001b[0mi\u001b[0m \u001b[1;32min\u001b[0m \u001b[0mdeal_list\u001b[0m\u001b[1;33m:\u001b[0m\u001b[1;33m\u001b[0m\u001b[0m\n\u001b[0;32m      5\u001b[0m         \u001b[0mstr\u001b[0m\u001b[1;33m(\u001b[0m\u001b[0mi\u001b[0m\u001b[1;33m)\u001b[0m\u001b[1;33m\u001b[0m\u001b[0m\n",
      "\u001b[1;31mNameError\u001b[0m: name 'defaultdict' is not defined"
     ]
    }
   ],
   "source": [
    "y = histo_dict(['DRIVE 2017-1', 'DRIVE 2017-2'])"
   ]
  },
  {
   "cell_type": "code",
   "execution_count": 25,
   "metadata": {},
   "outputs": [
    {
     "ename": "TypeError",
     "evalue": "'str' object does not support item assignment",
     "output_type": "error",
     "traceback": [
      "\u001b[1;31m---------------------------------------------------------------------------\u001b[0m",
      "\u001b[1;31mTypeError\u001b[0m                                 Traceback (most recent call last)",
      "\u001b[1;32m<ipython-input-25-811bc3141e42>\u001b[0m in \u001b[0;36m<module>\u001b[1;34m()\u001b[0m\n\u001b[1;32m----> 1\u001b[1;33m \u001b[0mhistogram_dict\u001b[0m\u001b[1;33m(\u001b[0m\u001b[1;33m[\u001b[0m\u001b[1;34m'DRIVE 2017-1'\u001b[0m\u001b[1;33m,\u001b[0m \u001b[1;34m'DRIVE 2017-2'\u001b[0m\u001b[1;33m]\u001b[0m\u001b[1;33m)\u001b[0m\u001b[1;33m\u001b[0m\u001b[0m\n\u001b[0m",
      "\u001b[1;32m<ipython-input-24-baa43f179410>\u001b[0m in \u001b[0;36mhistogram_dict\u001b[1;34m(deal_list)\u001b[0m\n\u001b[0;32m     23\u001b[0m         \u001b[1;32mfor\u001b[0m \u001b[0mj\u001b[0m \u001b[1;32min\u001b[0m \u001b[0mmetrics\u001b[0m\u001b[1;33m:\u001b[0m\u001b[1;33m\u001b[0m\u001b[0m\n\u001b[0;32m     24\u001b[0m             \u001b[0mtemp_data\u001b[0m \u001b[1;33m=\u001b[0m \u001b[0mhistograms\u001b[0m\u001b[1;33m(\u001b[0m\u001b[0mbefore_after_dict\u001b[0m\u001b[1;33m[\u001b[0m\u001b[0mi\u001b[0m\u001b[1;33m]\u001b[0m\u001b[1;33m[\u001b[0m\u001b[1;34m'before'\u001b[0m\u001b[1;33m]\u001b[0m\u001b[1;33m,\u001b[0m \u001b[0mbefore_after_dict\u001b[0m\u001b[1;33m[\u001b[0m\u001b[0mi\u001b[0m\u001b[1;33m]\u001b[0m\u001b[1;33m[\u001b[0m\u001b[1;34m'after'\u001b[0m\u001b[1;33m]\u001b[0m\u001b[1;33m,\u001b[0m \u001b[0mj\u001b[0m\u001b[1;33m)\u001b[0m\u001b[1;33m\u001b[0m\u001b[0m\n\u001b[1;32m---> 25\u001b[1;33m             \u001b[0mdata_dict\u001b[0m\u001b[1;33m[\u001b[0m\u001b[0mi\u001b[0m\u001b[1;33m]\u001b[0m\u001b[1;33m[\u001b[0m\u001b[0mj\u001b[0m\u001b[1;33m]\u001b[0m \u001b[1;33m=\u001b[0m \u001b[0mtemp_data\u001b[0m\u001b[1;33m\u001b[0m\u001b[0m\n\u001b[0m\u001b[0;32m     26\u001b[0m     \u001b[1;32mreturn\u001b[0m \u001b[0mdata_dict\u001b[0m\u001b[1;33m\u001b[0m\u001b[0m\n",
      "\u001b[1;31mTypeError\u001b[0m: 'str' object does not support item assignment"
     ]
    }
   ],
   "source": [
    "histogram_dict(['DRIVE 2017-1', 'DRIVE 2017-2'])"
   ]
  }
 ],
 "metadata": {
  "kernelspec": {
   "display_name": "Python 3",
   "language": "python",
   "name": "python3"
  },
  "language_info": {
   "codemirror_mode": {
    "name": "ipython",
    "version": 3
   },
   "file_extension": ".py",
   "mimetype": "text/x-python",
   "name": "python",
   "nbconvert_exporter": "python",
   "pygments_lexer": "ipython3",
   "version": "3.6.1"
  }
 },
 "nbformat": 4,
 "nbformat_minor": 2
}
