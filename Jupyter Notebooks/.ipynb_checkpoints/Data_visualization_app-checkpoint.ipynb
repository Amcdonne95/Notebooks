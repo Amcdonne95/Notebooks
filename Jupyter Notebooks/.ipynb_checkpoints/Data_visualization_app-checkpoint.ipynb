{
 "cells": [
  {
   "cell_type": "code",
   "execution_count": 2,
   "metadata": {},
   "outputs": [
    {
     "data": {
      "text/html": [
       "<style>.container { width:100% !important; }</style>"
      ],
      "text/plain": [
       "<IPython.core.display.HTML object>"
      ]
     },
     "metadata": {},
     "output_type": "display_data"
    }
   ],
   "source": [
    "import pandas as pd\n",
    "import numpy as np\n",
    "from collections import OrderedDict\n",
    "\n",
    "pd.set_option('display.max_rows', 200)\n",
    "pd.set_option('display.max_columns', 200)\n",
    "pd.set_option('display.width', 1000)\n",
    "from IPython.core.display import display, HTML\n",
    "display(HTML(\"<style>.container { width:100% !important; }</style>\"))"
   ]
  },
  {
   "cell_type": "code",
   "execution_count": 96,
   "metadata": {
    "collapsed": true
   },
   "outputs": [],
   "source": [
    "stratDict = {\n",
    "    'CreditScoreGroup':{\n",
    "        'bin':[-1, 440, 500, 560, 620, 680, 740, 800, 1000],\n",
    "        'label':['0-440', '440-500', '500-560', '560-620', '620-680', '680-740', '740-800', '800+'],\n",
    "        'index':['0 - 440', '441 - 500', '501 - 560', '561 - 620', '621 - 680', '681 - 740', '741 - 800', '801 +'],\n",
    "        'histBin':100\n",
    "    },\n",
    "    'APRGroup':{\n",
    "        'bin':[0, .04, .08, .12, .16, .20, .24, .28, 1000],\n",
    "        'label':['0%-4%', '4%-8%', '8%-12%', '12%-16%)', '16%-20%', '20%-24%', '24%-28%', '28%+'],\n",
    "        'index': ['0.00% - 4.00%', '4.01% - 8.00%', '8.01% - 12.00%', '12.01% - 16.00%','16.01% - 20.00%', '20.01% - 24.00%', '24.01% - 28.00%', '28.00% +'],\n",
    "        'histBin':75\n",
    "    },\n",
    "    'LTVGroup':{\n",
    "        'bin':[-1, .7, .8, .9, 1, 1.1, 1.2, 1.3, 1.4, 1000],\n",
    "        'label':['0%-70%', '70%-80%', '80%-90%', '90%-100%', '100%-110%','110%-120%', '120%-130%', '130%-140%', '140%+'],\n",
    "        'index':['0.00% - 70.00%', '70.01% - 80.00%', '80.01% - 90.00%', '90.01% - 100.00%', '100.01% - 110.00%','110.01% - 120.00%', '120.01% - 130.00%', '130.01% - 140.00%', '140.01% +'],\n",
    "        'histBin':100\n",
    "        #['[-1.0, 0.7)', '[0.7, 0.8)', '[0.8, 0.9)', '[0.9, 1.0)', '[1.0, 1.1)','[1.1, 1.2)', '[1.2, 1.3)', '[1.3, 1.4)', '[1.4, 1000.0)']\n",
    "    },\n",
    "    'PTIGroup':{\n",
    "        'bin':[-1, .02, .04, .06, .08, .1, .12, .14, .16, 1000],\n",
    "        'label':['0%-2%', '2%-4%', '4%-6%', '6%-8%','8%-10%', '10%-12%', '12%-14%', '14%-16%', '16%+'],\n",
    "        'index':['0.00% - 2.00%', '2.01% - 4.00%', '4.01% - 6.00%', '6.01% - 8.00%','8.01% - 10.00%', '10.01% - 12.00%', '12.01% - 14.00%','14.01% - 16.00%', '16.01% +'],\n",
    "        'histBib':100\n",
    "#['[-1.0, 0.02)', '[0.02, 0.04)', '[0.04, 0.06)', '[0.06, 0.08)','[0.08, 0.1)', '[0.1, 0.12)', '[0.12, 0.14)', '[0.14, 0.16)', '[0.16, 1000.0)']\n",
    "    }\n",
    "}\n",
    "dealDict = {\n",
    "    'DRIVE':[D_2017_1, D_2017_2, D_2017_3],\n",
    "    'SDART':[SD_2017_1, SD_2017_1, SD_2017_3]\n",
    "}"
   ]
  },
  {
   "cell_type": "code",
   "execution_count": null,
   "metadata": {
    "collapsed": true
   },
   "outputs": [],
   "source": [
    "dataDict = {\n",
    "    'SDART':{\n",
    "        'SDART_2017-1':{\n",
    "            \n",
    "        },\n",
    "        'SDART_2017-2':{\n",
    "            \n",
    "        },\n",
    "        'SDART_2017-3':{\n",
    "            \n",
    "        }\n",
    "    },\n",
    "    'DRIVE':{\n",
    "        'DRIVE_2017-1':{\n",
    "            \n",
    "        },\n",
    "        'DRIVE_2017-2':{\n",
    "            \n",
    "        },\n",
    "        'DRIVE_2017-3':{\n",
    "            \n",
    "        }\n",
    "    }\n",
    "}"
   ]
  },
  {
   "cell_type": "code",
   "execution_count": 91,
   "metadata": {
    "collapsed": true
   },
   "outputs": [],
   "source": [
    "cols = ['assetNumber', 'obligorCreditScore', 'zeroBalanceCode', 'vehicleValueAmount', 'originalInterestRatePercentage', 'remainingTermToMaturityNumber','LTV', 'paymentToIncomePercentage',\n",
    "        'currentDelinquencyStatus']\n",
    "\n",
    "DRIVE_2017_1 = 'https://raw.githubusercontent.com/Amcdonne95/SeniorDesignData/master/Non-performing_loans/Drive%20Auto%20Receivables%20Trust/DRIVE%202017-1/Non-performing_loans_April-2018.csv'\n",
    "DRIVE_2017_2 = 'https://raw.githubusercontent.com/Amcdonne95/SeniorDesignData/master/Non-performing_loans/Drive%20Auto%20Receivables%20Trust/DRIVE%202017-2/Non-performing_loans_April-2018.csv'\n",
    "DRIVE_2017_3 = 'https://raw.githubusercontent.com/Amcdonne95/SeniorDesignData/master/Non-performing_loans/Drive%20Auto%20Receivables%20Trust/DRIVE%202017-3/Non-performing_loans_April-2018.csv'\n",
    "\n",
    "SDART_2017_1 = 'https://raw.githubusercontent.com/Amcdonne95/SeniorDesignData/master/Non-performing_loans/Santander%20Drive%20Auto%20Receivables%20Trust/SDART%202017-1/Non-performing_loans_April-2018.csv'\n",
    "SDART_2017_2 = 'https://raw.githubusercontent.com/Amcdonne95/SeniorDesignData/master/Non-performing_loans/Santander%20Drive%20Auto%20Receivables%20Trust/SDART%202017-2/Non-performing_loans_April-2018.csv'\n",
    "SDART_2017_3 = 'https://raw.githubusercontent.com/Amcdonne95/SeniorDesignData/master/Non-performing_loans/Santander%20Drive%20Auto%20Receivables%20Trust/SDART%202017-3/Non-performing_loans_April-2018.csv'\n",
    "\n",
    "D_2017_1 = pd.read_csv(DRIVE_2017_1, usecols=cols, memory_map=True, low_memory=False)\n",
    "D_2017_2 = pd.read_csv(DRIVE_2017_2, usecols=cols, memory_map=True, low_memory=False)\n",
    "D_2017_3 = pd.read_csv(DRIVE_2017_3, usecols=cols, memory_map=True, low_memory=False)\n",
    "\n",
    "SD_2017_1 = pd.read_csv(SDART_2017_1, usecols=cols, memory_map=True, low_memory=False)\n",
    "SD_2017_2 = pd.read_csv(SDART_2017_2, usecols=cols, memory_map=True, low_memory=False)\n",
    "SD_2017_3 = pd.read_csv(SDART_2017_3, usecols=cols, memory_map=True, low_memory=False)"
   ]
  },
  {
   "cell_type": "code",
   "execution_count": null,
   "metadata": {
    "collapsed": true
   },
   "outputs": [],
   "source": []
  },
  {
   "cell_type": "code",
   "execution_count": null,
   "metadata": {
    "collapsed": true
   },
   "outputs": [],
   "source": [
    "mapDict = {\n",
    "    \n",
    "}"
   ]
  },
  {
   "cell_type": "code",
   "execution_count": 92,
   "metadata": {},
   "outputs": [
    {
     "name": "stdout",
     "output_type": "stream",
     "text": [
      "  CreditScoreGroup APRGroup LTVGroup PTIGroup  zeroBalanceCode  remainingTermToMaturityNumber  currentDelinquencyStatus\n",
      "0         No Score  20%-24%    140%+    6%-8%                1                             26                         0\n",
      "1          500-560  20%-24%    140%+  12%-14%                1                             13                         0\n",
      "2          440-500  24%-28%    140%+  14%-16%                1                             12                         0\n",
      "3          500-560  24%-28%    140%+  14%-16%                1                             13                         0\n",
      "4         No Score  24%-28%    140%+  14%-16%                1                             12                         0\n",
      "  CreditScoreGroup  APRGroup LTVGroup PTIGroup  zeroBalanceCode  remainingTermToMaturityNumber  currentDelinquencyStatus\n",
      "0          440-500   16%-20%    140%+  12%-14%                1                             38                         0\n",
      "1          440-500   16%-20%    140%+  14%-16%                1                             53                         0\n",
      "2          560-620   20%-24%    140%+    16% +                1                              8                         0\n",
      "3          500-560   16%-20%    140%+   8%-10%                1                              9                         0\n",
      "4          560-620  12%-16%)    140%+  12%-14%                1                             10                         0\n",
      "  CreditScoreGroup  APRGroup LTVGroup PTIGroup  zeroBalanceCode  remainingTermToMaturityNumber  currentDelinquencyStatus\n",
      "0          440-500  12%-16%)    140%+    2%-4%                1                             17                         0\n",
      "1           0-440)   16%-20%    140%+   8%-10%                1                             37                         0\n",
      "2          560-620  12%-16%)    140%+    2%-4%                1                             12                         0\n",
      "3          500-560  12%-16%)    140%+    16% +                1                             14                         0\n",
      "4          620-680    8%-12%    140%+  14%-16%                1                             18                         0\n",
      "  CreditScoreGroup  APRGroup LTVGroup PTIGroup  zeroBalanceCode  remainingTermToMaturityNumber  currentDelinquencyStatus\n",
      "0          440-500  12%-16%)    140%+    2%-4%                1                             17                         0\n",
      "1           0-440)   16%-20%    140%+   8%-10%                1                             37                         0\n",
      "2          560-620  12%-16%)    140%+    2%-4%                1                             12                         0\n",
      "3          500-560  12%-16%)    140%+    16% +                1                             14                         0\n",
      "4          620-680    8%-12%    140%+  14%-16%                1                             18                         0\n",
      "  CreditScoreGroup  APRGroup LTVGroup PTIGroup  zeroBalanceCode  remainingTermToMaturityNumber  currentDelinquencyStatus\n",
      "0          560-620  12%-16%)    140%+   8%-10%                1                             43                         0\n",
      "1          500-560   16%-20%    140%+    16% +                1                             43                         0\n",
      "2          500-560   20%-24%    140%+    16% +                1                             43                         0\n",
      "3          560-620   16%-20%    140%+  12%-14%                1                             42                         0\n",
      "4         No Score   16%-20%    140%+    4%-6%                1                             43                         0\n",
      "  CreditScoreGroup APRGroup LTVGroup PTIGroup  zeroBalanceCode  remainingTermToMaturityNumber  currentDelinquencyStatus\n",
      "0          560-620   8%-12%    140%+    4%-6%                1                             13                         0\n",
      "1          680-740    4%-8%    140%+    16% +                1                             13                         0\n",
      "2          620-680    4%-8%    140%+  10%-12%                1                             15                         0\n",
      "3          560-620   8%-12%    140%+    16% +                1                             21                         0\n",
      "4          500-560  16%-20%    140%+    4%-6%                1                             15                         0\n"
     ]
    }
   ],
   "source": [
    "deal_list = [D_2017_1, D_2017_2, D_2017_3, D_2017_3, SD_2017_1, SD_2017_2, SD_2017_3]\n",
    "col_order = ['CreditScoreGroup', 'APRGroup', 'LTVGroup', 'PTIGroup', 'zeroBalanceCode',\n",
    "                     'remainingTermToMaturityNumber', 'currentDelinquencyStatus']\n",
    "col_names = ['CreditScoreGroup', 'APRGroup', 'LTVGroup', 'PTIGroup']\n",
    "cut_metrics = ['obligorCreditScore', 'originalInterestRatePercentage', 'LTV', 'paymentToIncomePercentage']\n",
    "for i in list(range(0, 6)):\n",
    "    for j in list(range(0, 4)):\n",
    "        deal_list[i][cut_metrics[j]] = pd.to_numeric(deal_list[i][cut_metrics[j]], errors='coerce')\n",
    "        deal_list[i][col_names[j]] = pd.cut(deal_list[i][cut_metrics[j]], stratDict[col_names[j]]['bin'],\n",
    "                                        right=True,labels=stratDict[col_names[j]]['label'])\n",
    "        if cut_metrics[j] == 'obligorCreditScore':\n",
    "            deal_list[i][col_names[j]] = deal_list[i][col_names[j]].cat.add_categories('No Score').fillna('No Score')\n",
    "            deal_list[i][cut_metrics[j]] = deal_list[i][cut_metrics[j]].fillna('-')\n",
    "    #print(len(i.index))\n",
    "    deal_list[i] = deal_list[i].drop_duplicates(['assetNumber'], keep='first')\n",
    "    deal_list[i] = deal_list[i][['CreditScoreGroup', 'APRGroup', 'LTVGroup', 'PTIGroup', 'zeroBalanceCode',\n",
    "           'remainingTermToMaturityNumber', 'vehicleValueAmount']]"
   ]
  },
  {
   "cell_type": "code",
   "execution_count": 95,
   "metadata": {},
   "outputs": [
    {
     "name": "stdout",
     "output_type": "stream",
     "text": [
      "13353\n",
      "22825\n"
     ]
    }
   ],
   "source": [
    "print(len(deal_list[0].index))\n",
    "print(len(D_2017_1.index))"
   ]
  },
  {
   "cell_type": "code",
   "execution_count": 47,
   "metadata": {},
   "outputs": [
    {
     "data": {
      "text/html": [
       "<div>\n",
       "<style>\n",
       "    .dataframe thead tr:only-child th {\n",
       "        text-align: right;\n",
       "    }\n",
       "\n",
       "    .dataframe thead th {\n",
       "        text-align: left;\n",
       "    }\n",
       "\n",
       "    .dataframe tbody tr th {\n",
       "        vertical-align: top;\n",
       "    }\n",
       "</style>\n",
       "<table border=\"1\" class=\"dataframe\">\n",
       "  <thead>\n",
       "    <tr style=\"text-align: right;\">\n",
       "      <th></th>\n",
       "      <th>assetNumber</th>\n",
       "      <th>originalInterestRatePercentage</th>\n",
       "      <th>vehicleValueAmount</th>\n",
       "      <th>obligorCreditScore</th>\n",
       "      <th>paymentToIncomePercentage</th>\n",
       "      <th>remainingTermToMaturityNumber</th>\n",
       "      <th>zeroBalanceCode</th>\n",
       "      <th>currentDelinquencyStatus</th>\n",
       "      <th>LTV</th>\n",
       "    </tr>\n",
       "  </thead>\n",
       "  <tbody>\n",
       "    <tr>\n",
       "      <th>0</th>\n",
       "      <td>=\"10418824\"</td>\n",
       "      <td>0.2100</td>\n",
       "      <td>14250.0</td>\n",
       "      <td>-</td>\n",
       "      <td>0.076434</td>\n",
       "      <td>26</td>\n",
       "      <td>1</td>\n",
       "      <td>0</td>\n",
       "      <td>110.449123</td>\n",
       "    </tr>\n",
       "    <tr>\n",
       "      <th>1</th>\n",
       "      <td>=\"1094773\"</td>\n",
       "      <td>0.2400</td>\n",
       "      <td>12775.0</td>\n",
       "      <td>548</td>\n",
       "      <td>0.125043</td>\n",
       "      <td>13</td>\n",
       "      <td>1</td>\n",
       "      <td>0</td>\n",
       "      <td>122.628180</td>\n",
       "    </tr>\n",
       "    <tr>\n",
       "      <th>2</th>\n",
       "      <td>=\"1105270\"</td>\n",
       "      <td>0.2499</td>\n",
       "      <td>12599.0</td>\n",
       "      <td>470</td>\n",
       "      <td>0.143080</td>\n",
       "      <td>12</td>\n",
       "      <td>1</td>\n",
       "      <td>0</td>\n",
       "      <td>103.552425</td>\n",
       "    </tr>\n",
       "    <tr>\n",
       "      <th>3</th>\n",
       "      <td>=\"1166730\"</td>\n",
       "      <td>0.2410</td>\n",
       "      <td>11599.0</td>\n",
       "      <td>518</td>\n",
       "      <td>0.147815</td>\n",
       "      <td>13</td>\n",
       "      <td>1</td>\n",
       "      <td>0</td>\n",
       "      <td>120.200017</td>\n",
       "    </tr>\n",
       "    <tr>\n",
       "      <th>4</th>\n",
       "      <td>=\"1110539\"</td>\n",
       "      <td>0.2499</td>\n",
       "      <td>11998.0</td>\n",
       "      <td>-</td>\n",
       "      <td>0.140553</td>\n",
       "      <td>12</td>\n",
       "      <td>1</td>\n",
       "      <td>0</td>\n",
       "      <td>113.753626</td>\n",
       "    </tr>\n",
       "  </tbody>\n",
       "</table>\n",
       "</div>"
      ],
      "text/plain": [
       "   assetNumber  originalInterestRatePercentage  vehicleValueAmount obligorCreditScore  paymentToIncomePercentage  remainingTermToMaturityNumber  zeroBalanceCode  currentDelinquencyStatus         LTV\n",
       "0  =\"10418824\"                          0.2100             14250.0                  -                   0.076434                             26                1                         0  110.449123\n",
       "1   =\"1094773\"                          0.2400             12775.0                548                   0.125043                             13                1                         0  122.628180\n",
       "2   =\"1105270\"                          0.2499             12599.0                470                   0.143080                             12                1                         0  103.552425\n",
       "3   =\"1166730\"                          0.2410             11599.0                518                   0.147815                             13                1                         0  120.200017\n",
       "4   =\"1110539\"                          0.2499             11998.0                  -                   0.140553                             12                1                         0  113.753626"
      ]
     },
     "execution_count": 47,
     "metadata": {},
     "output_type": "execute_result"
    }
   ],
   "source": [
    "Shelfs = ['DRIVE', 'SDART']\n",
    "col_order = ['CreditScoreGroup', 'APRGroup', 'LTVGroup', 'PTIGroup', 'zeroBalanceCode',\n",
    "                     'remainingTermToMaturityNumber', 'currentDelinquencyStatus']\n",
    "col_names = ['CreditScoreGroup', 'APRGroup', 'LTVGroup', 'PTIGroup']\n",
    "cut_metrics = ['obligorCreditScore', 'originalInterestRatePercentage', 'LTV', 'paymentToIncomePercentage']\n",
    "for i in Shelfs:\n",
    "    if i == 'DRIVE':\n",
    "        for j in list(range(0, len(dealDict[i]))):\n",
    "            for k in list(range(0, 4)):\n",
    "                dealDict[i][j][cut_metrics[k]] = pd.to_numeric(dealDict[i][j][cut_metrics[k]], errors='coerce')\n",
    "                dealDict[i][j][col_names[k]] = pd.cut(dealDict[i][j][cut_metrics[k]], stratDict[col_names[k]]['bin'],\n",
    "                                                     right=True, labels=stratDict[col_names[k]]['label'])\n",
    "                #if cut_metrics[k] == 'obligorCreditScore':\n",
    "                    #print(dealDict[i][j][col_names[k]])\n",
    "                    #dealDict[i][j][col_names[k]] = dealDict[i][j][col_names[k]].add_categories('No Score').fillna('No Score')\n",
    "                    #deals[i][col_names[j]] = deals[i][col_names[j]].cat.add_categories('No Score').fillna('No Score')\n",
    "                    #dealDict[i][j][cut_metrics[k]] = dalDict[i][j][cut_metrics[k]].fillna('-')\n",
    "            dealDict[i][j] = dealDict[i][j].drop_duplicates(['assetNumber'], keep='first')\n",
    "            dealDict[i][j] = dealDict[i][j][col_order]\n",
    "            #print(dealDict[i][j].columns)\n",
    "D_2017_1.head()"
   ]
  },
  {
   "cell_type": "code",
   "execution_count": 27,
   "metadata": {},
   "outputs": [],
   "source": [
    "def labels(deals):\n",
    "    cut_metrics = ['obligorCreditScore', 'originalInterestRatePercentage', 'LTV', 'paymentToIncomePercentage']\n",
    "    col_names = ['CreditScoreGroup', 'APRGroup', 'LTVGroup', 'PTIGroup']\n",
    "    for i in list(range(0, len(deals))):\n",
    "\n",
    "        for j in list(range(0, 4)):\n",
    "            deals[i][cut_metrics[j]] = pd.to_numeric(deals[i][cut_metrics[j]], errors='coerce')\n",
    "            deals[i][col_names[j]] = pd.cut(deals[i][cut_metrics[j]], stratDict[col_names[j]]['bin'],\n",
    "                                            right=True,labels=stratDict[col_names[j]]['label'])\n",
    "            if cut_metrics[j] == 'obligorCreditScore':\n",
    "                deals[i][col_names[j]] = deals[i][col_names[j]].cat.add_categories('No Score').fillna('No Score')\n",
    "                deals[i][cut_metrics[j]] = deals[i][cut_metrics[j]].fillna('-')\n",
    "        #print(deals[j])\n",
    "        #deals[j] = deals[j].drop_duplicates(['assetNumber'], keep='first')\n",
    "        #deals[i] = deals[i].drop(['assetNumber'], axis=1)\n",
    "        col_order = ['CreditScoreGroup', 'APRGroup', 'LTVGroup', 'PTIGroup', 'zeroBalanceCode',\n",
    "                     'remainingTermToMaturityNumber', 'currentDelinquencyStatus']\n",
    "        deals[i] = deals[i][col_order] #names are not an index ect\n",
    "\n",
    "deal_list = [D_2017_1, D_2017_2, D_2017_3, D_2017_3, SD_2017_1, SD_2017_2, SD_2017_3]\n",
    "labels(deal_list)"
   ]
  },
  {
   "cell_type": "code",
   "execution_count": null,
   "metadata": {
    "collapsed": true
   },
   "outputs": [],
   "source": [
    "def column_clean_up(deals):\n",
    "    remove_cols = ['assetNumber']\n",
    "    col_order = ['CreditScoreGroup', 'APRGroup', 'LTVGroup', 'PTIGroup', 'zeroBalanceCode', 'remainingTermToMaturityNumber', 'currentDelinquencyStatus']\n",
    "    for i in list(range(0, len(deals))):\n",
    "        deals[i] = deals[i].drop_duplicates(['assetNumber'], keep='first')\n",
    "        deals[i] = deals[i].drop(remove_cols, axis=1)\n",
    "        deals[i] = deals[i][col_order]\n",
    "\n",
    "#column_clean_up(deal_list)\n",
    "\n",
    "print(SD_2017_3.head())"
   ]
  },
  {
   "cell_type": "code",
   "execution_count": null,
   "metadata": {
    "collapsed": true
   },
   "outputs": [],
   "source": []
  }
 ],
 "metadata": {
  "kernelspec": {
   "display_name": "Python 3",
   "language": "python",
   "name": "python3"
  },
  "language_info": {
   "codemirror_mode": {
    "name": "ipython",
    "version": 3
   },
   "file_extension": ".py",
   "mimetype": "text/x-python",
   "name": "python",
   "nbconvert_exporter": "python",
   "pygments_lexer": "ipython3",
   "version": "3.6.1"
  }
 },
 "nbformat": 4,
 "nbformat_minor": 2
}
