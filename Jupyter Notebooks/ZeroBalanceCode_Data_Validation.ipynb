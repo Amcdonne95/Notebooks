{
 "cells": [
  {
   "cell_type": "code",
   "execution_count": 1,
   "metadata": {},
   "outputs": [
    {
     "data": {
      "text/html": [
       "<style>.container { width:100% !important; }</style>"
      ],
      "text/plain": [
       "<IPython.core.display.HTML object>"
      ]
     },
     "metadata": {},
     "output_type": "display_data"
    }
   ],
   "source": [
    "%matplotlib inline\n",
    "import os\n",
    "os.chdir('U:\\\\GitHubClones\\\\SALTSeniorDesign')\n",
    "os.getcwd()\n",
    "#import Excel\n",
    "import xlwings as xw\n",
    "import seaborn as sb\n",
    "import pandas as pd\n",
    "import numpy as np\n",
    "import matplotlib.pyplot as plt\n",
    "from collections import OrderedDict\n",
    "import re\n",
    "from datetime import datetime\n",
    "import datetime\n",
    "import statsmodels.formula.api as sm\n",
    "from statsmodels.stats.outliers_influence import variance_inflation_factor\n",
    "import sklearn\n",
    "from sklearn.model_selection import train_test_split\n",
    "from sklearn.ensemble import RandomForestClassifier\n",
    "from sklearn.metrics import accuracy_score\n",
    "from sklearn.metrics import confusion_matrix\n",
    "from sklearn.decomposition import PCA\n",
    "from sklearn import preprocessing\n",
    "import time\n",
    "pd.set_option('display.max_rows', 200)\n",
    "pd.set_option('display.max_columns', 200)\n",
    "pd.set_option('display.width', 1000)\n",
    "from IPython.core.display import display, HTML\n",
    "display(HTML(\"<style>.container { width:100% !important; }</style>\"))"
   ]
  },
  {
   "cell_type": "code",
   "execution_count": 7,
   "metadata": {},
   "outputs": [
    {
     "name": "stdout",
     "output_type": "stream",
     "text": [
      "69409\n"
     ]
    },
    {
     "data": {
      "text/html": [
       "<div>\n",
       "<style>\n",
       "    .dataframe thead tr:only-child th {\n",
       "        text-align: right;\n",
       "    }\n",
       "\n",
       "    .dataframe thead th {\n",
       "        text-align: left;\n",
       "    }\n",
       "\n",
       "    .dataframe tbody tr th {\n",
       "        vertical-align: top;\n",
       "    }\n",
       "</style>\n",
       "<table border=\"1\" class=\"dataframe\">\n",
       "  <thead>\n",
       "    <tr style=\"text-align: right;\">\n",
       "      <th></th>\n",
       "      <th>assetNumber</th>\n",
       "      <th>reportingPeriodBeginningDate</th>\n",
       "      <th>reportingPeriodEndingDate</th>\n",
       "      <th>originalLoanAmount</th>\n",
       "      <th>originalLoanTerm</th>\n",
       "      <th>originalInterestRatePercentage</th>\n",
       "      <th>subvented</th>\n",
       "      <th>vehicleNewUsedCode</th>\n",
       "      <th>vehicleModelYear</th>\n",
       "      <th>vehicleTypeCode</th>\n",
       "      <th>vehicleValueAmount</th>\n",
       "      <th>obligorCreditScore</th>\n",
       "      <th>obligorIncomeVerificationLevelCode</th>\n",
       "      <th>obligorEmploymentVerificationCode</th>\n",
       "      <th>coObligorIndicator</th>\n",
       "      <th>paymentToIncomePercentage</th>\n",
       "      <th>obligorGeographicLocation</th>\n",
       "      <th>remainingTermToMaturityNumber</th>\n",
       "      <th>reportingPeriodBeginningLoanBalanceAmount</th>\n",
       "      <th>reportingPeriodActualEndBalanceAmount</th>\n",
       "      <th>totalActualAmountPaid</th>\n",
       "      <th>zeroBalanceCode</th>\n",
       "      <th>currentDelinquencyStatus</th>\n",
       "      <th>LTV</th>\n",
       "      <th>loanDiff</th>\n",
       "      <th>StateUnemployment</th>\n",
       "    </tr>\n",
       "  </thead>\n",
       "  <tbody>\n",
       "    <tr>\n",
       "      <th>0</th>\n",
       "      <td>10418824</td>\n",
       "      <td>6/1/2017</td>\n",
       "      <td>6/30/2017</td>\n",
       "      <td>15739.00</td>\n",
       "      <td>60</td>\n",
       "      <td>0.21</td>\n",
       "      <td>0</td>\n",
       "      <td>2</td>\n",
       "      <td>2008</td>\n",
       "      <td>1</td>\n",
       "      <td>14250.0</td>\n",
       "      <td>-</td>\n",
       "      <td>3</td>\n",
       "      <td>3</td>\n",
       "      <td>1</td>\n",
       "      <td>0.076434</td>\n",
       "      <td>OK</td>\n",
       "      <td>26</td>\n",
       "      <td>8776.39</td>\n",
       "      <td>0</td>\n",
       "      <td>8872.33</td>\n",
       "      <td>1</td>\n",
       "      <td>0</td>\n",
       "      <td>110.449123</td>\n",
       "      <td>6962.61</td>\n",
       "      <td>4.3</td>\n",
       "    </tr>\n",
       "    <tr>\n",
       "      <th>1</th>\n",
       "      <td>1094773</td>\n",
       "      <td>6/1/2017</td>\n",
       "      <td>6/30/2017</td>\n",
       "      <td>15665.75</td>\n",
       "      <td>72</td>\n",
       "      <td>0.24</td>\n",
       "      <td>0</td>\n",
       "      <td>2</td>\n",
       "      <td>2010</td>\n",
       "      <td>1</td>\n",
       "      <td>12775.0</td>\n",
       "      <td>548</td>\n",
       "      <td>3</td>\n",
       "      <td>2</td>\n",
       "      <td>0</td>\n",
       "      <td>0.125043</td>\n",
       "      <td>IA</td>\n",
       "      <td>13</td>\n",
       "      <td>4739.21</td>\n",
       "      <td>0</td>\n",
       "      <td>4911.36</td>\n",
       "      <td>1</td>\n",
       "      <td>0</td>\n",
       "      <td>122.628180</td>\n",
       "      <td>10926.54</td>\n",
       "      <td>3.2</td>\n",
       "    </tr>\n",
       "  </tbody>\n",
       "</table>\n",
       "</div>"
      ],
      "text/plain": [
       "   assetNumber reportingPeriodBeginningDate reportingPeriodEndingDate  originalLoanAmount  originalLoanTerm  originalInterestRatePercentage subvented  vehicleNewUsedCode  vehicleModelYear  vehicleTypeCode  vehicleValueAmount obligorCreditScore  obligorIncomeVerificationLevelCode  obligorEmploymentVerificationCode  coObligorIndicator  paymentToIncomePercentage obligorGeographicLocation  remainingTermToMaturityNumber  reportingPeriodBeginningLoanBalanceAmount  reportingPeriodActualEndBalanceAmount  totalActualAmountPaid  zeroBalanceCode  currentDelinquencyStatus         LTV  loanDiff  StateUnemployment\n",
       "0     10418824                     6/1/2017                 6/30/2017            15739.00                60                            0.21         0                   2              2008                1             14250.0                  -                                   3                                  3                   1                   0.076434                        OK                             26                                    8776.39                                      0                8872.33                1                         0  110.449123   6962.61                4.3\n",
       "1      1094773                     6/1/2017                 6/30/2017            15665.75                72                            0.24         0                   2              2010                1             12775.0                548                                   3                                  2                   0                   0.125043                        IA                             13                                    4739.21                                      0                4911.36                1                         0  122.628180  10926.54                3.2"
      ]
     },
     "execution_count": 7,
     "metadata": {},
     "output_type": "execute_result"
    }
   ],
   "source": [
    "path = 'C:\\\\Users\\\\amcdonne\\\\Downloads\\\\ABS\\\\ChargedOffData\\\\' + 'DRIVE_SDART_all_2017.csv'\n",
    "df = pd.read_csv(path, memory_map=True, low_memory=False)\n",
    "print(len(df.index))\n",
    "df.head(2)"
   ]
  },
  {
   "cell_type": "code",
   "execution_count": 27,
   "metadata": {},
   "outputs": [
    {
     "name": "stdout",
     "output_type": "stream",
     "text": [
      "True\n"
     ]
    },
    {
     "data": {
      "text/plain": [
       "16072391"
      ]
     },
     "execution_count": 27,
     "metadata": {},
     "output_type": "execute_result"
    }
   ],
   "source": [
    "value_lst = df['assetNumber'].value_counts() #16072391\n",
    "print(value_lst.iloc[0] > 0)\n",
    "value_lst.index[0]"
   ]
  },
  {
   "cell_type": "code",
   "execution_count": 30,
   "metadata": {},
   "outputs": [
    {
     "data": {
      "text/plain": [
       "True"
      ]
     },
     "execution_count": 30,
     "metadata": {},
     "output_type": "execute_result"
    }
   ],
   "source": [
    "sub_df = df[df.assetNumber.isin(['6761837'])]\n",
    "sub_df['originalLoanAmount'].duplicated().iloc[1]"
   ]
  },
  {
   "cell_type": "code",
   "execution_count": 37,
   "metadata": {},
   "outputs": [
    {
     "data": {
      "text/plain": [
       "[]"
      ]
     },
     "execution_count": 37,
     "metadata": {},
     "output_type": "execute_result"
    }
   ],
   "source": [
    "flagged = []\n",
    "for i in range(0, len(value_lst.index)):\n",
    "    if value_lst.iloc[i] > 1:\n",
    "        temp_df = df[df.assetNumber.isin([value_lst.index[i]])]\n",
    "        if (temp_df['originalLoanAmount'].duplicated().iloc[1]) != True:\n",
    "            flagged.append(value_lst.index[i])\n",
    "flagged"
   ]
  },
  {
   "cell_type": "code",
   "execution_count": null,
   "metadata": {
    "collapsed": true
   },
   "outputs": [],
   "source": [
    "new_cols = ['actualInterestCollectedAmount','actualPrincipalCollectedAmount','actualOtherCollectedAmount',\n",
    "           'zeroBalanceEffectiveDate', 'repurchaseAmount', 'chargedoffPrincipalAmount', 'recoveredAmount','repossessedIndicator',\n",
    "           'repossessedProceedsAmount']"
   ]
  },
  {
   "cell_type": "code",
   "execution_count": null,
   "metadata": {
    "collapsed": true
   },
   "outputs": [],
   "source": []
  }
 ],
 "metadata": {
  "kernelspec": {
   "display_name": "Python 3",
   "language": "python",
   "name": "python3"
  },
  "language_info": {
   "codemirror_mode": {
    "name": "ipython",
    "version": 3
   },
   "file_extension": ".py",
   "mimetype": "text/x-python",
   "name": "python",
   "nbconvert_exporter": "python",
   "pygments_lexer": "ipython3",
   "version": "3.6.1"
  }
 },
 "nbformat": 4,
 "nbformat_minor": 2
}
