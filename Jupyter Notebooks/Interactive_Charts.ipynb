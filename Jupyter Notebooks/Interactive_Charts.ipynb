{
 "cells": [
  {
   "cell_type": "code",
   "execution_count": 1,
   "metadata": {},
   "outputs": [
    {
     "ename": "ModuleNotFoundError",
     "evalue": "No module named 'dash'",
     "output_type": "error",
     "traceback": [
      "\u001b[1;31m---------------------------------------------------------------------------\u001b[0m",
      "\u001b[1;31mModuleNotFoundError\u001b[0m                       Traceback (most recent call last)",
      "\u001b[1;32m<ipython-input-1-d5adbdd8a228>\u001b[0m in \u001b[0;36m<module>\u001b[1;34m()\u001b[0m\n\u001b[0;32m     10\u001b[0m \u001b[1;32mfrom\u001b[0m \u001b[0mcollections\u001b[0m \u001b[1;32mimport\u001b[0m \u001b[0mOrderedDict\u001b[0m\u001b[1;33m\u001b[0m\u001b[0m\n\u001b[0;32m     11\u001b[0m \u001b[1;33m\u001b[0m\u001b[0m\n\u001b[1;32m---> 12\u001b[1;33m \u001b[1;32mimport\u001b[0m \u001b[0mdash\u001b[0m\u001b[1;33m\u001b[0m\u001b[0m\n\u001b[0m\u001b[0;32m     13\u001b[0m \u001b[1;32mimport\u001b[0m \u001b[0mdash_core_components\u001b[0m \u001b[1;32mas\u001b[0m \u001b[0mdcc\u001b[0m\u001b[1;33m\u001b[0m\u001b[0m\n\u001b[0;32m     14\u001b[0m \u001b[1;32mimport\u001b[0m \u001b[0mdash_html_components\u001b[0m \u001b[1;32mas\u001b[0m \u001b[0mhtml\u001b[0m\u001b[1;33m\u001b[0m\u001b[0m\n",
      "\u001b[1;31mModuleNotFoundError\u001b[0m: No module named 'dash'"
     ]
    }
   ],
   "source": [
    "import os\n",
    "os.chdir('C:\\\\Users\\\\amcdonne\\\\Downloads\\\\ABS')\n",
    "os.getcwd()\n",
    "#import Excel\n",
    "import xlwings as xw\n",
    "import seaborn as sb\n",
    "import pandas as pd\n",
    "import numpy as np\n",
    "import matplotlib.pyplot as plt\n",
    "from collections import OrderedDict\n",
    "\n",
    "import dash\n",
    "import dash_core_components as dcc\n",
    "import dash_html_components as html\n",
    "import plotly.graph_objs as go\n",
    "import plotly.plotly as py\n",
    "import plotly\n",
    "from ipywidgets import widgets \n",
    "from IPython.display import display\n",
    "\n",
    "from plotly.widgets import GraphWidget\n",
    "plotly.tools.set_credentials_file(username='amcdonne', api_key='TgHHDa2sn3SAj65ZH0dz')"
   ]
  },
  {
   "cell_type": "code",
   "execution_count": 2,
   "metadata": {},
   "outputs": [
    {
     "data": {
      "text/html": [
       "<style>.container { width:100% !important; }</style>"
      ],
      "text/plain": [
       "<IPython.core.display.HTML object>"
      ]
     },
     "metadata": {},
     "output_type": "display_data"
    }
   ],
   "source": [
    "pd.set_option('display.max_rows', 200)\n",
    "pd.set_option('display.max_columns', 200)\n",
    "pd.set_option('display.width', 1000)\n",
    "from IPython.core.display import display, HTML\n",
    "display(HTML(\"<style>.container { width:100% !important; }</style>\"))"
   ]
  },
  {
   "cell_type": "code",
   "execution_count": 8,
   "metadata": {
    "collapsed": true
   },
   "outputs": [],
   "source": [
    "path = 'C:\\\\Users\\\\amcdonne\\\\Downloads\\\\ABS\\\\' + 'Month_1.csv'"
   ]
  },
  {
   "cell_type": "code",
   "execution_count": 16,
   "metadata": {
    "collapsed": true
   },
   "outputs": [],
   "source": [
    "df = pd.read_csv(path, memory_map=True, low_memory=False)"
   ]
  },
  {
   "cell_type": "code",
   "execution_count": 45,
   "metadata": {},
   "outputs": [
    {
     "data": {
      "text/html": [
       "<div>\n",
       "<style>\n",
       "    .dataframe thead tr:only-child th {\n",
       "        text-align: right;\n",
       "    }\n",
       "\n",
       "    .dataframe thead th {\n",
       "        text-align: left;\n",
       "    }\n",
       "\n",
       "    .dataframe tbody tr th {\n",
       "        vertical-align: top;\n",
       "    }\n",
       "</style>\n",
       "<table border=\"1\" class=\"dataframe\">\n",
       "  <thead>\n",
       "    <tr style=\"text-align: right;\">\n",
       "      <th></th>\n",
       "      <th>Unnamed: 0</th>\n",
       "      <th>assetNumber</th>\n",
       "      <th>reportingPeriodBeginningDate</th>\n",
       "      <th>reportingPeriodEndingDate</th>\n",
       "      <th>originationDate</th>\n",
       "      <th>originalLoanAmount</th>\n",
       "      <th>originalLoanTerm</th>\n",
       "      <th>originalInterestRatePercentage</th>\n",
       "      <th>subvented</th>\n",
       "      <th>vehicleNewUsedCode</th>\n",
       "      <th>vehicleModelYear</th>\n",
       "      <th>vehicleTypeCode</th>\n",
       "      <th>vehicleValueAmount</th>\n",
       "      <th>obligorCreditScore</th>\n",
       "      <th>obligorIncomeVerificationLevelCode</th>\n",
       "      <th>obligorEmploymentVerificationCode</th>\n",
       "      <th>coObligorIndicator</th>\n",
       "      <th>paymentToIncomePercentage</th>\n",
       "      <th>obligorGeographicLocation</th>\n",
       "      <th>remainingTermToMaturityNumber</th>\n",
       "      <th>reportingPeriodBeginningLoanBalanceAmount</th>\n",
       "      <th>reportingPeriodActualEndBalanceAmount</th>\n",
       "      <th>totalActualAmountPaid</th>\n",
       "      <th>zeroBalanceCode</th>\n",
       "      <th>currentDelinquencyStatus</th>\n",
       "      <th>pctDeal</th>\n",
       "      <th>LTV</th>\n",
       "      <th>FicoScore</th>\n",
       "      <th>APR</th>\n",
       "      <th>PTI</th>\n",
       "    </tr>\n",
       "  </thead>\n",
       "  <tbody>\n",
       "    <tr>\n",
       "      <th>0</th>\n",
       "      <td>0</td>\n",
       "      <td>6345520</td>\n",
       "      <td>5/1/2017</td>\n",
       "      <td>5/31/2017</td>\n",
       "      <td>Oct-13</td>\n",
       "      <td>28203.21</td>\n",
       "      <td>72</td>\n",
       "      <td>0.1932</td>\n",
       "      <td>1</td>\n",
       "      <td>1</td>\n",
       "      <td>2013</td>\n",
       "      <td>3</td>\n",
       "      <td>23109.0</td>\n",
       "      <td>592.0</td>\n",
       "      <td>2</td>\n",
       "      <td>2</td>\n",
       "      <td>False</td>\n",
       "      <td>0.139531</td>\n",
       "      <td>MI</td>\n",
       "      <td>31</td>\n",
       "      <td>17115.35</td>\n",
       "      <td>16672.09</td>\n",
       "      <td>669.75</td>\n",
       "      <td>-</td>\n",
       "      <td>0</td>\n",
       "      <td>0.000012</td>\n",
       "      <td>[1.2, 1.3)</td>\n",
       "      <td>[560, 620)</td>\n",
       "      <td>[0.16, 0.20)</td>\n",
       "      <td>[0.12, 0.14)</td>\n",
       "    </tr>\n",
       "    <tr>\n",
       "      <th>1</th>\n",
       "      <td>1</td>\n",
       "      <td>6345701</td>\n",
       "      <td>5/1/2017</td>\n",
       "      <td>5/31/2017</td>\n",
       "      <td>Nov-13</td>\n",
       "      <td>13786.00</td>\n",
       "      <td>72</td>\n",
       "      <td>0.2499</td>\n",
       "      <td>0</td>\n",
       "      <td>2</td>\n",
       "      <td>2009</td>\n",
       "      <td>1</td>\n",
       "      <td>11998.0</td>\n",
       "      <td>570.0</td>\n",
       "      <td>2</td>\n",
       "      <td>2</td>\n",
       "      <td>True</td>\n",
       "      <td>0.138530</td>\n",
       "      <td>SC</td>\n",
       "      <td>37</td>\n",
       "      <td>12184.17</td>\n",
       "      <td>12151.05</td>\n",
       "      <td>380.00</td>\n",
       "      <td>-</td>\n",
       "      <td>0</td>\n",
       "      <td>0.000009</td>\n",
       "      <td>[1.1, 1.2)</td>\n",
       "      <td>[560, 620)</td>\n",
       "      <td>[0.24, 0.28)</td>\n",
       "      <td>[0.12, 0.14)</td>\n",
       "    </tr>\n",
       "    <tr>\n",
       "      <th>2</th>\n",
       "      <td>2</td>\n",
       "      <td>6345822</td>\n",
       "      <td>5/1/2017</td>\n",
       "      <td>5/31/2017</td>\n",
       "      <td>Nov-13</td>\n",
       "      <td>12515.00</td>\n",
       "      <td>60</td>\n",
       "      <td>0.2100</td>\n",
       "      <td>0</td>\n",
       "      <td>2</td>\n",
       "      <td>2003</td>\n",
       "      <td>3</td>\n",
       "      <td>11998.0</td>\n",
       "      <td>574.0</td>\n",
       "      <td>2</td>\n",
       "      <td>2</td>\n",
       "      <td>True</td>\n",
       "      <td>0.077623</td>\n",
       "      <td>CO</td>\n",
       "      <td>28</td>\n",
       "      <td>10288.10</td>\n",
       "      <td>10124.13</td>\n",
       "      <td>341.54</td>\n",
       "      <td>-</td>\n",
       "      <td>0</td>\n",
       "      <td>0.000007</td>\n",
       "      <td>[1.0, 1.1)</td>\n",
       "      <td>[560, 620)</td>\n",
       "      <td>[0.20, 0.24)</td>\n",
       "      <td>[0.06, 0.08)</td>\n",
       "    </tr>\n",
       "    <tr>\n",
       "      <th>3</th>\n",
       "      <td>3</td>\n",
       "      <td>6346124</td>\n",
       "      <td>5/1/2017</td>\n",
       "      <td>5/31/2017</td>\n",
       "      <td>Oct-13</td>\n",
       "      <td>16699.00</td>\n",
       "      <td>60</td>\n",
       "      <td>0.2100</td>\n",
       "      <td>0</td>\n",
       "      <td>2</td>\n",
       "      <td>2007</td>\n",
       "      <td>2</td>\n",
       "      <td>15225.0</td>\n",
       "      <td>629.0</td>\n",
       "      <td>3</td>\n",
       "      <td>2</td>\n",
       "      <td>True</td>\n",
       "      <td>0.114215</td>\n",
       "      <td>OK</td>\n",
       "      <td>19</td>\n",
       "      <td>7828.79</td>\n",
       "      <td>7619.25</td>\n",
       "      <td>434.75</td>\n",
       "      <td>-</td>\n",
       "      <td>8</td>\n",
       "      <td>0.000006</td>\n",
       "      <td>[1.0, 1.1)</td>\n",
       "      <td>[620, 680)</td>\n",
       "      <td>[0.20, 0.24)</td>\n",
       "      <td>[0.1, 0.12)</td>\n",
       "    </tr>\n",
       "    <tr>\n",
       "      <th>4</th>\n",
       "      <td>4</td>\n",
       "      <td>1006458</td>\n",
       "      <td>5/1/2017</td>\n",
       "      <td>5/31/2017</td>\n",
       "      <td>May-12</td>\n",
       "      <td>21404.16</td>\n",
       "      <td>72</td>\n",
       "      <td>0.2499</td>\n",
       "      <td>0</td>\n",
       "      <td>2</td>\n",
       "      <td>2006</td>\n",
       "      <td>3</td>\n",
       "      <td>17998.0</td>\n",
       "      <td>NaN</td>\n",
       "      <td>3</td>\n",
       "      <td>3</td>\n",
       "      <td>False</td>\n",
       "      <td>0.154751</td>\n",
       "      <td>NV</td>\n",
       "      <td>16</td>\n",
       "      <td>10385.66</td>\n",
       "      <td>10385.66</td>\n",
       "      <td>0.00</td>\n",
       "      <td>-</td>\n",
       "      <td>15</td>\n",
       "      <td>0.000008</td>\n",
       "      <td>[1.1, 1.2)</td>\n",
       "      <td>No Score</td>\n",
       "      <td>[0.24, 0.28)</td>\n",
       "      <td>[0.14, 0.16)</td>\n",
       "    </tr>\n",
       "  </tbody>\n",
       "</table>\n",
       "</div>"
      ],
      "text/plain": [
       "   Unnamed: 0  assetNumber reportingPeriodBeginningDate reportingPeriodEndingDate originationDate  originalLoanAmount  originalLoanTerm  originalInterestRatePercentage subvented  vehicleNewUsedCode  vehicleModelYear  vehicleTypeCode  vehicleValueAmount  obligorCreditScore  obligorIncomeVerificationLevelCode  obligorEmploymentVerificationCode  coObligorIndicator  paymentToIncomePercentage obligorGeographicLocation  remainingTermToMaturityNumber  reportingPeriodBeginningLoanBalanceAmount  reportingPeriodActualEndBalanceAmount  totalActualAmountPaid zeroBalanceCode  currentDelinquencyStatus   pctDeal         LTV   FicoScore           APR           PTI\n",
       "0           0      6345520                     5/1/2017                 5/31/2017          Oct-13            28203.21                72                          0.1932         1                   1              2013                3             23109.0               592.0                                   2                                  2               False                   0.139531                        MI                             31                                   17115.35                               16672.09                 669.75               -                         0  0.000012  [1.2, 1.3)  [560, 620)  [0.16, 0.20)  [0.12, 0.14)\n",
       "1           1      6345701                     5/1/2017                 5/31/2017          Nov-13            13786.00                72                          0.2499         0                   2              2009                1             11998.0               570.0                                   2                                  2                True                   0.138530                        SC                             37                                   12184.17                               12151.05                 380.00               -                         0  0.000009  [1.1, 1.2)  [560, 620)  [0.24, 0.28)  [0.12, 0.14)\n",
       "2           2      6345822                     5/1/2017                 5/31/2017          Nov-13            12515.00                60                          0.2100         0                   2              2003                3             11998.0               574.0                                   2                                  2                True                   0.077623                        CO                             28                                   10288.10                               10124.13                 341.54               -                         0  0.000007  [1.0, 1.1)  [560, 620)  [0.20, 0.24)  [0.06, 0.08)\n",
       "3           3      6346124                     5/1/2017                 5/31/2017          Oct-13            16699.00                60                          0.2100         0                   2              2007                2             15225.0               629.0                                   3                                  2                True                   0.114215                        OK                             19                                    7828.79                                7619.25                 434.75               -                         8  0.000006  [1.0, 1.1)  [620, 680)  [0.20, 0.24)   [0.1, 0.12)\n",
       "4           4      1006458                     5/1/2017                 5/31/2017          May-12            21404.16                72                          0.2499         0                   2              2006                3             17998.0                 NaN                                   3                                  3               False                   0.154751                        NV                             16                                   10385.66                               10385.66                   0.00               -                        15  0.000008  [1.1, 1.2)    No Score  [0.24, 0.28)  [0.14, 0.16)"
      ]
     },
     "execution_count": 45,
     "metadata": {},
     "output_type": "execute_result"
    }
   ],
   "source": [
    "df.head()"
   ]
  },
  {
   "cell_type": "code",
   "execution_count": 23,
   "metadata": {
    "collapsed": true
   },
   "outputs": [],
   "source": [
    "trace1 = go.Scattergl(x=df.originalInterestRatePercentage, y=df.reportingPeriodActualEndBalanceAmount, name='Original Balance',\n",
    "                      mode = 'markers')"
   ]
  },
  {
   "cell_type": "code",
   "execution_count": 24,
   "metadata": {
    "scrolled": false
   },
   "outputs": [
    {
     "data": {
      "text/html": [
       "<iframe id=\"igraph\" scrolling=\"no\" style=\"border:none;\" seamless=\"seamless\" src=\"https://plot.ly/~amcdonne/2.embed\" height=\"525px\" width=\"100%\"></iframe>"
      ],
      "text/plain": [
       "<plotly.tools.PlotlyDisplay object>"
      ]
     },
     "execution_count": 24,
     "metadata": {},
     "output_type": "execute_result"
    }
   ],
   "source": [
    "data=go.Data([trace1])\n",
    "layout=go.Layout(title=\"Remaining Loan Balance vs APR\", xaxis={'title':'Original APR'}, yaxis={'title':'Remaining Balance per Loan'})\n",
    "figure=go.Figure(data=data,layout=layout)\n",
    "py.iplot(figure, filename='Interest Rate Spread')"
   ]
  },
  {
   "cell_type": "code",
   "execution_count": 36,
   "metadata": {
    "collapsed": true
   },
   "outputs": [],
   "source": [
    "lessThan = df['originalInterestRatePercentage'][(df['originalInterestRatePercentage'] <= .2)]\n",
    "greaterThan = df['originalInterestRatePercentage'][(df['originalInterestRatePercentage'] > .2)]"
   ]
  },
  {
   "cell_type": "code",
   "execution_count": 67,
   "metadata": {
    "collapsed": true
   },
   "outputs": [],
   "source": [
    "HistAPR = go.Histogram(x=df.originalInterestRatePercentage, name='APR Distribution', xbins=dict(start=0, end=0.3, size=0.005))\n",
    "HistPTI = go.Histogram(x=df.paymentToIncomePercentage, name='PTI Distribution')\n",
    "#Histtrace2 = go.Histogram(x=lessThan , histnorm='probability', name='APR Distribution')"
   ]
  },
  {
   "cell_type": "code",
   "execution_count": 69,
   "metadata": {},
   "outputs": [
    {
     "data": {
      "text/html": [
       "<iframe id=\"igraph\" scrolling=\"no\" style=\"border:none;\" seamless=\"seamless\" src=\"https://plot.ly/~amcdonne/8.embed\" height=\"525px\" width=\"100%\"></iframe>"
      ],
      "text/plain": [
       "<plotly.tools.PlotlyDisplay object>"
      ]
     },
     "execution_count": 69,
     "metadata": {},
     "output_type": "execute_result"
    }
   ],
   "source": [
    "data = [HistAPR, HistPTI]\n",
    "updatemenus = list([\n",
    "    dict(active=-1,\n",
    "        buttons=list([\n",
    "            dict(label = 'APR',\n",
    "                method = 'update',\n",
    "                args = [{'visible': [True, False]},\n",
    "                       {'title': 'APR Distribution'}]),\n",
    "            dict(label = 'PTI',\n",
    "                method = 'update',\n",
    "                args = [{'visible': [False, True]},\n",
    "                       {'title': 'PTI Distribution'}]),\n",
    "        ]),\n",
    "    )\n",
    "])\n",
    "layout = dict(title='Credit Metric Distributions', showlegend=True,\n",
    "              updatemenus=updatemenus)\n",
    "\n",
    "fig = dict(data=data, layout=layout)\n",
    "\n",
    "py.iplot(fig, filename='Distributions')\n",
    "#plotly.offline.plot(fig, auto_open=False, show_link=False)"
   ]
  }
 ],
 "metadata": {
  "kernelspec": {
   "display_name": "Python 3",
   "language": "python",
   "name": "python3"
  },
  "language_info": {
   "codemirror_mode": {
    "name": "ipython",
    "version": 3
   },
   "file_extension": ".py",
   "mimetype": "text/x-python",
   "name": "python",
   "nbconvert_exporter": "python",
   "pygments_lexer": "ipython3",
   "version": "3.6.1"
  }
 },
 "nbformat": 4,
 "nbformat_minor": 2
}
