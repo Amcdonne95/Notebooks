{
 "cells": [
  {
   "cell_type": "markdown",
   "metadata": {},
   "source": [
    "### Code Summary ###\n",
    "1. Attach to the excel front end to pull all of the collateral data for selected deals\n",
    "2. Clean the data and pull out all of the charged off and paid down loans\n",
    "3. Aggregate all of the loans into one CSV file "
   ]
  },
  {
   "cell_type": "code",
   "execution_count": null,
   "metadata": {
    "collapsed": true
   },
   "outputs": [],
   "source": [
    "%matplotlib inline\n",
    "import os\n",
    "os.chdir('U:\\\\GitHubClones\\\\SALTSeniorDesign')\n",
    "os.getcwd()\n",
    "#import Excel\n",
    "import xlwings as xw\n",
    "import seaborn as sb\n",
    "import pandas as pd\n",
    "import numpy as np\n",
    "import matplotlib.pyplot as plt\n",
    "from collections import OrderedDict\n",
    "import re\n",
    "from datetime import datetime\n",
    "import datetime\n",
    "import statsmodels.formula.api as sm\n",
    "from statsmodels.stats.outliers_influence import variance_inflation_factor\n",
    "import sklearn\n",
    "from sklearn.model_selection import train_test_split\n",
    "from sklearn.ensemble import RandomForestClassifier\n",
    "from sklearn.metrics import accuracy_score\n",
    "from sklearn.metrics import confusion_matrix\n",
    "from sklearn.decomposition import PCA\n",
    "from sklearn import preprocessing\n",
    "import time\n",
    "pd.set_option('display.max_rows', 200)\n",
    "pd.set_option('display.max_columns', 200)\n",
    "pd.set_option('display.width', 1000)\n",
    "from IPython.core.display import display, HTML\n",
    "display(HTML(\"<style>.container { width:100% !important; }</style>\"))"
   ]
  },
  {
   "cell_type": "code",
   "execution_count": null,
   "metadata": {
    "collapsed": true
   },
   "outputs": [],
   "source": [
    "cols = ['assetNumber', 'reportingPeriodEndingDate','reportingPeriodBeginningDate',\n",
    "        'originalLoanTerm','originalLoanAmount','vehicleValueAmount','originalInterestRatePercentage','subvented',\n",
    "        'vehicleNewUsedCode', 'vehicleModelYear','vehicleTypeCode',\n",
    "        'obligorCreditScore','obligorIncomeVerificationLevelCode', 'obligorEmploymentVerificationCode','obligorGeographicLocation',\n",
    "        'paymentToIncomePercentage', 'reportingPeriodActualEndBalanceAmount',\n",
    "        'reportingPeriodBeginningLoanBalanceAmount','totalActualAmountPaid',\n",
    "        'remainingTermToMaturityNumber',\n",
    "        'currentDelinquencyStatus','coObligorIndicator',\n",
    "        'zeroBalanceCode']\n",
    "\n",
    "logitRemoveCols = ['assetNumber', 'reportingPeriodEndingDate','originalLoanAmount','vehicleValueAmount','reportingPeriodActualEndBalanceAmount',\n",
    "        'reportingPeriodBeginningLoanBalanceAmount','totalActualAmountPaid','vehicleNewUsedCode','zeroBalanceCode',\n",
    "        'vehicleModelYear','currentDelinquencyStatus','subvented','obligorIncomeVerificationLevelCode', 'obligorEmploymentVerificationCode',\n",
    "        'obligorGeographicLocation','reportingPeriodBeginningDate']"
   ]
  },
  {
   "cell_type": "code",
   "execution_count": null,
   "metadata": {
    "collapsed": true
   },
   "outputs": [],
   "source": [
    "wb = xw.Book('Salt.xlsm')\n",
    "setup = wb.sheets('Setup')\n",
    "output = wb.sheets('Output')\n",
    "strats = wb.sheets('Strat Tables')\n",
    "performance = wb.sheets('Performance')\n",
    "\n",
    "# Path For the Current deal that is selected based on Setup\n",
    "directory = setup['Setup.Directory'].value\n",
    "shelf = setup['Setup.Shelf'].value\n",
    "shelfList = setup['Shelf_List'].value\n",
    "deal = setup['Setup.Deal'].value\n",
    "report = setup['Setup.Report'].value\n",
    "num_Deals = setup['Setup.Num_Deals'].value\n",
    "max_Report = setup['Setup.Max_Report_Num'].value\n",
    "fixed_tapes = setup['Setup.Fixed_Tapes'].value"
   ]
  },
  {
   "cell_type": "code",
   "execution_count": null,
   "metadata": {
    "collapsed": true
   },
   "outputs": [],
   "source": [
    "tapes = np.array(setup['Tapes'].value)\n",
    "#tapes = tapes[0:int(max_Report),0:int(num_Deals)]\n",
    "dfTapes = pd.DataFrame(data=tapes[1:,1:], columns=tapes[0,1:]).astype(str)\n",
    "dealList = list(dfTapes.columns)\n",
    "dfTapes = dfTapes.iloc[:int(max_Report), :int(num_Deals)]\n",
    "dfTapes"
   ]
  },
  {
   "cell_type": "code",
   "execution_count": null,
   "metadata": {
    "collapsed": true
   },
   "outputs": [],
   "source": [
    "#U:\\AutoLoanTapes\\Drive Auto Receivables Trust\\DRIVE 2017-1\\2017\\07 July\n",
    "stateUnemploymentRateFile = 'U:\\\\GitHubClones\\\\SALTSeniorDesign\\\\' + 'State_level_unemployment_rate.csv'\n",
    "def defaultData(dataTape, unemploymentPath):\n",
    "    train = pd.DataFrame()\n",
    "    count = 0\n",
    "    for i in dataTape.columns:\n",
    "        print(i)\n",
    "        count += 1\n",
    "        for index, row in dataTape.iterrows():\n",
    "            if str(row[i]) == 'None':\n",
    "                continue\n",
    "            if count <= 3:\n",
    "                shelf = 'Drive Auto Receivables Trust'\n",
    "            if count > 3:\n",
    "                shelf = 'Santander Drive Auto Receivables Trust'\n",
    "            \n",
    "            path = directory + '\\\\' + shelf + '\\\\' + str(i) + '\\\\' + str(row[i])\n",
    "            df = pd.read_csv(path, usecols=cols, memory_map=True, low_memory=False)\n",
    "            df = df[~df.zeroBalanceCode.isin(['-'])]#taking out all of the performing loans so far\n",
    "\n",
    "            df['LTV'] = (df['originalLoanAmount']/df['vehicleValueAmount'])*100\n",
    "            df['loanDiff'] = (df['originalLoanAmount'] - df['reportingPeriodBeginningLoanBalanceAmount'])\n",
    "            df['coObligorIndicator'] = df['coObligorIndicator'].astype(int)\n",
    "\n",
    "            umrate = pd.read_csv(unemploymentPath, memory_map=True, low_memory=False)\n",
    "            # Link for Unemployment numbers https://data.bls.gov/map/MapToolServlet\n",
    "            umrate['Date'] = pd.to_datetime(umrate.Date)\n",
    "            umrate['Date'] = umrate['Date'].dt.strftime('%m/%d/%Y')\n",
    "            umrate = umrate.set_index('Date')\n",
    "            stateDict = umrate.to_dict(orient='index')\n",
    "\n",
    "            df['reportingPeriodBeginningDate'] = pd.to_datetime(df['reportingPeriodBeginningDate']).dt.strftime('%m/%d/%Y')\n",
    "            states = list(df['obligorGeographicLocation'])\n",
    "            uniqueList = df.reportingPeriodBeginningDate.unique()\n",
    "            umList = []\n",
    "            for j in range(0, len(states)):\n",
    "                if not uniqueList[0]:\n",
    "                    continue\n",
    "                val = stateDict[uniqueList[0]].get(states[j])\n",
    "                umList.append(val)\n",
    "            unemployment = pd.Series(umList)\n",
    "            df = df.assign(StateUnemployment=unemployment.values)\n",
    "            train = train.append(df)\n",
    "    \n",
    "    return train\n",
    "aggDf = defaultData(dfTapes, stateUnemploymentRateFile)"
   ]
  },
  {
   "cell_type": "code",
   "execution_count": null,
   "metadata": {
    "collapsed": true
   },
   "outputs": [],
   "source": [
    "aggDf.to_csv('C:\\\\Users\\\\amcdonne\\\\Downloads\\\\ABS\\\\ChargedOffData\\\\' + 'DRIVE_SDART_all_2017.csv', encoding='utf-8')"
   ]
  }
 ],
 "metadata": {
  "kernelspec": {
   "display_name": "Python 3",
   "language": "python",
   "name": "python3"
  },
  "language_info": {
   "codemirror_mode": {
    "name": "ipython",
    "version": 3
   },
   "file_extension": ".py",
   "mimetype": "text/x-python",
   "name": "python",
   "nbconvert_exporter": "python",
   "pygments_lexer": "ipython3",
   "version": "3.6.1"
  }
 },
 "nbformat": 4,
 "nbformat_minor": 2
}
